{
 "metadata": {
  "language_info": {
   "codemirror_mode": {
    "name": "ipython",
    "version": 3
   },
   "file_extension": ".py",
   "mimetype": "text/x-python",
   "name": "python",
   "nbconvert_exporter": "python",
   "pygments_lexer": "ipython3",
   "version": "3.8.8"
  },
  "orig_nbformat": 2,
  "kernelspec": {
   "name": "pythonjvsc74a57bd08e5d978fabe9284c3fbe81ce49ffc2385aa6c50ec9bb0ac8105323bc03a15f79",
   "display_name": "Python 3.8.8  ('venv': venv)"
  },
  "metadata": {
   "interpreter": {
    "hash": "8e5d978fabe9284c3fbe81ce49ffc2385aa6c50ec9bb0ac8105323bc03a15f79"
   }
  }
 },
 "nbformat": 4,
 "nbformat_minor": 2,
 "cells": [
  {
   "cell_type": "code",
   "execution_count": 23,
   "metadata": {},
   "outputs": [],
   "source": [
    "import pandas as pd\n",
    "import numpy as np\n",
    "\n",
    "import math"
   ]
  },
  {
   "cell_type": "code",
   "execution_count": 24,
   "metadata": {},
   "outputs": [],
   "source": [
    "# Reading r_cross_val.csv\n",
    "\n",
    "df = pd.read_csv('data/r_cross_val.csv')"
   ]
  },
  {
   "cell_type": "code",
   "execution_count": 25,
   "metadata": {},
   "outputs": [],
   "source": [
    "df['error'] = df['forecast'] - df['Close']\n",
    "df['abs_error'] = np.abs(df['forecast'] - df['Close'])"
   ]
  },
  {
   "source": [
    "## Calculate ups"
   ],
   "cell_type": "markdown",
   "metadata": {}
  },
  {
   "cell_type": "code",
   "execution_count": 26,
   "metadata": {
    "tags": []
   },
   "outputs": [
    {
     "output_type": "stream",
     "name": "stdout",
     "text": [
      "0 5000 10000 15000 20000 25000 30000 35000 40000 45000 50000 55000 60000 "
     ]
    }
   ],
   "source": [
    "\n",
    "def actual_up(row):\n",
    "    time = row['time']\n",
    "    calc_df = df[df['time'] == time]\n",
    "\n",
    "    time_adj = time - 1\n",
    "    base = calc_df['Close'][time_adj * 63]\n",
    "\n",
    "    if row.name % 63 == 0:\n",
    "        if row.name == 0:\n",
    "            diff = row['Close'] - 621.38 > 0\n",
    "        else:\n",
    "            close = df['Close'][time_adj * 63 - 63]\n",
    "            diff = base - close > 0\n",
    "    else:\n",
    "        diff = row['Close'] - base > 0\n",
    "    \n",
    "    print(row.name, end=\" \") if row.name % 5000 == 0 else None # Just to show progress (of 63000)\n",
    "    \n",
    "    return diff\n",
    "\n",
    "df['actual_up'] = df.apply(lambda x: actual_up(x), axis=1)"
   ]
  },
  {
   "cell_type": "code",
   "execution_count": 27,
   "metadata": {},
   "outputs": [
    {
     "output_type": "stream",
     "name": "stdout",
     "text": [
      "0 5000 10000 15000 20000 25000 30000 35000 40000 45000 50000 55000 60000 "
     ]
    }
   ],
   "source": [
    "def forecast_up(row):\n",
    "    time = row['time']\n",
    "    calc_df = df[df['time'] == time]\n",
    "\n",
    "    time_adj = time - 1\n",
    "\n",
    "    if time_adj == 0:\n",
    "        diff = row['forecast'] - 621.38 > 0\n",
    "    else:\n",
    "        base = calc_df['Close'][time_adj * 63]\n",
    "        diff = row['forecast'] - base > 0\n",
    "\n",
    "    print(row.name, end=\" \") if row.name % 5000 == 0 else None # Just to show progress (of 63000)\n",
    "    \n",
    "    return diff\n",
    "\n",
    "df['forecast_up'] = df.apply(lambda x: forecast_up(x), axis=1)"
   ]
  },
  {
   "cell_type": "code",
   "execution_count": 28,
   "metadata": {},
   "outputs": [
    {
     "output_type": "execute_result",
     "data": {
      "text/plain": [
       "    time   Close    forecast       lower        upper      error  abs_error  \\\n",
       "0      1  622.77  622.745083  614.850489   630.741043  -0.024917   0.024917   \n",
       "1      1  618.70  623.922645  607.986288   640.276720   5.222645   5.222645   \n",
       "2      1  617.12  624.955354  600.876362   649.999267   7.835354   7.835354   \n",
       "3      1  621.28  625.876251  593.586507   659.922484   4.596251   4.596251   \n",
       "4      1  622.31  626.710896  586.166551   670.059638   4.400896   4.400896   \n",
       "..   ...     ...         ...         ...          ...        ...        ...   \n",
       "59     1  671.08  658.205370  251.688108  1721.314181 -12.874630  12.874630   \n",
       "60     1  668.82  658.773490  247.648335  1752.414414 -10.046510  10.046510   \n",
       "61     1  668.02  659.342101  243.671832  1784.088057  -8.677899   8.677899   \n",
       "62     1  663.33  659.911202  239.757723  1816.345223  -3.418798   3.418798   \n",
       "63     2  618.70  623.951571  616.573166   631.418272   5.251571   5.251571   \n",
       "\n",
       "    actual_up  forecast_up  \n",
       "0        True         True  \n",
       "1       False         True  \n",
       "2       False         True  \n",
       "3       False         True  \n",
       "4       False         True  \n",
       "..        ...          ...  \n",
       "59       True         True  \n",
       "60       True         True  \n",
       "61       True         True  \n",
       "62       True         True  \n",
       "63      False         True  \n",
       "\n",
       "[64 rows x 9 columns]"
      ],
      "text/html": "<div>\n<style scoped>\n    .dataframe tbody tr th:only-of-type {\n        vertical-align: middle;\n    }\n\n    .dataframe tbody tr th {\n        vertical-align: top;\n    }\n\n    .dataframe thead th {\n        text-align: right;\n    }\n</style>\n<table border=\"1\" class=\"dataframe\">\n  <thead>\n    <tr style=\"text-align: right;\">\n      <th></th>\n      <th>time</th>\n      <th>Close</th>\n      <th>forecast</th>\n      <th>lower</th>\n      <th>upper</th>\n      <th>error</th>\n      <th>abs_error</th>\n      <th>actual_up</th>\n      <th>forecast_up</th>\n    </tr>\n  </thead>\n  <tbody>\n    <tr>\n      <th>0</th>\n      <td>1</td>\n      <td>622.77</td>\n      <td>622.745083</td>\n      <td>614.850489</td>\n      <td>630.741043</td>\n      <td>-0.024917</td>\n      <td>0.024917</td>\n      <td>True</td>\n      <td>True</td>\n    </tr>\n    <tr>\n      <th>1</th>\n      <td>1</td>\n      <td>618.70</td>\n      <td>623.922645</td>\n      <td>607.986288</td>\n      <td>640.276720</td>\n      <td>5.222645</td>\n      <td>5.222645</td>\n      <td>False</td>\n      <td>True</td>\n    </tr>\n    <tr>\n      <th>2</th>\n      <td>1</td>\n      <td>617.12</td>\n      <td>624.955354</td>\n      <td>600.876362</td>\n      <td>649.999267</td>\n      <td>7.835354</td>\n      <td>7.835354</td>\n      <td>False</td>\n      <td>True</td>\n    </tr>\n    <tr>\n      <th>3</th>\n      <td>1</td>\n      <td>621.28</td>\n      <td>625.876251</td>\n      <td>593.586507</td>\n      <td>659.922484</td>\n      <td>4.596251</td>\n      <td>4.596251</td>\n      <td>False</td>\n      <td>True</td>\n    </tr>\n    <tr>\n      <th>4</th>\n      <td>1</td>\n      <td>622.31</td>\n      <td>626.710896</td>\n      <td>586.166551</td>\n      <td>670.059638</td>\n      <td>4.400896</td>\n      <td>4.400896</td>\n      <td>False</td>\n      <td>True</td>\n    </tr>\n    <tr>\n      <th>...</th>\n      <td>...</td>\n      <td>...</td>\n      <td>...</td>\n      <td>...</td>\n      <td>...</td>\n      <td>...</td>\n      <td>...</td>\n      <td>...</td>\n      <td>...</td>\n    </tr>\n    <tr>\n      <th>59</th>\n      <td>1</td>\n      <td>671.08</td>\n      <td>658.205370</td>\n      <td>251.688108</td>\n      <td>1721.314181</td>\n      <td>-12.874630</td>\n      <td>12.874630</td>\n      <td>True</td>\n      <td>True</td>\n    </tr>\n    <tr>\n      <th>60</th>\n      <td>1</td>\n      <td>668.82</td>\n      <td>658.773490</td>\n      <td>247.648335</td>\n      <td>1752.414414</td>\n      <td>-10.046510</td>\n      <td>10.046510</td>\n      <td>True</td>\n      <td>True</td>\n    </tr>\n    <tr>\n      <th>61</th>\n      <td>1</td>\n      <td>668.02</td>\n      <td>659.342101</td>\n      <td>243.671832</td>\n      <td>1784.088057</td>\n      <td>-8.677899</td>\n      <td>8.677899</td>\n      <td>True</td>\n      <td>True</td>\n    </tr>\n    <tr>\n      <th>62</th>\n      <td>1</td>\n      <td>663.33</td>\n      <td>659.911202</td>\n      <td>239.757723</td>\n      <td>1816.345223</td>\n      <td>-3.418798</td>\n      <td>3.418798</td>\n      <td>True</td>\n      <td>True</td>\n    </tr>\n    <tr>\n      <th>63</th>\n      <td>2</td>\n      <td>618.70</td>\n      <td>623.951571</td>\n      <td>616.573166</td>\n      <td>631.418272</td>\n      <td>5.251571</td>\n      <td>5.251571</td>\n      <td>False</td>\n      <td>True</td>\n    </tr>\n  </tbody>\n</table>\n<p>64 rows × 9 columns</p>\n</div>"
     },
     "metadata": {},
     "execution_count": 28
    }
   ],
   "source": [
    "df.head(64)"
   ]
  },
  {
   "cell_type": "code",
   "execution_count": 29,
   "metadata": {},
   "outputs": [],
   "source": [
    "# creating confusion column\n",
    "\n",
    "def confusion(actual, forecast):\n",
    "    if (actual and forecast):\n",
    "        return 'TP'\n",
    "    \n",
    "    if (actual and not forecast):\n",
    "        return 'FN'\n",
    "    \n",
    "    if (not actual and forecast):\n",
    "        return 'FP'\n",
    "    \n",
    "    if (not actual and not forecast):\n",
    "        return 'TN'\n",
    "    \n",
    "    return False\n",
    "\n",
    "df['confusion'] = df.apply(lambda x: confusion(x['actual_up'], x['forecast_up']), axis=1)"
   ]
  },
  {
   "source": [
    "## Creating cross evaluation scores for each of the 1000 periods"
   ],
   "cell_type": "markdown",
   "metadata": {}
  },
  {
   "cell_type": "code",
   "execution_count": 30,
   "metadata": {},
   "outputs": [],
   "source": [
    "# Creating a dataframe with all the columns needed\n",
    "\n",
    "cross_df = pd.DataFrame(columns=[\n",
    "    \"mape_1\", \n",
    "    \"mape_3\",\n",
    "    \"mape_5\",\n",
    "    \"mape_21\",\n",
    "    \"mape_63\",\n",
    "    \"rmse_1\",\n",
    "    \"rmse_3\",\n",
    "    \"rmse_5\",\n",
    "    \"rmse_21\",\n",
    "    \"rmse_63\",\n",
    "    'precision_1',\n",
    "    'precision_3',\n",
    "    'precision_5',\n",
    "    'precision_21',\n",
    "    'precision_63',\n",
    "    'recall_1',\n",
    "    'recall_3',\n",
    "    'recall_5',\n",
    "    'recall_21',\n",
    "    'recall_63',\n",
    "    'fscore_1',\n",
    "    'fscore_3',\n",
    "    'fscore_5',\n",
    "    'fscore_21',\n",
    "    'fscore_63',\n",
    "])"
   ]
  },
  {
   "cell_type": "code",
   "execution_count": 31,
   "metadata": {},
   "outputs": [],
   "source": [
    "# Cross evaluation function\n",
    "\n",
    "def cross_evaluate(df, n_periods):\n",
    "    df = df[ : n_periods]\n",
    "    mape = ((df[\"abs_error\"] / df[\"Close\"]).sum() / n_periods) * 100\n",
    "    rmse = math.sqrt(pow(df[\"error\"].sum(), 2) / n_periods)\n",
    "\n",
    "    tp = len(df[df['confusion'] == 'TP'])\n",
    "    fp = len(df[df['confusion'] == 'FP'])\n",
    "    fn = len(df[df['confusion'] == 'FN'])\n",
    "\n",
    "    precision = tp / (tp + fp) if (tp + fp) > 0 else 0 # if else för att undvika division by zero errror\n",
    "    recall = tp / (tp + fn) if (tp + fn) > 0 else 0\n",
    "    fscore = (2*precision*recall)/(precision+recall) if (precision + recall > 0) else 0\n",
    "\n",
    "    return mape, rmse, precision, recall, fscore"
   ]
  },
  {
   "cell_type": "code",
   "execution_count": 32,
   "metadata": {},
   "outputs": [
    {
     "output_type": "stream",
     "name": "stdout",
     "text": [
      "0 100 200 300 400 500 600 700 800 900 done!\n"
     ]
    }
   ],
   "source": [
    "# For every 63 forecasts of the 1000 periods forecasted, create scores\n",
    "\n",
    "forecast_len = 1000\n",
    "for i in range(forecast_len):\n",
    "    cross_merged_df = df[df['time'] == i+1] # since indexing starts at 1\n",
    "    one = cross_evaluate(cross_merged_df, 1)\n",
    "    three = cross_evaluate(cross_merged_df, 3)\n",
    "    five = cross_evaluate(cross_merged_df, 5)\n",
    "    twentyone = cross_evaluate(cross_merged_df, 21)\n",
    "    sixtythree = cross_evaluate(cross_merged_df, 63)\n",
    "\n",
    "    cross_df = cross_df.append({\n",
    "        'mape_1': one[0],\n",
    "        'mape_3': three[0],\n",
    "        'mape_5': five[0],\n",
    "        'mape_21': twentyone[0],\n",
    "        'mape_63': sixtythree[0],\n",
    "        'rmse_1': one[1],\n",
    "        'rmse_3': three[1],\n",
    "        'rmse_5': five[1],\n",
    "        'rmse_21': twentyone[1],\n",
    "        'rmse_63': sixtythree[1],\n",
    "        'precision_1': one[2],\n",
    "        'precision_3': three[2],\n",
    "        'precision_5': five[2],\n",
    "        'precision_21': twentyone[2],\n",
    "        'precision_63': sixtythree[2],\n",
    "        'recall_1': one[3],\n",
    "        'recall_3': three[3],\n",
    "        'recall_5': five[3],\n",
    "        'recall_21': twentyone[3],\n",
    "        'recall_63': sixtythree[3],\n",
    "        'fscore_1': one[4],\n",
    "        'fscore_3': three[4],\n",
    "        'fscore_5': five[4],\n",
    "        'fscore_21': twentyone[4],\n",
    "        'fscore_63': sixtythree[4],\n",
    "    }, ignore_index=True)\n",
    "\n",
    "    step = i % 100\n",
    "    if step == 0:\n",
    "        print(i, end=\" \")\n",
    "\n",
    "print('done!')"
   ]
  },
  {
   "cell_type": "code",
   "execution_count": 33,
   "metadata": {},
   "outputs": [
    {
     "output_type": "execute_result",
     "data": {
      "text/plain": [
       "                      0\n",
       "mape_1         0.004001\n",
       "mape_3         0.705933\n",
       "mape_5         0.712958\n",
       "mape_21        0.541432\n",
       "mape_63        1.063077\n",
       "rmse_1         0.024917\n",
       "rmse_3         7.524653\n",
       "rmse_5         9.852218\n",
       "rmse_21        2.323509\n",
       "rmse_63       43.548246\n",
       "precision_1    1.000000\n",
       "precision_3    0.333333\n",
       "precision_5    0.200000\n",
       "precision_21   0.809524\n",
       "precision_63   0.936508\n",
       "recall_1       1.000000\n",
       "recall_3       1.000000\n",
       "recall_5       1.000000\n",
       "recall_21      1.000000\n",
       "recall_63      1.000000\n",
       "fscore_1       1.000000\n",
       "fscore_3       0.500000\n",
       "fscore_5       0.333333\n",
       "fscore_21      0.894737\n",
       "fscore_63      0.967213"
      ],
      "text/html": "<div>\n<style scoped>\n    .dataframe tbody tr th:only-of-type {\n        vertical-align: middle;\n    }\n\n    .dataframe tbody tr th {\n        vertical-align: top;\n    }\n\n    .dataframe thead th {\n        text-align: right;\n    }\n</style>\n<table border=\"1\" class=\"dataframe\">\n  <thead>\n    <tr style=\"text-align: right;\">\n      <th></th>\n      <th>0</th>\n    </tr>\n  </thead>\n  <tbody>\n    <tr>\n      <th>mape_1</th>\n      <td>0.004001</td>\n    </tr>\n    <tr>\n      <th>mape_3</th>\n      <td>0.705933</td>\n    </tr>\n    <tr>\n      <th>mape_5</th>\n      <td>0.712958</td>\n    </tr>\n    <tr>\n      <th>mape_21</th>\n      <td>0.541432</td>\n    </tr>\n    <tr>\n      <th>mape_63</th>\n      <td>1.063077</td>\n    </tr>\n    <tr>\n      <th>rmse_1</th>\n      <td>0.024917</td>\n    </tr>\n    <tr>\n      <th>rmse_3</th>\n      <td>7.524653</td>\n    </tr>\n    <tr>\n      <th>rmse_5</th>\n      <td>9.852218</td>\n    </tr>\n    <tr>\n      <th>rmse_21</th>\n      <td>2.323509</td>\n    </tr>\n    <tr>\n      <th>rmse_63</th>\n      <td>43.548246</td>\n    </tr>\n    <tr>\n      <th>precision_1</th>\n      <td>1.000000</td>\n    </tr>\n    <tr>\n      <th>precision_3</th>\n      <td>0.333333</td>\n    </tr>\n    <tr>\n      <th>precision_5</th>\n      <td>0.200000</td>\n    </tr>\n    <tr>\n      <th>precision_21</th>\n      <td>0.809524</td>\n    </tr>\n    <tr>\n      <th>precision_63</th>\n      <td>0.936508</td>\n    </tr>\n    <tr>\n      <th>recall_1</th>\n      <td>1.000000</td>\n    </tr>\n    <tr>\n      <th>recall_3</th>\n      <td>1.000000</td>\n    </tr>\n    <tr>\n      <th>recall_5</th>\n      <td>1.000000</td>\n    </tr>\n    <tr>\n      <th>recall_21</th>\n      <td>1.000000</td>\n    </tr>\n    <tr>\n      <th>recall_63</th>\n      <td>1.000000</td>\n    </tr>\n    <tr>\n      <th>fscore_1</th>\n      <td>1.000000</td>\n    </tr>\n    <tr>\n      <th>fscore_3</th>\n      <td>0.500000</td>\n    </tr>\n    <tr>\n      <th>fscore_5</th>\n      <td>0.333333</td>\n    </tr>\n    <tr>\n      <th>fscore_21</th>\n      <td>0.894737</td>\n    </tr>\n    <tr>\n      <th>fscore_63</th>\n      <td>0.967213</td>\n    </tr>\n  </tbody>\n</table>\n</div>"
     },
     "metadata": {},
     "execution_count": 33
    }
   ],
   "source": [
    "# Only the results when t=1\n",
    "\n",
    "cross_df[:1].transpose()"
   ]
  },
  {
   "cell_type": "code",
   "execution_count": 34,
   "metadata": {},
   "outputs": [
    {
     "output_type": "execute_result",
     "data": {
      "text/plain": [
       "         measure        mean       lower       upper\n",
       "0         mape_1    0.606831    0.566263    0.647399\n",
       "1         mape_3    0.910340    0.858200    0.962480\n",
       "2         mape_5    1.159973    1.090985    1.228960\n",
       "3        mape_21    2.571405    2.398827    2.743983\n",
       "4        mape_63    5.015313    4.761545    5.269080\n",
       "5         rmse_1    4.905379    4.592236    5.218521\n",
       "6         rmse_3   11.898708   11.180433   12.616983\n",
       "7         rmse_5   19.183296   17.964496   20.402096\n",
       "8        rmse_21   85.884945   79.899139   91.870750\n",
       "9        rmse_63  294.066071  278.023847  310.108295\n",
       "10   precision_1    0.076000    0.062250    0.089750\n",
       "11   precision_3    0.275833    0.257153    0.294514\n",
       "12   precision_5    0.364000    0.343318    0.384682\n",
       "13  precision_21    0.608637    0.588778    0.628496\n",
       "14  precision_63    0.659888    0.641243    0.678534\n",
       "15      recall_1    0.076000    0.062250    0.089750\n",
       "16      recall_3    0.374667    0.350607    0.398727\n",
       "17      recall_5    0.452350    0.428225    0.476475\n",
       "18     recall_21    0.718531    0.699289    0.737772\n",
       "19     recall_63    0.862856    0.848891    0.876820\n",
       "20      fscore_1    0.076000    0.062250    0.089750\n",
       "21      fscore_3    0.292800    0.274055    0.311545\n",
       "22      fscore_5    0.368046    0.348099    0.387993\n",
       "23     fscore_21    0.608895    0.590384    0.627406\n",
       "24     fscore_63    0.699721    0.682465    0.716978"
      ],
      "text/html": "<div>\n<style scoped>\n    .dataframe tbody tr th:only-of-type {\n        vertical-align: middle;\n    }\n\n    .dataframe tbody tr th {\n        vertical-align: top;\n    }\n\n    .dataframe thead th {\n        text-align: right;\n    }\n</style>\n<table border=\"1\" class=\"dataframe\">\n  <thead>\n    <tr style=\"text-align: right;\">\n      <th></th>\n      <th>measure</th>\n      <th>mean</th>\n      <th>lower</th>\n      <th>upper</th>\n    </tr>\n  </thead>\n  <tbody>\n    <tr>\n      <th>0</th>\n      <td>mape_1</td>\n      <td>0.606831</td>\n      <td>0.566263</td>\n      <td>0.647399</td>\n    </tr>\n    <tr>\n      <th>1</th>\n      <td>mape_3</td>\n      <td>0.910340</td>\n      <td>0.858200</td>\n      <td>0.962480</td>\n    </tr>\n    <tr>\n      <th>2</th>\n      <td>mape_5</td>\n      <td>1.159973</td>\n      <td>1.090985</td>\n      <td>1.228960</td>\n    </tr>\n    <tr>\n      <th>3</th>\n      <td>mape_21</td>\n      <td>2.571405</td>\n      <td>2.398827</td>\n      <td>2.743983</td>\n    </tr>\n    <tr>\n      <th>4</th>\n      <td>mape_63</td>\n      <td>5.015313</td>\n      <td>4.761545</td>\n      <td>5.269080</td>\n    </tr>\n    <tr>\n      <th>5</th>\n      <td>rmse_1</td>\n      <td>4.905379</td>\n      <td>4.592236</td>\n      <td>5.218521</td>\n    </tr>\n    <tr>\n      <th>6</th>\n      <td>rmse_3</td>\n      <td>11.898708</td>\n      <td>11.180433</td>\n      <td>12.616983</td>\n    </tr>\n    <tr>\n      <th>7</th>\n      <td>rmse_5</td>\n      <td>19.183296</td>\n      <td>17.964496</td>\n      <td>20.402096</td>\n    </tr>\n    <tr>\n      <th>8</th>\n      <td>rmse_21</td>\n      <td>85.884945</td>\n      <td>79.899139</td>\n      <td>91.870750</td>\n    </tr>\n    <tr>\n      <th>9</th>\n      <td>rmse_63</td>\n      <td>294.066071</td>\n      <td>278.023847</td>\n      <td>310.108295</td>\n    </tr>\n    <tr>\n      <th>10</th>\n      <td>precision_1</td>\n      <td>0.076000</td>\n      <td>0.062250</td>\n      <td>0.089750</td>\n    </tr>\n    <tr>\n      <th>11</th>\n      <td>precision_3</td>\n      <td>0.275833</td>\n      <td>0.257153</td>\n      <td>0.294514</td>\n    </tr>\n    <tr>\n      <th>12</th>\n      <td>precision_5</td>\n      <td>0.364000</td>\n      <td>0.343318</td>\n      <td>0.384682</td>\n    </tr>\n    <tr>\n      <th>13</th>\n      <td>precision_21</td>\n      <td>0.608637</td>\n      <td>0.588778</td>\n      <td>0.628496</td>\n    </tr>\n    <tr>\n      <th>14</th>\n      <td>precision_63</td>\n      <td>0.659888</td>\n      <td>0.641243</td>\n      <td>0.678534</td>\n    </tr>\n    <tr>\n      <th>15</th>\n      <td>recall_1</td>\n      <td>0.076000</td>\n      <td>0.062250</td>\n      <td>0.089750</td>\n    </tr>\n    <tr>\n      <th>16</th>\n      <td>recall_3</td>\n      <td>0.374667</td>\n      <td>0.350607</td>\n      <td>0.398727</td>\n    </tr>\n    <tr>\n      <th>17</th>\n      <td>recall_5</td>\n      <td>0.452350</td>\n      <td>0.428225</td>\n      <td>0.476475</td>\n    </tr>\n    <tr>\n      <th>18</th>\n      <td>recall_21</td>\n      <td>0.718531</td>\n      <td>0.699289</td>\n      <td>0.737772</td>\n    </tr>\n    <tr>\n      <th>19</th>\n      <td>recall_63</td>\n      <td>0.862856</td>\n      <td>0.848891</td>\n      <td>0.876820</td>\n    </tr>\n    <tr>\n      <th>20</th>\n      <td>fscore_1</td>\n      <td>0.076000</td>\n      <td>0.062250</td>\n      <td>0.089750</td>\n    </tr>\n    <tr>\n      <th>21</th>\n      <td>fscore_3</td>\n      <td>0.292800</td>\n      <td>0.274055</td>\n      <td>0.311545</td>\n    </tr>\n    <tr>\n      <th>22</th>\n      <td>fscore_5</td>\n      <td>0.368046</td>\n      <td>0.348099</td>\n      <td>0.387993</td>\n    </tr>\n    <tr>\n      <th>23</th>\n      <td>fscore_21</td>\n      <td>0.608895</td>\n      <td>0.590384</td>\n      <td>0.627406</td>\n    </tr>\n    <tr>\n      <th>24</th>\n      <td>fscore_63</td>\n      <td>0.699721</td>\n      <td>0.682465</td>\n      <td>0.716978</td>\n    </tr>\n  </tbody>\n</table>\n</div>"
     },
     "metadata": {},
     "execution_count": 34
    }
   ],
   "source": [
    "n = cross_df.count()[0]\n",
    "mean = cross_df.mean()\n",
    "upper = cross_df.mean() + 1.64 * cross_df.std() / math.sqrt(n)\n",
    "lower = cross_df.mean() - 1.64 * cross_df.std() / math.sqrt(n)\n",
    "\n",
    "ci_df = pd.DataFrame(columns=['measure', 'mean', 'lower', 'upper'])\n",
    "\n",
    "for i in range(25):\n",
    "    ci_df = ci_df.append({\n",
    "        'measure': cross_df.columns[i],\n",
    "        'mean': mean[i],\n",
    "        'lower': lower[i],\n",
    "        'upper': upper[i]\n",
    "    }, ignore_index=True)\n",
    "\n",
    "ci_df"
   ]
  },
  {
   "cell_type": "code",
   "execution_count": null,
   "metadata": {},
   "outputs": [],
   "source": []
  }
 ]
}
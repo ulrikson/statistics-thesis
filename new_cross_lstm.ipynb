{
 "metadata": {
  "language_info": {
   "codemirror_mode": {
    "name": "ipython",
    "version": 3
   },
   "file_extension": ".py",
   "mimetype": "text/x-python",
   "name": "python",
   "nbconvert_exporter": "python",
   "pygments_lexer": "ipython3",
   "version": "3.8.8"
  },
  "orig_nbformat": 2,
  "kernelspec": {
   "name": "pythonjvsc74a57bd08e5d978fabe9284c3fbe81ce49ffc2385aa6c50ec9bb0ac8105323bc03a15f79",
   "display_name": "Python 3.8.8  ('venv': venv)"
  },
  "metadata": {
   "interpreter": {
    "hash": "8e5d978fabe9284c3fbe81ce49ffc2385aa6c50ec9bb0ac8105323bc03a15f79"
   }
  }
 },
 "nbformat": 4,
 "nbformat_minor": 2,
 "cells": [
  {
   "cell_type": "code",
   "execution_count": 1,
   "metadata": {},
   "outputs": [],
   "source": [
    "import pandas as pd\n",
    "import numpy as np\n",
    "\n",
    "import math"
   ]
  },
  {
   "cell_type": "code",
   "execution_count": 2,
   "metadata": {},
   "outputs": [],
   "source": [
    "df = pd.read_csv('data/lstm_results.csv')"
   ]
  },
  {
   "cell_type": "code",
   "execution_count": 3,
   "metadata": {},
   "outputs": [],
   "source": [
    "df['error'] = df['forecast'] - df['Close']\n",
    "df['abs_error'] = np.abs(df['forecast'] - df['Close'])"
   ]
  },
  {
   "source": [
    "## Calculate ups"
   ],
   "cell_type": "markdown",
   "metadata": {}
  },
  {
   "cell_type": "code",
   "execution_count": 4,
   "metadata": {},
   "outputs": [
    {
     "output_type": "stream",
     "name": "stdout",
     "text": [
      "0 5000 10000 15000 20000 25000 30000 35000 40000 45000 50000 55000 60000 "
     ]
    }
   ],
   "source": [
    "\n",
    "def actual_up(row):\n",
    "    time = row['time']\n",
    "    calc_df = df[df['time'] == time]\n",
    "\n",
    "    time_adj = time - 1\n",
    "    base = calc_df['Close'][time_adj * 63]\n",
    "\n",
    "    if row.name % 63 == 0:\n",
    "        if row.name == 0:\n",
    "            diff = row['Close'] - 621.38 > 0\n",
    "        else:\n",
    "            close = df['Close'][time_adj * 63 - 63]\n",
    "            diff = base - close > 0\n",
    "    else:\n",
    "        diff = row['Close'] - base > 0\n",
    "    \n",
    "    print(row.name, end=\" \") if row.name % 5000 == 0 else None # Just to show progress (of 63000)\n",
    "    \n",
    "    return diff\n",
    "\n",
    "df['actual_up'] = df.apply(lambda x: actual_up(x), axis=1)"
   ]
  },
  {
   "cell_type": "code",
   "execution_count": 5,
   "metadata": {},
   "outputs": [
    {
     "output_type": "stream",
     "name": "stdout",
     "text": [
      "0 5000 10000 15000 20000 25000 30000 35000 40000 45000 50000 55000 60000 "
     ]
    }
   ],
   "source": [
    "def forecast_up(row):\n",
    "    time = row['time']\n",
    "    calc_df = df[df['time'] == time]\n",
    "\n",
    "    time_adj = time - 1\n",
    "\n",
    "    if time_adj == 0:\n",
    "        diff = row['forecast'] - 621.38 > 0\n",
    "    else:\n",
    "        base = calc_df['Close'][time_adj * 63]\n",
    "        diff = row['forecast'] - base > 0\n",
    "\n",
    "    print(row.name, end=\" \") if row.name % 5000 == 0 else None # Just to show progress (of 63000)\n",
    "    \n",
    "    return diff\n",
    "\n",
    "df['forecast_up'] = df.apply(lambda x: forecast_up(x), axis=1)"
   ]
  },
  {
   "cell_type": "code",
   "execution_count": 6,
   "metadata": {},
   "outputs": [],
   "source": [
    "# creating confusion column\n",
    "\n",
    "def confusion(actual, forecast):\n",
    "    if (actual and forecast):\n",
    "        return 'TP'\n",
    "    \n",
    "    if (actual and not forecast):\n",
    "        return 'FN'\n",
    "    \n",
    "    if (not actual and forecast):\n",
    "        return 'FP'\n",
    "    \n",
    "    if (not actual and not forecast):\n",
    "        return 'TN'\n",
    "    \n",
    "    return False\n",
    "\n",
    "df['confusion'] = df.apply(lambda x: confusion(x['actual_up'], x['forecast_up']), axis=1)"
   ]
  },
  {
   "cell_type": "code",
   "execution_count": 12,
   "metadata": {},
   "outputs": [
    {
     "output_type": "execute_result",
     "data": {
      "text/plain": [
       "    time   Close    forecast      error  abs_error  actual_up  forecast_up  \\\n",
       "0    1.0  622.77  621.587524  -1.182476   1.182476       True         True   \n",
       "1    1.0  618.70  621.805115   3.105115   3.105115      False         True   \n",
       "2    1.0  617.12  622.214722   5.094722   5.094722      False         True   \n",
       "3    1.0  621.28  622.782288   1.502288   1.502288      False         True   \n",
       "4    1.0  622.31  623.443665   1.133665   1.133665      False         True   \n",
       "..   ...     ...         ...        ...        ...        ...          ...   \n",
       "59   1.0  671.08  635.086121 -35.993879  35.993879       True         True   \n",
       "60   1.0  668.82  636.018921 -32.801079  32.801079       True         True   \n",
       "61   1.0  668.02  637.005066 -31.014934  31.014934       True         True   \n",
       "62   1.0  663.33  638.083069 -25.246931  25.246931       True         True   \n",
       "63   2.0  618.70  622.987488   4.287488   4.287488      False         True   \n",
       "\n",
       "   confusion  \n",
       "0         TP  \n",
       "1         FP  \n",
       "2         FP  \n",
       "3         FP  \n",
       "4         FP  \n",
       "..       ...  \n",
       "59        TP  \n",
       "60        TP  \n",
       "61        TP  \n",
       "62        TP  \n",
       "63        FP  \n",
       "\n",
       "[64 rows x 8 columns]"
      ],
      "text/html": "<div>\n<style scoped>\n    .dataframe tbody tr th:only-of-type {\n        vertical-align: middle;\n    }\n\n    .dataframe tbody tr th {\n        vertical-align: top;\n    }\n\n    .dataframe thead th {\n        text-align: right;\n    }\n</style>\n<table border=\"1\" class=\"dataframe\">\n  <thead>\n    <tr style=\"text-align: right;\">\n      <th></th>\n      <th>time</th>\n      <th>Close</th>\n      <th>forecast</th>\n      <th>error</th>\n      <th>abs_error</th>\n      <th>actual_up</th>\n      <th>forecast_up</th>\n      <th>confusion</th>\n    </tr>\n  </thead>\n  <tbody>\n    <tr>\n      <th>0</th>\n      <td>1.0</td>\n      <td>622.77</td>\n      <td>621.587524</td>\n      <td>-1.182476</td>\n      <td>1.182476</td>\n      <td>True</td>\n      <td>True</td>\n      <td>TP</td>\n    </tr>\n    <tr>\n      <th>1</th>\n      <td>1.0</td>\n      <td>618.70</td>\n      <td>621.805115</td>\n      <td>3.105115</td>\n      <td>3.105115</td>\n      <td>False</td>\n      <td>True</td>\n      <td>FP</td>\n    </tr>\n    <tr>\n      <th>2</th>\n      <td>1.0</td>\n      <td>617.12</td>\n      <td>622.214722</td>\n      <td>5.094722</td>\n      <td>5.094722</td>\n      <td>False</td>\n      <td>True</td>\n      <td>FP</td>\n    </tr>\n    <tr>\n      <th>3</th>\n      <td>1.0</td>\n      <td>621.28</td>\n      <td>622.782288</td>\n      <td>1.502288</td>\n      <td>1.502288</td>\n      <td>False</td>\n      <td>True</td>\n      <td>FP</td>\n    </tr>\n    <tr>\n      <th>4</th>\n      <td>1.0</td>\n      <td>622.31</td>\n      <td>623.443665</td>\n      <td>1.133665</td>\n      <td>1.133665</td>\n      <td>False</td>\n      <td>True</td>\n      <td>FP</td>\n    </tr>\n    <tr>\n      <th>...</th>\n      <td>...</td>\n      <td>...</td>\n      <td>...</td>\n      <td>...</td>\n      <td>...</td>\n      <td>...</td>\n      <td>...</td>\n      <td>...</td>\n    </tr>\n    <tr>\n      <th>59</th>\n      <td>1.0</td>\n      <td>671.08</td>\n      <td>635.086121</td>\n      <td>-35.993879</td>\n      <td>35.993879</td>\n      <td>True</td>\n      <td>True</td>\n      <td>TP</td>\n    </tr>\n    <tr>\n      <th>60</th>\n      <td>1.0</td>\n      <td>668.82</td>\n      <td>636.018921</td>\n      <td>-32.801079</td>\n      <td>32.801079</td>\n      <td>True</td>\n      <td>True</td>\n      <td>TP</td>\n    </tr>\n    <tr>\n      <th>61</th>\n      <td>1.0</td>\n      <td>668.02</td>\n      <td>637.005066</td>\n      <td>-31.014934</td>\n      <td>31.014934</td>\n      <td>True</td>\n      <td>True</td>\n      <td>TP</td>\n    </tr>\n    <tr>\n      <th>62</th>\n      <td>1.0</td>\n      <td>663.33</td>\n      <td>638.083069</td>\n      <td>-25.246931</td>\n      <td>25.246931</td>\n      <td>True</td>\n      <td>True</td>\n      <td>TP</td>\n    </tr>\n    <tr>\n      <th>63</th>\n      <td>2.0</td>\n      <td>618.70</td>\n      <td>622.987488</td>\n      <td>4.287488</td>\n      <td>4.287488</td>\n      <td>False</td>\n      <td>True</td>\n      <td>FP</td>\n    </tr>\n  </tbody>\n</table>\n<p>64 rows × 8 columns</p>\n</div>"
     },
     "metadata": {},
     "execution_count": 12
    }
   ],
   "source": [
    "df.head(64)"
   ]
  },
  {
   "source": [
    "## Creating cross evaluation scores for each of the 1000 periods"
   ],
   "cell_type": "markdown",
   "metadata": {}
  },
  {
   "cell_type": "code",
   "execution_count": 7,
   "metadata": {},
   "outputs": [],
   "source": [
    "# Creating a dataframe with all the columns needed\n",
    "\n",
    "cross_df = pd.DataFrame(columns=[\n",
    "    \"mape_1\", \n",
    "    \"mape_3\",\n",
    "    \"mape_5\",\n",
    "    \"mape_21\",\n",
    "    \"mape_63\",\n",
    "    \"rmse_1\",\n",
    "    \"rmse_3\",\n",
    "    \"rmse_5\",\n",
    "    \"rmse_21\",\n",
    "    \"rmse_63\",\n",
    "    'precision_1',\n",
    "    'precision_3',\n",
    "    'precision_5',\n",
    "    'precision_21',\n",
    "    'precision_63',\n",
    "    'recall_1',\n",
    "    'recall_3',\n",
    "    'recall_5',\n",
    "    'recall_21',\n",
    "    'recall_63',\n",
    "    'fscore_1',\n",
    "    'fscore_3',\n",
    "    'fscore_5',\n",
    "    'fscore_21',\n",
    "    'fscore_63',\n",
    "])"
   ]
  },
  {
   "cell_type": "code",
   "execution_count": 8,
   "metadata": {},
   "outputs": [],
   "source": [
    "# Cross evaluation function\n",
    "\n",
    "def cross_evaluate(df, n_periods):\n",
    "    df = df[ : n_periods]\n",
    "    mape = ((df[\"abs_error\"] / df[\"Close\"]).sum() / n_periods) * 100\n",
    "    rmse = math.sqrt(pow(df[\"error\"].sum(), 2) / n_periods)\n",
    "\n",
    "    tp = len(df[df['confusion'] == 'TP'])\n",
    "    fp = len(df[df['confusion'] == 'FP'])\n",
    "    fn = len(df[df['confusion'] == 'FN'])\n",
    "\n",
    "    precision = tp / (tp + fp) if (tp + fp) > 0 else 0 # if else för att undvika division by zero errror\n",
    "    recall = tp / (tp + fn) if (tp + fn) > 0 else 0\n",
    "    fscore = (2*precision*recall)/(precision+recall) if (precision + recall > 0) else 0\n",
    "\n",
    "    return mape, rmse, precision, recall, fscore"
   ]
  },
  {
   "cell_type": "code",
   "execution_count": 9,
   "metadata": {},
   "outputs": [
    {
     "output_type": "stream",
     "name": "stdout",
     "text": [
      "0 100 200 300 400 500 600 700 800 900 done!\n"
     ]
    }
   ],
   "source": [
    "# For every 63 forecasts of the 1000 periods forecasted, create scores\n",
    "\n",
    "forecast_len = 1000\n",
    "for i in range(forecast_len):\n",
    "    cross_merged_df = df[df['time'] == i+1] # since indexing starts at 1\n",
    "    one = cross_evaluate(cross_merged_df, 1)\n",
    "    three = cross_evaluate(cross_merged_df, 3)\n",
    "    five = cross_evaluate(cross_merged_df, 5)\n",
    "    twentyone = cross_evaluate(cross_merged_df, 21)\n",
    "    sixtythree = cross_evaluate(cross_merged_df, 63)\n",
    "\n",
    "    cross_df = cross_df.append({\n",
    "        'mape_1': one[0],\n",
    "        'mape_3': three[0],\n",
    "        'mape_5': five[0],\n",
    "        'mape_21': twentyone[0],\n",
    "        'mape_63': sixtythree[0],\n",
    "        'rmse_1': one[1],\n",
    "        'rmse_3': three[1],\n",
    "        'rmse_5': five[1],\n",
    "        'rmse_21': twentyone[1],\n",
    "        'rmse_63': sixtythree[1],\n",
    "        'precision_1': one[2],\n",
    "        'precision_3': three[2],\n",
    "        'precision_5': five[2],\n",
    "        'precision_21': twentyone[2],\n",
    "        'precision_63': sixtythree[2],\n",
    "        'recall_1': one[3],\n",
    "        'recall_3': three[3],\n",
    "        'recall_5': five[3],\n",
    "        'recall_21': twentyone[3],\n",
    "        'recall_63': sixtythree[3],\n",
    "        'fscore_1': one[4],\n",
    "        'fscore_3': three[4],\n",
    "        'fscore_5': five[4],\n",
    "        'fscore_21': twentyone[4],\n",
    "        'fscore_63': sixtythree[4],\n",
    "    }, ignore_index=True)\n",
    "\n",
    "    step = i % 100\n",
    "    if step == 0:\n",
    "        print(i, end=\" \")\n",
    "\n",
    "print('done!')"
   ]
  },
  {
   "cell_type": "code",
   "execution_count": 10,
   "metadata": {},
   "outputs": [
    {
     "output_type": "execute_result",
     "data": {
      "text/plain": [
       "                       0\n",
       "mape_1          0.189874\n",
       "mape_3          0.505772\n",
       "mape_5          0.388258\n",
       "mape_21         0.887633\n",
       "mape_63         2.925779\n",
       "rmse_1          1.182476\n",
       "rmse_3          4.051475\n",
       "rmse_5          4.317093\n",
       "rmse_21        20.974583\n",
       "rmse_63       150.206292\n",
       "precision_1     1.000000\n",
       "precision_3     0.333333\n",
       "precision_5     0.200000\n",
       "precision_21    0.809524\n",
       "precision_63    0.936508\n",
       "recall_1        1.000000\n",
       "recall_3        1.000000\n",
       "recall_5        1.000000\n",
       "recall_21       1.000000\n",
       "recall_63       1.000000\n",
       "fscore_1        1.000000\n",
       "fscore_3        0.500000\n",
       "fscore_5        0.333333\n",
       "fscore_21       0.894737\n",
       "fscore_63       0.967213"
      ],
      "text/html": "<div>\n<style scoped>\n    .dataframe tbody tr th:only-of-type {\n        vertical-align: middle;\n    }\n\n    .dataframe tbody tr th {\n        vertical-align: top;\n    }\n\n    .dataframe thead th {\n        text-align: right;\n    }\n</style>\n<table border=\"1\" class=\"dataframe\">\n  <thead>\n    <tr style=\"text-align: right;\">\n      <th></th>\n      <th>0</th>\n    </tr>\n  </thead>\n  <tbody>\n    <tr>\n      <th>mape_1</th>\n      <td>0.189874</td>\n    </tr>\n    <tr>\n      <th>mape_3</th>\n      <td>0.505772</td>\n    </tr>\n    <tr>\n      <th>mape_5</th>\n      <td>0.388258</td>\n    </tr>\n    <tr>\n      <th>mape_21</th>\n      <td>0.887633</td>\n    </tr>\n    <tr>\n      <th>mape_63</th>\n      <td>2.925779</td>\n    </tr>\n    <tr>\n      <th>rmse_1</th>\n      <td>1.182476</td>\n    </tr>\n    <tr>\n      <th>rmse_3</th>\n      <td>4.051475</td>\n    </tr>\n    <tr>\n      <th>rmse_5</th>\n      <td>4.317093</td>\n    </tr>\n    <tr>\n      <th>rmse_21</th>\n      <td>20.974583</td>\n    </tr>\n    <tr>\n      <th>rmse_63</th>\n      <td>150.206292</td>\n    </tr>\n    <tr>\n      <th>precision_1</th>\n      <td>1.000000</td>\n    </tr>\n    <tr>\n      <th>precision_3</th>\n      <td>0.333333</td>\n    </tr>\n    <tr>\n      <th>precision_5</th>\n      <td>0.200000</td>\n    </tr>\n    <tr>\n      <th>precision_21</th>\n      <td>0.809524</td>\n    </tr>\n    <tr>\n      <th>precision_63</th>\n      <td>0.936508</td>\n    </tr>\n    <tr>\n      <th>recall_1</th>\n      <td>1.000000</td>\n    </tr>\n    <tr>\n      <th>recall_3</th>\n      <td>1.000000</td>\n    </tr>\n    <tr>\n      <th>recall_5</th>\n      <td>1.000000</td>\n    </tr>\n    <tr>\n      <th>recall_21</th>\n      <td>1.000000</td>\n    </tr>\n    <tr>\n      <th>recall_63</th>\n      <td>1.000000</td>\n    </tr>\n    <tr>\n      <th>fscore_1</th>\n      <td>1.000000</td>\n    </tr>\n    <tr>\n      <th>fscore_3</th>\n      <td>0.500000</td>\n    </tr>\n    <tr>\n      <th>fscore_5</th>\n      <td>0.333333</td>\n    </tr>\n    <tr>\n      <th>fscore_21</th>\n      <td>0.894737</td>\n    </tr>\n    <tr>\n      <th>fscore_63</th>\n      <td>0.967213</td>\n    </tr>\n  </tbody>\n</table>\n</div>"
     },
     "metadata": {},
     "execution_count": 10
    }
   ],
   "source": [
    "# Only the results when t=1\n",
    "\n",
    "cross_df[:1].transpose()"
   ]
  },
  {
   "cell_type": "code",
   "execution_count": 11,
   "metadata": {},
   "outputs": [
    {
     "output_type": "execute_result",
     "data": {
      "text/plain": [
       "         measure        mean       lower       upper\n",
       "0         mape_1    0.613545    0.571887    0.655204\n",
       "1         mape_3    0.926777    0.871642    0.981913\n",
       "2         mape_5    1.190527    1.117767    1.263287\n",
       "3        mape_21    2.749462    2.582364    2.916560\n",
       "4        mape_63    5.403585    5.187812    5.619358\n",
       "5         rmse_1    4.965353    4.643807    5.286898\n",
       "6         rmse_3   12.155956   11.402104   12.909808\n",
       "7         rmse_5   19.816034   18.545149   21.086920\n",
       "8        rmse_21   92.261077   86.397433   98.124720\n",
       "9        rmse_63  322.016801  307.533696  336.499906\n",
       "10   precision_1    0.010000    0.004837    0.015163\n",
       "11   precision_3    0.169500    0.154817    0.184183\n",
       "12   precision_5    0.225883    0.208313    0.243453\n",
       "13  precision_21    0.308183    0.287779    0.328588\n",
       "14  precision_63    0.367180    0.345669    0.388691\n",
       "15      recall_1    0.010000    0.004837    0.015163\n",
       "16      recall_3    0.281333    0.258299    0.304368\n",
       "17      recall_5    0.326767    0.303061    0.350472\n",
       "18     recall_21    0.369857    0.346388    0.393326\n",
       "19     recall_63    0.327297    0.306019    0.348574\n",
       "20      fscore_1    0.010000    0.004837    0.015163\n",
       "21      fscore_3    0.203167    0.186224    0.220109\n",
       "22      fscore_5    0.248232    0.229663    0.266801\n",
       "23     fscore_21    0.305077    0.284966    0.325188\n",
       "24     fscore_63    0.288371    0.269695    0.307047"
      ],
      "text/html": "<div>\n<style scoped>\n    .dataframe tbody tr th:only-of-type {\n        vertical-align: middle;\n    }\n\n    .dataframe tbody tr th {\n        vertical-align: top;\n    }\n\n    .dataframe thead th {\n        text-align: right;\n    }\n</style>\n<table border=\"1\" class=\"dataframe\">\n  <thead>\n    <tr style=\"text-align: right;\">\n      <th></th>\n      <th>measure</th>\n      <th>mean</th>\n      <th>lower</th>\n      <th>upper</th>\n    </tr>\n  </thead>\n  <tbody>\n    <tr>\n      <th>0</th>\n      <td>mape_1</td>\n      <td>0.613545</td>\n      <td>0.571887</td>\n      <td>0.655204</td>\n    </tr>\n    <tr>\n      <th>1</th>\n      <td>mape_3</td>\n      <td>0.926777</td>\n      <td>0.871642</td>\n      <td>0.981913</td>\n    </tr>\n    <tr>\n      <th>2</th>\n      <td>mape_5</td>\n      <td>1.190527</td>\n      <td>1.117767</td>\n      <td>1.263287</td>\n    </tr>\n    <tr>\n      <th>3</th>\n      <td>mape_21</td>\n      <td>2.749462</td>\n      <td>2.582364</td>\n      <td>2.916560</td>\n    </tr>\n    <tr>\n      <th>4</th>\n      <td>mape_63</td>\n      <td>5.403585</td>\n      <td>5.187812</td>\n      <td>5.619358</td>\n    </tr>\n    <tr>\n      <th>5</th>\n      <td>rmse_1</td>\n      <td>4.965353</td>\n      <td>4.643807</td>\n      <td>5.286898</td>\n    </tr>\n    <tr>\n      <th>6</th>\n      <td>rmse_3</td>\n      <td>12.155956</td>\n      <td>11.402104</td>\n      <td>12.909808</td>\n    </tr>\n    <tr>\n      <th>7</th>\n      <td>rmse_5</td>\n      <td>19.816034</td>\n      <td>18.545149</td>\n      <td>21.086920</td>\n    </tr>\n    <tr>\n      <th>8</th>\n      <td>rmse_21</td>\n      <td>92.261077</td>\n      <td>86.397433</td>\n      <td>98.124720</td>\n    </tr>\n    <tr>\n      <th>9</th>\n      <td>rmse_63</td>\n      <td>322.016801</td>\n      <td>307.533696</td>\n      <td>336.499906</td>\n    </tr>\n    <tr>\n      <th>10</th>\n      <td>precision_1</td>\n      <td>0.010000</td>\n      <td>0.004837</td>\n      <td>0.015163</td>\n    </tr>\n    <tr>\n      <th>11</th>\n      <td>precision_3</td>\n      <td>0.169500</td>\n      <td>0.154817</td>\n      <td>0.184183</td>\n    </tr>\n    <tr>\n      <th>12</th>\n      <td>precision_5</td>\n      <td>0.225883</td>\n      <td>0.208313</td>\n      <td>0.243453</td>\n    </tr>\n    <tr>\n      <th>13</th>\n      <td>precision_21</td>\n      <td>0.308183</td>\n      <td>0.287779</td>\n      <td>0.328588</td>\n    </tr>\n    <tr>\n      <th>14</th>\n      <td>precision_63</td>\n      <td>0.367180</td>\n      <td>0.345669</td>\n      <td>0.388691</td>\n    </tr>\n    <tr>\n      <th>15</th>\n      <td>recall_1</td>\n      <td>0.010000</td>\n      <td>0.004837</td>\n      <td>0.015163</td>\n    </tr>\n    <tr>\n      <th>16</th>\n      <td>recall_3</td>\n      <td>0.281333</td>\n      <td>0.258299</td>\n      <td>0.304368</td>\n    </tr>\n    <tr>\n      <th>17</th>\n      <td>recall_5</td>\n      <td>0.326767</td>\n      <td>0.303061</td>\n      <td>0.350472</td>\n    </tr>\n    <tr>\n      <th>18</th>\n      <td>recall_21</td>\n      <td>0.369857</td>\n      <td>0.346388</td>\n      <td>0.393326</td>\n    </tr>\n    <tr>\n      <th>19</th>\n      <td>recall_63</td>\n      <td>0.327297</td>\n      <td>0.306019</td>\n      <td>0.348574</td>\n    </tr>\n    <tr>\n      <th>20</th>\n      <td>fscore_1</td>\n      <td>0.010000</td>\n      <td>0.004837</td>\n      <td>0.015163</td>\n    </tr>\n    <tr>\n      <th>21</th>\n      <td>fscore_3</td>\n      <td>0.203167</td>\n      <td>0.186224</td>\n      <td>0.220109</td>\n    </tr>\n    <tr>\n      <th>22</th>\n      <td>fscore_5</td>\n      <td>0.248232</td>\n      <td>0.229663</td>\n      <td>0.266801</td>\n    </tr>\n    <tr>\n      <th>23</th>\n      <td>fscore_21</td>\n      <td>0.305077</td>\n      <td>0.284966</td>\n      <td>0.325188</td>\n    </tr>\n    <tr>\n      <th>24</th>\n      <td>fscore_63</td>\n      <td>0.288371</td>\n      <td>0.269695</td>\n      <td>0.307047</td>\n    </tr>\n  </tbody>\n</table>\n</div>"
     },
     "metadata": {},
     "execution_count": 11
    }
   ],
   "source": [
    "n = cross_df.count()[0]\n",
    "mean = cross_df.mean()\n",
    "upper = cross_df.mean() + 1.64 * cross_df.std() / math.sqrt(n)\n",
    "lower = cross_df.mean() - 1.64 * cross_df.std() / math.sqrt(n)\n",
    "\n",
    "ci_df = pd.DataFrame(columns=['measure', 'mean', 'lower', 'upper'])\n",
    "\n",
    "for i in range(25):\n",
    "    ci_df = ci_df.append({\n",
    "        'measure': cross_df.columns[i],\n",
    "        'mean': mean[i],\n",
    "        'lower': lower[i],\n",
    "        'upper': upper[i]\n",
    "    }, ignore_index=True)\n",
    "\n",
    "ci_df"
   ]
  },
  {
   "cell_type": "code",
   "execution_count": null,
   "metadata": {},
   "outputs": [],
   "source": []
  }
 ]
}
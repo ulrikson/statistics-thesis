{
 "metadata": {
  "language_info": {
   "codemirror_mode": {
    "name": "ipython",
    "version": 3
   },
   "file_extension": ".py",
   "mimetype": "text/x-python",
   "name": "python",
   "nbconvert_exporter": "python",
   "pygments_lexer": "ipython3",
   "version": "3.8.8-final"
  },
  "orig_nbformat": 2,
  "kernelspec": {
   "name": "python388jvsc74a57bd03c80b69efc6c35edf58052dd52e794939bcc5e24ed141d0f365672b2a75355b3",
   "display_name": "Python 3.8.8 64-bit ('venv')"
  }
 },
 "nbformat": 4,
 "nbformat_minor": 2,
 "cells": [
  {
   "cell_type": "code",
   "execution_count": 2,
   "metadata": {},
   "outputs": [],
   "source": [
    "import pandas as pd\n",
    "import numpy as np\n",
    "from datetime import datetime, timedelta, date\n",
    "\n",
    "import math\n",
    "import matplotlib.pyplot as plt"
   ]
  },
  {
   "cell_type": "code",
   "execution_count": 25,
   "metadata": {},
   "outputs": [
    {
     "output_type": "execute_result",
     "data": {
      "text/plain": [
       "              Exchange.Date       Close  logreturns    forecast       lower  \\\n",
       "Exchange.Date                                                                 \n",
       "2003-01-01       2003-01-01  100.000000    0.000000  100.000000  100.000000   \n",
       "2003-01-04       2003-01-04  100.995362    0.009904  100.995362  100.995362   \n",
       "2003-01-05       2003-01-05  101.623083    0.006196  101.623083  101.623083   \n",
       "2003-01-08       2003-01-08  101.623083    0.000000  101.623083  101.623083   \n",
       "2003-01-09       2003-01-09  102.392342    0.007541  102.392342  102.392342   \n",
       "\n",
       "                    upper  \n",
       "Exchange.Date              \n",
       "2003-01-01     100.000000  \n",
       "2003-01-04     100.995362  \n",
       "2003-01-05     101.623083  \n",
       "2003-01-08     101.623083  \n",
       "2003-01-09     102.392342  "
      ],
      "text/html": "<div>\n<style scoped>\n    .dataframe tbody tr th:only-of-type {\n        vertical-align: middle;\n    }\n\n    .dataframe tbody tr th {\n        vertical-align: top;\n    }\n\n    .dataframe thead th {\n        text-align: right;\n    }\n</style>\n<table border=\"1\" class=\"dataframe\">\n  <thead>\n    <tr style=\"text-align: right;\">\n      <th></th>\n      <th>Exchange.Date</th>\n      <th>Close</th>\n      <th>logreturns</th>\n      <th>forecast</th>\n      <th>lower</th>\n      <th>upper</th>\n    </tr>\n    <tr>\n      <th>Exchange.Date</th>\n      <th></th>\n      <th></th>\n      <th></th>\n      <th></th>\n      <th></th>\n      <th></th>\n    </tr>\n  </thead>\n  <tbody>\n    <tr>\n      <th>2003-01-01</th>\n      <td>2003-01-01</td>\n      <td>100.000000</td>\n      <td>0.000000</td>\n      <td>100.000000</td>\n      <td>100.000000</td>\n      <td>100.000000</td>\n    </tr>\n    <tr>\n      <th>2003-01-04</th>\n      <td>2003-01-04</td>\n      <td>100.995362</td>\n      <td>0.009904</td>\n      <td>100.995362</td>\n      <td>100.995362</td>\n      <td>100.995362</td>\n    </tr>\n    <tr>\n      <th>2003-01-05</th>\n      <td>2003-01-05</td>\n      <td>101.623083</td>\n      <td>0.006196</td>\n      <td>101.623083</td>\n      <td>101.623083</td>\n      <td>101.623083</td>\n    </tr>\n    <tr>\n      <th>2003-01-08</th>\n      <td>2003-01-08</td>\n      <td>101.623083</td>\n      <td>0.000000</td>\n      <td>101.623083</td>\n      <td>101.623083</td>\n      <td>101.623083</td>\n    </tr>\n    <tr>\n      <th>2003-01-09</th>\n      <td>2003-01-09</td>\n      <td>102.392342</td>\n      <td>0.007541</td>\n      <td>102.392342</td>\n      <td>102.392342</td>\n      <td>102.392342</td>\n    </tr>\n  </tbody>\n</table>\n</div>"
     },
     "metadata": {},
     "execution_count": 25
    }
   ],
   "source": [
    "merged_df = pd.read_csv('data/r_results.csv')\n",
    "n_seq = 63\n",
    "\n",
    "merged_df['Exchange.Date'] = merged_df['Exchange.Date'].apply(lambda x: date(1900, 1, 1) + timedelta(int(x)))\n",
    "merged_df.index = merged_df['Exchange.Date']\n",
    "\n",
    "merged_df.head()"
   ]
  },
  {
   "cell_type": "code",
   "execution_count": 26,
   "metadata": {},
   "outputs": [
    {
     "output_type": "execute_result",
     "data": {
      "text/plain": [
       "              Exchange.Date   Close  logreturns    forecast       lower  \\\n",
       "Exchange.Date                                                             \n",
       "2016-10-22       2016-10-22  671.89    0.005567  657.637739  255.792032   \n",
       "2016-10-23       2016-10-23  671.08   -0.001206  658.205370  251.688108   \n",
       "2016-10-26       2016-10-26  668.82   -0.003373  658.773490  247.648335   \n",
       "2016-10-27       2016-10-27  668.02   -0.001197  659.342101  243.671832   \n",
       "2016-10-28       2016-10-28  663.33   -0.007046  659.911202  239.757723   \n",
       "\n",
       "                     upper      error  abs_error  actual_up  forecast_up  \\\n",
       "Exchange.Date                                                              \n",
       "2016-10-22     1690.777438 -14.252261  14.252261       True         True   \n",
       "2016-10-23     1721.314181 -12.874630  12.874630      False         True   \n",
       "2016-10-26     1752.414414 -10.046510  10.046510      False         True   \n",
       "2016-10-27     1784.088057  -8.677899   8.677899      False         True   \n",
       "2016-10-28     1816.345223  -3.418798   3.418798      False         True   \n",
       "\n",
       "              confusion  \n",
       "Exchange.Date            \n",
       "2016-10-22           TP  \n",
       "2016-10-23           FP  \n",
       "2016-10-26           FP  \n",
       "2016-10-27           FP  \n",
       "2016-10-28           FP  "
      ],
      "text/html": "<div>\n<style scoped>\n    .dataframe tbody tr th:only-of-type {\n        vertical-align: middle;\n    }\n\n    .dataframe tbody tr th {\n        vertical-align: top;\n    }\n\n    .dataframe thead th {\n        text-align: right;\n    }\n</style>\n<table border=\"1\" class=\"dataframe\">\n  <thead>\n    <tr style=\"text-align: right;\">\n      <th></th>\n      <th>Exchange.Date</th>\n      <th>Close</th>\n      <th>logreturns</th>\n      <th>forecast</th>\n      <th>lower</th>\n      <th>upper</th>\n      <th>error</th>\n      <th>abs_error</th>\n      <th>actual_up</th>\n      <th>forecast_up</th>\n      <th>confusion</th>\n    </tr>\n    <tr>\n      <th>Exchange.Date</th>\n      <th></th>\n      <th></th>\n      <th></th>\n      <th></th>\n      <th></th>\n      <th></th>\n      <th></th>\n      <th></th>\n      <th></th>\n      <th></th>\n      <th></th>\n    </tr>\n  </thead>\n  <tbody>\n    <tr>\n      <th>2016-10-22</th>\n      <td>2016-10-22</td>\n      <td>671.89</td>\n      <td>0.005567</td>\n      <td>657.637739</td>\n      <td>255.792032</td>\n      <td>1690.777438</td>\n      <td>-14.252261</td>\n      <td>14.252261</td>\n      <td>True</td>\n      <td>True</td>\n      <td>TP</td>\n    </tr>\n    <tr>\n      <th>2016-10-23</th>\n      <td>2016-10-23</td>\n      <td>671.08</td>\n      <td>-0.001206</td>\n      <td>658.205370</td>\n      <td>251.688108</td>\n      <td>1721.314181</td>\n      <td>-12.874630</td>\n      <td>12.874630</td>\n      <td>False</td>\n      <td>True</td>\n      <td>FP</td>\n    </tr>\n    <tr>\n      <th>2016-10-26</th>\n      <td>2016-10-26</td>\n      <td>668.82</td>\n      <td>-0.003373</td>\n      <td>658.773490</td>\n      <td>247.648335</td>\n      <td>1752.414414</td>\n      <td>-10.046510</td>\n      <td>10.046510</td>\n      <td>False</td>\n      <td>True</td>\n      <td>FP</td>\n    </tr>\n    <tr>\n      <th>2016-10-27</th>\n      <td>2016-10-27</td>\n      <td>668.02</td>\n      <td>-0.001197</td>\n      <td>659.342101</td>\n      <td>243.671832</td>\n      <td>1784.088057</td>\n      <td>-8.677899</td>\n      <td>8.677899</td>\n      <td>False</td>\n      <td>True</td>\n      <td>FP</td>\n    </tr>\n    <tr>\n      <th>2016-10-28</th>\n      <td>2016-10-28</td>\n      <td>663.33</td>\n      <td>-0.007046</td>\n      <td>659.911202</td>\n      <td>239.757723</td>\n      <td>1816.345223</td>\n      <td>-3.418798</td>\n      <td>3.418798</td>\n      <td>False</td>\n      <td>True</td>\n      <td>FP</td>\n    </tr>\n  </tbody>\n</table>\n</div>"
     },
     "metadata": {},
     "execution_count": 26
    }
   ],
   "source": [
    "merged_df['error'] = merged_df['forecast'] - merged_df['Close']\n",
    "merged_df['abs_error'] = np.abs(merged_df['forecast'] - merged_df['Close'])\n",
    "\n",
    "merged_df['actual_up'] = merged_df['Close'].diff(1) > 0\n",
    "merged_df['forecast_up'] = merged_df['forecast'].diff(1) > 0\n",
    "\n",
    "def confusion(actual, forecast):\n",
    "    if (actual and forecast):\n",
    "        return 'TP'\n",
    "    \n",
    "    if (actual and not forecast):\n",
    "        return 'FN'\n",
    "    \n",
    "    if (not actual and forecast):\n",
    "        return 'FP'\n",
    "    \n",
    "    if (not actual and not forecast):\n",
    "        return 'TN'\n",
    "    \n",
    "    return False\n",
    "\n",
    "merged_df['confusion'] = merged_df.apply(lambda x: confusion(x['actual_up'], x['forecast_up']), axis=1)\n",
    "\n",
    "merged_df.tail()"
   ]
  },
  {
   "source": [
    "# Evaluating at t = 1"
   ],
   "cell_type": "markdown",
   "metadata": {}
  },
  {
   "cell_type": "code",
   "execution_count": 27,
   "metadata": {},
   "outputs": [],
   "source": [
    "# New dataframe that only contains the number of periods to evaluate (1,3,5,21,63)\n",
    "def new_df(n_periods):\n",
    "    start = -n_seq\n",
    "    end = -n_seq + n_periods if n_periods != 63 else None\n",
    "    df = merged_df[start : end]\n",
    "    return df"
   ]
  },
  {
   "cell_type": "code",
   "execution_count": 34,
   "metadata": {},
   "outputs": [
    {
     "output_type": "stream",
     "name": "stdout",
     "text": [
      "              Exchange.Date   Close  logreturns    forecast       lower  \\\nExchange.Date                                                             \n2016-08-03       2016-08-03  622.77    0.002234  622.745083  614.850489   \n\n                    upper     error  abs_error  actual_up  forecast_up  \\\nExchange.Date                                                            \n2016-08-03     630.741043 -0.024917   0.024917       True         True   \n\n              confusion  \nExchange.Date            \n2016-08-03           TP  \n1, RMSE: 0.025, MAPE: 0.004%\n"
     ]
    }
   ],
   "source": [
    "# Calculating RMSE and MAE\n",
    "def evaluate(n_periods):\n",
    "    df = new_df(n_periods)\n",
    "    print(df.head(1))\n",
    "\n",
    "    mape = ((df['abs_error'] / df['Close']).sum() / n_periods) * 100\n",
    "    rmse = math.sqrt(pow(df['error'].sum(), 2) / n_periods)\n",
    "    print(f\"{n_periods}, RMSE: {round(rmse, 3)}, MAPE: {round(mape, 3)}%\")\n",
    "\n",
    "evaluate(1) # 1 day\n",
    "evaluate(3) # half a week\n",
    "evaluate(5) # week\n",
    "evaluate(21) # month\n",
    "evaluate(63) # quarter"
   ]
  },
  {
   "cell_type": "code",
   "execution_count": 52,
   "metadata": {},
   "outputs": [
    {
     "output_type": "stream",
     "name": "stdout",
     "text": [
      "    P  N\nP  13  0\nN   8  0\nprecision: 61%, recall: 100%, f-score: 0.765\n"
     ]
    }
   ],
   "source": [
    "# Creating confusion matrix\n",
    "def confusion_matrix(df):\n",
    "    conf = pd.DataFrame(columns=['P', 'N'], index=['P', 'N'])\n",
    "    conf.loc['P', 'P'] = len(df[df['confusion'] == 'TP'])\n",
    "    conf.loc['P', 'N'] = len(df[df['confusion'] == 'FN'])\n",
    "    conf.loc['N', 'P'] = len(df[df['confusion'] == 'FP'])\n",
    "    conf.loc['N', 'N'] = len(df[df['confusion'] == 'TN'])\n",
    "    return conf\n",
    "\n",
    "confusion = confusion_matrix(new_df(21))\n",
    "precision = confusion.iloc[0, 0] / (confusion.iloc[0,0] + confusion.iloc[1,0])\n",
    "recall = confusion.iloc[0, 0] / (confusion.iloc[0,0] + confusion.iloc[0,1])\n",
    "f_score = 2*precision*recall/(precision+recall)\n",
    "\n",
    "print(confusion)\n",
    "print(f'precision: {int(precision*100)}%, recall: {int(recall*100)}%, f-score: {round(f_score, 3)}')"
   ]
  },
  {
   "source": [
    "# Plotting"
   ],
   "cell_type": "markdown",
   "metadata": {}
  },
  {
   "cell_type": "code",
   "execution_count": null,
   "metadata": {},
   "outputs": [],
   "source": [
    "# Without confidence intercal\n",
    "plot_df = merged_df[-n_seq - n_seq*2 :]\n",
    "plt.figure(figsize=(12, 6))\n",
    "plt.plot(plot_df['forecast'], label=\"forecast\")\n",
    "plt.plot(plot_df['Close'], label=\"actual\")\n",
    "plt.legend()"
   ]
  },
  {
   "cell_type": "code",
   "execution_count": null,
   "metadata": {},
   "outputs": [],
   "source": [
    "# With confidence interval\n",
    "\n",
    "# plot_df = merged_df[-n_seq - (n_seq * 2):]\n",
    "plot_df = merged_df\n",
    "\n",
    "x = plot_df.index\n",
    "y = plot_df['forecast']\n",
    "\n",
    "plt.figure(figsize=(12, 10))\n",
    "plt.plot(x,y)\n",
    "plt.fill_between(x, plot_df['lower'], plot_df['upper'], color='blue', alpha=0.1)\n",
    "plt.plot(plot_df['Close'][:-n_seq], label=\"actual\")\n",
    "plt.ylim(90, 800)"
   ]
  },
  {
   "source": [
    "# Cross-validation"
   ],
   "cell_type": "markdown",
   "metadata": {}
  },
  {
   "cell_type": "code",
   "execution_count": 39,
   "metadata": {},
   "outputs": [
    {
     "output_type": "execute_result",
     "data": {
      "text/plain": [
       "   time   Close  forecast   lower   upper  error  abs_error  actual_up  \\\n",
       "0     0  621.38    621.38  621.38  621.38    0.0        0.0      False   \n",
       "\n",
       "   forecast_up confusion  \n",
       "0        False        TN  "
      ],
      "text/html": "<div>\n<style scoped>\n    .dataframe tbody tr th:only-of-type {\n        vertical-align: middle;\n    }\n\n    .dataframe tbody tr th {\n        vertical-align: top;\n    }\n\n    .dataframe thead th {\n        text-align: right;\n    }\n</style>\n<table border=\"1\" class=\"dataframe\">\n  <thead>\n    <tr style=\"text-align: right;\">\n      <th></th>\n      <th>time</th>\n      <th>Close</th>\n      <th>forecast</th>\n      <th>lower</th>\n      <th>upper</th>\n      <th>error</th>\n      <th>abs_error</th>\n      <th>actual_up</th>\n      <th>forecast_up</th>\n      <th>confusion</th>\n    </tr>\n  </thead>\n  <tbody>\n    <tr>\n      <th>0</th>\n      <td>0</td>\n      <td>621.38</td>\n      <td>621.38</td>\n      <td>621.38</td>\n      <td>621.38</td>\n      <td>0.0</td>\n      <td>0.0</td>\n      <td>False</td>\n      <td>False</td>\n      <td>TN</td>\n    </tr>\n  </tbody>\n</table>\n</div>"
     },
     "metadata": {},
     "execution_count": 39
    }
   ],
   "source": [
    "# Creating dataframe columns (error, absolute error, actual_up, forecast_up och confusion (TP, FP, TN, FN))\n",
    "\n",
    "r_cross_df = pd.read_csv('data/r_cross_val.csv')\n",
    "\n",
    "# adding first row of data based on last row of test data\n",
    "new_data = []\n",
    "new_data.insert(0, {'time':0, 'Close': 621.38, 'forecast': 621.38, 'lower': 621.38, 'upper': 621.38})\n",
    "r_cross_df = pd.concat([pd.DataFrame(new_data), r_cross_df], ignore_index=True)\n",
    "\n",
    "# creating error and up columns \n",
    "r_cross_df['error'] = r_cross_df['forecast'] - r_cross_df['Close']\n",
    "r_cross_df['abs_error'] = np.abs(r_cross_df['forecast'] - r_cross_df['Close'])\n",
    "r_cross_df['actual_up'] = r_cross_df['Close'].diff(1) > 0\n",
    "r_cross_df['forecast_up'] = r_cross_df['forecast'].diff(1) > 0\n",
    "\n",
    "def confusion(actual, forecast):\n",
    "    if (actual and forecast):\n",
    "        return 'TP'\n",
    "    \n",
    "    if (actual and not forecast):\n",
    "        return 'FN'\n",
    "    \n",
    "    if (not actual and forecast):\n",
    "        return 'FP'\n",
    "    \n",
    "    if (not actual and not forecast):\n",
    "        return 'TN'\n",
    "    \n",
    "    return False\n",
    "\n",
    "r_cross_df['confusion'] = r_cross_df.apply(lambda x: confusion(x['actual_up'], x['forecast_up']), axis=1)\n",
    "\n",
    "r_cross_df.head(1)"
   ]
  },
  {
   "cell_type": "code",
   "execution_count": 71,
   "metadata": {},
   "outputs": [
    {
     "output_type": "execute_result",
     "data": {
      "text/plain": [
       "     mape_1    mape_3    mape_5   mape_21   mape_63    rmse_1    rmse_3  \\\n",
       "0  0.004001  0.705933  0.712958  0.541432  1.063077  0.024917  7.524653   \n",
       "\n",
       "     rmse_5   rmse_21    rmse_63  ...  recall_1  recall_3  recall_5  \\\n",
       "0  9.852218  2.323509  43.548246  ...       1.0       1.0       1.0   \n",
       "\n",
       "   recall_21  recall_63  fscore_1  fscore_3  fscore_5  fscore_21  fscore_63  \n",
       "0        1.0        1.0       1.0       0.5      0.75   0.764706       0.74  \n",
       "\n",
       "[1 rows x 25 columns]"
      ],
      "text/html": "<div>\n<style scoped>\n    .dataframe tbody tr th:only-of-type {\n        vertical-align: middle;\n    }\n\n    .dataframe tbody tr th {\n        vertical-align: top;\n    }\n\n    .dataframe thead th {\n        text-align: right;\n    }\n</style>\n<table border=\"1\" class=\"dataframe\">\n  <thead>\n    <tr style=\"text-align: right;\">\n      <th></th>\n      <th>mape_1</th>\n      <th>mape_3</th>\n      <th>mape_5</th>\n      <th>mape_21</th>\n      <th>mape_63</th>\n      <th>rmse_1</th>\n      <th>rmse_3</th>\n      <th>rmse_5</th>\n      <th>rmse_21</th>\n      <th>rmse_63</th>\n      <th>...</th>\n      <th>recall_1</th>\n      <th>recall_3</th>\n      <th>recall_5</th>\n      <th>recall_21</th>\n      <th>recall_63</th>\n      <th>fscore_1</th>\n      <th>fscore_3</th>\n      <th>fscore_5</th>\n      <th>fscore_21</th>\n      <th>fscore_63</th>\n    </tr>\n  </thead>\n  <tbody>\n    <tr>\n      <th>0</th>\n      <td>0.004001</td>\n      <td>0.705933</td>\n      <td>0.712958</td>\n      <td>0.541432</td>\n      <td>1.063077</td>\n      <td>0.024917</td>\n      <td>7.524653</td>\n      <td>9.852218</td>\n      <td>2.323509</td>\n      <td>43.548246</td>\n      <td>...</td>\n      <td>1.0</td>\n      <td>1.0</td>\n      <td>1.0</td>\n      <td>1.0</td>\n      <td>1.0</td>\n      <td>1.0</td>\n      <td>0.5</td>\n      <td>0.75</td>\n      <td>0.764706</td>\n      <td>0.74</td>\n    </tr>\n  </tbody>\n</table>\n<p>1 rows × 25 columns</p>\n</div>"
     },
     "metadata": {},
     "execution_count": 71
    }
   ],
   "source": [
    "def cross_evaluate(df, n_periods):\n",
    "    df = df[-63:-63+n_periods] if n_periods < 63 else df.tail(63)\n",
    "    mape = ((df[\"abs_error\"] / df[\"Close\"]).sum() / n_periods) * 100\n",
    "    rmse = math.sqrt(pow(df[\"error\"].sum(), 2) / n_periods)\n",
    "\n",
    "    tp = len(df[df['confusion'] == 'TP'])\n",
    "    fp = len(df[df['confusion'] == 'FP'])\n",
    "    fn = len(df[df['confusion'] == 'FN'])\n",
    "\n",
    "    precision = tp / (tp + fp) if (tp + fp) > 0 else 0 # if else för att undvika division by zero errror\n",
    "    recall = tp / (tp + fn) if (tp + fn > 0) else 0\n",
    "    fscore = (2*precision*recall)/(precision+recall) if (precision + recall > 0) else 0\n",
    "\n",
    "    return mape, rmse, precision, recall, fscore\n",
    "\n",
    "cross_df = pd.DataFrame(columns=[\n",
    "    \"mape_1\", \n",
    "    \"mape_3\",\n",
    "    \"mape_5\",\n",
    "    \"mape_21\",\n",
    "    \"mape_63\",\n",
    "    \"rmse_1\",\n",
    "    \"rmse_3\",\n",
    "    \"rmse_5\",\n",
    "    \"rmse_21\",\n",
    "    \"rmse_63\",\n",
    "    'precision_1',\n",
    "    'precision_3',\n",
    "    'precision_5',\n",
    "    'precision_21',\n",
    "    'precision_63',\n",
    "    'recall_1',\n",
    "    'recall_3',\n",
    "    'recall_5',\n",
    "    'recall_21',\n",
    "    'recall_63',\n",
    "    'fscore_1',\n",
    "    'fscore_3',\n",
    "    'fscore_5',\n",
    "    'fscore_21',\n",
    "    'fscore_63',\n",
    "])\n",
    "\n",
    "len_forecasts = 1000\n",
    "for i in range(len_forecasts):\n",
    "    cross_merged_df = r_cross_df[i+1 : i+63+1] # to avoid first row 1 is added\n",
    "    one = cross_evaluate(cross_merged_df, 1)\n",
    "    three = cross_evaluate(cross_merged_df, 3)\n",
    "    five = cross_evaluate(cross_merged_df, 5)\n",
    "    twentyone = cross_evaluate(cross_merged_df, 21)\n",
    "    sixtythree = cross_evaluate(cross_merged_df, 63)\n",
    "\n",
    "    cross_df = cross_df.append({\n",
    "        'mape_1': one[0],\n",
    "        'mape_3': three[0],\n",
    "        'mape_5': five[0],\n",
    "        'mape_21': twentyone[0],\n",
    "        'mape_63': sixtythree[0],\n",
    "        'rmse_1': one[1],\n",
    "        'rmse_3': three[1],\n",
    "        'rmse_5': five[1],\n",
    "        'rmse_21': twentyone[1],\n",
    "        'rmse_63': sixtythree[1],\n",
    "        'precision_1': one[2],\n",
    "        'precision_3': three[2],\n",
    "        'precision_5': five[2],\n",
    "        'precision_21': twentyone[2],\n",
    "        'precision_63': sixtythree[2],\n",
    "        'recall_1': one[3],\n",
    "        'recall_3': three[3],\n",
    "        'recall_5': five[3],\n",
    "        'recall_21': twentyone[3],\n",
    "        'recall_63': sixtythree[3],\n",
    "        'fscore_1': one[4],\n",
    "        'fscore_3': three[4],\n",
    "        'fscore_5': five[4],\n",
    "        'fscore_21': twentyone[4],\n",
    "        'fscore_63': sixtythree[4],\n",
    "    }, ignore_index=True)\n",
    "\n",
    "cross_df.head(1) # notera hur raden här är identisk med resultatet när vi inte körde korsvalidering"
   ]
  },
  {
   "cell_type": "code",
   "execution_count": 72,
   "metadata": {},
   "outputs": [
    {
     "output_type": "execute_result",
     "data": {
      "text/plain": [
       "       precision_1  precision_3  precision_5  precision_21  precision_63  \\\n",
       "count  1000.000000  1000.000000  1000.000000   1000.000000   1000.000000   \n",
       "mean      0.563000     0.569833     0.569500      0.567693      0.569007   \n",
       "std       0.496263     0.306632     0.234211      0.128532      0.025059   \n",
       "min       0.000000     0.000000     0.000000      0.250000      0.532258   \n",
       "25%       0.000000     0.333333     0.400000      0.476190      0.548387   \n",
       "50%       1.000000     0.666667     0.600000      0.600000      0.564516   \n",
       "75%       1.000000     0.666667     0.800000      0.666667      0.596774   \n",
       "max       1.000000     1.000000     1.000000      0.761905      0.612903   \n",
       "\n",
       "          recall_1     recall_3     recall_5  recall_21  recall_63  \\\n",
       "count  1000.000000  1000.000000  1000.000000     1000.0     1000.0   \n",
       "mean      0.563000     0.910000     0.992000        1.0        1.0   \n",
       "std       0.496263     0.286325     0.089129        0.0        0.0   \n",
       "min       0.000000     0.000000     0.000000        1.0        1.0   \n",
       "25%       0.000000     1.000000     1.000000        1.0        1.0   \n",
       "50%       1.000000     1.000000     1.000000        1.0        1.0   \n",
       "75%       1.000000     1.000000     1.000000        1.0        1.0   \n",
       "max       1.000000     1.000000     1.000000        1.0        1.0   \n",
       "\n",
       "          fscore_1     fscore_3     fscore_5    fscore_21    fscore_63  \n",
       "count  1000.000000  1000.000000  1000.000000  1000.000000  1000.000000  \n",
       "mean      0.563000     0.671967     0.695288     0.715262     0.724984  \n",
       "std       0.496263     0.284387     0.207152     0.110059     0.020339  \n",
       "min       0.000000     0.000000     0.000000     0.400000     0.694737  \n",
       "25%       0.000000     0.500000     0.571429     0.645161     0.708333  \n",
       "50%       1.000000     0.800000     0.750000     0.750000     0.721649  \n",
       "75%       1.000000     0.800000     0.888889     0.800000     0.747475  \n",
       "max       1.000000     1.000000     1.000000     0.864865     0.760000  "
      ],
      "text/html": "<div>\n<style scoped>\n    .dataframe tbody tr th:only-of-type {\n        vertical-align: middle;\n    }\n\n    .dataframe tbody tr th {\n        vertical-align: top;\n    }\n\n    .dataframe thead th {\n        text-align: right;\n    }\n</style>\n<table border=\"1\" class=\"dataframe\">\n  <thead>\n    <tr style=\"text-align: right;\">\n      <th></th>\n      <th>precision_1</th>\n      <th>precision_3</th>\n      <th>precision_5</th>\n      <th>precision_21</th>\n      <th>precision_63</th>\n      <th>recall_1</th>\n      <th>recall_3</th>\n      <th>recall_5</th>\n      <th>recall_21</th>\n      <th>recall_63</th>\n      <th>fscore_1</th>\n      <th>fscore_3</th>\n      <th>fscore_5</th>\n      <th>fscore_21</th>\n      <th>fscore_63</th>\n    </tr>\n  </thead>\n  <tbody>\n    <tr>\n      <th>count</th>\n      <td>1000.000000</td>\n      <td>1000.000000</td>\n      <td>1000.000000</td>\n      <td>1000.000000</td>\n      <td>1000.000000</td>\n      <td>1000.000000</td>\n      <td>1000.000000</td>\n      <td>1000.000000</td>\n      <td>1000.0</td>\n      <td>1000.0</td>\n      <td>1000.000000</td>\n      <td>1000.000000</td>\n      <td>1000.000000</td>\n      <td>1000.000000</td>\n      <td>1000.000000</td>\n    </tr>\n    <tr>\n      <th>mean</th>\n      <td>0.563000</td>\n      <td>0.569833</td>\n      <td>0.569500</td>\n      <td>0.567693</td>\n      <td>0.569007</td>\n      <td>0.563000</td>\n      <td>0.910000</td>\n      <td>0.992000</td>\n      <td>1.0</td>\n      <td>1.0</td>\n      <td>0.563000</td>\n      <td>0.671967</td>\n      <td>0.695288</td>\n      <td>0.715262</td>\n      <td>0.724984</td>\n    </tr>\n    <tr>\n      <th>std</th>\n      <td>0.496263</td>\n      <td>0.306632</td>\n      <td>0.234211</td>\n      <td>0.128532</td>\n      <td>0.025059</td>\n      <td>0.496263</td>\n      <td>0.286325</td>\n      <td>0.089129</td>\n      <td>0.0</td>\n      <td>0.0</td>\n      <td>0.496263</td>\n      <td>0.284387</td>\n      <td>0.207152</td>\n      <td>0.110059</td>\n      <td>0.020339</td>\n    </tr>\n    <tr>\n      <th>min</th>\n      <td>0.000000</td>\n      <td>0.000000</td>\n      <td>0.000000</td>\n      <td>0.250000</td>\n      <td>0.532258</td>\n      <td>0.000000</td>\n      <td>0.000000</td>\n      <td>0.000000</td>\n      <td>1.0</td>\n      <td>1.0</td>\n      <td>0.000000</td>\n      <td>0.000000</td>\n      <td>0.000000</td>\n      <td>0.400000</td>\n      <td>0.694737</td>\n    </tr>\n    <tr>\n      <th>25%</th>\n      <td>0.000000</td>\n      <td>0.333333</td>\n      <td>0.400000</td>\n      <td>0.476190</td>\n      <td>0.548387</td>\n      <td>0.000000</td>\n      <td>1.000000</td>\n      <td>1.000000</td>\n      <td>1.0</td>\n      <td>1.0</td>\n      <td>0.000000</td>\n      <td>0.500000</td>\n      <td>0.571429</td>\n      <td>0.645161</td>\n      <td>0.708333</td>\n    </tr>\n    <tr>\n      <th>50%</th>\n      <td>1.000000</td>\n      <td>0.666667</td>\n      <td>0.600000</td>\n      <td>0.600000</td>\n      <td>0.564516</td>\n      <td>1.000000</td>\n      <td>1.000000</td>\n      <td>1.000000</td>\n      <td>1.0</td>\n      <td>1.0</td>\n      <td>1.000000</td>\n      <td>0.800000</td>\n      <td>0.750000</td>\n      <td>0.750000</td>\n      <td>0.721649</td>\n    </tr>\n    <tr>\n      <th>75%</th>\n      <td>1.000000</td>\n      <td>0.666667</td>\n      <td>0.800000</td>\n      <td>0.666667</td>\n      <td>0.596774</td>\n      <td>1.000000</td>\n      <td>1.000000</td>\n      <td>1.000000</td>\n      <td>1.0</td>\n      <td>1.0</td>\n      <td>1.000000</td>\n      <td>0.800000</td>\n      <td>0.888889</td>\n      <td>0.800000</td>\n      <td>0.747475</td>\n    </tr>\n    <tr>\n      <th>max</th>\n      <td>1.000000</td>\n      <td>1.000000</td>\n      <td>1.000000</td>\n      <td>0.761905</td>\n      <td>0.612903</td>\n      <td>1.000000</td>\n      <td>1.000000</td>\n      <td>1.000000</td>\n      <td>1.0</td>\n      <td>1.0</td>\n      <td>1.000000</td>\n      <td>1.000000</td>\n      <td>1.000000</td>\n      <td>0.864865</td>\n      <td>0.760000</td>\n    </tr>\n  </tbody>\n</table>\n</div>"
     },
     "metadata": {},
     "execution_count": 72
    }
   ],
   "source": [
    "cross_df.iloc[:,10:].describe()"
   ]
  },
  {
   "cell_type": "code",
   "execution_count": 74,
   "metadata": {},
   "outputs": [
    {
     "output_type": "execute_result",
     "data": {
      "text/plain": [
       "         measure       mean      lower      upper\n",
       "0         mape_1   1.567065   1.497895   1.636234\n",
       "1         mape_3   1.567610   1.502146   1.633073\n",
       "2         mape_5   1.568478   1.506176   1.630780\n",
       "3        mape_21   1.574839   1.526600   1.623077\n",
       "4        mape_63   1.577985   1.546782   1.609188\n",
       "5         rmse_1  10.306489   9.841756  10.771221\n",
       "6         rmse_3  17.489946  16.703597  18.276296\n",
       "7         rmse_5  22.238871  21.249562  23.228179\n",
       "8        rmse_21  44.151222  42.468187  45.834257\n",
       "9        rmse_63  74.172557  71.987043  76.358071\n",
       "10   precision_1   0.563000   0.532241   0.593759\n",
       "11   precision_3   0.569833   0.550828   0.588839\n",
       "12   precision_5   0.569500   0.554983   0.584017\n",
       "13  precision_21   0.567693   0.559726   0.575659\n",
       "14  precision_63   0.569007   0.567453   0.570560\n",
       "15      recall_1   0.563000   0.532241   0.593759\n",
       "16      recall_3   0.910000   0.892253   0.927747\n",
       "17      recall_5   0.992000   0.986476   0.997524\n",
       "18     recall_21   1.000000   1.000000   1.000000\n",
       "19     recall_63   1.000000   1.000000   1.000000\n",
       "20      fscore_1   0.563000   0.532241   0.593759\n",
       "21      fscore_3   0.671967   0.654340   0.689593\n",
       "22      fscore_5   0.695288   0.682449   0.708127\n",
       "23     fscore_21   0.715262   0.708440   0.722084\n",
       "24     fscore_63   0.724984   0.723723   0.726244"
      ],
      "text/html": "<div>\n<style scoped>\n    .dataframe tbody tr th:only-of-type {\n        vertical-align: middle;\n    }\n\n    .dataframe tbody tr th {\n        vertical-align: top;\n    }\n\n    .dataframe thead th {\n        text-align: right;\n    }\n</style>\n<table border=\"1\" class=\"dataframe\">\n  <thead>\n    <tr style=\"text-align: right;\">\n      <th></th>\n      <th>measure</th>\n      <th>mean</th>\n      <th>lower</th>\n      <th>upper</th>\n    </tr>\n  </thead>\n  <tbody>\n    <tr>\n      <th>0</th>\n      <td>mape_1</td>\n      <td>1.567065</td>\n      <td>1.497895</td>\n      <td>1.636234</td>\n    </tr>\n    <tr>\n      <th>1</th>\n      <td>mape_3</td>\n      <td>1.567610</td>\n      <td>1.502146</td>\n      <td>1.633073</td>\n    </tr>\n    <tr>\n      <th>2</th>\n      <td>mape_5</td>\n      <td>1.568478</td>\n      <td>1.506176</td>\n      <td>1.630780</td>\n    </tr>\n    <tr>\n      <th>3</th>\n      <td>mape_21</td>\n      <td>1.574839</td>\n      <td>1.526600</td>\n      <td>1.623077</td>\n    </tr>\n    <tr>\n      <th>4</th>\n      <td>mape_63</td>\n      <td>1.577985</td>\n      <td>1.546782</td>\n      <td>1.609188</td>\n    </tr>\n    <tr>\n      <th>5</th>\n      <td>rmse_1</td>\n      <td>10.306489</td>\n      <td>9.841756</td>\n      <td>10.771221</td>\n    </tr>\n    <tr>\n      <th>6</th>\n      <td>rmse_3</td>\n      <td>17.489946</td>\n      <td>16.703597</td>\n      <td>18.276296</td>\n    </tr>\n    <tr>\n      <th>7</th>\n      <td>rmse_5</td>\n      <td>22.238871</td>\n      <td>21.249562</td>\n      <td>23.228179</td>\n    </tr>\n    <tr>\n      <th>8</th>\n      <td>rmse_21</td>\n      <td>44.151222</td>\n      <td>42.468187</td>\n      <td>45.834257</td>\n    </tr>\n    <tr>\n      <th>9</th>\n      <td>rmse_63</td>\n      <td>74.172557</td>\n      <td>71.987043</td>\n      <td>76.358071</td>\n    </tr>\n    <tr>\n      <th>10</th>\n      <td>precision_1</td>\n      <td>0.563000</td>\n      <td>0.532241</td>\n      <td>0.593759</td>\n    </tr>\n    <tr>\n      <th>11</th>\n      <td>precision_3</td>\n      <td>0.569833</td>\n      <td>0.550828</td>\n      <td>0.588839</td>\n    </tr>\n    <tr>\n      <th>12</th>\n      <td>precision_5</td>\n      <td>0.569500</td>\n      <td>0.554983</td>\n      <td>0.584017</td>\n    </tr>\n    <tr>\n      <th>13</th>\n      <td>precision_21</td>\n      <td>0.567693</td>\n      <td>0.559726</td>\n      <td>0.575659</td>\n    </tr>\n    <tr>\n      <th>14</th>\n      <td>precision_63</td>\n      <td>0.569007</td>\n      <td>0.567453</td>\n      <td>0.570560</td>\n    </tr>\n    <tr>\n      <th>15</th>\n      <td>recall_1</td>\n      <td>0.563000</td>\n      <td>0.532241</td>\n      <td>0.593759</td>\n    </tr>\n    <tr>\n      <th>16</th>\n      <td>recall_3</td>\n      <td>0.910000</td>\n      <td>0.892253</td>\n      <td>0.927747</td>\n    </tr>\n    <tr>\n      <th>17</th>\n      <td>recall_5</td>\n      <td>0.992000</td>\n      <td>0.986476</td>\n      <td>0.997524</td>\n    </tr>\n    <tr>\n      <th>18</th>\n      <td>recall_21</td>\n      <td>1.000000</td>\n      <td>1.000000</td>\n      <td>1.000000</td>\n    </tr>\n    <tr>\n      <th>19</th>\n      <td>recall_63</td>\n      <td>1.000000</td>\n      <td>1.000000</td>\n      <td>1.000000</td>\n    </tr>\n    <tr>\n      <th>20</th>\n      <td>fscore_1</td>\n      <td>0.563000</td>\n      <td>0.532241</td>\n      <td>0.593759</td>\n    </tr>\n    <tr>\n      <th>21</th>\n      <td>fscore_3</td>\n      <td>0.671967</td>\n      <td>0.654340</td>\n      <td>0.689593</td>\n    </tr>\n    <tr>\n      <th>22</th>\n      <td>fscore_5</td>\n      <td>0.695288</td>\n      <td>0.682449</td>\n      <td>0.708127</td>\n    </tr>\n    <tr>\n      <th>23</th>\n      <td>fscore_21</td>\n      <td>0.715262</td>\n      <td>0.708440</td>\n      <td>0.722084</td>\n    </tr>\n    <tr>\n      <th>24</th>\n      <td>fscore_63</td>\n      <td>0.724984</td>\n      <td>0.723723</td>\n      <td>0.726244</td>\n    </tr>\n  </tbody>\n</table>\n</div>"
     },
     "metadata": {},
     "execution_count": 74
    }
   ],
   "source": [
    "n = cross_df.count()[0]\n",
    "mean = cross_df.mean()\n",
    "upper = cross_df.mean() + 1.96 * cross_df.std() / math.sqrt(n)\n",
    "lower = cross_df.mean() - 1.96 * cross_df.std() / math.sqrt(n)\n",
    "\n",
    "ci_df = pd.DataFrame(columns=['measure', 'mean', 'lower', 'upper'])\n",
    "\n",
    "for i in range(25):\n",
    "    ci_df = ci_df.append({\n",
    "        'measure': cross_df.columns[i],\n",
    "        'mean': mean[i],\n",
    "        'lower': lower[i],\n",
    "        'upper': upper[i]\n",
    "    }, ignore_index=True)\n",
    "\n",
    "ci_df"
   ]
  },
  {
   "cell_type": "code",
   "execution_count": null,
   "metadata": {},
   "outputs": [],
   "source": []
  }
 ]
}
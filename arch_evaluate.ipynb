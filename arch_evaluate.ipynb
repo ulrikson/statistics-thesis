{
 "metadata": {
  "language_info": {
   "codemirror_mode": {
    "name": "ipython",
    "version": 3
   },
   "file_extension": ".py",
   "mimetype": "text/x-python",
   "name": "python",
   "nbconvert_exporter": "python",
   "pygments_lexer": "ipython3",
   "version": "3.8.8-final"
  },
  "orig_nbformat": 2,
  "kernelspec": {
   "name": "python3",
   "display_name": "Python 3.8.8 64-bit ('venv')",
   "metadata": {
    "interpreter": {
     "hash": "3c80b69efc6c35edf58052dd52e794939bcc5e24ed141d0f365672b2a75355b3"
    }
   }
  }
 },
 "nbformat": 4,
 "nbformat_minor": 2,
 "cells": [
  {
   "cell_type": "code",
   "execution_count": null,
   "metadata": {},
   "outputs": [],
   "source": [
    "import pandas as pd\n",
    "import numpy as np\n",
    "\n",
    "import math\n",
    "import matplotlib.pyplot as plt"
   ]
  },
  {
   "cell_type": "code",
   "execution_count": null,
   "metadata": {},
   "outputs": [],
   "source": [
    "merged_df = pd.read_csv('data/r_results.csv')\n",
    "n_seq = 63"
   ]
  },
  {
   "cell_type": "code",
   "execution_count": null,
   "metadata": {},
   "outputs": [],
   "source": [
    "merged_df['error'] = merged_df['forecast'] - merged_df['Close']\n",
    "merged_df['abs_error'] = np.abs(merged_df['forecast'] - merged_df['Close'])\n",
    "\n",
    "merged_df['actual_up'] = merged_df['Close'].diff(1) > 0\n",
    "merged_df['forecast_up'] = merged_df['forecast'].diff(1) > 0\n",
    "\n",
    "def confusion(actual, forecast):\n",
    "    if (actual and forecast):\n",
    "        return 'TP'\n",
    "    \n",
    "    if (actual and not forecast):\n",
    "        return 'FN'\n",
    "    \n",
    "    if (not actual and forecast):\n",
    "        return 'FP'\n",
    "    \n",
    "    if (not actual and not forecast):\n",
    "        return 'TN'\n",
    "    \n",
    "    return False\n",
    "\n",
    "merged_df['confusion'] = merged_df.apply(lambda x: confusion(x['actual_up'], x['forecast_up']), axis=1)\n",
    "\n",
    "merged_df.tail()"
   ]
  },
  {
   "cell_type": "code",
   "execution_count": null,
   "metadata": {},
   "outputs": [],
   "source": [
    "# New dataframe that only contains the number of periods to evaluate (1,3,5,21,63)\n",
    "def new_df(n_periods):\n",
    "    start = -n_seq\n",
    "    end = -n_seq + n_periods if n_periods != 63 else None\n",
    "    df = merged_df[start : end]\n",
    "    return df"
   ]
  },
  {
   "cell_type": "code",
   "execution_count": null,
   "metadata": {},
   "outputs": [],
   "source": [
    "# Calculating RMSE and MAE\n",
    "def evaluate(n_periods):\n",
    "    df = new_df(n_periods)\n",
    "    mape = ((df['abs_error'] / df['Close']).sum() / n_periods) * 100\n",
    "    rmse = math.sqrt(pow(df['error'].sum(), 2) / n_periods)\n",
    "    print(f\"{n_periods}, RMSE: {round(rmse, 3)}, MAPE: {round(mape, 3)}%\")\n",
    "\n",
    "evaluate(1) # 1 day\n",
    "evaluate(3) # half a week\n",
    "evaluate(5) # week\n",
    "evaluate(21) # month\n",
    "evaluate(63) # quarter"
   ]
  },
  {
   "cell_type": "code",
   "execution_count": null,
   "metadata": {},
   "outputs": [],
   "source": [
    "# Creating confusion matrix\n",
    "def confusion_matrix(df):\n",
    "    conf = pd.DataFrame(columns=['P', 'N'], index=['P', 'N'])\n",
    "    conf.loc['P', 'P'] = len(df[df['confusion'] == 'TP'])\n",
    "    conf.loc['P', 'N'] = len(df[df['confusion'] == 'FN'])\n",
    "    conf.loc['N', 'P'] = len(df[df['confusion'] == 'FP'])\n",
    "    conf.loc['N', 'N'] = len(df[df['confusion'] == 'TN'])\n",
    "    return conf\n",
    "\n",
    "confusion = confusion_matrix(new_df(63))\n",
    "precision = confusion.iloc[0, 0] / (confusion.iloc[0,0] + confusion.iloc[0,1])\n",
    "recall = confusion.iloc[0, 0] / (confusion.iloc[0,0] + confusion.iloc[1,0])\n",
    "f_score = 2*precision*recall/(precision+recall)\n",
    "\n",
    "print(confusion)\n",
    "print(f'precision: {int(precision*100)}%, recall: {int(recall*100)}%, f-score: {round(f_score, 3)}')"
   ]
  },
  {
   "cell_type": "code",
   "execution_count": null,
   "metadata": {},
   "outputs": [],
   "source": [
    "plot_df = merged_df[-n_seq - (n_seq*2) :]\n",
    "plt.figure(figsize=(10, 5))\n",
    "plt.plot(plot_df['forecast'], label=\"forecast\")\n",
    "plt.plot(plot_df['Close'], label=\"actual\")\n",
    "plt.legend()"
   ]
  },
  {
   "cell_type": "code",
   "execution_count": null,
   "metadata": {},
   "outputs": [],
   "source": []
  }
 ]
}
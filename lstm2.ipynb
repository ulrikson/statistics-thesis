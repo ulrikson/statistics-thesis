{
 "metadata": {
  "language_info": {
   "codemirror_mode": {
    "name": "ipython",
    "version": 3
   },
   "file_extension": ".py",
   "mimetype": "text/x-python",
   "name": "python",
   "nbconvert_exporter": "python",
   "pygments_lexer": "ipython3",
   "version": "3.8.8-final"
  },
  "orig_nbformat": 2,
  "kernelspec": {
   "name": "python3",
   "display_name": "Python 3.8.8 64-bit ('venv': venv)",
   "metadata": {
    "interpreter": {
     "hash": "3c80b69efc6c35edf58052dd52e794939bcc5e24ed141d0f365672b2a75355b3"
    }
   }
  }
 },
 "nbformat": 4,
 "nbformat_minor": 2,
 "cells": [
  {
   "cell_type": "code",
   "execution_count": 1,
   "metadata": {},
   "outputs": [],
   "source": [
    "# https://machinelearningmastery.com/multi-step-time-series-forecasting-long-short-term-memory-networks-python/\n",
    "import pandas as pd\n",
    "from datetime import datetime\n",
    "import numpy as np\n",
    "\n",
    "from sklearn.metrics import mean_squared_error\n",
    "from sklearn.preprocessing import MinMaxScaler\n",
    "from keras.models import Sequential\n",
    "from keras.layers import Dense\n",
    "from keras.layers import LSTM\n",
    "\n",
    "import math\n",
    "import matplotlib.pyplot as plt\n",
    "\n",
    "np.random.seed(1337)"
   ]
  },
  {
   "source": [
    "# Creating functions"
   ],
   "cell_type": "markdown",
   "metadata": {}
  },
  {
   "cell_type": "code",
   "execution_count": 2,
   "metadata": {},
   "outputs": [],
   "source": [
    "# transform series into train and test sets for supervised learning\n",
    "def series_to_supervised(data, n_in=1, n_out=1, dropnan=True):\n",
    "    n_vars = 1 if type(data) is list else data.shape[1]\n",
    "    df = pd.DataFrame(data)\n",
    "    cols, names = list(), list()\n",
    "\n",
    "    # input sequence (t-n, ... t-1)\n",
    "    for i in range(n_in, 0, -1):\n",
    "        cols.append(df.shift(i))\n",
    "        names += [('var%d(t-%d)' % (j+1, i)) for j in range(n_vars)]\n",
    "\n",
    "    # forecast sequence (t, t+1, ... t+n)\n",
    "    for i in range(0, n_out):\n",
    "        cols.append(df.shift(-i))\n",
    "        if i == 0:\n",
    "            names += [('var%d(t)' % (j+1)) for j in range(n_vars)]\n",
    "        else:\n",
    "            names += [('var%d(t+%d)' % (j+1, i)) for j in range(n_vars)]\n",
    "\n",
    "    # put it all together\n",
    "    agg = pd.concat(cols, axis=1)\n",
    "    agg.columns = names\n",
    "\n",
    "    # drop rows with NaN values\n",
    "    if dropnan:\n",
    "        agg.dropna(inplace=True)\n",
    "    \n",
    "    return agg\n"
   ]
  },
  {
   "cell_type": "code",
   "execution_count": 3,
   "metadata": {},
   "outputs": [],
   "source": [
    "# transform series into train and test sets for supervised learning\n",
    "def prepare_data(series, n_test, n_lag, n_seq):\n",
    "\t# extract raw values\n",
    "\traw_values = series.values\n",
    "\t\n",
    "    # transform data to be stationary\n",
    "\tdiff_values = raw_values\n",
    "\tdiff_values = diff_values.reshape(len(diff_values), 1)\n",
    "\t\n",
    "    # rescale values to -1, 1\n",
    "\tscaler = MinMaxScaler(feature_range=(-1, 1))\n",
    "\tscaled_values = scaler.fit_transform(diff_values)\n",
    "\tscaled_values = scaled_values.reshape(len(scaled_values), 1)\n",
    "\t\n",
    "    # transform into supervised learning problem X, y\n",
    "\tsupervised = series_to_supervised(scaled_values, n_lag, n_seq)\n",
    "\tsupervised_values = supervised.values\n",
    "\t\n",
    "    # split into train and test sets\n",
    "\ttrain, test = supervised_values[0:-n_test], supervised_values[-n_test:]\n",
    "\treturn scaler, train, test"
   ]
  },
  {
   "cell_type": "code",
   "execution_count": 4,
   "metadata": {},
   "outputs": [],
   "source": [
    "def fit_lstm(train, n_lag, n_seq, n_batch, nb_epoch, n_neurons):\n",
    "    # reshape training into [samples, timesteps, features]\n",
    "    X, y = train[:, 0:n_lag], train[:, n_lag:]\n",
    "\n",
    "    X = X.reshape(X.shape[0], 1, X.shape[1])\n",
    "\n",
    "    # design network\n",
    "    model = Sequential()\n",
    "    model.add(LSTM(n_neurons, batch_input_shape=(n_batch, X.shape[1], X.shape[2]), stateful=True))\n",
    "    model.add(Dense(y.shape[1]))\n",
    "    model.compile(loss='mean_squared_error', optimizer='adam')\n",
    "\n",
    "    model.fit(X, y, epochs=nb_epoch, batch_size=n_batch, verbose=2, shuffle=False)\n",
    "\n",
    "    return model"
   ]
  },
  {
   "cell_type": "code",
   "execution_count": 5,
   "metadata": {},
   "outputs": [],
   "source": [
    "# make one forecast with an LSTM,\n",
    "def forecast_lstm(model, X, n_batch):\n",
    "    # reshape input pattern to [samples, timesteps, features]\n",
    "    X = X.reshape(1, 1, len(X))\n",
    "    \n",
    "    # make forecast\n",
    "    forecast = model.predict(X, batch_size=n_batch)\n",
    "    \n",
    "    # convert to array\n",
    "    return [x for x in forecast[0, :]]\n",
    " \n",
    "# evaluate the persistence model\n",
    "def make_forecasts(model, n_batch, train, test, n_lag, n_seq):\n",
    "    forecasts = list()\n",
    "    for i in range(len(test)):\n",
    "        X, y = test[i, 0:n_lag], test[i, n_lag:]\n",
    "        # make forecast\n",
    "        forecast = forecast_lstm(model, X, n_batch)\n",
    "        # store the forecast\n",
    "        forecasts.append(forecast)\n",
    "    return forecasts"
   ]
  },
  {
   "cell_type": "code",
   "execution_count": 6,
   "metadata": {},
   "outputs": [],
   "source": [
    "# inverse data transform on forecasts\n",
    "def inverse_transform(series, forecasts, scaler):\n",
    "    inverted = list()\n",
    "    for i in range(len(forecasts)):\n",
    "        \n",
    "        # create array from forecast\n",
    "        forecast = np.array(forecasts[i])\n",
    "        forecast = forecast.reshape(1, len(forecast))\n",
    "        \n",
    "        # invert scaling\n",
    "        inv_scale = scaler.inverse_transform(forecast)\n",
    "        inv_scale = inv_scale[0, :]\n",
    "\n",
    "        inverted.append(inv_scale)\n",
    "\n",
    "    return inverted"
   ]
  },
  {
   "source": [
    "# Fitting and predicting"
   ],
   "cell_type": "markdown",
   "metadata": {}
  },
  {
   "cell_type": "code",
   "execution_count": 7,
   "metadata": {},
   "outputs": [
    {
     "output_type": "stream",
     "name": "stdout",
     "text": [
      "Epoch 1/5\n",
      "3360/3360 - 5s - loss: 0.0089\n",
      "Epoch 2/5\n",
      "3360/3360 - 4s - loss: 0.0078\n",
      "Epoch 3/5\n",
      "3360/3360 - 4s - loss: 0.0077\n",
      "Epoch 4/5\n",
      "3360/3360 - 4s - loss: 0.0077\n",
      "Epoch 5/5\n",
      "3360/3360 - 4s - loss: 0.0077\n"
     ]
    }
   ],
   "source": [
    "# load dataset\n",
    "logreturns = 'data/final.csv'\n",
    "series = pd.read_csv(logreturns, usecols=['Exchange.Date', 'logreturns'], header=0, index_col=0, squeeze=True)\n",
    "\n",
    "# configure\n",
    "n_lag = 1\n",
    "n_seq = 63 #  number of periods forecast\n",
    "test_share = 0.25\n",
    "n_test = int(len(series) * test_share)\n",
    "n_epochs = 5\n",
    "n_batch = 1\n",
    "n_neurons = 50\n",
    "\n",
    "# prepare data\n",
    "scaler, train, test = prepare_data(series, n_test, n_lag, n_seq)\n",
    "\n",
    "# fit model\n",
    "model = fit_lstm(train, n_lag, n_seq, n_batch, n_epochs, n_neurons)\n",
    "\n",
    "# make forecasts\n",
    "forecasts = make_forecasts(model, n_batch, train, test, n_lag, n_seq)\n",
    "\n",
    "# inverse transform forecasts and test\n",
    "forecasts = inverse_transform(series, forecasts, scaler)"
   ]
  },
  {
   "source": [
    "# Evaluating from t=1"
   ],
   "cell_type": "markdown",
   "metadata": {}
  },
  {
   "cell_type": "code",
   "execution_count": 12,
   "metadata": {},
   "outputs": [
    {
     "output_type": "execute_result",
     "data": {
      "text/plain": [
       "       Close  logreturns    forecast      error  abs_error  actual_change  \\\n",
       "3481  671.89    0.005567  638.629395 -33.260605  33.260605           True   \n",
       "3482  671.08   -0.001206  639.646423 -31.433577  31.433577          False   \n",
       "3483  668.82   -0.003373  640.697754 -28.122246  28.122246          False   \n",
       "3484  668.02   -0.001197  641.703979 -26.316021  26.316021          False   \n",
       "3485  663.33   -0.007046  642.708069 -20.621931  20.621931          False   \n",
       "\n",
       "      forecast_change confusion  \n",
       "3481             True        TP  \n",
       "3482             True        FP  \n",
       "3483             True        FP  \n",
       "3484             True        FP  \n",
       "3485             True        FP  "
      ],
      "text/html": "<div>\n<style scoped>\n    .dataframe tbody tr th:only-of-type {\n        vertical-align: middle;\n    }\n\n    .dataframe tbody tr th {\n        vertical-align: top;\n    }\n\n    .dataframe thead th {\n        text-align: right;\n    }\n</style>\n<table border=\"1\" class=\"dataframe\">\n  <thead>\n    <tr style=\"text-align: right;\">\n      <th></th>\n      <th>Close</th>\n      <th>logreturns</th>\n      <th>forecast</th>\n      <th>error</th>\n      <th>abs_error</th>\n      <th>actual_change</th>\n      <th>forecast_change</th>\n      <th>confusion</th>\n    </tr>\n  </thead>\n  <tbody>\n    <tr>\n      <th>3481</th>\n      <td>671.89</td>\n      <td>0.005567</td>\n      <td>638.629395</td>\n      <td>-33.260605</td>\n      <td>33.260605</td>\n      <td>True</td>\n      <td>True</td>\n      <td>TP</td>\n    </tr>\n    <tr>\n      <th>3482</th>\n      <td>671.08</td>\n      <td>-0.001206</td>\n      <td>639.646423</td>\n      <td>-31.433577</td>\n      <td>31.433577</td>\n      <td>False</td>\n      <td>True</td>\n      <td>FP</td>\n    </tr>\n    <tr>\n      <th>3483</th>\n      <td>668.82</td>\n      <td>-0.003373</td>\n      <td>640.697754</td>\n      <td>-28.122246</td>\n      <td>28.122246</td>\n      <td>False</td>\n      <td>True</td>\n      <td>FP</td>\n    </tr>\n    <tr>\n      <th>3484</th>\n      <td>668.02</td>\n      <td>-0.001197</td>\n      <td>641.703979</td>\n      <td>-26.316021</td>\n      <td>26.316021</td>\n      <td>False</td>\n      <td>True</td>\n      <td>FP</td>\n    </tr>\n    <tr>\n      <th>3485</th>\n      <td>663.33</td>\n      <td>-0.007046</td>\n      <td>642.708069</td>\n      <td>-20.621931</td>\n      <td>20.621931</td>\n      <td>False</td>\n      <td>True</td>\n      <td>FP</td>\n    </tr>\n  </tbody>\n</table>\n</div>"
     },
     "metadata": {},
     "execution_count": 12
    }
   ],
   "source": [
    "# Creating a merged df with original values and predictions\n",
    "original_df = pd.read_csv('data/final.csv', usecols=['logreturns', 'Close'])\n",
    "train_df = original_df[:-n_test].copy()\n",
    "\n",
    "last_train = train_df['Close'].values[-1]\n",
    "price_forecasts = np.exp(np.cumsum(forecasts[0]) + math.log(last_train))\n",
    "\n",
    "train_df['forecast'] = train_df['Close'] # temporary until actual forecasts are added\n",
    "\n",
    "eval_df = pd.DataFrame(columns=['Close', 'logreturns', 'forecast'])\n",
    "eval_df['Close'] = original_df['Close'].values[-n_test:-n_test+n_seq]\n",
    "eval_df['logreturns'] = original_df['logreturns'].values[-n_test:-n_test+n_seq]\n",
    "eval_df['forecast'] = price_forecasts\n",
    "\n",
    "merged_df = train_df.append(eval_df, ignore_index=True)\n",
    "merged_df['error'] = merged_df['forecast'] - merged_df['Close']\n",
    "merged_df['abs_error'] = np.abs(merged_df['forecast'] - merged_df['Close'])\n",
    "\n",
    "merged_df['actual_change'] = merged_df['Close'].diff(1) > 0\n",
    "merged_df['forecast_change'] = merged_df['forecast'].diff(1) > 0\n",
    "\n",
    "def confusion(actual, forecast):\n",
    "    if (actual and forecast):\n",
    "        return 'TP'\n",
    "    \n",
    "    if (actual and not forecast):\n",
    "        return 'FN'\n",
    "    \n",
    "    if (not actual and forecast):\n",
    "        return 'FP'\n",
    "    \n",
    "    if (not actual and not forecast):\n",
    "        return 'TN'\n",
    "    \n",
    "    return False\n",
    "\n",
    "merged_df['confusion'] = merged_df.apply(lambda x: confusion(x['actual_change'], x['forecast_change']), axis=1)\n",
    "\n",
    "merged_df.tail()"
   ]
  },
  {
   "cell_type": "code",
   "execution_count": 16,
   "metadata": {},
   "outputs": [
    {
     "output_type": "stream",
     "name": "stdout",
     "text": [
      "1, RMSE: 1.021, MAPE: 0.164%\n3, RMSE: 4.684, MAPE: 0.547%\n5, RMSE: 5.545, MAPE: 0.466%\n21, RMSE: 13.286, MAPE: 0.715%\n63, RMSE: 123.726, MAPE: 2.446%\n"
     ]
    }
   ],
   "source": [
    "# RMSE and MAE\n",
    "def new_df(n_periods):\n",
    "    df = merged_df[len(train_df):len(train_df)+n_periods]\n",
    "    return df\n",
    "\n",
    "def evaluate(n_periods):\n",
    "    df = new_df(n_periods)\n",
    "    mape = ((df['abs_error'] / df['Close']).sum() / n_periods) * 100\n",
    "    rmse = math.sqrt(pow(df['error'].sum(), 2) / n_periods)\n",
    "    print(f\"{n_periods}, RMSE: {round(rmse, 3)}, MAPE: {round(mape, 3)}%\")\n",
    "\n",
    "evaluate(1) # 1 day\n",
    "evaluate(3) # half a week\n",
    "evaluate(5) # week\n",
    "evaluate(21) # month\n",
    "evaluate(63) # quarter"
   ]
  },
  {
   "cell_type": "code",
   "execution_count": 15,
   "metadata": {},
   "outputs": [
    {
     "output_type": "stream",
     "name": "stdout",
     "text": [
      "    P  N\nP  30  7\nN  24  2\nprecision: 81%, recall: 55%, f-score: 0.659\n"
     ]
    }
   ],
   "source": [
    "def confusion_matrix(df):\n",
    "    conf = pd.DataFrame(columns=['P', 'N'], index=['P', 'N'])\n",
    "    conf.loc['P', 'P'] = len(df[df['confusion'] == 'TP'])\n",
    "    conf.loc['P', 'N'] = len(df[df['confusion'] == 'FN'])\n",
    "    conf.loc['N', 'P'] = len(df[df['confusion'] == 'FP'])\n",
    "    conf.loc['N', 'N'] = len(df[df['confusion'] == 'TN'])\n",
    "    return conf\n",
    "\n",
    "cm = confusion_matrix(new_df(63))\n",
    "precision = cm.iloc[0, 0] / (cm.iloc[0,0] + cm.iloc[0,1])\n",
    "recall = cm.iloc[0, 0] / (cm.iloc[0,0] + cm.iloc[1,0])\n",
    "f_score = 2*precision*recall/(precision+recall)\n",
    "\n",
    "print(cm)\n",
    "print(f'precision: {int(precision*100)}%, recall: {int(recall*100)}%, f-score: {round(f_score, 3)}')"
   ]
  },
  {
   "source": [
    "# Plotting"
   ],
   "cell_type": "markdown",
   "metadata": {}
  },
  {
   "cell_type": "code",
   "execution_count": 11,
   "metadata": {},
   "outputs": [
    {
     "output_type": "execute_result",
     "data": {
      "text/plain": [
       "<matplotlib.legend.Legend at 0x142909940>"
      ]
     },
     "metadata": {},
     "execution_count": 11
    },
    {
     "output_type": "display_data",
     "data": {
      "text/plain": "<Figure size 720x360 with 1 Axes>",
      "image/svg+xml": "<?xml version=\"1.0\" encoding=\"utf-8\" standalone=\"no\"?>\n<!DOCTYPE svg PUBLIC \"-//W3C//DTD SVG 1.1//EN\"\n  \"http://www.w3.org/Graphics/SVG/1.1/DTD/svg11.dtd\">\n<!-- Created with matplotlib (https://matplotlib.org/) -->\n<svg height=\"302.878125pt\" version=\"1.1\" viewBox=\"0 0 598.4875 302.878125\" width=\"598.4875pt\" xmlns=\"http://www.w3.org/2000/svg\" xmlns:xlink=\"http://www.w3.org/1999/xlink\">\n <metadata>\n  <rdf:RDF xmlns:cc=\"http://creativecommons.org/ns#\" xmlns:dc=\"http://purl.org/dc/elements/1.1/\" xmlns:rdf=\"http://www.w3.org/1999/02/22-rdf-syntax-ns#\">\n   <cc:Work>\n    <dc:type rdf:resource=\"http://purl.org/dc/dcmitype/StillImage\"/>\n    <dc:date>2021-03-30T14:05:39.544389</dc:date>\n    <dc:format>image/svg+xml</dc:format>\n    <dc:creator>\n     <cc:Agent>\n      <dc:title>Matplotlib v3.3.4, https://matplotlib.org/</dc:title>\n     </cc:Agent>\n    </dc:creator>\n   </cc:Work>\n  </rdf:RDF>\n </metadata>\n <defs>\n  <style type=\"text/css\">*{stroke-linecap:butt;stroke-linejoin:round;}</style>\n </defs>\n <g id=\"figure_1\">\n  <g id=\"patch_1\">\n   <path d=\"M 0 302.878125 \nL 598.4875 302.878125 \nL 598.4875 0 \nL 0 0 \nz\n\" style=\"fill:none;\"/>\n  </g>\n  <g id=\"axes_1\">\n   <g id=\"patch_2\">\n    <path d=\"M 33.2875 279 \nL 591.2875 279 \nL 591.2875 7.2 \nL 33.2875 7.2 \nz\n\" style=\"fill:#ffffff;\"/>\n   </g>\n   <g id=\"matplotlib.axis_1\">\n    <g id=\"xtick_1\">\n     <g id=\"line2d_1\">\n      <defs>\n       <path d=\"M 0 0 \nL 0 3.5 \n\" id=\"m079e025496\" style=\"stroke:#000000;stroke-width:0.8;\"/>\n      </defs>\n      <g>\n       <use style=\"stroke:#000000;stroke-width:0.8;\" x=\"66.745914\" xlink:href=\"#m079e025496\" y=\"279\"/>\n      </g>\n     </g>\n     <g id=\"text_1\">\n      <!-- 3300 -->\n      <g transform=\"translate(54.020914 293.598437)scale(0.1 -0.1)\">\n       <defs>\n        <path d=\"M 40.578125 39.3125 \nQ 47.65625 37.796875 51.625 33 \nQ 55.609375 28.21875 55.609375 21.1875 \nQ 55.609375 10.40625 48.1875 4.484375 \nQ 40.765625 -1.421875 27.09375 -1.421875 \nQ 22.515625 -1.421875 17.65625 -0.515625 \nQ 12.796875 0.390625 7.625 2.203125 \nL 7.625 11.71875 \nQ 11.71875 9.328125 16.59375 8.109375 \nQ 21.484375 6.890625 26.8125 6.890625 \nQ 36.078125 6.890625 40.9375 10.546875 \nQ 45.796875 14.203125 45.796875 21.1875 \nQ 45.796875 27.640625 41.28125 31.265625 \nQ 36.765625 34.90625 28.71875 34.90625 \nL 20.21875 34.90625 \nL 20.21875 43.015625 \nL 29.109375 43.015625 \nQ 36.375 43.015625 40.234375 45.921875 \nQ 44.09375 48.828125 44.09375 54.296875 \nQ 44.09375 59.90625 40.109375 62.90625 \nQ 36.140625 65.921875 28.71875 65.921875 \nQ 24.65625 65.921875 20.015625 65.03125 \nQ 15.375 64.15625 9.8125 62.3125 \nL 9.8125 71.09375 \nQ 15.4375 72.65625 20.34375 73.4375 \nQ 25.25 74.21875 29.59375 74.21875 \nQ 40.828125 74.21875 47.359375 69.109375 \nQ 53.90625 64.015625 53.90625 55.328125 \nQ 53.90625 49.265625 50.4375 45.09375 \nQ 46.96875 40.921875 40.578125 39.3125 \nz\n\" id=\"DejaVuSans-51\"/>\n        <path d=\"M 31.78125 66.40625 \nQ 24.171875 66.40625 20.328125 58.90625 \nQ 16.5 51.421875 16.5 36.375 \nQ 16.5 21.390625 20.328125 13.890625 \nQ 24.171875 6.390625 31.78125 6.390625 \nQ 39.453125 6.390625 43.28125 13.890625 \nQ 47.125 21.390625 47.125 36.375 \nQ 47.125 51.421875 43.28125 58.90625 \nQ 39.453125 66.40625 31.78125 66.40625 \nz\nM 31.78125 74.21875 \nQ 44.046875 74.21875 50.515625 64.515625 \nQ 56.984375 54.828125 56.984375 36.375 \nQ 56.984375 17.96875 50.515625 8.265625 \nQ 44.046875 -1.421875 31.78125 -1.421875 \nQ 19.53125 -1.421875 13.0625 8.265625 \nQ 6.59375 17.96875 6.59375 36.375 \nQ 6.59375 54.828125 13.0625 64.515625 \nQ 19.53125 74.21875 31.78125 74.21875 \nz\n\" id=\"DejaVuSans-48\"/>\n       </defs>\n       <use xlink:href=\"#DejaVuSans-51\"/>\n       <use x=\"63.623047\" xlink:href=\"#DejaVuSans-51\"/>\n       <use x=\"127.246094\" xlink:href=\"#DejaVuSans-48\"/>\n       <use x=\"190.869141\" xlink:href=\"#DejaVuSans-48\"/>\n      </g>\n     </g>\n    </g>\n    <g id=\"xtick_2\">\n     <g id=\"line2d_2\">\n      <g>\n       <use style=\"stroke:#000000;stroke-width:0.8;\" x=\"134.202394\" xlink:href=\"#m079e025496\" y=\"279\"/>\n      </g>\n     </g>\n     <g id=\"text_2\">\n      <!-- 3325 -->\n      <g transform=\"translate(121.477394 293.598437)scale(0.1 -0.1)\">\n       <defs>\n        <path d=\"M 19.1875 8.296875 \nL 53.609375 8.296875 \nL 53.609375 0 \nL 7.328125 0 \nL 7.328125 8.296875 \nQ 12.9375 14.109375 22.625 23.890625 \nQ 32.328125 33.6875 34.8125 36.53125 \nQ 39.546875 41.84375 41.421875 45.53125 \nQ 43.3125 49.21875 43.3125 52.78125 \nQ 43.3125 58.59375 39.234375 62.25 \nQ 35.15625 65.921875 28.609375 65.921875 \nQ 23.96875 65.921875 18.8125 64.3125 \nQ 13.671875 62.703125 7.8125 59.421875 \nL 7.8125 69.390625 \nQ 13.765625 71.78125 18.9375 73 \nQ 24.125 74.21875 28.421875 74.21875 \nQ 39.75 74.21875 46.484375 68.546875 \nQ 53.21875 62.890625 53.21875 53.421875 \nQ 53.21875 48.921875 51.53125 44.890625 \nQ 49.859375 40.875 45.40625 35.40625 \nQ 44.1875 33.984375 37.640625 27.21875 \nQ 31.109375 20.453125 19.1875 8.296875 \nz\n\" id=\"DejaVuSans-50\"/>\n        <path d=\"M 10.796875 72.90625 \nL 49.515625 72.90625 \nL 49.515625 64.59375 \nL 19.828125 64.59375 \nL 19.828125 46.734375 \nQ 21.96875 47.46875 24.109375 47.828125 \nQ 26.265625 48.1875 28.421875 48.1875 \nQ 40.625 48.1875 47.75 41.5 \nQ 54.890625 34.8125 54.890625 23.390625 \nQ 54.890625 11.625 47.5625 5.09375 \nQ 40.234375 -1.421875 26.90625 -1.421875 \nQ 22.3125 -1.421875 17.546875 -0.640625 \nQ 12.796875 0.140625 7.71875 1.703125 \nL 7.71875 11.625 \nQ 12.109375 9.234375 16.796875 8.0625 \nQ 21.484375 6.890625 26.703125 6.890625 \nQ 35.15625 6.890625 40.078125 11.328125 \nQ 45.015625 15.765625 45.015625 23.390625 \nQ 45.015625 31 40.078125 35.4375 \nQ 35.15625 39.890625 26.703125 39.890625 \nQ 22.75 39.890625 18.8125 39.015625 \nQ 14.890625 38.140625 10.796875 36.28125 \nz\n\" id=\"DejaVuSans-53\"/>\n       </defs>\n       <use xlink:href=\"#DejaVuSans-51\"/>\n       <use x=\"63.623047\" xlink:href=\"#DejaVuSans-51\"/>\n       <use x=\"127.246094\" xlink:href=\"#DejaVuSans-50\"/>\n       <use x=\"190.869141\" xlink:href=\"#DejaVuSans-53\"/>\n      </g>\n     </g>\n    </g>\n    <g id=\"xtick_3\">\n     <g id=\"line2d_3\">\n      <g>\n       <use style=\"stroke:#000000;stroke-width:0.8;\" x=\"201.658873\" xlink:href=\"#m079e025496\" y=\"279\"/>\n      </g>\n     </g>\n     <g id=\"text_3\">\n      <!-- 3350 -->\n      <g transform=\"translate(188.933873 293.598437)scale(0.1 -0.1)\">\n       <use xlink:href=\"#DejaVuSans-51\"/>\n       <use x=\"63.623047\" xlink:href=\"#DejaVuSans-51\"/>\n       <use x=\"127.246094\" xlink:href=\"#DejaVuSans-53\"/>\n       <use x=\"190.869141\" xlink:href=\"#DejaVuSans-48\"/>\n      </g>\n     </g>\n    </g>\n    <g id=\"xtick_4\">\n     <g id=\"line2d_4\">\n      <g>\n       <use style=\"stroke:#000000;stroke-width:0.8;\" x=\"269.115353\" xlink:href=\"#m079e025496\" y=\"279\"/>\n      </g>\n     </g>\n     <g id=\"text_4\">\n      <!-- 3375 -->\n      <g transform=\"translate(256.390353 293.598437)scale(0.1 -0.1)\">\n       <defs>\n        <path d=\"M 8.203125 72.90625 \nL 55.078125 72.90625 \nL 55.078125 68.703125 \nL 28.609375 0 \nL 18.3125 0 \nL 43.21875 64.59375 \nL 8.203125 64.59375 \nz\n\" id=\"DejaVuSans-55\"/>\n       </defs>\n       <use xlink:href=\"#DejaVuSans-51\"/>\n       <use x=\"63.623047\" xlink:href=\"#DejaVuSans-51\"/>\n       <use x=\"127.246094\" xlink:href=\"#DejaVuSans-55\"/>\n       <use x=\"190.869141\" xlink:href=\"#DejaVuSans-53\"/>\n      </g>\n     </g>\n    </g>\n    <g id=\"xtick_5\">\n     <g id=\"line2d_5\">\n      <g>\n       <use style=\"stroke:#000000;stroke-width:0.8;\" x=\"336.571833\" xlink:href=\"#m079e025496\" y=\"279\"/>\n      </g>\n     </g>\n     <g id=\"text_5\">\n      <!-- 3400 -->\n      <g transform=\"translate(323.846833 293.598437)scale(0.1 -0.1)\">\n       <defs>\n        <path d=\"M 37.796875 64.3125 \nL 12.890625 25.390625 \nL 37.796875 25.390625 \nz\nM 35.203125 72.90625 \nL 47.609375 72.90625 \nL 47.609375 25.390625 \nL 58.015625 25.390625 \nL 58.015625 17.1875 \nL 47.609375 17.1875 \nL 47.609375 0 \nL 37.796875 0 \nL 37.796875 17.1875 \nL 4.890625 17.1875 \nL 4.890625 26.703125 \nz\n\" id=\"DejaVuSans-52\"/>\n       </defs>\n       <use xlink:href=\"#DejaVuSans-51\"/>\n       <use x=\"63.623047\" xlink:href=\"#DejaVuSans-52\"/>\n       <use x=\"127.246094\" xlink:href=\"#DejaVuSans-48\"/>\n       <use x=\"190.869141\" xlink:href=\"#DejaVuSans-48\"/>\n      </g>\n     </g>\n    </g>\n    <g id=\"xtick_6\">\n     <g id=\"line2d_6\">\n      <g>\n       <use style=\"stroke:#000000;stroke-width:0.8;\" x=\"404.028312\" xlink:href=\"#m079e025496\" y=\"279\"/>\n      </g>\n     </g>\n     <g id=\"text_6\">\n      <!-- 3425 -->\n      <g transform=\"translate(391.303312 293.598437)scale(0.1 -0.1)\">\n       <use xlink:href=\"#DejaVuSans-51\"/>\n       <use x=\"63.623047\" xlink:href=\"#DejaVuSans-52\"/>\n       <use x=\"127.246094\" xlink:href=\"#DejaVuSans-50\"/>\n       <use x=\"190.869141\" xlink:href=\"#DejaVuSans-53\"/>\n      </g>\n     </g>\n    </g>\n    <g id=\"xtick_7\">\n     <g id=\"line2d_7\">\n      <g>\n       <use style=\"stroke:#000000;stroke-width:0.8;\" x=\"471.484792\" xlink:href=\"#m079e025496\" y=\"279\"/>\n      </g>\n     </g>\n     <g id=\"text_7\">\n      <!-- 3450 -->\n      <g transform=\"translate(458.759792 293.598437)scale(0.1 -0.1)\">\n       <use xlink:href=\"#DejaVuSans-51\"/>\n       <use x=\"63.623047\" xlink:href=\"#DejaVuSans-52\"/>\n       <use x=\"127.246094\" xlink:href=\"#DejaVuSans-53\"/>\n       <use x=\"190.869141\" xlink:href=\"#DejaVuSans-48\"/>\n      </g>\n     </g>\n    </g>\n    <g id=\"xtick_8\">\n     <g id=\"line2d_8\">\n      <g>\n       <use style=\"stroke:#000000;stroke-width:0.8;\" x=\"538.941272\" xlink:href=\"#m079e025496\" y=\"279\"/>\n      </g>\n     </g>\n     <g id=\"text_8\">\n      <!-- 3475 -->\n      <g transform=\"translate(526.216272 293.598437)scale(0.1 -0.1)\">\n       <use xlink:href=\"#DejaVuSans-51\"/>\n       <use x=\"63.623047\" xlink:href=\"#DejaVuSans-52\"/>\n       <use x=\"127.246094\" xlink:href=\"#DejaVuSans-55\"/>\n       <use x=\"190.869141\" xlink:href=\"#DejaVuSans-53\"/>\n      </g>\n     </g>\n    </g>\n   </g>\n   <g id=\"matplotlib.axis_2\">\n    <g id=\"ytick_1\">\n     <g id=\"line2d_9\">\n      <defs>\n       <path d=\"M 0 0 \nL -3.5 0 \n\" id=\"mdc5aa34bab\" style=\"stroke:#000000;stroke-width:0.8;\"/>\n      </defs>\n      <g>\n       <use style=\"stroke:#000000;stroke-width:0.8;\" x=\"33.2875\" xlink:href=\"#mdc5aa34bab\" y=\"262.768472\"/>\n      </g>\n     </g>\n     <g id=\"text_9\">\n      <!-- 520 -->\n      <g transform=\"translate(7.2 266.567691)scale(0.1 -0.1)\">\n       <use xlink:href=\"#DejaVuSans-53\"/>\n       <use x=\"63.623047\" xlink:href=\"#DejaVuSans-50\"/>\n       <use x=\"127.246094\" xlink:href=\"#DejaVuSans-48\"/>\n      </g>\n     </g>\n    </g>\n    <g id=\"ytick_2\">\n     <g id=\"line2d_10\">\n      <g>\n       <use style=\"stroke:#000000;stroke-width:0.8;\" x=\"33.2875\" xlink:href=\"#mdc5aa34bab\" y=\"231.375903\"/>\n      </g>\n     </g>\n     <g id=\"text_10\">\n      <!-- 540 -->\n      <g transform=\"translate(7.2 235.175122)scale(0.1 -0.1)\">\n       <use xlink:href=\"#DejaVuSans-53\"/>\n       <use x=\"63.623047\" xlink:href=\"#DejaVuSans-52\"/>\n       <use x=\"127.246094\" xlink:href=\"#DejaVuSans-48\"/>\n      </g>\n     </g>\n    </g>\n    <g id=\"ytick_3\">\n     <g id=\"line2d_11\">\n      <g>\n       <use style=\"stroke:#000000;stroke-width:0.8;\" x=\"33.2875\" xlink:href=\"#mdc5aa34bab\" y=\"199.983335\"/>\n      </g>\n     </g>\n     <g id=\"text_11\">\n      <!-- 560 -->\n      <g transform=\"translate(7.2 203.782553)scale(0.1 -0.1)\">\n       <defs>\n        <path d=\"M 33.015625 40.375 \nQ 26.375 40.375 22.484375 35.828125 \nQ 18.609375 31.296875 18.609375 23.390625 \nQ 18.609375 15.53125 22.484375 10.953125 \nQ 26.375 6.390625 33.015625 6.390625 \nQ 39.65625 6.390625 43.53125 10.953125 \nQ 47.40625 15.53125 47.40625 23.390625 \nQ 47.40625 31.296875 43.53125 35.828125 \nQ 39.65625 40.375 33.015625 40.375 \nz\nM 52.59375 71.296875 \nL 52.59375 62.3125 \nQ 48.875 64.0625 45.09375 64.984375 \nQ 41.3125 65.921875 37.59375 65.921875 \nQ 27.828125 65.921875 22.671875 59.328125 \nQ 17.53125 52.734375 16.796875 39.40625 \nQ 19.671875 43.65625 24.015625 45.921875 \nQ 28.375 48.1875 33.59375 48.1875 \nQ 44.578125 48.1875 50.953125 41.515625 \nQ 57.328125 34.859375 57.328125 23.390625 \nQ 57.328125 12.15625 50.6875 5.359375 \nQ 44.046875 -1.421875 33.015625 -1.421875 \nQ 20.359375 -1.421875 13.671875 8.265625 \nQ 6.984375 17.96875 6.984375 36.375 \nQ 6.984375 53.65625 15.1875 63.9375 \nQ 23.390625 74.21875 37.203125 74.21875 \nQ 40.921875 74.21875 44.703125 73.484375 \nQ 48.484375 72.75 52.59375 71.296875 \nz\n\" id=\"DejaVuSans-54\"/>\n       </defs>\n       <use xlink:href=\"#DejaVuSans-53\"/>\n       <use x=\"63.623047\" xlink:href=\"#DejaVuSans-54\"/>\n       <use x=\"127.246094\" xlink:href=\"#DejaVuSans-48\"/>\n      </g>\n     </g>\n    </g>\n    <g id=\"ytick_4\">\n     <g id=\"line2d_12\">\n      <g>\n       <use style=\"stroke:#000000;stroke-width:0.8;\" x=\"33.2875\" xlink:href=\"#mdc5aa34bab\" y=\"168.590766\"/>\n      </g>\n     </g>\n     <g id=\"text_12\">\n      <!-- 580 -->\n      <g transform=\"translate(7.2 172.389985)scale(0.1 -0.1)\">\n       <defs>\n        <path d=\"M 31.78125 34.625 \nQ 24.75 34.625 20.71875 30.859375 \nQ 16.703125 27.09375 16.703125 20.515625 \nQ 16.703125 13.921875 20.71875 10.15625 \nQ 24.75 6.390625 31.78125 6.390625 \nQ 38.8125 6.390625 42.859375 10.171875 \nQ 46.921875 13.96875 46.921875 20.515625 \nQ 46.921875 27.09375 42.890625 30.859375 \nQ 38.875 34.625 31.78125 34.625 \nz\nM 21.921875 38.8125 \nQ 15.578125 40.375 12.03125 44.71875 \nQ 8.5 49.078125 8.5 55.328125 \nQ 8.5 64.0625 14.71875 69.140625 \nQ 20.953125 74.21875 31.78125 74.21875 \nQ 42.671875 74.21875 48.875 69.140625 \nQ 55.078125 64.0625 55.078125 55.328125 \nQ 55.078125 49.078125 51.53125 44.71875 \nQ 48 40.375 41.703125 38.8125 \nQ 48.828125 37.15625 52.796875 32.3125 \nQ 56.78125 27.484375 56.78125 20.515625 \nQ 56.78125 9.90625 50.3125 4.234375 \nQ 43.84375 -1.421875 31.78125 -1.421875 \nQ 19.734375 -1.421875 13.25 4.234375 \nQ 6.78125 9.90625 6.78125 20.515625 \nQ 6.78125 27.484375 10.78125 32.3125 \nQ 14.796875 37.15625 21.921875 38.8125 \nz\nM 18.3125 54.390625 \nQ 18.3125 48.734375 21.84375 45.5625 \nQ 25.390625 42.390625 31.78125 42.390625 \nQ 38.140625 42.390625 41.71875 45.5625 \nQ 45.3125 48.734375 45.3125 54.390625 \nQ 45.3125 60.0625 41.71875 63.234375 \nQ 38.140625 66.40625 31.78125 66.40625 \nQ 25.390625 66.40625 21.84375 63.234375 \nQ 18.3125 60.0625 18.3125 54.390625 \nz\n\" id=\"DejaVuSans-56\"/>\n       </defs>\n       <use xlink:href=\"#DejaVuSans-53\"/>\n       <use x=\"63.623047\" xlink:href=\"#DejaVuSans-56\"/>\n       <use x=\"127.246094\" xlink:href=\"#DejaVuSans-48\"/>\n      </g>\n     </g>\n    </g>\n    <g id=\"ytick_5\">\n     <g id=\"line2d_13\">\n      <g>\n       <use style=\"stroke:#000000;stroke-width:0.8;\" x=\"33.2875\" xlink:href=\"#mdc5aa34bab\" y=\"137.198197\"/>\n      </g>\n     </g>\n     <g id=\"text_13\">\n      <!-- 600 -->\n      <g transform=\"translate(7.2 140.997416)scale(0.1 -0.1)\">\n       <use xlink:href=\"#DejaVuSans-54\"/>\n       <use x=\"63.623047\" xlink:href=\"#DejaVuSans-48\"/>\n       <use x=\"127.246094\" xlink:href=\"#DejaVuSans-48\"/>\n      </g>\n     </g>\n    </g>\n    <g id=\"ytick_6\">\n     <g id=\"line2d_14\">\n      <g>\n       <use style=\"stroke:#000000;stroke-width:0.8;\" x=\"33.2875\" xlink:href=\"#mdc5aa34bab\" y=\"105.805628\"/>\n      </g>\n     </g>\n     <g id=\"text_14\">\n      <!-- 620 -->\n      <g transform=\"translate(7.2 109.604847)scale(0.1 -0.1)\">\n       <use xlink:href=\"#DejaVuSans-54\"/>\n       <use x=\"63.623047\" xlink:href=\"#DejaVuSans-50\"/>\n       <use x=\"127.246094\" xlink:href=\"#DejaVuSans-48\"/>\n      </g>\n     </g>\n    </g>\n    <g id=\"ytick_7\">\n     <g id=\"line2d_15\">\n      <g>\n       <use style=\"stroke:#000000;stroke-width:0.8;\" x=\"33.2875\" xlink:href=\"#mdc5aa34bab\" y=\"74.413059\"/>\n      </g>\n     </g>\n     <g id=\"text_15\">\n      <!-- 640 -->\n      <g transform=\"translate(7.2 78.212278)scale(0.1 -0.1)\">\n       <use xlink:href=\"#DejaVuSans-54\"/>\n       <use x=\"63.623047\" xlink:href=\"#DejaVuSans-52\"/>\n       <use x=\"127.246094\" xlink:href=\"#DejaVuSans-48\"/>\n      </g>\n     </g>\n    </g>\n    <g id=\"ytick_8\">\n     <g id=\"line2d_16\">\n      <g>\n       <use style=\"stroke:#000000;stroke-width:0.8;\" x=\"33.2875\" xlink:href=\"#mdc5aa34bab\" y=\"43.020491\"/>\n      </g>\n     </g>\n     <g id=\"text_16\">\n      <!-- 660 -->\n      <g transform=\"translate(7.2 46.819709)scale(0.1 -0.1)\">\n       <use xlink:href=\"#DejaVuSans-54\"/>\n       <use x=\"63.623047\" xlink:href=\"#DejaVuSans-54\"/>\n       <use x=\"127.246094\" xlink:href=\"#DejaVuSans-48\"/>\n      </g>\n     </g>\n    </g>\n    <g id=\"ytick_9\">\n     <g id=\"line2d_17\">\n      <g>\n       <use style=\"stroke:#000000;stroke-width:0.8;\" x=\"33.2875\" xlink:href=\"#mdc5aa34bab\" y=\"11.627922\"/>\n      </g>\n     </g>\n     <g id=\"text_17\">\n      <!-- 680 -->\n      <g transform=\"translate(7.2 15.427141)scale(0.1 -0.1)\">\n       <use xlink:href=\"#DejaVuSans-54\"/>\n       <use x=\"63.623047\" xlink:href=\"#DejaVuSans-56\"/>\n       <use x=\"127.246094\" xlink:href=\"#DejaVuSans-48\"/>\n      </g>\n     </g>\n    </g>\n   </g>\n   <g id=\"line2d_18\">\n    <path clip-path=\"url(#p06a86cc2dc)\" d=\"M 58.651136 205.257286 \nL 61.349396 204.598042 \nL 64.047655 208.192491 \nL 66.745914 217.516084 \nL 69.444173 212.88568 \nL 72.142432 220.969267 \nL 74.840691 252.942598 \nL 77.538951 266.645455 \nL 80.23721 256.113248 \nL 82.935469 261.449984 \nL 85.633728 256.631225 \nL 88.331987 244.262553 \nL 91.030247 244.623568 \nL 93.728506 226.902462 \nL 96.426765 226.44727 \nL 99.125024 228.707535 \nL 101.823283 221.440155 \nL 104.521543 222.680162 \nL 107.219802 231.234637 \nL 109.918061 227.718669 \nL 112.61632 227.828543 \nL 118.012838 216.762663 \nL 123.409357 216.841144 \nL 126.107616 213.780369 \nL 128.805875 213.60771 \nL 131.504134 217.657351 \nL 134.202394 209.605157 \nL 136.900653 209.871994 \nL 139.598912 205.696782 \nL 142.297171 203.766139 \nL 144.99543 204.346902 \nL 147.69369 203.46791 \nL 150.391949 208.694773 \nL 153.090208 204.755005 \nL 155.788467 205.304375 \nL 158.486726 205.006146 \nL 161.184985 198.288136 \nL 163.883245 203.860317 \nL 166.581504 204.425383 \nL 169.279763 198.52358 \nL 171.978022 194.568117 \nL 174.676281 197.566107 \nL 177.374541 196.467367 \nL 180.0728 202.180814 \nL 182.771059 188.917454 \nL 185.469318 203.844621 \nL 188.167577 199.62232 \nL 190.865837 196.07496 \nL 193.564096 195.588375 \nL 196.262355 184.020213 \nL 201.658873 179.107276 \nL 204.357132 173.34674 \nL 207.055392 169.202921 \nL 209.753651 167.554811 \nL 212.45191 172.185215 \nL 215.150169 171.934074 \nL 217.848428 181.194882 \nL 220.546688 185.009079 \nL 223.244947 177.616129 \nL 225.943206 186.751367 \nL 228.641465 198.115477 \nL 231.339724 198.068388 \nL 234.037984 210.829467 \nL 236.736243 212.477577 \nL 239.434502 207.674514 \nL 242.132761 204.048672 \nL 244.83102 207.407677 \nL 247.529279 208.490721 \nL 250.227539 209.322624 \nL 252.925798 205.853745 \nL 255.624057 204.770701 \nL 258.322316 196.184834 \nL 261.020575 196.655722 \nL 263.718835 201.788407 \nL 266.417094 198.586365 \nL 269.115353 198.978772 \nL 271.813612 198.366617 \nL 274.511871 192.872918 \nL 277.210131 190.502779 \nL 279.90839 186.343264 \nL 282.606649 187.959981 \nL 285.304908 185.056168 \nL 288.003167 186.201997 \nL 290.701426 187.818714 \nL 293.399686 191.931141 \nL 296.097945 183.06274 \nL 298.796204 187.426307 \nL 301.494463 187.70884 \nL 304.192722 201.600052 \nL 306.890982 224.061435 \nL 309.589241 244.749138 \nL 312.2875 231.925273 \nL 314.985759 244.906101 \nL 317.684018 234.593642 \nL 320.382278 222.413325 \nL 323.080537 219.493816 \nL 328.477055 212.053777 \nL 331.175314 253.319309 \nL 333.873574 238.36075 \nL 336.571833 225.709545 \nL 341.968351 205.932226 \nL 344.66661 196.3261 \nL 347.364869 196.012175 \nL 350.063129 203.358036 \nL 352.761388 197.989907 \nL 355.459647 190.298727 \nL 358.157906 179.483987 \nL 360.856165 177.082456 \nL 366.252684 161.574527 \nL 368.950943 152.816 \nL 371.649202 137.653389 \nL 374.347461 131.390572 \nL 377.045721 121.59609 \nL 379.74398 121.925712 \nL 382.442239 130.024995 \nL 385.140498 120.010766 \nL 387.838757 116.871509 \nL 390.537016 113.434022 \nL 393.235276 109.761092 \nL 395.933535 103.639541 \nL 401.330053 102.447271 \nL 406.726572 100.22494 \nL 412.12309 97.91198 \nL 414.821349 96.879516 \nL 420.217868 95.083315 \nL 422.916127 94.137552 \nL 425.614386 93.704429 \nL 428.312645 93.384449 \nL 431.010904 92.804364 \nL 439.105682 91.725437 \nL 447.200459 89.7657 \nL 449.898719 89.271168 \nL 452.596978 88.909609 \nL 455.295237 88.350984 \nL 457.993496 87.59721 \nL 463.390015 86.545299 \nL 466.088274 86.06255 \nL 476.88131 83.086157 \nL 479.57957 82.569877 \nL 484.976088 82.155052 \nL 487.674347 81.992476 \nL 490.372606 82.077548 \nL 493.070866 82.416881 \nL 495.769125 82.610689 \nL 498.467384 82.970332 \nL 501.165643 83.457488 \nL 503.863902 84.084324 \nL 509.260421 84.794316 \nL 514.656939 84.605106 \nL 517.355198 84.465234 \nL 520.053457 84.497041 \nL 530.846494 83.92874 \nL 533.544753 83.571972 \nL 536.243013 82.991696 \nL 538.941272 82.708599 \nL 541.639531 82.241466 \nL 544.33779 81.37225 \nL 555.130827 76.564401 \nL 565.923864 70.162398 \nL 565.923864 70.162398 \n\" style=\"fill:none;stroke:#1f77b4;stroke-linecap:square;stroke-width:1.5;\"/>\n   </g>\n   <g id=\"line2d_19\">\n    <path clip-path=\"url(#p06a86cc2dc)\" d=\"M 58.651136 205.257286 \nL 61.349396 204.598042 \nL 64.047655 208.192491 \nL 66.745914 217.516084 \nL 69.444173 212.88568 \nL 72.142432 220.969267 \nL 74.840691 252.942598 \nL 77.538951 266.645455 \nL 80.23721 256.113248 \nL 82.935469 261.449984 \nL 85.633728 256.631225 \nL 88.331987 244.262553 \nL 91.030247 244.623568 \nL 93.728506 226.902462 \nL 96.426765 226.44727 \nL 99.125024 228.707535 \nL 101.823283 221.440155 \nL 104.521543 222.680162 \nL 107.219802 231.234637 \nL 109.918061 227.718669 \nL 112.61632 227.828543 \nL 118.012838 216.762663 \nL 123.409357 216.841144 \nL 126.107616 213.780369 \nL 128.805875 213.60771 \nL 131.504134 217.657351 \nL 134.202394 209.605157 \nL 136.900653 209.871994 \nL 139.598912 205.696782 \nL 142.297171 203.766139 \nL 144.99543 204.346902 \nL 147.69369 203.46791 \nL 150.391949 208.694773 \nL 153.090208 204.755005 \nL 155.788467 205.304375 \nL 158.486726 205.006146 \nL 161.184985 198.288136 \nL 163.883245 203.860317 \nL 166.581504 204.425383 \nL 169.279763 198.52358 \nL 171.978022 194.568117 \nL 174.676281 197.566107 \nL 177.374541 196.467367 \nL 180.0728 202.180814 \nL 182.771059 188.917454 \nL 185.469318 203.844621 \nL 188.167577 199.62232 \nL 190.865837 196.07496 \nL 193.564096 195.588375 \nL 196.262355 184.020213 \nL 201.658873 179.107276 \nL 204.357132 173.34674 \nL 207.055392 169.202921 \nL 209.753651 167.554811 \nL 212.45191 172.185215 \nL 215.150169 171.934074 \nL 217.848428 181.194882 \nL 220.546688 185.009079 \nL 223.244947 177.616129 \nL 225.943206 186.751367 \nL 228.641465 198.115477 \nL 231.339724 198.068388 \nL 234.037984 210.829467 \nL 236.736243 212.477577 \nL 239.434502 207.674514 \nL 242.132761 204.048672 \nL 244.83102 207.407677 \nL 247.529279 208.490721 \nL 250.227539 209.322624 \nL 252.925798 205.853745 \nL 255.624057 204.770701 \nL 258.322316 196.184834 \nL 261.020575 196.655722 \nL 263.718835 201.788407 \nL 266.417094 198.586365 \nL 269.115353 198.978772 \nL 271.813612 198.366617 \nL 274.511871 192.872918 \nL 277.210131 190.502779 \nL 279.90839 186.343264 \nL 282.606649 187.959981 \nL 285.304908 185.056168 \nL 288.003167 186.201997 \nL 290.701426 187.818714 \nL 293.399686 191.931141 \nL 296.097945 183.06274 \nL 298.796204 187.426307 \nL 301.494463 187.70884 \nL 304.192722 201.600052 \nL 306.890982 224.061435 \nL 309.589241 244.749138 \nL 312.2875 231.925273 \nL 314.985759 244.906101 \nL 317.684018 234.593642 \nL 320.382278 222.413325 \nL 323.080537 219.493816 \nL 328.477055 212.053777 \nL 331.175314 253.319309 \nL 333.873574 238.36075 \nL 336.571833 225.709545 \nL 341.968351 205.932226 \nL 344.66661 196.3261 \nL 347.364869 196.012175 \nL 350.063129 203.358036 \nL 352.761388 197.989907 \nL 355.459647 190.298727 \nL 358.157906 179.483987 \nL 360.856165 177.082456 \nL 366.252684 161.574527 \nL 368.950943 152.816 \nL 371.649202 137.653389 \nL 374.347461 131.390572 \nL 377.045721 121.59609 \nL 379.74398 121.925712 \nL 382.442239 130.024995 \nL 385.140498 120.010766 \nL 387.838757 116.871509 \nL 390.537016 113.434022 \nL 393.235276 109.761092 \nL 395.933535 103.639541 \nL 398.631794 101.457757 \nL 401.330053 107.846145 \nL 404.028312 110.326158 \nL 406.726572 103.796504 \nL 409.424831 102.179787 \nL 412.12309 99.370152 \nL 414.821349 97.988879 \nL 417.519608 98.161538 \nL 420.217868 90.344788 \nL 422.916127 85.259192 \nL 425.614386 79.200426 \nL 428.312645 82.575127 \nL 431.010904 89.607063 \nL 433.709163 88.932123 \nL 436.407423 93.232904 \nL 439.105682 80.28347 \nL 441.803941 77.206998 \nL 444.5022 78.556879 \nL 447.200459 79.137641 \nL 449.898719 76.43788 \nL 452.596978 74.318882 \nL 455.295237 71.054055 \nL 457.993496 75.966992 \nL 460.691755 80.079418 \nL 463.390015 75.088 \nL 466.088274 68.260116 \nL 468.786533 64.304652 \nL 471.484792 56.534992 \nL 474.183051 57.712213 \nL 476.88131 59.784122 \nL 479.57957 76.280917 \nL 482.277829 73.047483 \nL 484.976088 68.809486 \nL 487.674347 67.334035 \nL 490.372606 67.522391 \nL 493.070866 65.952762 \nL 498.467384 55.78157 \nL 501.165643 49.691412 \nL 503.863902 49.503056 \nL 506.562162 52.375476 \nL 509.260421 50.350655 \nL 511.95868 46.505066 \nL 514.656939 36.412355 \nL 517.355198 33.335883 \nL 522.751717 23.086209 \nL 525.449976 19.554545 \nL 528.148235 23.808239 \nL 530.846494 26.602177 \nL 533.544753 25.158119 \nL 536.243013 26.20977 \nL 538.941272 37.385525 \nL 541.639531 49.848374 \nL 544.33779 39.598701 \nL 547.036049 44.464549 \nL 549.734309 29.882701 \nL 552.432568 30.212323 \nL 555.130827 24.357608 \nL 557.829086 25.629008 \nL 560.527345 29.176368 \nL 563.225604 30.432071 \nL 565.923864 37.793628 \nL 565.923864 37.793628 \n\" style=\"fill:none;stroke:#ff7f0e;stroke-linecap:square;stroke-width:1.5;\"/>\n   </g>\n   <g id=\"patch_3\">\n    <path d=\"M 33.2875 279 \nL 33.2875 7.2 \n\" style=\"fill:none;stroke:#000000;stroke-linecap:square;stroke-linejoin:miter;stroke-width:0.8;\"/>\n   </g>\n   <g id=\"patch_4\">\n    <path d=\"M 591.2875 279 \nL 591.2875 7.2 \n\" style=\"fill:none;stroke:#000000;stroke-linecap:square;stroke-linejoin:miter;stroke-width:0.8;\"/>\n   </g>\n   <g id=\"patch_5\">\n    <path d=\"M 33.2875 279 \nL 591.2875 279 \n\" style=\"fill:none;stroke:#000000;stroke-linecap:square;stroke-linejoin:miter;stroke-width:0.8;\"/>\n   </g>\n   <g id=\"patch_6\">\n    <path d=\"M 33.2875 7.2 \nL 591.2875 7.2 \n\" style=\"fill:none;stroke:#000000;stroke-linecap:square;stroke-linejoin:miter;stroke-width:0.8;\"/>\n   </g>\n   <g id=\"legend_1\">\n    <g id=\"patch_7\">\n     <path d=\"M 40.2875 44.55625 \nL 112.721875 44.55625 \nQ 114.721875 44.55625 114.721875 42.55625 \nL 114.721875 14.2 \nQ 114.721875 12.2 112.721875 12.2 \nL 40.2875 12.2 \nQ 38.2875 12.2 38.2875 14.2 \nL 38.2875 42.55625 \nQ 38.2875 44.55625 40.2875 44.55625 \nz\n\" style=\"fill:#ffffff;opacity:0.8;stroke:#cccccc;stroke-linejoin:miter;\"/>\n    </g>\n    <g id=\"line2d_20\">\n     <path d=\"M 42.2875 20.298437 \nL 62.2875 20.298437 \n\" style=\"fill:none;stroke:#1f77b4;stroke-linecap:square;stroke-width:1.5;\"/>\n    </g>\n    <g id=\"line2d_21\"/>\n    <g id=\"text_18\">\n     <!-- forecast -->\n     <g transform=\"translate(70.2875 23.798437)scale(0.1 -0.1)\">\n      <defs>\n       <path d=\"M 37.109375 75.984375 \nL 37.109375 68.5 \nL 28.515625 68.5 \nQ 23.6875 68.5 21.796875 66.546875 \nQ 19.921875 64.59375 19.921875 59.515625 \nL 19.921875 54.6875 \nL 34.71875 54.6875 \nL 34.71875 47.703125 \nL 19.921875 47.703125 \nL 19.921875 0 \nL 10.890625 0 \nL 10.890625 47.703125 \nL 2.296875 47.703125 \nL 2.296875 54.6875 \nL 10.890625 54.6875 \nL 10.890625 58.5 \nQ 10.890625 67.625 15.140625 71.796875 \nQ 19.390625 75.984375 28.609375 75.984375 \nz\n\" id=\"DejaVuSans-102\"/>\n       <path d=\"M 30.609375 48.390625 \nQ 23.390625 48.390625 19.1875 42.75 \nQ 14.984375 37.109375 14.984375 27.296875 \nQ 14.984375 17.484375 19.15625 11.84375 \nQ 23.34375 6.203125 30.609375 6.203125 \nQ 37.796875 6.203125 41.984375 11.859375 \nQ 46.1875 17.53125 46.1875 27.296875 \nQ 46.1875 37.015625 41.984375 42.703125 \nQ 37.796875 48.390625 30.609375 48.390625 \nz\nM 30.609375 56 \nQ 42.328125 56 49.015625 48.375 \nQ 55.71875 40.765625 55.71875 27.296875 \nQ 55.71875 13.875 49.015625 6.21875 \nQ 42.328125 -1.421875 30.609375 -1.421875 \nQ 18.84375 -1.421875 12.171875 6.21875 \nQ 5.515625 13.875 5.515625 27.296875 \nQ 5.515625 40.765625 12.171875 48.375 \nQ 18.84375 56 30.609375 56 \nz\n\" id=\"DejaVuSans-111\"/>\n       <path d=\"M 41.109375 46.296875 \nQ 39.59375 47.171875 37.8125 47.578125 \nQ 36.03125 48 33.890625 48 \nQ 26.265625 48 22.1875 43.046875 \nQ 18.109375 38.09375 18.109375 28.8125 \nL 18.109375 0 \nL 9.078125 0 \nL 9.078125 54.6875 \nL 18.109375 54.6875 \nL 18.109375 46.1875 \nQ 20.953125 51.171875 25.484375 53.578125 \nQ 30.03125 56 36.53125 56 \nQ 37.453125 56 38.578125 55.875 \nQ 39.703125 55.765625 41.0625 55.515625 \nz\n\" id=\"DejaVuSans-114\"/>\n       <path d=\"M 56.203125 29.59375 \nL 56.203125 25.203125 \nL 14.890625 25.203125 \nQ 15.484375 15.921875 20.484375 11.0625 \nQ 25.484375 6.203125 34.421875 6.203125 \nQ 39.59375 6.203125 44.453125 7.46875 \nQ 49.3125 8.734375 54.109375 11.28125 \nL 54.109375 2.78125 \nQ 49.265625 0.734375 44.1875 -0.34375 \nQ 39.109375 -1.421875 33.890625 -1.421875 \nQ 20.796875 -1.421875 13.15625 6.1875 \nQ 5.515625 13.8125 5.515625 26.8125 \nQ 5.515625 40.234375 12.765625 48.109375 \nQ 20.015625 56 32.328125 56 \nQ 43.359375 56 49.78125 48.890625 \nQ 56.203125 41.796875 56.203125 29.59375 \nz\nM 47.21875 32.234375 \nQ 47.125 39.59375 43.09375 43.984375 \nQ 39.0625 48.390625 32.421875 48.390625 \nQ 24.90625 48.390625 20.390625 44.140625 \nQ 15.875 39.890625 15.1875 32.171875 \nz\n\" id=\"DejaVuSans-101\"/>\n       <path d=\"M 48.78125 52.59375 \nL 48.78125 44.1875 \nQ 44.96875 46.296875 41.140625 47.34375 \nQ 37.3125 48.390625 33.40625 48.390625 \nQ 24.65625 48.390625 19.8125 42.84375 \nQ 14.984375 37.3125 14.984375 27.296875 \nQ 14.984375 17.28125 19.8125 11.734375 \nQ 24.65625 6.203125 33.40625 6.203125 \nQ 37.3125 6.203125 41.140625 7.25 \nQ 44.96875 8.296875 48.78125 10.40625 \nL 48.78125 2.09375 \nQ 45.015625 0.34375 40.984375 -0.53125 \nQ 36.96875 -1.421875 32.421875 -1.421875 \nQ 20.0625 -1.421875 12.78125 6.34375 \nQ 5.515625 14.109375 5.515625 27.296875 \nQ 5.515625 40.671875 12.859375 48.328125 \nQ 20.21875 56 33.015625 56 \nQ 37.15625 56 41.109375 55.140625 \nQ 45.0625 54.296875 48.78125 52.59375 \nz\n\" id=\"DejaVuSans-99\"/>\n       <path d=\"M 34.28125 27.484375 \nQ 23.390625 27.484375 19.1875 25 \nQ 14.984375 22.515625 14.984375 16.5 \nQ 14.984375 11.71875 18.140625 8.90625 \nQ 21.296875 6.109375 26.703125 6.109375 \nQ 34.1875 6.109375 38.703125 11.40625 \nQ 43.21875 16.703125 43.21875 25.484375 \nL 43.21875 27.484375 \nz\nM 52.203125 31.203125 \nL 52.203125 0 \nL 43.21875 0 \nL 43.21875 8.296875 \nQ 40.140625 3.328125 35.546875 0.953125 \nQ 30.953125 -1.421875 24.3125 -1.421875 \nQ 15.921875 -1.421875 10.953125 3.296875 \nQ 6 8.015625 6 15.921875 \nQ 6 25.140625 12.171875 29.828125 \nQ 18.359375 34.515625 30.609375 34.515625 \nL 43.21875 34.515625 \nL 43.21875 35.40625 \nQ 43.21875 41.609375 39.140625 45 \nQ 35.0625 48.390625 27.6875 48.390625 \nQ 23 48.390625 18.546875 47.265625 \nQ 14.109375 46.140625 10.015625 43.890625 \nL 10.015625 52.203125 \nQ 14.9375 54.109375 19.578125 55.046875 \nQ 24.21875 56 28.609375 56 \nQ 40.484375 56 46.34375 49.84375 \nQ 52.203125 43.703125 52.203125 31.203125 \nz\n\" id=\"DejaVuSans-97\"/>\n       <path d=\"M 44.28125 53.078125 \nL 44.28125 44.578125 \nQ 40.484375 46.53125 36.375 47.5 \nQ 32.28125 48.484375 27.875 48.484375 \nQ 21.1875 48.484375 17.84375 46.4375 \nQ 14.5 44.390625 14.5 40.28125 \nQ 14.5 37.15625 16.890625 35.375 \nQ 19.28125 33.59375 26.515625 31.984375 \nL 29.59375 31.296875 \nQ 39.15625 29.25 43.1875 25.515625 \nQ 47.21875 21.78125 47.21875 15.09375 \nQ 47.21875 7.46875 41.1875 3.015625 \nQ 35.15625 -1.421875 24.609375 -1.421875 \nQ 20.21875 -1.421875 15.453125 -0.5625 \nQ 10.6875 0.296875 5.421875 2 \nL 5.421875 11.28125 \nQ 10.40625 8.6875 15.234375 7.390625 \nQ 20.0625 6.109375 24.8125 6.109375 \nQ 31.15625 6.109375 34.5625 8.28125 \nQ 37.984375 10.453125 37.984375 14.40625 \nQ 37.984375 18.0625 35.515625 20.015625 \nQ 33.0625 21.96875 24.703125 23.78125 \nL 21.578125 24.515625 \nQ 13.234375 26.265625 9.515625 29.90625 \nQ 5.8125 33.546875 5.8125 39.890625 \nQ 5.8125 47.609375 11.28125 51.796875 \nQ 16.75 56 26.8125 56 \nQ 31.78125 56 36.171875 55.265625 \nQ 40.578125 54.546875 44.28125 53.078125 \nz\n\" id=\"DejaVuSans-115\"/>\n       <path d=\"M 18.3125 70.21875 \nL 18.3125 54.6875 \nL 36.8125 54.6875 \nL 36.8125 47.703125 \nL 18.3125 47.703125 \nL 18.3125 18.015625 \nQ 18.3125 11.328125 20.140625 9.421875 \nQ 21.96875 7.515625 27.59375 7.515625 \nL 36.8125 7.515625 \nL 36.8125 0 \nL 27.59375 0 \nQ 17.1875 0 13.234375 3.875 \nQ 9.28125 7.765625 9.28125 18.015625 \nL 9.28125 47.703125 \nL 2.6875 47.703125 \nL 2.6875 54.6875 \nL 9.28125 54.6875 \nL 9.28125 70.21875 \nz\n\" id=\"DejaVuSans-116\"/>\n      </defs>\n      <use xlink:href=\"#DejaVuSans-102\"/>\n      <use x=\"35.205078\" xlink:href=\"#DejaVuSans-111\"/>\n      <use x=\"96.386719\" xlink:href=\"#DejaVuSans-114\"/>\n      <use x=\"135.25\" xlink:href=\"#DejaVuSans-101\"/>\n      <use x=\"196.773438\" xlink:href=\"#DejaVuSans-99\"/>\n      <use x=\"251.753906\" xlink:href=\"#DejaVuSans-97\"/>\n      <use x=\"313.033203\" xlink:href=\"#DejaVuSans-115\"/>\n      <use x=\"365.132812\" xlink:href=\"#DejaVuSans-116\"/>\n     </g>\n    </g>\n    <g id=\"line2d_22\">\n     <path d=\"M 42.2875 34.976562 \nL 62.2875 34.976562 \n\" style=\"fill:none;stroke:#ff7f0e;stroke-linecap:square;stroke-width:1.5;\"/>\n    </g>\n    <g id=\"line2d_23\"/>\n    <g id=\"text_19\">\n     <!-- actual -->\n     <g transform=\"translate(70.2875 38.476562)scale(0.1 -0.1)\">\n      <defs>\n       <path d=\"M 8.5 21.578125 \nL 8.5 54.6875 \nL 17.484375 54.6875 \nL 17.484375 21.921875 \nQ 17.484375 14.15625 20.5 10.265625 \nQ 23.53125 6.390625 29.59375 6.390625 \nQ 36.859375 6.390625 41.078125 11.03125 \nQ 45.3125 15.671875 45.3125 23.6875 \nL 45.3125 54.6875 \nL 54.296875 54.6875 \nL 54.296875 0 \nL 45.3125 0 \nL 45.3125 8.40625 \nQ 42.046875 3.421875 37.71875 1 \nQ 33.40625 -1.421875 27.6875 -1.421875 \nQ 18.265625 -1.421875 13.375 4.4375 \nQ 8.5 10.296875 8.5 21.578125 \nz\nM 31.109375 56 \nz\n\" id=\"DejaVuSans-117\"/>\n       <path d=\"M 9.421875 75.984375 \nL 18.40625 75.984375 \nL 18.40625 0 \nL 9.421875 0 \nz\n\" id=\"DejaVuSans-108\"/>\n      </defs>\n      <use xlink:href=\"#DejaVuSans-97\"/>\n      <use x=\"61.279297\" xlink:href=\"#DejaVuSans-99\"/>\n      <use x=\"116.259766\" xlink:href=\"#DejaVuSans-116\"/>\n      <use x=\"155.46875\" xlink:href=\"#DejaVuSans-117\"/>\n      <use x=\"218.847656\" xlink:href=\"#DejaVuSans-97\"/>\n      <use x=\"280.126953\" xlink:href=\"#DejaVuSans-108\"/>\n     </g>\n    </g>\n   </g>\n  </g>\n </g>\n <defs>\n  <clipPath id=\"p06a86cc2dc\">\n   <rect height=\"271.8\" width=\"558\" x=\"33.2875\" y=\"7.2\"/>\n  </clipPath>\n </defs>\n</svg>\n",
      "image/png": "[encoded data removed]"
     },
     "metadata": {
      "needs_background": "light"
     }
    }
   ],
   "source": [
    "plot_df = merged_df[-n_seq - (n_seq*2) :]\n",
    "plt.figure(figsize=(10, 5))\n",
    "plt.plot(plot_df['forecast'], label=\"forecast\")\n",
    "plt.plot(plot_df['Close'], label=\"actual\")\n",
    "plt.legend()"
   ]
  }
 ]
}
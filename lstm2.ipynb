{
 "metadata": {
  "language_info": {
   "codemirror_mode": {
    "name": "ipython",
    "version": 3
   },
   "file_extension": ".py",
   "mimetype": "text/x-python",
   "name": "python",
   "nbconvert_exporter": "python",
   "pygments_lexer": "ipython3",
   "version": "3.8.8-final"
  },
  "orig_nbformat": 2,
  "kernelspec": {
   "name": "python388jvsc74a57bd03c80b69efc6c35edf58052dd52e794939bcc5e24ed141d0f365672b2a75355b3",
   "display_name": "Python 3.8.8 64-bit ('venv')"
  }
 },
 "nbformat": 4,
 "nbformat_minor": 2,
 "cells": [
  {
   "cell_type": "code",
   "execution_count": 1,
   "metadata": {},
   "outputs": [],
   "source": [
    "# https://machinelearningmastery.com/multi-step-time-series-forecasting-long-short-term-memory-networks-python/\n",
    "\n",
    "import pandas as pd\n",
    "from datetime import datetime, timedelta, date\n",
    "import numpy as np\n",
    "\n",
    "from sklearn.metrics import mean_squared_error\n",
    "from sklearn.preprocessing import MinMaxScaler\n",
    "from keras.models import Sequential\n",
    "from keras.layers import Dense\n",
    "from keras.layers import LSTM\n",
    "\n",
    "import math\n",
    "import matplotlib.pyplot as plt"
   ]
  },
  {
   "source": [
    "# Creating functions\n",
    "All the functions that are used in the fitting and predicting  \n",
    "**Don't need to run** this unless want to generate new output, use the csv file 'lstm_results.csv' instead  \n",
    "Or start from \"plotting\""
   ],
   "cell_type": "markdown",
   "metadata": {}
  },
  {
   "cell_type": "code",
   "execution_count": 2,
   "metadata": {},
   "outputs": [],
   "source": [
    "def series_to_supervised(data, n_in=1, n_out=1, dropnan=True):\n",
    "    n_vars = 1 if type(data) is list else data.shape[1]\n",
    "    df = pd.DataFrame(data)\n",
    "    cols, names = list(), list()\n",
    "\n",
    "    # input sequence (t-n, ... t-1)\n",
    "    for i in range(n_in, 0, -1):\n",
    "        cols.append(df.shift(i))\n",
    "        names += [(\"var%d(t-%d)\" % (j + 1, i)) for j in range(n_vars)]\n",
    "\n",
    "    # forecast sequence (t, t+1, ... t+n)\n",
    "    for i in range(0, n_out):\n",
    "        cols.append(df.shift(-i))\n",
    "        if i == 0:\n",
    "            names += [(\"var%d(t)\" % (j + 1)) for j in range(n_vars)]\n",
    "        else:\n",
    "            names += [(\"var%d(t+%d)\" % (j + 1, i)) for j in range(n_vars)]\n",
    "\n",
    "    # put it all together\n",
    "    agg = pd.concat(cols, axis=1)\n",
    "    agg.columns = names\n",
    "\n",
    "    # drop rows with NaN values\n",
    "    if dropnan:\n",
    "        agg.dropna(inplace=True)\n",
    "\n",
    "    return agg\n",
    "\n",
    "\n",
    "# transform series into train and test sets for supervised learning\n",
    "def prepare_data(series, n_test, n_lag, n_seq):\n",
    "    # extract raw values\n",
    "    raw_values = series.values\n",
    "\n",
    "    # transform data to be stationary\n",
    "    diff_values = raw_values\n",
    "    diff_values = diff_values.reshape(len(diff_values), 1)\n",
    "\n",
    "    # rescale values to -1, 1\n",
    "    scaler = MinMaxScaler(feature_range=(-1, 1))\n",
    "    scaled_values = scaler.fit_transform(diff_values)\n",
    "    scaled_values = scaled_values.reshape(len(scaled_values), 1)\n",
    "\n",
    "    # transform into supervised learning problem X, y\n",
    "    supervised = series_to_supervised(scaled_values, n_lag, n_seq)\n",
    "    supervised_values = supervised.values\n",
    "\n",
    "    # split into train and test sets\n",
    "    train, test = supervised_values[0:-n_test], supervised_values[-n_test:]\n",
    "    return scaler, train, test\n",
    "\n",
    "\n",
    "def fit_lstm(train, n_lag, n_seq, n_batch, nb_epoch, n_neurons):\n",
    "    # reshape training into [samples, timesteps, features]\n",
    "    X, y = train[:, 0:n_lag], train[:, n_lag:]\n",
    "\n",
    "    X = X.reshape(X.shape[0], 1, X.shape[1])\n",
    "\n",
    "    # design network\n",
    "    model = Sequential()\n",
    "    model.add(LSTM(n_neurons, batch_input_shape=(n_batch, X.shape[1], X.shape[2]), stateful=True))\n",
    "    model.add(Dense(y.shape[1]))\n",
    "    model.compile(loss=\"mean_squared_error\", optimizer=\"adam\")\n",
    "\n",
    "    model.fit(X, y, epochs=nb_epoch, batch_size=n_batch, verbose=2, shuffle=False)\n",
    "\n",
    "    return model\n",
    "\n",
    "\n",
    "def forecast_lstm(model, X, n_batch):\n",
    "    # reshape input pattern to [samples, timesteps, features]\n",
    "    X = X.reshape(1, 1, len(X))\n",
    "\n",
    "    # make forecast\n",
    "    forecast = model.predict(X, batch_size=n_batch)\n",
    "\n",
    "    # convert to array\n",
    "    return [x for x in forecast[0, :]]\n",
    "\n",
    "\n",
    "def make_forecasts(model, n_batch, train, test, n_lag, n_seq, forecast_len):\n",
    "    forecasts = list()\n",
    "    print(f'Forecast x of {forecast_len}:', end=\" \")\n",
    "    for i in range(forecast_len):\n",
    "        X, y = test[i, 0:n_lag], test[i, n_lag:]\n",
    "        # make forecast\n",
    "        forecast = forecast_lstm(model, X, n_batch)\n",
    "        # store the forecast\n",
    "        forecasts.append(forecast)\n",
    "\n",
    "        # Printing current status in hundreds\n",
    "        step = i % 100\n",
    "        if step == 0:\n",
    "            print(i, end=\" \")\n",
    "\n",
    "    return forecasts\n",
    "\n",
    "\n",
    "def inverse_transform(series, forecasts, scaler):\n",
    "    inverted = list()\n",
    "    for i in range(len(forecasts)):\n",
    "\n",
    "        # create array from forecast\n",
    "        forecast = np.array(forecasts[i])\n",
    "        forecast = forecast.reshape(1, len(forecast))\n",
    "\n",
    "        # invert scaling\n",
    "        inv_scale = scaler.inverse_transform(forecast)\n",
    "        inv_scale = inv_scale[0, :]\n",
    "\n",
    "        inverted.append(inv_scale)\n",
    "\n",
    "    return inverted"
   ]
  },
  {
   "source": [
    "# Fitting and predicting\n",
    "Outputs a matrix with 63 forecasts for every t 1000 periods ahead  \n",
    "**Don't need to run** this unless want to generate new output, use the csv file 'lstm_results.csv' instead\n",
    "Or start from \"plotting\""
   ],
   "cell_type": "markdown",
   "metadata": {}
  },
  {
   "cell_type": "code",
   "execution_count": 3,
   "metadata": {},
   "outputs": [
    {
     "output_type": "stream",
     "name": "stdout",
     "text": [
      "Preparing data...\n",
      "Fitting model...\n",
      "Epoch 1/5\n",
      "3360/3360 - 5s - loss: 0.0090\n",
      "Epoch 2/5\n",
      "3360/3360 - 3s - loss: 0.0078\n",
      "Epoch 3/5\n",
      "3360/3360 - 3s - loss: 0.0077\n",
      "Epoch 4/5\n",
      "3360/3360 - 3s - loss: 0.0077\n",
      "Epoch 5/5\n",
      "3360/3360 - 3s - loss: 0.0077\n",
      "Making forecasts...\n",
      "Forecast x of 1000: 0 100 200 300 400 500 600 700 800 900 \n",
      "Inverting forecasts...\n",
      "Done!\n"
     ]
    }
   ],
   "source": [
    "# load dataset\n",
    "logreturns = \"data/final.csv\"\n",
    "series = pd.read_csv(logreturns, usecols=[\"Exchange.Date\", \"logreturns\"], header=0, index_col=0, squeeze=True)\n",
    "\n",
    "# configure\n",
    "n_lag = 1 # same as ARMA-GARCH\n",
    "n_seq = 63  #  number of periods forecast\n",
    "test_share = 0.25\n",
    "n_test = int(len(series) * test_share)\n",
    "n_epochs = 5\n",
    "n_batch = 1\n",
    "n_neurons = 50\n",
    "forecast_len = 1000\n",
    "\n",
    "print(\"Preparing data...\")\n",
    "scaler, train, test = prepare_data(series, n_test, n_lag, n_seq)\n",
    "\n",
    "print(\"Fitting model...\")\n",
    "model = fit_lstm(train, n_lag, n_seq, n_batch, n_epochs, n_neurons)\n",
    "\n",
    "print(\"Making forecasts...\")\n",
    "forecasts = make_forecasts(model, n_batch, train, test, n_lag, n_seq, forecast_len)\n",
    "\n",
    "print(\"\\nInverting forecasts...\")\n",
    "forecasts = inverse_transform(series, forecasts, scaler)\n",
    "print(\"Done!\")"
   ]
  },
  {
   "source": [
    "# Generating CSV\n",
    "_**Not recommended to run this chunk**, unless the above \"fitting and predicting\" has been run. Use the csv-file instead. That way, we can be sure to get the same results repeatedly._  \n",
    "Or start from \"plotting\""
   ],
   "cell_type": "markdown",
   "metadata": {}
  },
  {
   "cell_type": "code",
   "execution_count": 4,
   "metadata": {
    "tags": []
   },
   "outputs": [
    {
     "output_type": "stream",
     "name": "stdout",
     "text": [
      "0 100 200 300 400 500 600 700 800 900 done!\n"
     ]
    }
   ],
   "source": [
    "# Creating df that is as alike arch_evaluate as possible\n",
    "original_df = pd.read_csv(\"data/final.csv\", usecols=[\"Exchange.Date\", \"logreturns\", \"Close\"])\n",
    "cross_df = pd.DataFrame(columns=['time', 'Close', 'forecast'])\n",
    "\n",
    "forecast_len = 1000\n",
    "for i in range(forecast_len):\n",
    "    train_size_cv = int(len(original_df) * 0.75) + i\n",
    "    train_cv = original_df[:train_size_cv]\n",
    "    last_train = train_cv['Close'].values[-1]\n",
    "    test_cv = original_df[train_size_cv : len(original_df)]\n",
    "\n",
    "    price_forecasts = np.exp(np.cumsum(forecasts[i]) + math.log(last_train))\n",
    "\n",
    "    for j, forecast in enumerate(price_forecasts):\n",
    "        cross_df = cross_df.append({\n",
    "            'time': i+1,\n",
    "            'forecast': forecast,\n",
    "            'Close': test_cv['Close'].values[j]\n",
    "        }, ignore_index=True)\n",
    "\n",
    "    step = i % 100\n",
    "    if step == 0:\n",
    "        print(i, end=\" \")\n",
    "\n",
    "print('done!')\n",
    "cross_df.to_csv('data/lstm_results.csv', index=False)"
   ]
  },
  {
   "source": [
    "# Plotting"
   ],
   "cell_type": "markdown",
   "metadata": {}
  },
  {
   "source": [
    "## Creating a plot df for t=1\n"
   ],
   "cell_type": "markdown",
   "metadata": {}
  },
  {
   "cell_type": "code",
   "execution_count": 5,
   "metadata": {},
   "outputs": [],
   "source": [
    "# Importing original df\n",
    "original_df = pd.read_csv(\"data/final.csv\", usecols=[\"Exchange.Date\", \"logreturns\", \"Close\"])"
   ]
  },
  {
   "cell_type": "code",
   "execution_count": 6,
   "metadata": {},
   "outputs": [],
   "source": [
    "# configurations (same as in predicting)\n",
    "\n",
    "n_lag = 1 # same as ARMA-GARCH\n",
    "n_seq = 63  #  number of periods forecast\n",
    "test_share = 0.25\n",
    "n_test = int(len(original_df) * test_share)\n",
    "n_epochs = 5\n",
    "n_batch = 1\n",
    "n_neurons = 50\n",
    "forecast_len = 1000"
   ]
  },
  {
   "cell_type": "code",
   "execution_count": 7,
   "metadata": {},
   "outputs": [],
   "source": [
    "# Setting as date\n",
    "original_df['Exchange.Date'] = original_df['Exchange.Date'].apply(lambda x: date(1900, 1, 1) + timedelta(int(x)))\n",
    "original_df.index = original_df['Exchange.Date']"
   ]
  },
  {
   "cell_type": "code",
   "execution_count": 8,
   "metadata": {},
   "outputs": [],
   "source": [
    "# Assigning all rows in train df (before forecast) to closing value\n",
    "# This is because this column cannot be empty (and we have no forecasts since it's training data)\n",
    "train_df = original_df[:-n_test].copy()\n",
    "train_df[\"forecast\"] = train_df[\"Close\"]"
   ]
  },
  {
   "cell_type": "code",
   "execution_count": 9,
   "metadata": {},
   "outputs": [],
   "source": [
    "# Transforming logreturns back to price\n",
    "\n",
    "lstm_cross_df = pd.read_csv('data/lstm_results.csv')\n",
    "price_forecasts = lstm_cross_df[:63]['forecast']"
   ]
  },
  {
   "cell_type": "code",
   "execution_count": 10,
   "metadata": {},
   "outputs": [],
   "source": [
    "# Creating a separate dataframe only for forecasts\n",
    "\n",
    "forecast_df = pd.DataFrame(columns=[\"Exchange.Date\", \"Close\", \"logreturns\", \"forecast\"])\n",
    "forecast_df[\"Close\"] = original_df[\"Close\"].values[-n_test : -n_test + n_seq]\n",
    "forecast_df[\"logreturns\"] = original_df[\"logreturns\"].values[-n_test : -n_test + n_seq]\n",
    "forecast_df[\"forecast\"] = price_forecasts\n",
    "forecast_df[\"Exchange.Date\"] = forecast_df.index.map(lambda x: date(2016, 8, 1) + timedelta(int(x)))\n",
    "\n",
    "forecast_df.index = forecast_df[\"Exchange.Date\"]"
   ]
  },
  {
   "cell_type": "code",
   "execution_count": 11,
   "metadata": {},
   "outputs": [],
   "source": [
    "# Merging train and forecast dataframe\n",
    "merged_df = train_df.append(forecast_df, ignore_index=True)"
   ]
  },
  {
   "source": [
    "## Generating plot"
   ],
   "cell_type": "markdown",
   "metadata": {}
  },
  {
   "cell_type": "code",
   "execution_count": 12,
   "metadata": {},
   "outputs": [
    {
     "output_type": "execute_result",
     "data": {
      "text/plain": [
       "<matplotlib.legend.Legend at 0x141214550>"
      ]
     },
     "metadata": {},
     "execution_count": 12
    },
    {
     "output_type": "display_data",
     "data": {
      "text/plain": "<Figure size 720x360 with 1 Axes>",
      "image/svg+xml": "<?xml version=\"1.0\" encoding=\"utf-8\" standalone=\"no\"?>\n<!DOCTYPE svg PUBLIC \"-//W3C//DTD SVG 1.1//EN\"\n  \"http://www.w3.org/Graphics/SVG/1.1/DTD/svg11.dtd\">\n<!-- Created with matplotlib (https://matplotlib.org/) -->\n<svg height=\"302.878125pt\" version=\"1.1\" viewBox=\"0 0 598.4875 302.878125\" width=\"598.4875pt\" xmlns=\"http://www.w3.org/2000/svg\" xmlns:xlink=\"http://www.w3.org/1999/xlink\">\n <metadata>\n  <rdf:RDF xmlns:cc=\"http://creativecommons.org/ns#\" xmlns:dc=\"http://purl.org/dc/elements/1.1/\" xmlns:rdf=\"http://www.w3.org/1999/02/22-rdf-syntax-ns#\">\n   <cc:Work>\n    <dc:type rdf:resource=\"http://purl.org/dc/dcmitype/StillImage\"/>\n    <dc:date>2021-04-14T15:14:03.989728</dc:date>\n    <dc:format>image/svg+xml</dc:format>\n    <dc:creator>\n     <cc:Agent>\n      <dc:title>Matplotlib v3.3.4, https://matplotlib.org/</dc:title>\n     </cc:Agent>\n    </dc:creator>\n   </cc:Work>\n  </rdf:RDF>\n </metadata>\n <defs>\n  <style type=\"text/css\">*{stroke-linecap:butt;stroke-linejoin:round;}</style>\n </defs>\n <g id=\"figure_1\">\n  <g id=\"patch_1\">\n   <path d=\"M 0 302.878125 \nL 598.4875 302.878125 \nL 598.4875 0 \nL 0 0 \nz\n\" style=\"fill:none;\"/>\n  </g>\n  <g id=\"axes_1\">\n   <g id=\"patch_2\">\n    <path d=\"M 33.2875 279 \nL 591.2875 279 \nL 591.2875 7.2 \nL 33.2875 7.2 \nz\n\" style=\"fill:#ffffff;\"/>\n   </g>\n   <g id=\"matplotlib.axis_1\">\n    <g id=\"xtick_1\">\n     <g id=\"line2d_1\">\n      <defs>\n       <path d=\"M 0 0 \nL 0 3.5 \n\" id=\"m9f540fae0e\" style=\"stroke:#000000;stroke-width:0.8;\"/>\n      </defs>\n      <g>\n       <use style=\"stroke:#000000;stroke-width:0.8;\" x=\"66.745914\" xlink:href=\"#m9f540fae0e\" y=\"279\"/>\n      </g>\n     </g>\n     <g id=\"text_1\">\n      <!-- 3300 -->\n      <g transform=\"translate(54.020914 293.598437)scale(0.1 -0.1)\">\n       <defs>\n        <path d=\"M 40.578125 39.3125 \nQ 47.65625 37.796875 51.625 33 \nQ 55.609375 28.21875 55.609375 21.1875 \nQ 55.609375 10.40625 48.1875 4.484375 \nQ 40.765625 -1.421875 27.09375 -1.421875 \nQ 22.515625 -1.421875 17.65625 -0.515625 \nQ 12.796875 0.390625 7.625 2.203125 \nL 7.625 11.71875 \nQ 11.71875 9.328125 16.59375 8.109375 \nQ 21.484375 6.890625 26.8125 6.890625 \nQ 36.078125 6.890625 40.9375 10.546875 \nQ 45.796875 14.203125 45.796875 21.1875 \nQ 45.796875 27.640625 41.28125 31.265625 \nQ 36.765625 34.90625 28.71875 34.90625 \nL 20.21875 34.90625 \nL 20.21875 43.015625 \nL 29.109375 43.015625 \nQ 36.375 43.015625 40.234375 45.921875 \nQ 44.09375 48.828125 44.09375 54.296875 \nQ 44.09375 59.90625 40.109375 62.90625 \nQ 36.140625 65.921875 28.71875 65.921875 \nQ 24.65625 65.921875 20.015625 65.03125 \nQ 15.375 64.15625 9.8125 62.3125 \nL 9.8125 71.09375 \nQ 15.4375 72.65625 20.34375 73.4375 \nQ 25.25 74.21875 29.59375 74.21875 \nQ 40.828125 74.21875 47.359375 69.109375 \nQ 53.90625 64.015625 53.90625 55.328125 \nQ 53.90625 49.265625 50.4375 45.09375 \nQ 46.96875 40.921875 40.578125 39.3125 \nz\n\" id=\"DejaVuSans-51\"/>\n        <path d=\"M 31.78125 66.40625 \nQ 24.171875 66.40625 20.328125 58.90625 \nQ 16.5 51.421875 16.5 36.375 \nQ 16.5 21.390625 20.328125 13.890625 \nQ 24.171875 6.390625 31.78125 6.390625 \nQ 39.453125 6.390625 43.28125 13.890625 \nQ 47.125 21.390625 47.125 36.375 \nQ 47.125 51.421875 43.28125 58.90625 \nQ 39.453125 66.40625 31.78125 66.40625 \nz\nM 31.78125 74.21875 \nQ 44.046875 74.21875 50.515625 64.515625 \nQ 56.984375 54.828125 56.984375 36.375 \nQ 56.984375 17.96875 50.515625 8.265625 \nQ 44.046875 -1.421875 31.78125 -1.421875 \nQ 19.53125 -1.421875 13.0625 8.265625 \nQ 6.59375 17.96875 6.59375 36.375 \nQ 6.59375 54.828125 13.0625 64.515625 \nQ 19.53125 74.21875 31.78125 74.21875 \nz\n\" id=\"DejaVuSans-48\"/>\n       </defs>\n       <use xlink:href=\"#DejaVuSans-51\"/>\n       <use x=\"63.623047\" xlink:href=\"#DejaVuSans-51\"/>\n       <use x=\"127.246094\" xlink:href=\"#DejaVuSans-48\"/>\n       <use x=\"190.869141\" xlink:href=\"#DejaVuSans-48\"/>\n      </g>\n     </g>\n    </g>\n    <g id=\"xtick_2\">\n     <g id=\"line2d_2\">\n      <g>\n       <use style=\"stroke:#000000;stroke-width:0.8;\" x=\"134.202394\" xlink:href=\"#m9f540fae0e\" y=\"279\"/>\n      </g>\n     </g>\n     <g id=\"text_2\">\n      <!-- 3325 -->\n      <g transform=\"translate(121.477394 293.598437)scale(0.1 -0.1)\">\n       <defs>\n        <path d=\"M 19.1875 8.296875 \nL 53.609375 8.296875 \nL 53.609375 0 \nL 7.328125 0 \nL 7.328125 8.296875 \nQ 12.9375 14.109375 22.625 23.890625 \nQ 32.328125 33.6875 34.8125 36.53125 \nQ 39.546875 41.84375 41.421875 45.53125 \nQ 43.3125 49.21875 43.3125 52.78125 \nQ 43.3125 58.59375 39.234375 62.25 \nQ 35.15625 65.921875 28.609375 65.921875 \nQ 23.96875 65.921875 18.8125 64.3125 \nQ 13.671875 62.703125 7.8125 59.421875 \nL 7.8125 69.390625 \nQ 13.765625 71.78125 18.9375 73 \nQ 24.125 74.21875 28.421875 74.21875 \nQ 39.75 74.21875 46.484375 68.546875 \nQ 53.21875 62.890625 53.21875 53.421875 \nQ 53.21875 48.921875 51.53125 44.890625 \nQ 49.859375 40.875 45.40625 35.40625 \nQ 44.1875 33.984375 37.640625 27.21875 \nQ 31.109375 20.453125 19.1875 8.296875 \nz\n\" id=\"DejaVuSans-50\"/>\n        <path d=\"M 10.796875 72.90625 \nL 49.515625 72.90625 \nL 49.515625 64.59375 \nL 19.828125 64.59375 \nL 19.828125 46.734375 \nQ 21.96875 47.46875 24.109375 47.828125 \nQ 26.265625 48.1875 28.421875 48.1875 \nQ 40.625 48.1875 47.75 41.5 \nQ 54.890625 34.8125 54.890625 23.390625 \nQ 54.890625 11.625 47.5625 5.09375 \nQ 40.234375 -1.421875 26.90625 -1.421875 \nQ 22.3125 -1.421875 17.546875 -0.640625 \nQ 12.796875 0.140625 7.71875 1.703125 \nL 7.71875 11.625 \nQ 12.109375 9.234375 16.796875 8.0625 \nQ 21.484375 6.890625 26.703125 6.890625 \nQ 35.15625 6.890625 40.078125 11.328125 \nQ 45.015625 15.765625 45.015625 23.390625 \nQ 45.015625 31 40.078125 35.4375 \nQ 35.15625 39.890625 26.703125 39.890625 \nQ 22.75 39.890625 18.8125 39.015625 \nQ 14.890625 38.140625 10.796875 36.28125 \nz\n\" id=\"DejaVuSans-53\"/>\n       </defs>\n       <use xlink:href=\"#DejaVuSans-51\"/>\n       <use x=\"63.623047\" xlink:href=\"#DejaVuSans-51\"/>\n       <use x=\"127.246094\" xlink:href=\"#DejaVuSans-50\"/>\n       <use x=\"190.869141\" xlink:href=\"#DejaVuSans-53\"/>\n      </g>\n     </g>\n    </g>\n    <g id=\"xtick_3\">\n     <g id=\"line2d_3\">\n      <g>\n       <use style=\"stroke:#000000;stroke-width:0.8;\" x=\"201.658873\" xlink:href=\"#m9f540fae0e\" y=\"279\"/>\n      </g>\n     </g>\n     <g id=\"text_3\">\n      <!-- 3350 -->\n      <g transform=\"translate(188.933873 293.598437)scale(0.1 -0.1)\">\n       <use xlink:href=\"#DejaVuSans-51\"/>\n       <use x=\"63.623047\" xlink:href=\"#DejaVuSans-51\"/>\n       <use x=\"127.246094\" xlink:href=\"#DejaVuSans-53\"/>\n       <use x=\"190.869141\" xlink:href=\"#DejaVuSans-48\"/>\n      </g>\n     </g>\n    </g>\n    <g id=\"xtick_4\">\n     <g id=\"line2d_4\">\n      <g>\n       <use style=\"stroke:#000000;stroke-width:0.8;\" x=\"269.115353\" xlink:href=\"#m9f540fae0e\" y=\"279\"/>\n      </g>\n     </g>\n     <g id=\"text_4\">\n      <!-- 3375 -->\n      <g transform=\"translate(256.390353 293.598437)scale(0.1 -0.1)\">\n       <defs>\n        <path d=\"M 8.203125 72.90625 \nL 55.078125 72.90625 \nL 55.078125 68.703125 \nL 28.609375 0 \nL 18.3125 0 \nL 43.21875 64.59375 \nL 8.203125 64.59375 \nz\n\" id=\"DejaVuSans-55\"/>\n       </defs>\n       <use xlink:href=\"#DejaVuSans-51\"/>\n       <use x=\"63.623047\" xlink:href=\"#DejaVuSans-51\"/>\n       <use x=\"127.246094\" xlink:href=\"#DejaVuSans-55\"/>\n       <use x=\"190.869141\" xlink:href=\"#DejaVuSans-53\"/>\n      </g>\n     </g>\n    </g>\n    <g id=\"xtick_5\">\n     <g id=\"line2d_5\">\n      <g>\n       <use style=\"stroke:#000000;stroke-width:0.8;\" x=\"336.571833\" xlink:href=\"#m9f540fae0e\" y=\"279\"/>\n      </g>\n     </g>\n     <g id=\"text_5\">\n      <!-- 3400 -->\n      <g transform=\"translate(323.846833 293.598437)scale(0.1 -0.1)\">\n       <defs>\n        <path d=\"M 37.796875 64.3125 \nL 12.890625 25.390625 \nL 37.796875 25.390625 \nz\nM 35.203125 72.90625 \nL 47.609375 72.90625 \nL 47.609375 25.390625 \nL 58.015625 25.390625 \nL 58.015625 17.1875 \nL 47.609375 17.1875 \nL 47.609375 0 \nL 37.796875 0 \nL 37.796875 17.1875 \nL 4.890625 17.1875 \nL 4.890625 26.703125 \nz\n\" id=\"DejaVuSans-52\"/>\n       </defs>\n       <use xlink:href=\"#DejaVuSans-51\"/>\n       <use x=\"63.623047\" xlink:href=\"#DejaVuSans-52\"/>\n       <use x=\"127.246094\" xlink:href=\"#DejaVuSans-48\"/>\n       <use x=\"190.869141\" xlink:href=\"#DejaVuSans-48\"/>\n      </g>\n     </g>\n    </g>\n    <g id=\"xtick_6\">\n     <g id=\"line2d_6\">\n      <g>\n       <use style=\"stroke:#000000;stroke-width:0.8;\" x=\"404.028312\" xlink:href=\"#m9f540fae0e\" y=\"279\"/>\n      </g>\n     </g>\n     <g id=\"text_6\">\n      <!-- 3425 -->\n      <g transform=\"translate(391.303312 293.598437)scale(0.1 -0.1)\">\n       <use xlink:href=\"#DejaVuSans-51\"/>\n       <use x=\"63.623047\" xlink:href=\"#DejaVuSans-52\"/>\n       <use x=\"127.246094\" xlink:href=\"#DejaVuSans-50\"/>\n       <use x=\"190.869141\" xlink:href=\"#DejaVuSans-53\"/>\n      </g>\n     </g>\n    </g>\n    <g id=\"xtick_7\">\n     <g id=\"line2d_7\">\n      <g>\n       <use style=\"stroke:#000000;stroke-width:0.8;\" x=\"471.484792\" xlink:href=\"#m9f540fae0e\" y=\"279\"/>\n      </g>\n     </g>\n     <g id=\"text_7\">\n      <!-- 3450 -->\n      <g transform=\"translate(458.759792 293.598437)scale(0.1 -0.1)\">\n       <use xlink:href=\"#DejaVuSans-51\"/>\n       <use x=\"63.623047\" xlink:href=\"#DejaVuSans-52\"/>\n       <use x=\"127.246094\" xlink:href=\"#DejaVuSans-53\"/>\n       <use x=\"190.869141\" xlink:href=\"#DejaVuSans-48\"/>\n      </g>\n     </g>\n    </g>\n    <g id=\"xtick_8\">\n     <g id=\"line2d_8\">\n      <g>\n       <use style=\"stroke:#000000;stroke-width:0.8;\" x=\"538.941272\" xlink:href=\"#m9f540fae0e\" y=\"279\"/>\n      </g>\n     </g>\n     <g id=\"text_8\">\n      <!-- 3475 -->\n      <g transform=\"translate(526.216272 293.598437)scale(0.1 -0.1)\">\n       <use xlink:href=\"#DejaVuSans-51\"/>\n       <use x=\"63.623047\" xlink:href=\"#DejaVuSans-52\"/>\n       <use x=\"127.246094\" xlink:href=\"#DejaVuSans-55\"/>\n       <use x=\"190.869141\" xlink:href=\"#DejaVuSans-53\"/>\n      </g>\n     </g>\n    </g>\n   </g>\n   <g id=\"matplotlib.axis_2\">\n    <g id=\"ytick_1\">\n     <g id=\"line2d_9\">\n      <defs>\n       <path d=\"M 0 0 \nL -3.5 0 \n\" id=\"mc9be8a59da\" style=\"stroke:#000000;stroke-width:0.8;\"/>\n      </defs>\n      <g>\n       <use style=\"stroke:#000000;stroke-width:0.8;\" x=\"33.2875\" xlink:href=\"#mc9be8a59da\" y=\"262.768472\"/>\n      </g>\n     </g>\n     <g id=\"text_9\">\n      <!-- 520 -->\n      <g transform=\"translate(7.2 266.567691)scale(0.1 -0.1)\">\n       <use xlink:href=\"#DejaVuSans-53\"/>\n       <use x=\"63.623047\" xlink:href=\"#DejaVuSans-50\"/>\n       <use x=\"127.246094\" xlink:href=\"#DejaVuSans-48\"/>\n      </g>\n     </g>\n    </g>\n    <g id=\"ytick_2\">\n     <g id=\"line2d_10\">\n      <g>\n       <use style=\"stroke:#000000;stroke-width:0.8;\" x=\"33.2875\" xlink:href=\"#mc9be8a59da\" y=\"231.375903\"/>\n      </g>\n     </g>\n     <g id=\"text_10\">\n      <!-- 540 -->\n      <g transform=\"translate(7.2 235.175122)scale(0.1 -0.1)\">\n       <use xlink:href=\"#DejaVuSans-53\"/>\n       <use x=\"63.623047\" xlink:href=\"#DejaVuSans-52\"/>\n       <use x=\"127.246094\" xlink:href=\"#DejaVuSans-48\"/>\n      </g>\n     </g>\n    </g>\n    <g id=\"ytick_3\">\n     <g id=\"line2d_11\">\n      <g>\n       <use style=\"stroke:#000000;stroke-width:0.8;\" x=\"33.2875\" xlink:href=\"#mc9be8a59da\" y=\"199.983335\"/>\n      </g>\n     </g>\n     <g id=\"text_11\">\n      <!-- 560 -->\n      <g transform=\"translate(7.2 203.782553)scale(0.1 -0.1)\">\n       <defs>\n        <path d=\"M 33.015625 40.375 \nQ 26.375 40.375 22.484375 35.828125 \nQ 18.609375 31.296875 18.609375 23.390625 \nQ 18.609375 15.53125 22.484375 10.953125 \nQ 26.375 6.390625 33.015625 6.390625 \nQ 39.65625 6.390625 43.53125 10.953125 \nQ 47.40625 15.53125 47.40625 23.390625 \nQ 47.40625 31.296875 43.53125 35.828125 \nQ 39.65625 40.375 33.015625 40.375 \nz\nM 52.59375 71.296875 \nL 52.59375 62.3125 \nQ 48.875 64.0625 45.09375 64.984375 \nQ 41.3125 65.921875 37.59375 65.921875 \nQ 27.828125 65.921875 22.671875 59.328125 \nQ 17.53125 52.734375 16.796875 39.40625 \nQ 19.671875 43.65625 24.015625 45.921875 \nQ 28.375 48.1875 33.59375 48.1875 \nQ 44.578125 48.1875 50.953125 41.515625 \nQ 57.328125 34.859375 57.328125 23.390625 \nQ 57.328125 12.15625 50.6875 5.359375 \nQ 44.046875 -1.421875 33.015625 -1.421875 \nQ 20.359375 -1.421875 13.671875 8.265625 \nQ 6.984375 17.96875 6.984375 36.375 \nQ 6.984375 53.65625 15.1875 63.9375 \nQ 23.390625 74.21875 37.203125 74.21875 \nQ 40.921875 74.21875 44.703125 73.484375 \nQ 48.484375 72.75 52.59375 71.296875 \nz\n\" id=\"DejaVuSans-54\"/>\n       </defs>\n       <use xlink:href=\"#DejaVuSans-53\"/>\n       <use x=\"63.623047\" xlink:href=\"#DejaVuSans-54\"/>\n       <use x=\"127.246094\" xlink:href=\"#DejaVuSans-48\"/>\n      </g>\n     </g>\n    </g>\n    <g id=\"ytick_4\">\n     <g id=\"line2d_12\">\n      <g>\n       <use style=\"stroke:#000000;stroke-width:0.8;\" x=\"33.2875\" xlink:href=\"#mc9be8a59da\" y=\"168.590766\"/>\n      </g>\n     </g>\n     <g id=\"text_12\">\n      <!-- 580 -->\n      <g transform=\"translate(7.2 172.389985)scale(0.1 -0.1)\">\n       <defs>\n        <path d=\"M 31.78125 34.625 \nQ 24.75 34.625 20.71875 30.859375 \nQ 16.703125 27.09375 16.703125 20.515625 \nQ 16.703125 13.921875 20.71875 10.15625 \nQ 24.75 6.390625 31.78125 6.390625 \nQ 38.8125 6.390625 42.859375 10.171875 \nQ 46.921875 13.96875 46.921875 20.515625 \nQ 46.921875 27.09375 42.890625 30.859375 \nQ 38.875 34.625 31.78125 34.625 \nz\nM 21.921875 38.8125 \nQ 15.578125 40.375 12.03125 44.71875 \nQ 8.5 49.078125 8.5 55.328125 \nQ 8.5 64.0625 14.71875 69.140625 \nQ 20.953125 74.21875 31.78125 74.21875 \nQ 42.671875 74.21875 48.875 69.140625 \nQ 55.078125 64.0625 55.078125 55.328125 \nQ 55.078125 49.078125 51.53125 44.71875 \nQ 48 40.375 41.703125 38.8125 \nQ 48.828125 37.15625 52.796875 32.3125 \nQ 56.78125 27.484375 56.78125 20.515625 \nQ 56.78125 9.90625 50.3125 4.234375 \nQ 43.84375 -1.421875 31.78125 -1.421875 \nQ 19.734375 -1.421875 13.25 4.234375 \nQ 6.78125 9.90625 6.78125 20.515625 \nQ 6.78125 27.484375 10.78125 32.3125 \nQ 14.796875 37.15625 21.921875 38.8125 \nz\nM 18.3125 54.390625 \nQ 18.3125 48.734375 21.84375 45.5625 \nQ 25.390625 42.390625 31.78125 42.390625 \nQ 38.140625 42.390625 41.71875 45.5625 \nQ 45.3125 48.734375 45.3125 54.390625 \nQ 45.3125 60.0625 41.71875 63.234375 \nQ 38.140625 66.40625 31.78125 66.40625 \nQ 25.390625 66.40625 21.84375 63.234375 \nQ 18.3125 60.0625 18.3125 54.390625 \nz\n\" id=\"DejaVuSans-56\"/>\n       </defs>\n       <use xlink:href=\"#DejaVuSans-53\"/>\n       <use x=\"63.623047\" xlink:href=\"#DejaVuSans-56\"/>\n       <use x=\"127.246094\" xlink:href=\"#DejaVuSans-48\"/>\n      </g>\n     </g>\n    </g>\n    <g id=\"ytick_5\">\n     <g id=\"line2d_13\">\n      <g>\n       <use style=\"stroke:#000000;stroke-width:0.8;\" x=\"33.2875\" xlink:href=\"#mc9be8a59da\" y=\"137.198197\"/>\n      </g>\n     </g>\n     <g id=\"text_13\">\n      <!-- 600 -->\n      <g transform=\"translate(7.2 140.997416)scale(0.1 -0.1)\">\n       <use xlink:href=\"#DejaVuSans-54\"/>\n       <use x=\"63.623047\" xlink:href=\"#DejaVuSans-48\"/>\n       <use x=\"127.246094\" xlink:href=\"#DejaVuSans-48\"/>\n      </g>\n     </g>\n    </g>\n    <g id=\"ytick_6\">\n     <g id=\"line2d_14\">\n      <g>\n       <use style=\"stroke:#000000;stroke-width:0.8;\" x=\"33.2875\" xlink:href=\"#mc9be8a59da\" y=\"105.805628\"/>\n      </g>\n     </g>\n     <g id=\"text_14\">\n      <!-- 620 -->\n      <g transform=\"translate(7.2 109.604847)scale(0.1 -0.1)\">\n       <use xlink:href=\"#DejaVuSans-54\"/>\n       <use x=\"63.623047\" xlink:href=\"#DejaVuSans-50\"/>\n       <use x=\"127.246094\" xlink:href=\"#DejaVuSans-48\"/>\n      </g>\n     </g>\n    </g>\n    <g id=\"ytick_7\">\n     <g id=\"line2d_15\">\n      <g>\n       <use style=\"stroke:#000000;stroke-width:0.8;\" x=\"33.2875\" xlink:href=\"#mc9be8a59da\" y=\"74.413059\"/>\n      </g>\n     </g>\n     <g id=\"text_15\">\n      <!-- 640 -->\n      <g transform=\"translate(7.2 78.212278)scale(0.1 -0.1)\">\n       <use xlink:href=\"#DejaVuSans-54\"/>\n       <use x=\"63.623047\" xlink:href=\"#DejaVuSans-52\"/>\n       <use x=\"127.246094\" xlink:href=\"#DejaVuSans-48\"/>\n      </g>\n     </g>\n    </g>\n    <g id=\"ytick_8\">\n     <g id=\"line2d_16\">\n      <g>\n       <use style=\"stroke:#000000;stroke-width:0.8;\" x=\"33.2875\" xlink:href=\"#mc9be8a59da\" y=\"43.020491\"/>\n      </g>\n     </g>\n     <g id=\"text_16\">\n      <!-- 660 -->\n      <g transform=\"translate(7.2 46.819709)scale(0.1 -0.1)\">\n       <use xlink:href=\"#DejaVuSans-54\"/>\n       <use x=\"63.623047\" xlink:href=\"#DejaVuSans-54\"/>\n       <use x=\"127.246094\" xlink:href=\"#DejaVuSans-48\"/>\n      </g>\n     </g>\n    </g>\n    <g id=\"ytick_9\">\n     <g id=\"line2d_17\">\n      <g>\n       <use style=\"stroke:#000000;stroke-width:0.8;\" x=\"33.2875\" xlink:href=\"#mc9be8a59da\" y=\"11.627922\"/>\n      </g>\n     </g>\n     <g id=\"text_17\">\n      <!-- 680 -->\n      <g transform=\"translate(7.2 15.427141)scale(0.1 -0.1)\">\n       <use xlink:href=\"#DejaVuSans-54\"/>\n       <use x=\"63.623047\" xlink:href=\"#DejaVuSans-56\"/>\n       <use x=\"127.246094\" xlink:href=\"#DejaVuSans-48\"/>\n      </g>\n     </g>\n    </g>\n   </g>\n   <g id=\"line2d_18\">\n    <path clip-path=\"url(#p06ca2ffcb9)\" d=\"M 58.651136 205.257286 \nL 61.349396 204.598042 \nL 64.047655 208.192491 \nL 66.745914 217.516084 \nL 69.444173 212.88568 \nL 72.142432 220.969267 \nL 74.840691 252.942598 \nL 77.538951 266.645455 \nL 80.23721 256.113248 \nL 82.935469 261.449984 \nL 85.633728 256.631225 \nL 88.331987 244.262553 \nL 91.030247 244.623568 \nL 93.728506 226.902462 \nL 96.426765 226.44727 \nL 99.125024 228.707535 \nL 101.823283 221.440155 \nL 104.521543 222.680162 \nL 107.219802 231.234637 \nL 109.918061 227.718669 \nL 112.61632 227.828543 \nL 118.012838 216.762663 \nL 123.409357 216.841144 \nL 126.107616 213.780369 \nL 128.805875 213.60771 \nL 131.504134 217.657351 \nL 134.202394 209.605157 \nL 136.900653 209.871994 \nL 139.598912 205.696782 \nL 142.297171 203.766139 \nL 144.99543 204.346902 \nL 147.69369 203.46791 \nL 150.391949 208.694773 \nL 153.090208 204.755005 \nL 155.788467 205.304375 \nL 158.486726 205.006146 \nL 161.184985 198.288136 \nL 163.883245 203.860317 \nL 166.581504 204.425383 \nL 169.279763 198.52358 \nL 171.978022 194.568117 \nL 174.676281 197.566107 \nL 177.374541 196.467367 \nL 180.0728 202.180814 \nL 182.771059 188.917454 \nL 185.469318 203.844621 \nL 188.167577 199.62232 \nL 190.865837 196.07496 \nL 193.564096 195.588375 \nL 196.262355 184.020213 \nL 201.658873 179.107276 \nL 204.357132 173.34674 \nL 207.055392 169.202921 \nL 209.753651 167.554811 \nL 212.45191 172.185215 \nL 215.150169 171.934074 \nL 217.848428 181.194882 \nL 220.546688 185.009079 \nL 223.244947 177.616129 \nL 225.943206 186.751367 \nL 228.641465 198.115477 \nL 231.339724 198.068388 \nL 234.037984 210.829467 \nL 236.736243 212.477577 \nL 239.434502 207.674514 \nL 242.132761 204.048672 \nL 244.83102 207.407677 \nL 247.529279 208.490721 \nL 250.227539 209.322624 \nL 252.925798 205.853745 \nL 255.624057 204.770701 \nL 258.322316 196.184834 \nL 261.020575 196.655722 \nL 263.718835 201.788407 \nL 266.417094 198.586365 \nL 269.115353 198.978772 \nL 271.813612 198.366617 \nL 274.511871 192.872918 \nL 277.210131 190.502779 \nL 279.90839 186.343264 \nL 282.606649 187.959981 \nL 285.304908 185.056168 \nL 288.003167 186.201997 \nL 290.701426 187.818714 \nL 293.399686 191.931141 \nL 296.097945 183.06274 \nL 298.796204 187.426307 \nL 301.494463 187.70884 \nL 304.192722 201.600052 \nL 306.890982 224.061435 \nL 309.589241 244.749138 \nL 312.2875 231.925273 \nL 314.985759 244.906101 \nL 317.684018 234.593642 \nL 320.382278 222.413325 \nL 323.080537 219.493816 \nL 328.477055 212.053777 \nL 331.175314 253.319309 \nL 333.873574 238.36075 \nL 336.571833 225.709545 \nL 341.968351 205.932226 \nL 344.66661 196.3261 \nL 347.364869 196.012175 \nL 350.063129 203.358036 \nL 352.761388 197.989907 \nL 355.459647 190.298727 \nL 358.157906 179.483987 \nL 360.856165 177.082456 \nL 366.252684 161.574527 \nL 368.950943 152.816 \nL 371.649202 137.653389 \nL 374.347461 131.390572 \nL 377.045721 121.59609 \nL 379.74398 121.925712 \nL 382.442239 130.024995 \nL 385.140498 120.010766 \nL 387.838757 116.871509 \nL 390.537016 113.434022 \nL 393.235276 109.761092 \nL 395.933535 103.639541 \nL 398.631794 103.432025 \nL 401.330053 103.105434 \nL 412.12309 99.983134 \nL 417.519608 98.922792 \nL 425.614386 97.573222 \nL 433.709163 96.97551 \nL 436.407423 96.8776 \nL 439.105682 96.934698 \nL 441.803941 96.797509 \nL 447.200459 96.231125 \nL 449.898719 95.910953 \nL 452.596978 95.723563 \nL 455.295237 95.349742 \nL 463.390015 93.931289 \nL 468.786533 92.942033 \nL 474.183051 91.890217 \nL 482.277829 91.276219 \nL 484.976088 91.595049 \nL 487.674347 91.704264 \nL 490.372606 91.972128 \nL 495.769125 92.778402 \nL 501.165643 93.777622 \nL 503.863902 94.603727 \nL 509.260421 95.374554 \nL 514.656939 95.433665 \nL 520.053457 95.671446 \nL 528.148235 95.825688 \nL 530.846494 95.596816 \nL 536.243013 94.856167 \nL 541.639531 93.97737 \nL 544.33779 93.375443 \nL 549.734309 91.65962 \nL 555.130827 89.397723 \nL 563.225604 85.553455 \nL 565.923864 83.859475 \nL 565.923864 83.859475 \n\" style=\"fill:none;stroke:#1f77b4;stroke-linecap:square;stroke-width:1.5;\"/>\n   </g>\n   <g id=\"line2d_19\">\n    <path clip-path=\"url(#p06ca2ffcb9)\" d=\"M 58.651136 205.257286 \nL 61.349396 204.598042 \nL 64.047655 208.192491 \nL 66.745914 217.516084 \nL 69.444173 212.88568 \nL 72.142432 220.969267 \nL 74.840691 252.942598 \nL 77.538951 266.645455 \nL 80.23721 256.113248 \nL 82.935469 261.449984 \nL 85.633728 256.631225 \nL 88.331987 244.262553 \nL 91.030247 244.623568 \nL 93.728506 226.902462 \nL 96.426765 226.44727 \nL 99.125024 228.707535 \nL 101.823283 221.440155 \nL 104.521543 222.680162 \nL 107.219802 231.234637 \nL 109.918061 227.718669 \nL 112.61632 227.828543 \nL 118.012838 216.762663 \nL 123.409357 216.841144 \nL 126.107616 213.780369 \nL 128.805875 213.60771 \nL 131.504134 217.657351 \nL 134.202394 209.605157 \nL 136.900653 209.871994 \nL 139.598912 205.696782 \nL 142.297171 203.766139 \nL 144.99543 204.346902 \nL 147.69369 203.46791 \nL 150.391949 208.694773 \nL 153.090208 204.755005 \nL 155.788467 205.304375 \nL 158.486726 205.006146 \nL 161.184985 198.288136 \nL 163.883245 203.860317 \nL 166.581504 204.425383 \nL 169.279763 198.52358 \nL 171.978022 194.568117 \nL 174.676281 197.566107 \nL 177.374541 196.467367 \nL 180.0728 202.180814 \nL 182.771059 188.917454 \nL 185.469318 203.844621 \nL 188.167577 199.62232 \nL 190.865837 196.07496 \nL 193.564096 195.588375 \nL 196.262355 184.020213 \nL 201.658873 179.107276 \nL 204.357132 173.34674 \nL 207.055392 169.202921 \nL 209.753651 167.554811 \nL 212.45191 172.185215 \nL 215.150169 171.934074 \nL 217.848428 181.194882 \nL 220.546688 185.009079 \nL 223.244947 177.616129 \nL 225.943206 186.751367 \nL 228.641465 198.115477 \nL 231.339724 198.068388 \nL 234.037984 210.829467 \nL 236.736243 212.477577 \nL 239.434502 207.674514 \nL 242.132761 204.048672 \nL 244.83102 207.407677 \nL 247.529279 208.490721 \nL 250.227539 209.322624 \nL 252.925798 205.853745 \nL 255.624057 204.770701 \nL 258.322316 196.184834 \nL 261.020575 196.655722 \nL 263.718835 201.788407 \nL 266.417094 198.586365 \nL 269.115353 198.978772 \nL 271.813612 198.366617 \nL 274.511871 192.872918 \nL 277.210131 190.502779 \nL 279.90839 186.343264 \nL 282.606649 187.959981 \nL 285.304908 185.056168 \nL 288.003167 186.201997 \nL 290.701426 187.818714 \nL 293.399686 191.931141 \nL 296.097945 183.06274 \nL 298.796204 187.426307 \nL 301.494463 187.70884 \nL 304.192722 201.600052 \nL 306.890982 224.061435 \nL 309.589241 244.749138 \nL 312.2875 231.925273 \nL 314.985759 244.906101 \nL 317.684018 234.593642 \nL 320.382278 222.413325 \nL 323.080537 219.493816 \nL 328.477055 212.053777 \nL 331.175314 253.319309 \nL 333.873574 238.36075 \nL 336.571833 225.709545 \nL 341.968351 205.932226 \nL 344.66661 196.3261 \nL 347.364869 196.012175 \nL 350.063129 203.358036 \nL 352.761388 197.989907 \nL 355.459647 190.298727 \nL 358.157906 179.483987 \nL 360.856165 177.082456 \nL 366.252684 161.574527 \nL 368.950943 152.816 \nL 371.649202 137.653389 \nL 374.347461 131.390572 \nL 377.045721 121.59609 \nL 379.74398 121.925712 \nL 382.442239 130.024995 \nL 385.140498 120.010766 \nL 387.838757 116.871509 \nL 390.537016 113.434022 \nL 393.235276 109.761092 \nL 395.933535 103.639541 \nL 398.631794 101.457757 \nL 401.330053 107.846145 \nL 404.028312 110.326158 \nL 406.726572 103.796504 \nL 409.424831 102.179787 \nL 412.12309 99.370152 \nL 414.821349 97.988879 \nL 417.519608 98.161538 \nL 420.217868 90.344788 \nL 422.916127 85.259192 \nL 425.614386 79.200426 \nL 428.312645 82.575127 \nL 431.010904 89.607063 \nL 433.709163 88.932123 \nL 436.407423 93.232904 \nL 439.105682 80.28347 \nL 441.803941 77.206998 \nL 444.5022 78.556879 \nL 447.200459 79.137641 \nL 449.898719 76.43788 \nL 452.596978 74.318882 \nL 455.295237 71.054055 \nL 457.993496 75.966992 \nL 460.691755 80.079418 \nL 463.390015 75.088 \nL 466.088274 68.260116 \nL 468.786533 64.304652 \nL 471.484792 56.534992 \nL 474.183051 57.712213 \nL 476.88131 59.784122 \nL 479.57957 76.280917 \nL 482.277829 73.047483 \nL 484.976088 68.809486 \nL 487.674347 67.334035 \nL 490.372606 67.522391 \nL 493.070866 65.952762 \nL 498.467384 55.78157 \nL 501.165643 49.691412 \nL 503.863902 49.503056 \nL 506.562162 52.375476 \nL 509.260421 50.350655 \nL 511.95868 46.505066 \nL 514.656939 36.412355 \nL 517.355198 33.335883 \nL 522.751717 23.086209 \nL 525.449976 19.554545 \nL 528.148235 23.808239 \nL 530.846494 26.602177 \nL 533.544753 25.158119 \nL 536.243013 26.20977 \nL 538.941272 37.385525 \nL 541.639531 49.848374 \nL 544.33779 39.598701 \nL 547.036049 44.464549 \nL 549.734309 29.882701 \nL 552.432568 30.212323 \nL 555.130827 24.357608 \nL 557.829086 25.629008 \nL 560.527345 29.176368 \nL 563.225604 30.432071 \nL 565.923864 37.793628 \nL 565.923864 37.793628 \n\" style=\"fill:none;stroke:#ff7f0e;stroke-linecap:square;stroke-width:1.5;\"/>\n   </g>\n   <g id=\"patch_3\">\n    <path d=\"M 33.2875 279 \nL 33.2875 7.2 \n\" style=\"fill:none;stroke:#000000;stroke-linecap:square;stroke-linejoin:miter;stroke-width:0.8;\"/>\n   </g>\n   <g id=\"patch_4\">\n    <path d=\"M 591.2875 279 \nL 591.2875 7.2 \n\" style=\"fill:none;stroke:#000000;stroke-linecap:square;stroke-linejoin:miter;stroke-width:0.8;\"/>\n   </g>\n   <g id=\"patch_5\">\n    <path d=\"M 33.2875 279 \nL 591.2875 279 \n\" style=\"fill:none;stroke:#000000;stroke-linecap:square;stroke-linejoin:miter;stroke-width:0.8;\"/>\n   </g>\n   <g id=\"patch_6\">\n    <path d=\"M 33.2875 7.2 \nL 591.2875 7.2 \n\" style=\"fill:none;stroke:#000000;stroke-linecap:square;stroke-linejoin:miter;stroke-width:0.8;\"/>\n   </g>\n   <g id=\"legend_1\">\n    <g id=\"patch_7\">\n     <path d=\"M 40.2875 44.55625 \nL 112.721875 44.55625 \nQ 114.721875 44.55625 114.721875 42.55625 \nL 114.721875 14.2 \nQ 114.721875 12.2 112.721875 12.2 \nL 40.2875 12.2 \nQ 38.2875 12.2 38.2875 14.2 \nL 38.2875 42.55625 \nQ 38.2875 44.55625 40.2875 44.55625 \nz\n\" style=\"fill:#ffffff;opacity:0.8;stroke:#cccccc;stroke-linejoin:miter;\"/>\n    </g>\n    <g id=\"line2d_20\">\n     <path d=\"M 42.2875 20.298437 \nL 62.2875 20.298437 \n\" style=\"fill:none;stroke:#1f77b4;stroke-linecap:square;stroke-width:1.5;\"/>\n    </g>\n    <g id=\"line2d_21\"/>\n    <g id=\"text_18\">\n     <!-- forecast -->\n     <g transform=\"translate(70.2875 23.798437)scale(0.1 -0.1)\">\n      <defs>\n       <path d=\"M 37.109375 75.984375 \nL 37.109375 68.5 \nL 28.515625 68.5 \nQ 23.6875 68.5 21.796875 66.546875 \nQ 19.921875 64.59375 19.921875 59.515625 \nL 19.921875 54.6875 \nL 34.71875 54.6875 \nL 34.71875 47.703125 \nL 19.921875 47.703125 \nL 19.921875 0 \nL 10.890625 0 \nL 10.890625 47.703125 \nL 2.296875 47.703125 \nL 2.296875 54.6875 \nL 10.890625 54.6875 \nL 10.890625 58.5 \nQ 10.890625 67.625 15.140625 71.796875 \nQ 19.390625 75.984375 28.609375 75.984375 \nz\n\" id=\"DejaVuSans-102\"/>\n       <path d=\"M 30.609375 48.390625 \nQ 23.390625 48.390625 19.1875 42.75 \nQ 14.984375 37.109375 14.984375 27.296875 \nQ 14.984375 17.484375 19.15625 11.84375 \nQ 23.34375 6.203125 30.609375 6.203125 \nQ 37.796875 6.203125 41.984375 11.859375 \nQ 46.1875 17.53125 46.1875 27.296875 \nQ 46.1875 37.015625 41.984375 42.703125 \nQ 37.796875 48.390625 30.609375 48.390625 \nz\nM 30.609375 56 \nQ 42.328125 56 49.015625 48.375 \nQ 55.71875 40.765625 55.71875 27.296875 \nQ 55.71875 13.875 49.015625 6.21875 \nQ 42.328125 -1.421875 30.609375 -1.421875 \nQ 18.84375 -1.421875 12.171875 6.21875 \nQ 5.515625 13.875 5.515625 27.296875 \nQ 5.515625 40.765625 12.171875 48.375 \nQ 18.84375 56 30.609375 56 \nz\n\" id=\"DejaVuSans-111\"/>\n       <path d=\"M 41.109375 46.296875 \nQ 39.59375 47.171875 37.8125 47.578125 \nQ 36.03125 48 33.890625 48 \nQ 26.265625 48 22.1875 43.046875 \nQ 18.109375 38.09375 18.109375 28.8125 \nL 18.109375 0 \nL 9.078125 0 \nL 9.078125 54.6875 \nL 18.109375 54.6875 \nL 18.109375 46.1875 \nQ 20.953125 51.171875 25.484375 53.578125 \nQ 30.03125 56 36.53125 56 \nQ 37.453125 56 38.578125 55.875 \nQ 39.703125 55.765625 41.0625 55.515625 \nz\n\" id=\"DejaVuSans-114\"/>\n       <path d=\"M 56.203125 29.59375 \nL 56.203125 25.203125 \nL 14.890625 25.203125 \nQ 15.484375 15.921875 20.484375 11.0625 \nQ 25.484375 6.203125 34.421875 6.203125 \nQ 39.59375 6.203125 44.453125 7.46875 \nQ 49.3125 8.734375 54.109375 11.28125 \nL 54.109375 2.78125 \nQ 49.265625 0.734375 44.1875 -0.34375 \nQ 39.109375 -1.421875 33.890625 -1.421875 \nQ 20.796875 -1.421875 13.15625 6.1875 \nQ 5.515625 13.8125 5.515625 26.8125 \nQ 5.515625 40.234375 12.765625 48.109375 \nQ 20.015625 56 32.328125 56 \nQ 43.359375 56 49.78125 48.890625 \nQ 56.203125 41.796875 56.203125 29.59375 \nz\nM 47.21875 32.234375 \nQ 47.125 39.59375 43.09375 43.984375 \nQ 39.0625 48.390625 32.421875 48.390625 \nQ 24.90625 48.390625 20.390625 44.140625 \nQ 15.875 39.890625 15.1875 32.171875 \nz\n\" id=\"DejaVuSans-101\"/>\n       <path d=\"M 48.78125 52.59375 \nL 48.78125 44.1875 \nQ 44.96875 46.296875 41.140625 47.34375 \nQ 37.3125 48.390625 33.40625 48.390625 \nQ 24.65625 48.390625 19.8125 42.84375 \nQ 14.984375 37.3125 14.984375 27.296875 \nQ 14.984375 17.28125 19.8125 11.734375 \nQ 24.65625 6.203125 33.40625 6.203125 \nQ 37.3125 6.203125 41.140625 7.25 \nQ 44.96875 8.296875 48.78125 10.40625 \nL 48.78125 2.09375 \nQ 45.015625 0.34375 40.984375 -0.53125 \nQ 36.96875 -1.421875 32.421875 -1.421875 \nQ 20.0625 -1.421875 12.78125 6.34375 \nQ 5.515625 14.109375 5.515625 27.296875 \nQ 5.515625 40.671875 12.859375 48.328125 \nQ 20.21875 56 33.015625 56 \nQ 37.15625 56 41.109375 55.140625 \nQ 45.0625 54.296875 48.78125 52.59375 \nz\n\" id=\"DejaVuSans-99\"/>\n       <path d=\"M 34.28125 27.484375 \nQ 23.390625 27.484375 19.1875 25 \nQ 14.984375 22.515625 14.984375 16.5 \nQ 14.984375 11.71875 18.140625 8.90625 \nQ 21.296875 6.109375 26.703125 6.109375 \nQ 34.1875 6.109375 38.703125 11.40625 \nQ 43.21875 16.703125 43.21875 25.484375 \nL 43.21875 27.484375 \nz\nM 52.203125 31.203125 \nL 52.203125 0 \nL 43.21875 0 \nL 43.21875 8.296875 \nQ 40.140625 3.328125 35.546875 0.953125 \nQ 30.953125 -1.421875 24.3125 -1.421875 \nQ 15.921875 -1.421875 10.953125 3.296875 \nQ 6 8.015625 6 15.921875 \nQ 6 25.140625 12.171875 29.828125 \nQ 18.359375 34.515625 30.609375 34.515625 \nL 43.21875 34.515625 \nL 43.21875 35.40625 \nQ 43.21875 41.609375 39.140625 45 \nQ 35.0625 48.390625 27.6875 48.390625 \nQ 23 48.390625 18.546875 47.265625 \nQ 14.109375 46.140625 10.015625 43.890625 \nL 10.015625 52.203125 \nQ 14.9375 54.109375 19.578125 55.046875 \nQ 24.21875 56 28.609375 56 \nQ 40.484375 56 46.34375 49.84375 \nQ 52.203125 43.703125 52.203125 31.203125 \nz\n\" id=\"DejaVuSans-97\"/>\n       <path d=\"M 44.28125 53.078125 \nL 44.28125 44.578125 \nQ 40.484375 46.53125 36.375 47.5 \nQ 32.28125 48.484375 27.875 48.484375 \nQ 21.1875 48.484375 17.84375 46.4375 \nQ 14.5 44.390625 14.5 40.28125 \nQ 14.5 37.15625 16.890625 35.375 \nQ 19.28125 33.59375 26.515625 31.984375 \nL 29.59375 31.296875 \nQ 39.15625 29.25 43.1875 25.515625 \nQ 47.21875 21.78125 47.21875 15.09375 \nQ 47.21875 7.46875 41.1875 3.015625 \nQ 35.15625 -1.421875 24.609375 -1.421875 \nQ 20.21875 -1.421875 15.453125 -0.5625 \nQ 10.6875 0.296875 5.421875 2 \nL 5.421875 11.28125 \nQ 10.40625 8.6875 15.234375 7.390625 \nQ 20.0625 6.109375 24.8125 6.109375 \nQ 31.15625 6.109375 34.5625 8.28125 \nQ 37.984375 10.453125 37.984375 14.40625 \nQ 37.984375 18.0625 35.515625 20.015625 \nQ 33.0625 21.96875 24.703125 23.78125 \nL 21.578125 24.515625 \nQ 13.234375 26.265625 9.515625 29.90625 \nQ 5.8125 33.546875 5.8125 39.890625 \nQ 5.8125 47.609375 11.28125 51.796875 \nQ 16.75 56 26.8125 56 \nQ 31.78125 56 36.171875 55.265625 \nQ 40.578125 54.546875 44.28125 53.078125 \nz\n\" id=\"DejaVuSans-115\"/>\n       <path d=\"M 18.3125 70.21875 \nL 18.3125 54.6875 \nL 36.8125 54.6875 \nL 36.8125 47.703125 \nL 18.3125 47.703125 \nL 18.3125 18.015625 \nQ 18.3125 11.328125 20.140625 9.421875 \nQ 21.96875 7.515625 27.59375 7.515625 \nL 36.8125 7.515625 \nL 36.8125 0 \nL 27.59375 0 \nQ 17.1875 0 13.234375 3.875 \nQ 9.28125 7.765625 9.28125 18.015625 \nL 9.28125 47.703125 \nL 2.6875 47.703125 \nL 2.6875 54.6875 \nL 9.28125 54.6875 \nL 9.28125 70.21875 \nz\n\" id=\"DejaVuSans-116\"/>\n      </defs>\n      <use xlink:href=\"#DejaVuSans-102\"/>\n      <use x=\"35.205078\" xlink:href=\"#DejaVuSans-111\"/>\n      <use x=\"96.386719\" xlink:href=\"#DejaVuSans-114\"/>\n      <use x=\"135.25\" xlink:href=\"#DejaVuSans-101\"/>\n      <use x=\"196.773438\" xlink:href=\"#DejaVuSans-99\"/>\n      <use x=\"251.753906\" xlink:href=\"#DejaVuSans-97\"/>\n      <use x=\"313.033203\" xlink:href=\"#DejaVuSans-115\"/>\n      <use x=\"365.132812\" xlink:href=\"#DejaVuSans-116\"/>\n     </g>\n    </g>\n    <g id=\"line2d_22\">\n     <path d=\"M 42.2875 34.976562 \nL 62.2875 34.976562 \n\" style=\"fill:none;stroke:#ff7f0e;stroke-linecap:square;stroke-width:1.5;\"/>\n    </g>\n    <g id=\"line2d_23\"/>\n    <g id=\"text_19\">\n     <!-- actual -->\n     <g transform=\"translate(70.2875 38.476562)scale(0.1 -0.1)\">\n      <defs>\n       <path d=\"M 8.5 21.578125 \nL 8.5 54.6875 \nL 17.484375 54.6875 \nL 17.484375 21.921875 \nQ 17.484375 14.15625 20.5 10.265625 \nQ 23.53125 6.390625 29.59375 6.390625 \nQ 36.859375 6.390625 41.078125 11.03125 \nQ 45.3125 15.671875 45.3125 23.6875 \nL 45.3125 54.6875 \nL 54.296875 54.6875 \nL 54.296875 0 \nL 45.3125 0 \nL 45.3125 8.40625 \nQ 42.046875 3.421875 37.71875 1 \nQ 33.40625 -1.421875 27.6875 -1.421875 \nQ 18.265625 -1.421875 13.375 4.4375 \nQ 8.5 10.296875 8.5 21.578125 \nz\nM 31.109375 56 \nz\n\" id=\"DejaVuSans-117\"/>\n       <path d=\"M 9.421875 75.984375 \nL 18.40625 75.984375 \nL 18.40625 0 \nL 9.421875 0 \nz\n\" id=\"DejaVuSans-108\"/>\n      </defs>\n      <use xlink:href=\"#DejaVuSans-97\"/>\n      <use x=\"61.279297\" xlink:href=\"#DejaVuSans-99\"/>\n      <use x=\"116.259766\" xlink:href=\"#DejaVuSans-116\"/>\n      <use x=\"155.46875\" xlink:href=\"#DejaVuSans-117\"/>\n      <use x=\"218.847656\" xlink:href=\"#DejaVuSans-97\"/>\n      <use x=\"280.126953\" xlink:href=\"#DejaVuSans-108\"/>\n     </g>\n    </g>\n   </g>\n  </g>\n </g>\n <defs>\n  <clipPath id=\"p06ca2ffcb9\">\n   <rect height=\"271.8\" width=\"558\" x=\"33.2875\" y=\"7.2\"/>\n  </clipPath>\n </defs>\n</svg>\n",
      "image/png": "[encoded data removed]"
     },
     "metadata": {
      "needs_background": "light"
     }
    }
   ],
   "source": [
    "plot_df = merged_df[-n_seq - (n_seq * 2) :] # -n_seq controls how many to show before the forecast (blue) line\n",
    "plt.figure(figsize=(10, 5))\n",
    "plt.plot(plot_df[\"forecast\"], label=\"forecast\")\n",
    "plt.plot(plot_df[\"Close\"], label=\"actual\")\n",
    "plt.legend()"
   ]
  },
  {
   "source": [
    "# Cross-validating 2.0\n",
    "The previous one was messy, this is (hopefully) better. And more like arch_evaluate"
   ],
   "cell_type": "markdown",
   "metadata": {}
  },
  {
   "source": [
    "## Reading CSV and assigning columns\n",
    "_Run this chunk instead, it reads the csv from the chunk above_"
   ],
   "cell_type": "markdown",
   "metadata": {}
  },
  {
   "cell_type": "code",
   "execution_count": 13,
   "metadata": {},
   "outputs": [],
   "source": [
    "# Reading lstm_cross_val.csv\n",
    "lstm_cross_df = pd.read_csv('data/lstm_results.csv')"
   ]
  },
  {
   "cell_type": "code",
   "execution_count": 14,
   "metadata": {},
   "outputs": [],
   "source": [
    "# adding first row of data based on last row of test data (manually input bcuz lazy)\n",
    "\n",
    "new_data = []\n",
    "new_data.insert(0, {'time':0, 'Close': 621.38, 'forecast': 621.38})\n",
    "lstm_cross_df = pd.concat([pd.DataFrame(new_data), lstm_cross_df], ignore_index=True)"
   ]
  },
  {
   "cell_type": "code",
   "execution_count": 15,
   "metadata": {},
   "outputs": [],
   "source": [
    "# creating error and up columns \n",
    "\n",
    "lstm_cross_df['error'] = lstm_cross_df['forecast'] - lstm_cross_df['Close']\n",
    "lstm_cross_df['abs_error'] = np.abs(lstm_cross_df['forecast'] - lstm_cross_df['Close'])\n",
    "lstm_cross_df['actual_up'] = lstm_cross_df['Close'].diff(1) > 0\n",
    "lstm_cross_df['forecast_up'] = lstm_cross_df['forecast'].diff(1) > 0"
   ]
  },
  {
   "cell_type": "code",
   "execution_count": 16,
   "metadata": {},
   "outputs": [],
   "source": [
    "# creating confusion column\n",
    "\n",
    "def confusion(actual, forecast):\n",
    "    if (actual and forecast):\n",
    "        return 'TP'\n",
    "    \n",
    "    if (actual and not forecast):\n",
    "        return 'FN'\n",
    "    \n",
    "    if (not actual and forecast):\n",
    "        return 'FP'\n",
    "    \n",
    "    if (not actual and not forecast):\n",
    "        return 'TN'\n",
    "    \n",
    "    return False\n",
    "\n",
    "lstm_cross_df['confusion'] = lstm_cross_df.apply(lambda x: confusion(x['actual_up'], x['forecast_up']), axis=1)"
   ]
  },
  {
   "cell_type": "code",
   "execution_count": 17,
   "metadata": {},
   "outputs": [
    {
     "output_type": "execute_result",
     "data": {
      "text/plain": [
       "   time   Close    forecast     error  abs_error  actual_up  forecast_up  \\\n",
       "0   0.0  621.38  621.380000  0.000000   0.000000      False        False   \n",
       "1   1.0  622.77  621.512207 -1.257793   1.257793       True         True   \n",
       "2   1.0  618.70  621.720276  3.020276   3.020276      False         True   \n",
       "\n",
       "  confusion  \n",
       "0        TN  \n",
       "1        TP  \n",
       "2        FP  "
      ],
      "text/html": "<div>\n<style scoped>\n    .dataframe tbody tr th:only-of-type {\n        vertical-align: middle;\n    }\n\n    .dataframe tbody tr th {\n        vertical-align: top;\n    }\n\n    .dataframe thead th {\n        text-align: right;\n    }\n</style>\n<table border=\"1\" class=\"dataframe\">\n  <thead>\n    <tr style=\"text-align: right;\">\n      <th></th>\n      <th>time</th>\n      <th>Close</th>\n      <th>forecast</th>\n      <th>error</th>\n      <th>abs_error</th>\n      <th>actual_up</th>\n      <th>forecast_up</th>\n      <th>confusion</th>\n    </tr>\n  </thead>\n  <tbody>\n    <tr>\n      <th>0</th>\n      <td>0.0</td>\n      <td>621.38</td>\n      <td>621.380000</td>\n      <td>0.000000</td>\n      <td>0.000000</td>\n      <td>False</td>\n      <td>False</td>\n      <td>TN</td>\n    </tr>\n    <tr>\n      <th>1</th>\n      <td>1.0</td>\n      <td>622.77</td>\n      <td>621.512207</td>\n      <td>-1.257793</td>\n      <td>1.257793</td>\n      <td>True</td>\n      <td>True</td>\n      <td>TP</td>\n    </tr>\n    <tr>\n      <th>2</th>\n      <td>1.0</td>\n      <td>618.70</td>\n      <td>621.720276</td>\n      <td>3.020276</td>\n      <td>3.020276</td>\n      <td>False</td>\n      <td>True</td>\n      <td>FP</td>\n    </tr>\n  </tbody>\n</table>\n</div>"
     },
     "metadata": {},
     "execution_count": 17
    }
   ],
   "source": [
    "# Displaying the first 3 rows\n",
    "# Note that the first row is equal to the last one in the training data\n",
    "\n",
    "lstm_cross_df.head(3)"
   ]
  },
  {
   "source": [
    "## Creating cross evaluation scores for each of the 1000 periods"
   ],
   "cell_type": "markdown",
   "metadata": {}
  },
  {
   "cell_type": "code",
   "execution_count": 18,
   "metadata": {},
   "outputs": [],
   "source": [
    "# Creating a dataframe with all the columns needed\n",
    "\n",
    "cross_df = pd.DataFrame(columns=[\n",
    "    \"mape_1\", \n",
    "    \"mape_3\",\n",
    "    \"mape_5\",\n",
    "    \"mape_21\",\n",
    "    \"mape_63\",\n",
    "    \"rmse_1\",\n",
    "    \"rmse_3\",\n",
    "    \"rmse_5\",\n",
    "    \"rmse_21\",\n",
    "    \"rmse_63\",\n",
    "    'precision_1',\n",
    "    'precision_3',\n",
    "    'precision_5',\n",
    "    'precision_21',\n",
    "    'precision_63',\n",
    "    'recall_1',\n",
    "    'recall_3',\n",
    "    'recall_5',\n",
    "    'recall_21',\n",
    "    'recall_63',\n",
    "    'fscore_1',\n",
    "    'fscore_3',\n",
    "    'fscore_5',\n",
    "    'fscore_21',\n",
    "    'fscore_63',\n",
    "])"
   ]
  },
  {
   "cell_type": "code",
   "execution_count": 38,
   "metadata": {},
   "outputs": [],
   "source": [
    "# Cross evaluation function\n",
    "\n",
    "def cross_evaluate(df, n_periods):\n",
    "    df = df[-63:-63+n_periods] if n_periods < 63 else df.tail(63)\n",
    "    mape = ((df[\"abs_error\"] / df[\"Close\"]).sum() / n_periods) * 100\n",
    "    rmse = math.sqrt(pow(df[\"error\"].sum(), 2) / n_periods)\n",
    "\n",
    "    tp = len(df[df['confusion'] == 'TP'])\n",
    "    fp = len(df[df['confusion'] == 'FP'])\n",
    "    fn = len(df[df['confusion'] == 'FN'])\n",
    "\n",
    "    precision = tp / (tp + fp) if (tp + fp) > 0 else 0 # if else för att undvika division by zero errror\n",
    "    recall = tp / (tp + fn) if (tp + fn > 0) else 0\n",
    "    fscore = (2*precision*recall)/(precision+recall) if (precision + recall > 0) else 0\n",
    "\n",
    "    return mape, rmse, precision, recall, fscore"
   ]
  },
  {
   "cell_type": "code",
   "execution_count": 41,
   "metadata": {
    "tags": []
   },
   "outputs": [
    {
     "output_type": "stream",
     "name": "stdout",
     "text": [
      "0 done!\n"
     ]
    }
   ],
   "source": [
    "# For every 63 forecasts of the 1000 periods forecasted, create scores\n",
    "\n",
    "forecast_len = 1000\n",
    "for i in range(forecast_len):\n",
    "    cross_merged_df = lstm_cross_df[i+1 : i+63+1] # to avoid first row 1 is added (which contains last training)\n",
    "    one = cross_evaluate(cross_merged_df, 1)\n",
    "    three = cross_evaluate(cross_merged_df, 3)\n",
    "    five = cross_evaluate(cross_merged_df, 5)\n",
    "    twentyone = cross_evaluate(cross_merged_df, 21)\n",
    "    sixtythree = cross_evaluate(cross_merged_df, 63)\n",
    "\n",
    "    cross_df = cross_df.append({\n",
    "        'mape_1': one[0],\n",
    "        'mape_3': three[0],\n",
    "        'mape_5': five[0],\n",
    "        'mape_21': twentyone[0],\n",
    "        'mape_63': sixtythree[0],\n",
    "        'rmse_1': one[1],\n",
    "        'rmse_3': three[1],\n",
    "        'rmse_5': five[1],\n",
    "        'rmse_21': twentyone[1],\n",
    "        'rmse_63': sixtythree[1],\n",
    "        'precision_1': one[2],\n",
    "        'precision_3': three[2],\n",
    "        'precision_5': five[2],\n",
    "        'precision_21': twentyone[2],\n",
    "        'precision_63': sixtythree[2],\n",
    "        'recall_1': one[3],\n",
    "        'recall_3': three[3],\n",
    "        'recall_5': five[3],\n",
    "        'recall_21': twentyone[3],\n",
    "        'recall_63': sixtythree[3],\n",
    "        'fscore_1': one[4],\n",
    "        'fscore_3': three[4],\n",
    "        'fscore_5': five[4],\n",
    "        'fscore_21': twentyone[4],\n",
    "        'fscore_63': sixtythree[4],\n",
    "    }, ignore_index=True)\n",
    "\n",
    "    step = i % 100\n",
    "    if step == 0:\n",
    "        print(i, end=\" \")\n",
    "\n",
    "print('done!')"
   ]
  },
  {
   "cell_type": "code",
   "execution_count": 43,
   "metadata": {},
   "outputs": [
    {
     "output_type": "execute_result",
     "data": {
      "text/plain": [
       "        mape_1    mape_3    mape_5   mape_21   mape_63    rmse_1     rmse_3  \\\n",
       "0     0.201967  0.504992  0.379448  0.987203  3.214610  1.257793   3.956436   \n",
       "1     0.488165  0.514957  0.351570  1.092370  3.222289  3.020276   5.514308   \n",
       "2     0.824842  0.402369  0.283151  1.158756  3.230307  5.090266   4.310935   \n",
       "3     0.231863  0.148280  0.133705  1.187106  3.223104  1.440520   1.146597   \n",
       "4     0.150403  0.119683  0.251526  1.265447  3.223522  0.935972   0.212164   \n",
       "...        ...       ...       ...       ...       ...       ...        ...   \n",
       "1023  0.062574  0.095420  0.476271  1.377048  3.221292  0.390527   1.032556   \n",
       "1024  0.146072  0.348218  0.831295  1.508465  3.221831  0.912922   3.792484   \n",
       "1025  0.077615  0.724237  1.098448  1.668651  3.220381  0.484990   7.922534   \n",
       "1026  0.820967  1.310930  1.234045  1.824319  3.232272  5.170862  14.400518   \n",
       "1027  1.274128  1.531219  1.232337  1.934336  3.240329  8.066379  16.846074   \n",
       "\n",
       "         rmse_5    rmse_21     rmse_63  ...  recall_1  recall_3  recall_5  \\\n",
       "0      4.127442  24.123572  165.417608  ...       1.0       1.0       1.0   \n",
       "1      4.515295  27.226812  164.724582  ...       0.0       1.0       1.0   \n",
       "2      2.756315  30.510589  164.332848  ...       0.0       1.0       1.0   \n",
       "3      0.262985  33.593619  164.683701  ...       1.0       1.0       1.0   \n",
       "4      2.693715  36.527658  164.662759  ...       1.0       1.0       1.0   \n",
       "...         ...        ...         ...  ...       ...       ...       ...   \n",
       "1023   6.719689  40.236380  164.772863  ...       1.0       1.0       1.0   \n",
       "1024  11.779759  44.132477  164.799676  ...       1.0       1.0       1.0   \n",
       "1025  15.578287  48.922514  164.727722  ...       0.0       1.0       1.0   \n",
       "1026  17.491332  53.568284  165.322654  ...       1.0       1.0       1.0   \n",
       "1027  17.470549  56.876774  165.730886  ...       1.0       1.0       1.0   \n",
       "\n",
       "      recall_21  recall_63  fscore_1  fscore_3  fscore_5  fscore_21  fscore_63  \n",
       "0      0.923077   0.621622       1.0       0.5  0.750000   0.727273   0.554217  \n",
       "1      0.923077   0.611111       0.0       0.5  0.750000   0.727273   0.543210  \n",
       "2      0.923077   0.611111       0.0       0.8  0.888889   0.727273   0.543210  \n",
       "3      0.923077   0.621622       1.0       1.0  0.888889   0.727273   0.560976  \n",
       "4      0.923077   0.621622       1.0       1.0  0.888889   0.727273   0.560976  \n",
       "...         ...        ...       ...       ...       ...        ...        ...  \n",
       "1023   0.923077   0.621622       1.0       0.8  0.888889   0.727273   0.560976  \n",
       "1024   0.923077   0.621622       1.0       0.8  0.888889   0.727273   0.560976  \n",
       "1025   0.923077   0.611111       0.0       0.8  0.750000   0.727273   0.543210  \n",
       "1026   0.923077   0.621622       1.0       1.0  0.750000   0.727273   0.560976  \n",
       "1027   0.916667   0.621622       1.0       0.8  0.750000   0.687500   0.560976  \n",
       "\n",
       "[1028 rows x 25 columns]"
      ],
      "text/html": "<div>\n<style scoped>\n    .dataframe tbody tr th:only-of-type {\n        vertical-align: middle;\n    }\n\n    .dataframe tbody tr th {\n        vertical-align: top;\n    }\n\n    .dataframe thead th {\n        text-align: right;\n    }\n</style>\n<table border=\"1\" class=\"dataframe\">\n  <thead>\n    <tr style=\"text-align: right;\">\n      <th></th>\n      <th>mape_1</th>\n      <th>mape_3</th>\n      <th>mape_5</th>\n      <th>mape_21</th>\n      <th>mape_63</th>\n      <th>rmse_1</th>\n      <th>rmse_3</th>\n      <th>rmse_5</th>\n      <th>rmse_21</th>\n      <th>rmse_63</th>\n      <th>...</th>\n      <th>recall_1</th>\n      <th>recall_3</th>\n      <th>recall_5</th>\n      <th>recall_21</th>\n      <th>recall_63</th>\n      <th>fscore_1</th>\n      <th>fscore_3</th>\n      <th>fscore_5</th>\n      <th>fscore_21</th>\n      <th>fscore_63</th>\n    </tr>\n  </thead>\n  <tbody>\n    <tr>\n      <th>0</th>\n      <td>0.201967</td>\n      <td>0.504992</td>\n      <td>0.379448</td>\n      <td>0.987203</td>\n      <td>3.214610</td>\n      <td>1.257793</td>\n      <td>3.956436</td>\n      <td>4.127442</td>\n      <td>24.123572</td>\n      <td>165.417608</td>\n      <td>...</td>\n      <td>1.0</td>\n      <td>1.0</td>\n      <td>1.0</td>\n      <td>0.923077</td>\n      <td>0.621622</td>\n      <td>1.0</td>\n      <td>0.5</td>\n      <td>0.750000</td>\n      <td>0.727273</td>\n      <td>0.554217</td>\n    </tr>\n    <tr>\n      <th>1</th>\n      <td>0.488165</td>\n      <td>0.514957</td>\n      <td>0.351570</td>\n      <td>1.092370</td>\n      <td>3.222289</td>\n      <td>3.020276</td>\n      <td>5.514308</td>\n      <td>4.515295</td>\n      <td>27.226812</td>\n      <td>164.724582</td>\n      <td>...</td>\n      <td>0.0</td>\n      <td>1.0</td>\n      <td>1.0</td>\n      <td>0.923077</td>\n      <td>0.611111</td>\n      <td>0.0</td>\n      <td>0.5</td>\n      <td>0.750000</td>\n      <td>0.727273</td>\n      <td>0.543210</td>\n    </tr>\n    <tr>\n      <th>2</th>\n      <td>0.824842</td>\n      <td>0.402369</td>\n      <td>0.283151</td>\n      <td>1.158756</td>\n      <td>3.230307</td>\n      <td>5.090266</td>\n      <td>4.310935</td>\n      <td>2.756315</td>\n      <td>30.510589</td>\n      <td>164.332848</td>\n      <td>...</td>\n      <td>0.0</td>\n      <td>1.0</td>\n      <td>1.0</td>\n      <td>0.923077</td>\n      <td>0.611111</td>\n      <td>0.0</td>\n      <td>0.8</td>\n      <td>0.888889</td>\n      <td>0.727273</td>\n      <td>0.543210</td>\n    </tr>\n    <tr>\n      <th>3</th>\n      <td>0.231863</td>\n      <td>0.148280</td>\n      <td>0.133705</td>\n      <td>1.187106</td>\n      <td>3.223104</td>\n      <td>1.440520</td>\n      <td>1.146597</td>\n      <td>0.262985</td>\n      <td>33.593619</td>\n      <td>164.683701</td>\n      <td>...</td>\n      <td>1.0</td>\n      <td>1.0</td>\n      <td>1.0</td>\n      <td>0.923077</td>\n      <td>0.621622</td>\n      <td>1.0</td>\n      <td>1.0</td>\n      <td>0.888889</td>\n      <td>0.727273</td>\n      <td>0.560976</td>\n    </tr>\n    <tr>\n      <th>4</th>\n      <td>0.150403</td>\n      <td>0.119683</td>\n      <td>0.251526</td>\n      <td>1.265447</td>\n      <td>3.223522</td>\n      <td>0.935972</td>\n      <td>0.212164</td>\n      <td>2.693715</td>\n      <td>36.527658</td>\n      <td>164.662759</td>\n      <td>...</td>\n      <td>1.0</td>\n      <td>1.0</td>\n      <td>1.0</td>\n      <td>0.923077</td>\n      <td>0.621622</td>\n      <td>1.0</td>\n      <td>1.0</td>\n      <td>0.888889</td>\n      <td>0.727273</td>\n      <td>0.560976</td>\n    </tr>\n    <tr>\n      <th>...</th>\n      <td>...</td>\n      <td>...</td>\n      <td>...</td>\n      <td>...</td>\n      <td>...</td>\n      <td>...</td>\n      <td>...</td>\n      <td>...</td>\n      <td>...</td>\n      <td>...</td>\n      <td>...</td>\n      <td>...</td>\n      <td>...</td>\n      <td>...</td>\n      <td>...</td>\n      <td>...</td>\n      <td>...</td>\n      <td>...</td>\n      <td>...</td>\n      <td>...</td>\n      <td>...</td>\n    </tr>\n    <tr>\n      <th>1023</th>\n      <td>0.062574</td>\n      <td>0.095420</td>\n      <td>0.476271</td>\n      <td>1.377048</td>\n      <td>3.221292</td>\n      <td>0.390527</td>\n      <td>1.032556</td>\n      <td>6.719689</td>\n      <td>40.236380</td>\n      <td>164.772863</td>\n      <td>...</td>\n      <td>1.0</td>\n      <td>1.0</td>\n      <td>1.0</td>\n      <td>0.923077</td>\n      <td>0.621622</td>\n      <td>1.0</td>\n      <td>0.8</td>\n      <td>0.888889</td>\n      <td>0.727273</td>\n      <td>0.560976</td>\n    </tr>\n    <tr>\n      <th>1024</th>\n      <td>0.146072</td>\n      <td>0.348218</td>\n      <td>0.831295</td>\n      <td>1.508465</td>\n      <td>3.221831</td>\n      <td>0.912922</td>\n      <td>3.792484</td>\n      <td>11.779759</td>\n      <td>44.132477</td>\n      <td>164.799676</td>\n      <td>...</td>\n      <td>1.0</td>\n      <td>1.0</td>\n      <td>1.0</td>\n      <td>0.923077</td>\n      <td>0.621622</td>\n      <td>1.0</td>\n      <td>0.8</td>\n      <td>0.888889</td>\n      <td>0.727273</td>\n      <td>0.560976</td>\n    </tr>\n    <tr>\n      <th>1025</th>\n      <td>0.077615</td>\n      <td>0.724237</td>\n      <td>1.098448</td>\n      <td>1.668651</td>\n      <td>3.220381</td>\n      <td>0.484990</td>\n      <td>7.922534</td>\n      <td>15.578287</td>\n      <td>48.922514</td>\n      <td>164.727722</td>\n      <td>...</td>\n      <td>0.0</td>\n      <td>1.0</td>\n      <td>1.0</td>\n      <td>0.923077</td>\n      <td>0.611111</td>\n      <td>0.0</td>\n      <td>0.8</td>\n      <td>0.750000</td>\n      <td>0.727273</td>\n      <td>0.543210</td>\n    </tr>\n    <tr>\n      <th>1026</th>\n      <td>0.820967</td>\n      <td>1.310930</td>\n      <td>1.234045</td>\n      <td>1.824319</td>\n      <td>3.232272</td>\n      <td>5.170862</td>\n      <td>14.400518</td>\n      <td>17.491332</td>\n      <td>53.568284</td>\n      <td>165.322654</td>\n      <td>...</td>\n      <td>1.0</td>\n      <td>1.0</td>\n      <td>1.0</td>\n      <td>0.923077</td>\n      <td>0.621622</td>\n      <td>1.0</td>\n      <td>1.0</td>\n      <td>0.750000</td>\n      <td>0.727273</td>\n      <td>0.560976</td>\n    </tr>\n    <tr>\n      <th>1027</th>\n      <td>1.274128</td>\n      <td>1.531219</td>\n      <td>1.232337</td>\n      <td>1.934336</td>\n      <td>3.240329</td>\n      <td>8.066379</td>\n      <td>16.846074</td>\n      <td>17.470549</td>\n      <td>56.876774</td>\n      <td>165.730886</td>\n      <td>...</td>\n      <td>1.0</td>\n      <td>1.0</td>\n      <td>1.0</td>\n      <td>0.916667</td>\n      <td>0.621622</td>\n      <td>1.0</td>\n      <td>0.8</td>\n      <td>0.750000</td>\n      <td>0.687500</td>\n      <td>0.560976</td>\n    </tr>\n  </tbody>\n</table>\n<p>1028 rows × 25 columns</p>\n</div>"
     },
     "metadata": {},
     "execution_count": 43
    }
   ],
   "source": [
    "# First three rows of evaluation df\n",
    "\n",
    "cross_df.head(3)"
   ]
  },
  {
   "source": [
    "## Description of RMSE and MAPE"
   ],
   "cell_type": "markdown",
   "metadata": {}
  },
  {
   "cell_type": "code",
   "execution_count": 44,
   "metadata": {},
   "outputs": [
    {
     "output_type": "execute_result",
     "data": {
      "text/plain": [
       "            mape_1       mape_3       mape_5      mape_21      mape_63  \\\n",
       "count  1028.000000  1028.000000  1028.000000  1028.000000  1028.000000   \n",
       "mean      4.373895     4.383518     4.389879     4.441827     4.506782   \n",
       "std       2.599337     2.515984     2.452626     1.920318     0.530896   \n",
       "min       0.009942     0.053727     0.133705     0.987203     3.214610   \n",
       "25%       2.095244     2.173957     2.277333     2.758497     4.289996   \n",
       "50%       4.309314     4.267938     4.224582     4.348099     4.579749   \n",
       "75%       6.826728     6.775895     6.729007     6.112511     4.758490   \n",
       "max       9.471340     9.246645     9.203336     8.695548     5.441038   \n",
       "\n",
       "            rmse_1       rmse_3       rmse_5      rmse_21      rmse_63  \n",
       "count  1028.000000  1028.000000  1028.000000  1028.000000  1028.000000  \n",
       "mean     28.885451    50.021169    64.576789   133.711325   235.149782  \n",
       "std      17.562773    29.569869    37.297423    60.044555    28.903889  \n",
       "min       0.062048     0.212164     0.262985    24.123572   164.332848  \n",
       "25%      13.346184    24.092163    32.535057    81.558493   221.976164  \n",
       "50%      28.068580    48.039488    61.291887   130.540848   238.883298  \n",
       "75%      45.414138    78.238234   100.310972   185.623502   249.406216  \n",
       "max      63.926807   107.835976   138.287243   266.232616   284.728040  "
      ],
      "text/html": "<div>\n<style scoped>\n    .dataframe tbody tr th:only-of-type {\n        vertical-align: middle;\n    }\n\n    .dataframe tbody tr th {\n        vertical-align: top;\n    }\n\n    .dataframe thead th {\n        text-align: right;\n    }\n</style>\n<table border=\"1\" class=\"dataframe\">\n  <thead>\n    <tr style=\"text-align: right;\">\n      <th></th>\n      <th>mape_1</th>\n      <th>mape_3</th>\n      <th>mape_5</th>\n      <th>mape_21</th>\n      <th>mape_63</th>\n      <th>rmse_1</th>\n      <th>rmse_3</th>\n      <th>rmse_5</th>\n      <th>rmse_21</th>\n      <th>rmse_63</th>\n    </tr>\n  </thead>\n  <tbody>\n    <tr>\n      <th>count</th>\n      <td>1028.000000</td>\n      <td>1028.000000</td>\n      <td>1028.000000</td>\n      <td>1028.000000</td>\n      <td>1028.000000</td>\n      <td>1028.000000</td>\n      <td>1028.000000</td>\n      <td>1028.000000</td>\n      <td>1028.000000</td>\n      <td>1028.000000</td>\n    </tr>\n    <tr>\n      <th>mean</th>\n      <td>4.373895</td>\n      <td>4.383518</td>\n      <td>4.389879</td>\n      <td>4.441827</td>\n      <td>4.506782</td>\n      <td>28.885451</td>\n      <td>50.021169</td>\n      <td>64.576789</td>\n      <td>133.711325</td>\n      <td>235.149782</td>\n    </tr>\n    <tr>\n      <th>std</th>\n      <td>2.599337</td>\n      <td>2.515984</td>\n      <td>2.452626</td>\n      <td>1.920318</td>\n      <td>0.530896</td>\n      <td>17.562773</td>\n      <td>29.569869</td>\n      <td>37.297423</td>\n      <td>60.044555</td>\n      <td>28.903889</td>\n    </tr>\n    <tr>\n      <th>min</th>\n      <td>0.009942</td>\n      <td>0.053727</td>\n      <td>0.133705</td>\n      <td>0.987203</td>\n      <td>3.214610</td>\n      <td>0.062048</td>\n      <td>0.212164</td>\n      <td>0.262985</td>\n      <td>24.123572</td>\n      <td>164.332848</td>\n    </tr>\n    <tr>\n      <th>25%</th>\n      <td>2.095244</td>\n      <td>2.173957</td>\n      <td>2.277333</td>\n      <td>2.758497</td>\n      <td>4.289996</td>\n      <td>13.346184</td>\n      <td>24.092163</td>\n      <td>32.535057</td>\n      <td>81.558493</td>\n      <td>221.976164</td>\n    </tr>\n    <tr>\n      <th>50%</th>\n      <td>4.309314</td>\n      <td>4.267938</td>\n      <td>4.224582</td>\n      <td>4.348099</td>\n      <td>4.579749</td>\n      <td>28.068580</td>\n      <td>48.039488</td>\n      <td>61.291887</td>\n      <td>130.540848</td>\n      <td>238.883298</td>\n    </tr>\n    <tr>\n      <th>75%</th>\n      <td>6.826728</td>\n      <td>6.775895</td>\n      <td>6.729007</td>\n      <td>6.112511</td>\n      <td>4.758490</td>\n      <td>45.414138</td>\n      <td>78.238234</td>\n      <td>100.310972</td>\n      <td>185.623502</td>\n      <td>249.406216</td>\n    </tr>\n    <tr>\n      <th>max</th>\n      <td>9.471340</td>\n      <td>9.246645</td>\n      <td>9.203336</td>\n      <td>8.695548</td>\n      <td>5.441038</td>\n      <td>63.926807</td>\n      <td>107.835976</td>\n      <td>138.287243</td>\n      <td>266.232616</td>\n      <td>284.728040</td>\n    </tr>\n  </tbody>\n</table>\n</div>"
     },
     "metadata": {},
     "execution_count": 44
    }
   ],
   "source": [
    "cross_df.iloc[:, :10].describe()"
   ]
  },
  {
   "source": [
    "## Description of precision, recall and fscore"
   ],
   "cell_type": "markdown",
   "metadata": {}
  },
  {
   "cell_type": "code",
   "execution_count": 23,
   "metadata": {},
   "outputs": [
    {
     "output_type": "execute_result",
     "data": {
      "text/plain": [
       "       precision_1  precision_3  precision_5  precision_21  precision_63  \\\n",
       "count  1000.000000  1000.000000  1000.000000   1000.000000   1000.000000   \n",
       "mean      0.164000     0.196333     0.219350      0.350167      0.423575   \n",
       "std       0.370461     0.317890     0.306587      0.263210      0.100251   \n",
       "min       0.000000     0.000000     0.000000      0.000000      0.142857   \n",
       "25%       0.000000     0.000000     0.000000      0.000000      0.333333   \n",
       "50%       0.000000     0.000000     0.000000      0.355042      0.428571   \n",
       "75%       0.000000     0.333333     0.400000      0.545455      0.500000   \n",
       "max       1.000000     1.000000     1.000000      1.000000      0.625000   \n",
       "\n",
       "          recall_1     recall_3     recall_5    recall_21    recall_63  \\\n",
       "count  1000.000000  1000.000000  1000.000000  1000.000000  1000.000000   \n",
       "mean      0.164000     0.306000     0.360183     0.332612     0.277223   \n",
       "std       0.370461     0.449641     0.452552     0.313194     0.173626   \n",
       "min       0.000000     0.000000     0.000000     0.000000     0.060606   \n",
       "25%       0.000000     0.000000     0.000000     0.000000     0.151515   \n",
       "50%       0.000000     0.000000     0.000000     0.250000     0.205882   \n",
       "75%       0.000000     1.000000     1.000000     0.571429     0.393939   \n",
       "max       1.000000     1.000000     1.000000     1.000000     0.710526   \n",
       "\n",
       "          fscore_1     fscore_3     fscore_5    fscore_21    fscore_63  \n",
       "count  1000.000000  1000.000000  1000.000000  1000.000000  1000.000000  \n",
       "mean      0.164000     0.223067     0.244477     0.297654     0.320595  \n",
       "std       0.370461     0.336877     0.315178     0.235218     0.138486  \n",
       "min       0.000000     0.000000     0.000000     0.000000     0.085106  \n",
       "25%       0.000000     0.000000     0.000000     0.000000     0.204082  \n",
       "50%       0.000000     0.000000     0.000000     0.300000     0.285714  \n",
       "75%       0.000000     0.500000     0.571429     0.476190     0.448276  \n",
       "max       1.000000     1.000000     1.000000     0.848485     0.627907  "
      ],
      "text/html": "<div>\n<style scoped>\n    .dataframe tbody tr th:only-of-type {\n        vertical-align: middle;\n    }\n\n    .dataframe tbody tr th {\n        vertical-align: top;\n    }\n\n    .dataframe thead th {\n        text-align: right;\n    }\n</style>\n<table border=\"1\" class=\"dataframe\">\n  <thead>\n    <tr style=\"text-align: right;\">\n      <th></th>\n      <th>precision_1</th>\n      <th>precision_3</th>\n      <th>precision_5</th>\n      <th>precision_21</th>\n      <th>precision_63</th>\n      <th>recall_1</th>\n      <th>recall_3</th>\n      <th>recall_5</th>\n      <th>recall_21</th>\n      <th>recall_63</th>\n      <th>fscore_1</th>\n      <th>fscore_3</th>\n      <th>fscore_5</th>\n      <th>fscore_21</th>\n      <th>fscore_63</th>\n    </tr>\n  </thead>\n  <tbody>\n    <tr>\n      <th>count</th>\n      <td>1000.000000</td>\n      <td>1000.000000</td>\n      <td>1000.000000</td>\n      <td>1000.000000</td>\n      <td>1000.000000</td>\n      <td>1000.000000</td>\n      <td>1000.000000</td>\n      <td>1000.000000</td>\n      <td>1000.000000</td>\n      <td>1000.000000</td>\n      <td>1000.000000</td>\n      <td>1000.000000</td>\n      <td>1000.000000</td>\n      <td>1000.000000</td>\n      <td>1000.000000</td>\n    </tr>\n    <tr>\n      <th>mean</th>\n      <td>0.164000</td>\n      <td>0.196333</td>\n      <td>0.219350</td>\n      <td>0.350167</td>\n      <td>0.423575</td>\n      <td>0.164000</td>\n      <td>0.306000</td>\n      <td>0.360183</td>\n      <td>0.332612</td>\n      <td>0.277223</td>\n      <td>0.164000</td>\n      <td>0.223067</td>\n      <td>0.244477</td>\n      <td>0.297654</td>\n      <td>0.320595</td>\n    </tr>\n    <tr>\n      <th>std</th>\n      <td>0.370461</td>\n      <td>0.317890</td>\n      <td>0.306587</td>\n      <td>0.263210</td>\n      <td>0.100251</td>\n      <td>0.370461</td>\n      <td>0.449641</td>\n      <td>0.452552</td>\n      <td>0.313194</td>\n      <td>0.173626</td>\n      <td>0.370461</td>\n      <td>0.336877</td>\n      <td>0.315178</td>\n      <td>0.235218</td>\n      <td>0.138486</td>\n    </tr>\n    <tr>\n      <th>min</th>\n      <td>0.000000</td>\n      <td>0.000000</td>\n      <td>0.000000</td>\n      <td>0.000000</td>\n      <td>0.142857</td>\n      <td>0.000000</td>\n      <td>0.000000</td>\n      <td>0.000000</td>\n      <td>0.000000</td>\n      <td>0.060606</td>\n      <td>0.000000</td>\n      <td>0.000000</td>\n      <td>0.000000</td>\n      <td>0.000000</td>\n      <td>0.085106</td>\n    </tr>\n    <tr>\n      <th>25%</th>\n      <td>0.000000</td>\n      <td>0.000000</td>\n      <td>0.000000</td>\n      <td>0.000000</td>\n      <td>0.333333</td>\n      <td>0.000000</td>\n      <td>0.000000</td>\n      <td>0.000000</td>\n      <td>0.000000</td>\n      <td>0.151515</td>\n      <td>0.000000</td>\n      <td>0.000000</td>\n      <td>0.000000</td>\n      <td>0.000000</td>\n      <td>0.204082</td>\n    </tr>\n    <tr>\n      <th>50%</th>\n      <td>0.000000</td>\n      <td>0.000000</td>\n      <td>0.000000</td>\n      <td>0.355042</td>\n      <td>0.428571</td>\n      <td>0.000000</td>\n      <td>0.000000</td>\n      <td>0.000000</td>\n      <td>0.250000</td>\n      <td>0.205882</td>\n      <td>0.000000</td>\n      <td>0.000000</td>\n      <td>0.000000</td>\n      <td>0.300000</td>\n      <td>0.285714</td>\n    </tr>\n    <tr>\n      <th>75%</th>\n      <td>0.000000</td>\n      <td>0.333333</td>\n      <td>0.400000</td>\n      <td>0.545455</td>\n      <td>0.500000</td>\n      <td>0.000000</td>\n      <td>1.000000</td>\n      <td>1.000000</td>\n      <td>0.571429</td>\n      <td>0.393939</td>\n      <td>0.000000</td>\n      <td>0.500000</td>\n      <td>0.571429</td>\n      <td>0.476190</td>\n      <td>0.448276</td>\n    </tr>\n    <tr>\n      <th>max</th>\n      <td>1.000000</td>\n      <td>1.000000</td>\n      <td>1.000000</td>\n      <td>1.000000</td>\n      <td>0.625000</td>\n      <td>1.000000</td>\n      <td>1.000000</td>\n      <td>1.000000</td>\n      <td>1.000000</td>\n      <td>0.710526</td>\n      <td>1.000000</td>\n      <td>1.000000</td>\n      <td>1.000000</td>\n      <td>0.848485</td>\n      <td>0.627907</td>\n    </tr>\n  </tbody>\n</table>\n</div>"
     },
     "metadata": {},
     "execution_count": 23
    }
   ],
   "source": [
    "cross_df.iloc[:, 10:].describe()"
   ]
  },
  {
   "source": [
    "## Confidence intervals for RMSE, MAPE, precision, recall and fscore"
   ],
   "cell_type": "markdown",
   "metadata": {}
  },
  {
   "cell_type": "code",
   "execution_count": 24,
   "metadata": {},
   "outputs": [
    {
     "output_type": "execute_result",
     "data": {
      "text/plain": [
       "         measure        mean       lower       upper\n",
       "0         mape_1    4.486102    4.328316    4.643889\n",
       "1         mape_3    4.493116    4.340495    4.645737\n",
       "2         mape_5    4.500745    4.352381    4.649109\n",
       "3        mape_21    4.532705    4.416987    4.648423\n",
       "4        mape_63    4.542762    4.512261    4.573263\n",
       "5         rmse_1   29.630396   28.562947   30.697845\n",
       "6         rmse_3   51.297579   49.502668   53.092491\n",
       "7         rmse_5   66.239037   63.980385   68.497688\n",
       "8        rmse_21  136.556364  132.938800  140.173927\n",
       "9        rmse_63  237.115203  235.455694  238.774712\n",
       "10   precision_1    0.164000    0.141039    0.186961\n",
       "11   precision_3    0.196333    0.176630    0.216036\n",
       "12   precision_5    0.219350    0.200348    0.238352\n",
       "13  precision_21    0.350167    0.333853    0.366481\n",
       "14  precision_63    0.423575    0.417362    0.429789\n",
       "15      recall_1    0.164000    0.141039    0.186961\n",
       "16      recall_3    0.306000    0.278131    0.333869\n",
       "17      recall_5    0.360183    0.332134    0.388233\n",
       "18     recall_21    0.332612    0.313200    0.352024\n",
       "19     recall_63    0.277223    0.266462    0.287985\n",
       "20      fscore_1    0.164000    0.141039    0.186961\n",
       "21      fscore_3    0.223067    0.202187    0.243946\n",
       "22      fscore_5    0.244477    0.224942    0.264012\n",
       "23     fscore_21    0.297654    0.283075    0.312233\n",
       "24     fscore_63    0.320595    0.312011    0.329178"
      ],
      "text/html": "<div>\n<style scoped>\n    .dataframe tbody tr th:only-of-type {\n        vertical-align: middle;\n    }\n\n    .dataframe tbody tr th {\n        vertical-align: top;\n    }\n\n    .dataframe thead th {\n        text-align: right;\n    }\n</style>\n<table border=\"1\" class=\"dataframe\">\n  <thead>\n    <tr style=\"text-align: right;\">\n      <th></th>\n      <th>measure</th>\n      <th>mean</th>\n      <th>lower</th>\n      <th>upper</th>\n    </tr>\n  </thead>\n  <tbody>\n    <tr>\n      <th>0</th>\n      <td>mape_1</td>\n      <td>4.486102</td>\n      <td>4.328316</td>\n      <td>4.643889</td>\n    </tr>\n    <tr>\n      <th>1</th>\n      <td>mape_3</td>\n      <td>4.493116</td>\n      <td>4.340495</td>\n      <td>4.645737</td>\n    </tr>\n    <tr>\n      <th>2</th>\n      <td>mape_5</td>\n      <td>4.500745</td>\n      <td>4.352381</td>\n      <td>4.649109</td>\n    </tr>\n    <tr>\n      <th>3</th>\n      <td>mape_21</td>\n      <td>4.532705</td>\n      <td>4.416987</td>\n      <td>4.648423</td>\n    </tr>\n    <tr>\n      <th>4</th>\n      <td>mape_63</td>\n      <td>4.542762</td>\n      <td>4.512261</td>\n      <td>4.573263</td>\n    </tr>\n    <tr>\n      <th>5</th>\n      <td>rmse_1</td>\n      <td>29.630396</td>\n      <td>28.562947</td>\n      <td>30.697845</td>\n    </tr>\n    <tr>\n      <th>6</th>\n      <td>rmse_3</td>\n      <td>51.297579</td>\n      <td>49.502668</td>\n      <td>53.092491</td>\n    </tr>\n    <tr>\n      <th>7</th>\n      <td>rmse_5</td>\n      <td>66.239037</td>\n      <td>63.980385</td>\n      <td>68.497688</td>\n    </tr>\n    <tr>\n      <th>8</th>\n      <td>rmse_21</td>\n      <td>136.556364</td>\n      <td>132.938800</td>\n      <td>140.173927</td>\n    </tr>\n    <tr>\n      <th>9</th>\n      <td>rmse_63</td>\n      <td>237.115203</td>\n      <td>235.455694</td>\n      <td>238.774712</td>\n    </tr>\n    <tr>\n      <th>10</th>\n      <td>precision_1</td>\n      <td>0.164000</td>\n      <td>0.141039</td>\n      <td>0.186961</td>\n    </tr>\n    <tr>\n      <th>11</th>\n      <td>precision_3</td>\n      <td>0.196333</td>\n      <td>0.176630</td>\n      <td>0.216036</td>\n    </tr>\n    <tr>\n      <th>12</th>\n      <td>precision_5</td>\n      <td>0.219350</td>\n      <td>0.200348</td>\n      <td>0.238352</td>\n    </tr>\n    <tr>\n      <th>13</th>\n      <td>precision_21</td>\n      <td>0.350167</td>\n      <td>0.333853</td>\n      <td>0.366481</td>\n    </tr>\n    <tr>\n      <th>14</th>\n      <td>precision_63</td>\n      <td>0.423575</td>\n      <td>0.417362</td>\n      <td>0.429789</td>\n    </tr>\n    <tr>\n      <th>15</th>\n      <td>recall_1</td>\n      <td>0.164000</td>\n      <td>0.141039</td>\n      <td>0.186961</td>\n    </tr>\n    <tr>\n      <th>16</th>\n      <td>recall_3</td>\n      <td>0.306000</td>\n      <td>0.278131</td>\n      <td>0.333869</td>\n    </tr>\n    <tr>\n      <th>17</th>\n      <td>recall_5</td>\n      <td>0.360183</td>\n      <td>0.332134</td>\n      <td>0.388233</td>\n    </tr>\n    <tr>\n      <th>18</th>\n      <td>recall_21</td>\n      <td>0.332612</td>\n      <td>0.313200</td>\n      <td>0.352024</td>\n    </tr>\n    <tr>\n      <th>19</th>\n      <td>recall_63</td>\n      <td>0.277223</td>\n      <td>0.266462</td>\n      <td>0.287985</td>\n    </tr>\n    <tr>\n      <th>20</th>\n      <td>fscore_1</td>\n      <td>0.164000</td>\n      <td>0.141039</td>\n      <td>0.186961</td>\n    </tr>\n    <tr>\n      <th>21</th>\n      <td>fscore_3</td>\n      <td>0.223067</td>\n      <td>0.202187</td>\n      <td>0.243946</td>\n    </tr>\n    <tr>\n      <th>22</th>\n      <td>fscore_5</td>\n      <td>0.244477</td>\n      <td>0.224942</td>\n      <td>0.264012</td>\n    </tr>\n    <tr>\n      <th>23</th>\n      <td>fscore_21</td>\n      <td>0.297654</td>\n      <td>0.283075</td>\n      <td>0.312233</td>\n    </tr>\n    <tr>\n      <th>24</th>\n      <td>fscore_63</td>\n      <td>0.320595</td>\n      <td>0.312011</td>\n      <td>0.329178</td>\n    </tr>\n  </tbody>\n</table>\n</div>"
     },
     "metadata": {},
     "execution_count": 24
    }
   ],
   "source": [
    "n = cross_df.count()[0]\n",
    "mean = cross_df.mean()\n",
    "upper = cross_df.mean() + 1.96 * cross_df.std() / math.sqrt(n)\n",
    "lower = cross_df.mean() - 1.96 * cross_df.std() / math.sqrt(n)\n",
    "\n",
    "ci_df = pd.DataFrame(columns=['measure', 'mean', 'lower', 'upper'])\n",
    "\n",
    "for i in range(25):\n",
    "    ci_df = ci_df.append({\n",
    "        'measure': cross_df.columns[i],\n",
    "        'mean': mean[i],\n",
    "        'lower': lower[i],\n",
    "        'upper': upper[i]\n",
    "    }, ignore_index=True)\n",
    "\n",
    "ci_df"
   ]
  },
  {
   "cell_type": "code",
   "execution_count": null,
   "metadata": {},
   "outputs": [],
   "source": []
  }
 ]
}
{
 "metadata": {
  "language_info": {
   "codemirror_mode": {
    "name": "ipython",
    "version": 3
   },
   "file_extension": ".py",
   "mimetype": "text/x-python",
   "name": "python",
   "nbconvert_exporter": "python",
   "pygments_lexer": "ipython3",
   "version": "3.8.8-final"
  },
  "orig_nbformat": 2,
  "kernelspec": {
   "name": "python3",
   "display_name": "Python 3.8.8 64-bit ('venv': venv)",
   "metadata": {
    "interpreter": {
     "hash": "3c80b69efc6c35edf58052dd52e794939bcc5e24ed141d0f365672b2a75355b3"
    }
   }
  }
 },
 "nbformat": 4,
 "nbformat_minor": 2,
 "cells": [
  {
   "cell_type": "code",
   "execution_count": 1,
   "metadata": {},
   "outputs": [],
   "source": [
    "# https://machinelearningmastery.com/multi-step-time-series-forecasting-long-short-term-memory-networks-python/\n",
    "import pandas as pd\n",
    "from datetime import datetime\n",
    "import numpy as np\n",
    "\n",
    "from sklearn.metrics import mean_squared_error\n",
    "from sklearn.preprocessing import MinMaxScaler\n",
    "from keras.models import Sequential\n",
    "from keras.layers import Dense\n",
    "from keras.layers import LSTM\n",
    "\n",
    "import math\n",
    "import matplotlib.pyplot as plt\n",
    "\n",
    "np.random.seed(1337)"
   ]
  },
  {
   "source": [
    "# Creating functions"
   ],
   "cell_type": "markdown",
   "metadata": {}
  },
  {
   "cell_type": "code",
   "execution_count": 2,
   "metadata": {},
   "outputs": [],
   "source": [
    "# transform series into train and test sets for supervised learning\n",
    "def series_to_supervised(data, n_in=1, n_out=1, dropnan=True):\n",
    "    n_vars = 1 if type(data) is list else data.shape[1]\n",
    "    df = pd.DataFrame(data)\n",
    "    cols, names = list(), list()\n",
    "\n",
    "    # input sequence (t-n, ... t-1)\n",
    "    for i in range(n_in, 0, -1):\n",
    "        cols.append(df.shift(i))\n",
    "        names += [('var%d(t-%d)' % (j+1, i)) for j in range(n_vars)]\n",
    "\n",
    "    # forecast sequence (t, t+1, ... t+n)\n",
    "    for i in range(0, n_out):\n",
    "        cols.append(df.shift(-i))\n",
    "        if i == 0:\n",
    "            names += [('var%d(t)' % (j+1)) for j in range(n_vars)]\n",
    "        else:\n",
    "            names += [('var%d(t+%d)' % (j+1, i)) for j in range(n_vars)]\n",
    "\n",
    "    # put it all together\n",
    "    agg = pd.concat(cols, axis=1)\n",
    "    agg.columns = names\n",
    "\n",
    "    # drop rows with NaN values\n",
    "    if dropnan:\n",
    "        agg.dropna(inplace=True)\n",
    "    \n",
    "    return agg\n"
   ]
  },
  {
   "cell_type": "code",
   "execution_count": 3,
   "metadata": {},
   "outputs": [],
   "source": [
    "# transform series into train and test sets for supervised learning\n",
    "def prepare_data(series, n_test, n_lag, n_seq):\n",
    "\t# extract raw values\n",
    "\traw_values = series.values\n",
    "\t\n",
    "    # transform data to be stationary\n",
    "\tdiff_values = raw_values\n",
    "\tdiff_values = diff_values.reshape(len(diff_values), 1)\n",
    "\t\n",
    "    # rescale values to -1, 1\n",
    "\tscaler = MinMaxScaler(feature_range=(-1, 1))\n",
    "\tscaled_values = scaler.fit_transform(diff_values)\n",
    "\tscaled_values = scaled_values.reshape(len(scaled_values), 1)\n",
    "\t\n",
    "    # transform into supervised learning problem X, y\n",
    "\tsupervised = series_to_supervised(scaled_values, n_lag, n_seq)\n",
    "\tsupervised_values = supervised.values\n",
    "\t\n",
    "    # split into train and test sets\n",
    "\ttrain, test = supervised_values[0:-n_test], supervised_values[-n_test:]\n",
    "\treturn scaler, train, test"
   ]
  },
  {
   "cell_type": "code",
   "execution_count": 4,
   "metadata": {},
   "outputs": [],
   "source": [
    "def fit_lstm(train, n_lag, n_seq, n_batch, nb_epoch, n_neurons):\n",
    "    # reshape training into [samples, timesteps, features]\n",
    "    X, y = train[:, 0:n_lag], train[:, n_lag:]\n",
    "\n",
    "    X = X.reshape(X.shape[0], 1, X.shape[1])\n",
    "\n",
    "    # design network\n",
    "    model = Sequential()\n",
    "    model.add(LSTM(n_neurons, batch_input_shape=(n_batch, X.shape[1], X.shape[2]), stateful=True))\n",
    "    model.add(Dense(y.shape[1]))\n",
    "    model.compile(loss='mean_squared_error', optimizer='adam')\n",
    "\n",
    "    model.fit(X, y, epochs=nb_epoch, batch_size=n_batch, verbose=2, shuffle=False)\n",
    "\n",
    "    return model"
   ]
  },
  {
   "cell_type": "code",
   "execution_count": 5,
   "metadata": {},
   "outputs": [],
   "source": [
    "# make one forecast with an LSTM,\n",
    "def forecast_lstm(model, X, n_batch):\n",
    "    # reshape input pattern to [samples, timesteps, features]\n",
    "    X = X.reshape(1, 1, len(X))\n",
    "    \n",
    "    # make forecast\n",
    "    forecast = model.predict(X, batch_size=n_batch)\n",
    "    \n",
    "    # convert to array\n",
    "    return [x for x in forecast[0, :]]\n",
    " \n",
    "# evaluate the persistence model\n",
    "def make_forecasts(model, n_batch, train, test, n_lag, n_seq):\n",
    "    forecasts = list()\n",
    "    for i in range(len(test)):\n",
    "        X, y = test[i, 0:n_lag], test[i, n_lag:]\n",
    "        # make forecast\n",
    "        forecast = forecast_lstm(model, X, n_batch)\n",
    "        # store the forecast\n",
    "        forecasts.append(forecast)\n",
    "    return forecasts"
   ]
  },
  {
   "cell_type": "code",
   "execution_count": 6,
   "metadata": {},
   "outputs": [],
   "source": [
    "# inverse data transform on forecasts\n",
    "def inverse_transform(series, forecasts, scaler):\n",
    "    inverted = list()\n",
    "    for i in range(len(forecasts)):\n",
    "        \n",
    "        # create array from forecast\n",
    "        forecast = np.array(forecasts[i])\n",
    "        forecast = forecast.reshape(1, len(forecast))\n",
    "        \n",
    "        # invert scaling\n",
    "        inv_scale = scaler.inverse_transform(forecast)\n",
    "        inv_scale = inv_scale[0, :]\n",
    "\n",
    "        inverted.append(inv_scale)\n",
    "\n",
    "    return inverted"
   ]
  },
  {
   "source": [
    "# Fitting and predicting"
   ],
   "cell_type": "markdown",
   "metadata": {}
  },
  {
   "cell_type": "code",
   "execution_count": 7,
   "metadata": {},
   "outputs": [
    {
     "output_type": "stream",
     "name": "stdout",
     "text": [
      "Epoch 1/5\n",
      "3360/3360 - 4s - loss: 0.0089\n",
      "Epoch 2/5\n",
      "3360/3360 - 3s - loss: 0.0078\n",
      "Epoch 3/5\n",
      "3360/3360 - 3s - loss: 0.0077\n",
      "Epoch 4/5\n",
      "3360/3360 - 4s - loss: 0.0077\n",
      "Epoch 5/5\n",
      "3360/3360 - 4s - loss: 0.0077\n"
     ]
    }
   ],
   "source": [
    "# load dataset\n",
    "logreturns = 'data/final.csv'\n",
    "series = pd.read_csv(logreturns, usecols=['Exchange.Date', 'logreturns'], header=0, index_col=0, squeeze=True)\n",
    "\n",
    "# configure\n",
    "n_lag = 1\n",
    "n_seq = 63 #  number of periods forecast\n",
    "test_share = 0.25\n",
    "n_test = int(len(series) * test_share)\n",
    "n_epochs = 5\n",
    "n_batch = 1\n",
    "n_neurons = 50\n",
    "\n",
    "# prepare data\n",
    "scaler, train, test = prepare_data(series, n_test, n_lag, n_seq)\n",
    "\n",
    "# fit model\n",
    "model = fit_lstm(train, n_lag, n_seq, n_batch, n_epochs, n_neurons)\n",
    "\n",
    "# make forecasts\n",
    "forecasts = make_forecasts(model, n_batch, train, test, n_lag, n_seq)\n",
    "\n",
    "# inverse transform forecasts and test\n",
    "forecasts = inverse_transform(series, forecasts, scaler)"
   ]
  },
  {
   "source": [
    "# Evaluating from t=1"
   ],
   "cell_type": "markdown",
   "metadata": {}
  },
  {
   "cell_type": "code",
   "execution_count": 19,
   "metadata": {},
   "outputs": [
    {
     "output_type": "execute_result",
     "data": {
      "text/plain": [
       "       Close  logreturns    forecast      error  actual_change  \\\n",
       "3481  671.89    0.005567  627.819458 -44.070542           True   \n",
       "3482  671.08   -0.001206  628.604309 -42.475691          False   \n",
       "3483  668.82   -0.003373  629.526062 -39.293938          False   \n",
       "3484  668.02   -0.001197  630.467529 -37.552471          False   \n",
       "3485  663.33   -0.007046  631.442017 -31.887983          False   \n",
       "\n",
       "      forecast_change confusion  \n",
       "3481             True        TP  \n",
       "3482             True        FP  \n",
       "3483             True        FP  \n",
       "3484             True        FP  \n",
       "3485             True        FP  "
      ],
      "text/html": "<div>\n<style scoped>\n    .dataframe tbody tr th:only-of-type {\n        vertical-align: middle;\n    }\n\n    .dataframe tbody tr th {\n        vertical-align: top;\n    }\n\n    .dataframe thead th {\n        text-align: right;\n    }\n</style>\n<table border=\"1\" class=\"dataframe\">\n  <thead>\n    <tr style=\"text-align: right;\">\n      <th></th>\n      <th>Close</th>\n      <th>logreturns</th>\n      <th>forecast</th>\n      <th>error</th>\n      <th>actual_change</th>\n      <th>forecast_change</th>\n      <th>confusion</th>\n    </tr>\n  </thead>\n  <tbody>\n    <tr>\n      <th>3481</th>\n      <td>671.89</td>\n      <td>0.005567</td>\n      <td>627.819458</td>\n      <td>-44.070542</td>\n      <td>True</td>\n      <td>True</td>\n      <td>TP</td>\n    </tr>\n    <tr>\n      <th>3482</th>\n      <td>671.08</td>\n      <td>-0.001206</td>\n      <td>628.604309</td>\n      <td>-42.475691</td>\n      <td>False</td>\n      <td>True</td>\n      <td>FP</td>\n    </tr>\n    <tr>\n      <th>3483</th>\n      <td>668.82</td>\n      <td>-0.003373</td>\n      <td>629.526062</td>\n      <td>-39.293938</td>\n      <td>False</td>\n      <td>True</td>\n      <td>FP</td>\n    </tr>\n    <tr>\n      <th>3484</th>\n      <td>668.02</td>\n      <td>-0.001197</td>\n      <td>630.467529</td>\n      <td>-37.552471</td>\n      <td>False</td>\n      <td>True</td>\n      <td>FP</td>\n    </tr>\n    <tr>\n      <th>3485</th>\n      <td>663.33</td>\n      <td>-0.007046</td>\n      <td>631.442017</td>\n      <td>-31.887983</td>\n      <td>False</td>\n      <td>True</td>\n      <td>FP</td>\n    </tr>\n  </tbody>\n</table>\n</div>"
     },
     "metadata": {},
     "execution_count": 19
    }
   ],
   "source": [
    "# Creating a merged df with original values and predictions\n",
    "original_df = pd.read_csv('data/final.csv', usecols=['logreturns', 'Close'])\n",
    "train_df = original_df[:-n_test].copy()\n",
    "\n",
    "last_train = train_df['Close'].values[-1]\n",
    "price_forecasts = np.exp(np.cumsum(forecasts[0]) + math.log(last_train))\n",
    "\n",
    "train_df['forecast'] = train_df['Close'] # temporary until actual forecasts are added\n",
    "\n",
    "eval_df = pd.DataFrame(columns=['Close', 'logreturns', 'forecast'])\n",
    "eval_df['Close'] = original_df['Close'].values[-n_test:-n_test+n_seq]\n",
    "eval_df['logreturns'] = original_df['logreturns'].values[-n_test:-n_test+n_seq]\n",
    "eval_df['forecast'] = price_forecasts\n",
    "\n",
    "merged_df = train_df.append(eval_df, ignore_index=True)\n",
    "merged_df['error'] = merged_df['forecast'] - merged_df['Close']\n",
    "\n",
    "merged_df['actual_change'] = merged_df['Close'].diff(1) > 0\n",
    "merged_df['forecast_change'] = merged_df['forecast'].diff(1) > 0\n",
    "\n",
    "def confusion(actual, forecast):\n",
    "    if (actual and forecast):\n",
    "        return 'TP'\n",
    "    \n",
    "    if (actual and not forecast):\n",
    "        return 'FN'\n",
    "    \n",
    "    if (not actual and forecast):\n",
    "        return 'FP'\n",
    "    \n",
    "    if (not actual and not forecast):\n",
    "        return 'TN'\n",
    "    \n",
    "    return False\n",
    "\n",
    "merged_df['confusion'] = merged_df.apply(lambda x: confusion(x['actual_change'], x['forecast_change']), axis=1)\n",
    "\n",
    "merged_df.tail()"
   ]
  },
  {
   "cell_type": "code",
   "execution_count": 28,
   "metadata": {},
   "outputs": [
    {
     "output_type": "stream",
     "name": "stdout",
     "text": [
      "1, RMSE: 1.247, MAPE: 0.2%\n3, RMSE: 3.872, MAPE: 0.496%\n5, RMSE: 4.09, MAPE: 0.376%\n21, RMSE: 23.747, MAPE: 0.973%\n63, RMSE: 174.381, MAPE: 3.385%\n"
     ]
    }
   ],
   "source": [
    "# RMSE and MAE\n",
    "def new_df(n_periods):\n",
    "    df = merged_df[len(train_df):len(train_df)+n_periods]\n",
    "    return df\n",
    "\n",
    "def evaluate(n_periods):\n",
    "    df = new_df(n_periods)\n",
    "    mape = np.mean(np.abs((df['error']) / df['Close'])) * 100\n",
    "    rmse = math.sqrt(pow(df['error'].sum(), 2) / n_periods)\n",
    "    print(f\"{n_periods}, RMSE: {round(rmse, 3)}, MAPE: {round(mape, 3)}%\")\n",
    "\n",
    "evaluate(1) # 1 day\n",
    "evaluate(3) # half a week\n",
    "evaluate(5) # week\n",
    "evaluate(21) # month\n",
    "evaluate(63) # quarter"
   ]
  },
  {
   "cell_type": "code",
   "execution_count": 30,
   "metadata": {},
   "outputs": [
    {
     "output_type": "execute_result",
     "data": {
      "text/plain": [
       "    P   N\n",
       "P  23  14\n",
       "N  23   3"
      ],
      "text/html": "<div>\n<style scoped>\n    .dataframe tbody tr th:only-of-type {\n        vertical-align: middle;\n    }\n\n    .dataframe tbody tr th {\n        vertical-align: top;\n    }\n\n    .dataframe thead th {\n        text-align: right;\n    }\n</style>\n<table border=\"1\" class=\"dataframe\">\n  <thead>\n    <tr style=\"text-align: right;\">\n      <th></th>\n      <th>P</th>\n      <th>N</th>\n    </tr>\n  </thead>\n  <tbody>\n    <tr>\n      <th>P</th>\n      <td>23</td>\n      <td>14</td>\n    </tr>\n    <tr>\n      <th>N</th>\n      <td>23</td>\n      <td>3</td>\n    </tr>\n  </tbody>\n</table>\n</div>"
     },
     "metadata": {},
     "execution_count": 30
    }
   ],
   "source": [
    "def confusion_matrix(df):\n",
    "    conf = pd.DataFrame(columns=['P', 'N'], index=['P', 'N'])\n",
    "    conf.loc['P', 'P'] = len(df[df['confusion'] == 'TP'])\n",
    "    conf.loc['P', 'N'] = len(df[df['confusion'] == 'FN'])\n",
    "    conf.loc['N', 'P'] = len(df[df['confusion'] == 'FP'])\n",
    "    conf.loc['N', 'N'] = len(df[df['confusion'] == 'TN'])\n",
    "    return conf\n",
    "\n",
    "confusion_matrix(new_df(63))"
   ]
  },
  {
   "cell_type": "code",
   "execution_count": 31,
   "metadata": {},
   "outputs": [
    {
     "output_type": "execute_result",
     "data": {
      "text/plain": [
       "<matplotlib.legend.Legend at 0x149261eb0>"
      ]
     },
     "metadata": {},
     "execution_count": 31
    },
    {
     "output_type": "display_data",
     "data": {
      "text/plain": "<Figure size 720x288 with 1 Axes>",
      "image/svg+xml": "<?xml version=\"1.0\" encoding=\"utf-8\" standalone=\"no\"?>\n<!DOCTYPE svg PUBLIC \"-//W3C//DTD SVG 1.1//EN\"\n  \"http://www.w3.org/Graphics/SVG/1.1/DTD/svg11.dtd\">\n<!-- Created with matplotlib (https://matplotlib.org/) -->\n<svg height=\"248.775006pt\" version=\"1.1\" viewBox=\"0 0 598.4875 248.775006\" width=\"598.4875pt\" xmlns=\"http://www.w3.org/2000/svg\" xmlns:xlink=\"http://www.w3.org/1999/xlink\">\n <metadata>\n  <rdf:RDF xmlns:cc=\"http://creativecommons.org/ns#\" xmlns:dc=\"http://purl.org/dc/elements/1.1/\" xmlns:rdf=\"http://www.w3.org/1999/02/22-rdf-syntax-ns#\">\n   <cc:Work>\n    <dc:type rdf:resource=\"http://purl.org/dc/dcmitype/StillImage\"/>\n    <dc:date>2021-03-30T13:34:58.628107</dc:date>\n    <dc:format>image/svg+xml</dc:format>\n    <dc:creator>\n     <cc:Agent>\n      <dc:title>Matplotlib v3.3.4, https://matplotlib.org/</dc:title>\n     </cc:Agent>\n    </dc:creator>\n   </cc:Work>\n  </rdf:RDF>\n </metadata>\n <defs>\n  <style type=\"text/css\">*{stroke-linecap:butt;stroke-linejoin:round;}</style>\n </defs>\n <g id=\"figure_1\">\n  <g id=\"patch_1\">\n   <path d=\"M 0 248.775006 \nL 598.4875 248.775006 \nL 598.4875 0 \nL 0 0 \nz\n\" style=\"fill:none;\"/>\n  </g>\n  <g id=\"axes_1\">\n   <g id=\"patch_2\">\n    <path d=\"M 33.2875 224.896881 \nL 591.2875 224.896881 \nL 591.2875 7.456881 \nL 33.2875 7.456881 \nz\n\" style=\"fill:#ffffff;\"/>\n   </g>\n   <g id=\"matplotlib.axis_1\">\n    <g id=\"xtick_1\">\n     <g id=\"line2d_1\">\n      <defs>\n       <path d=\"M 0 0 \nL 0 3.5 \n\" id=\"mfaf5389c20\" style=\"stroke:#000000;stroke-width:0.8;\"/>\n      </defs>\n      <g>\n       <use style=\"stroke:#000000;stroke-width:0.8;\" x=\"66.745914\" xlink:href=\"#mfaf5389c20\" y=\"224.896881\"/>\n      </g>\n     </g>\n     <g id=\"text_1\">\n      <!-- 3300 -->\n      <g transform=\"translate(54.020914 239.495319)scale(0.1 -0.1)\">\n       <defs>\n        <path d=\"M 40.578125 39.3125 \nQ 47.65625 37.796875 51.625 33 \nQ 55.609375 28.21875 55.609375 21.1875 \nQ 55.609375 10.40625 48.1875 4.484375 \nQ 40.765625 -1.421875 27.09375 -1.421875 \nQ 22.515625 -1.421875 17.65625 -0.515625 \nQ 12.796875 0.390625 7.625 2.203125 \nL 7.625 11.71875 \nQ 11.71875 9.328125 16.59375 8.109375 \nQ 21.484375 6.890625 26.8125 6.890625 \nQ 36.078125 6.890625 40.9375 10.546875 \nQ 45.796875 14.203125 45.796875 21.1875 \nQ 45.796875 27.640625 41.28125 31.265625 \nQ 36.765625 34.90625 28.71875 34.90625 \nL 20.21875 34.90625 \nL 20.21875 43.015625 \nL 29.109375 43.015625 \nQ 36.375 43.015625 40.234375 45.921875 \nQ 44.09375 48.828125 44.09375 54.296875 \nQ 44.09375 59.90625 40.109375 62.90625 \nQ 36.140625 65.921875 28.71875 65.921875 \nQ 24.65625 65.921875 20.015625 65.03125 \nQ 15.375 64.15625 9.8125 62.3125 \nL 9.8125 71.09375 \nQ 15.4375 72.65625 20.34375 73.4375 \nQ 25.25 74.21875 29.59375 74.21875 \nQ 40.828125 74.21875 47.359375 69.109375 \nQ 53.90625 64.015625 53.90625 55.328125 \nQ 53.90625 49.265625 50.4375 45.09375 \nQ 46.96875 40.921875 40.578125 39.3125 \nz\n\" id=\"DejaVuSans-51\"/>\n        <path d=\"M 31.78125 66.40625 \nQ 24.171875 66.40625 20.328125 58.90625 \nQ 16.5 51.421875 16.5 36.375 \nQ 16.5 21.390625 20.328125 13.890625 \nQ 24.171875 6.390625 31.78125 6.390625 \nQ 39.453125 6.390625 43.28125 13.890625 \nQ 47.125 21.390625 47.125 36.375 \nQ 47.125 51.421875 43.28125 58.90625 \nQ 39.453125 66.40625 31.78125 66.40625 \nz\nM 31.78125 74.21875 \nQ 44.046875 74.21875 50.515625 64.515625 \nQ 56.984375 54.828125 56.984375 36.375 \nQ 56.984375 17.96875 50.515625 8.265625 \nQ 44.046875 -1.421875 31.78125 -1.421875 \nQ 19.53125 -1.421875 13.0625 8.265625 \nQ 6.59375 17.96875 6.59375 36.375 \nQ 6.59375 54.828125 13.0625 64.515625 \nQ 19.53125 74.21875 31.78125 74.21875 \nz\n\" id=\"DejaVuSans-48\"/>\n       </defs>\n       <use xlink:href=\"#DejaVuSans-51\"/>\n       <use x=\"63.623047\" xlink:href=\"#DejaVuSans-51\"/>\n       <use x=\"127.246094\" xlink:href=\"#DejaVuSans-48\"/>\n       <use x=\"190.869141\" xlink:href=\"#DejaVuSans-48\"/>\n      </g>\n     </g>\n    </g>\n    <g id=\"xtick_2\">\n     <g id=\"line2d_2\">\n      <g>\n       <use style=\"stroke:#000000;stroke-width:0.8;\" x=\"134.202394\" xlink:href=\"#mfaf5389c20\" y=\"224.896881\"/>\n      </g>\n     </g>\n     <g id=\"text_2\">\n      <!-- 3325 -->\n      <g transform=\"translate(121.477394 239.495319)scale(0.1 -0.1)\">\n       <defs>\n        <path d=\"M 19.1875 8.296875 \nL 53.609375 8.296875 \nL 53.609375 0 \nL 7.328125 0 \nL 7.328125 8.296875 \nQ 12.9375 14.109375 22.625 23.890625 \nQ 32.328125 33.6875 34.8125 36.53125 \nQ 39.546875 41.84375 41.421875 45.53125 \nQ 43.3125 49.21875 43.3125 52.78125 \nQ 43.3125 58.59375 39.234375 62.25 \nQ 35.15625 65.921875 28.609375 65.921875 \nQ 23.96875 65.921875 18.8125 64.3125 \nQ 13.671875 62.703125 7.8125 59.421875 \nL 7.8125 69.390625 \nQ 13.765625 71.78125 18.9375 73 \nQ 24.125 74.21875 28.421875 74.21875 \nQ 39.75 74.21875 46.484375 68.546875 \nQ 53.21875 62.890625 53.21875 53.421875 \nQ 53.21875 48.921875 51.53125 44.890625 \nQ 49.859375 40.875 45.40625 35.40625 \nQ 44.1875 33.984375 37.640625 27.21875 \nQ 31.109375 20.453125 19.1875 8.296875 \nz\n\" id=\"DejaVuSans-50\"/>\n        <path d=\"M 10.796875 72.90625 \nL 49.515625 72.90625 \nL 49.515625 64.59375 \nL 19.828125 64.59375 \nL 19.828125 46.734375 \nQ 21.96875 47.46875 24.109375 47.828125 \nQ 26.265625 48.1875 28.421875 48.1875 \nQ 40.625 48.1875 47.75 41.5 \nQ 54.890625 34.8125 54.890625 23.390625 \nQ 54.890625 11.625 47.5625 5.09375 \nQ 40.234375 -1.421875 26.90625 -1.421875 \nQ 22.3125 -1.421875 17.546875 -0.640625 \nQ 12.796875 0.140625 7.71875 1.703125 \nL 7.71875 11.625 \nQ 12.109375 9.234375 16.796875 8.0625 \nQ 21.484375 6.890625 26.703125 6.890625 \nQ 35.15625 6.890625 40.078125 11.328125 \nQ 45.015625 15.765625 45.015625 23.390625 \nQ 45.015625 31 40.078125 35.4375 \nQ 35.15625 39.890625 26.703125 39.890625 \nQ 22.75 39.890625 18.8125 39.015625 \nQ 14.890625 38.140625 10.796875 36.28125 \nz\n\" id=\"DejaVuSans-53\"/>\n       </defs>\n       <use xlink:href=\"#DejaVuSans-51\"/>\n       <use x=\"63.623047\" xlink:href=\"#DejaVuSans-51\"/>\n       <use x=\"127.246094\" xlink:href=\"#DejaVuSans-50\"/>\n       <use x=\"190.869141\" xlink:href=\"#DejaVuSans-53\"/>\n      </g>\n     </g>\n    </g>\n    <g id=\"xtick_3\">\n     <g id=\"line2d_3\">\n      <g>\n       <use style=\"stroke:#000000;stroke-width:0.8;\" x=\"201.658873\" xlink:href=\"#mfaf5389c20\" y=\"224.896881\"/>\n      </g>\n     </g>\n     <g id=\"text_3\">\n      <!-- 3350 -->\n      <g transform=\"translate(188.933873 239.495319)scale(0.1 -0.1)\">\n       <use xlink:href=\"#DejaVuSans-51\"/>\n       <use x=\"63.623047\" xlink:href=\"#DejaVuSans-51\"/>\n       <use x=\"127.246094\" xlink:href=\"#DejaVuSans-53\"/>\n       <use x=\"190.869141\" xlink:href=\"#DejaVuSans-48\"/>\n      </g>\n     </g>\n    </g>\n    <g id=\"xtick_4\">\n     <g id=\"line2d_4\">\n      <g>\n       <use style=\"stroke:#000000;stroke-width:0.8;\" x=\"269.115353\" xlink:href=\"#mfaf5389c20\" y=\"224.896881\"/>\n      </g>\n     </g>\n     <g id=\"text_4\">\n      <!-- 3375 -->\n      <g transform=\"translate(256.390353 239.495319)scale(0.1 -0.1)\">\n       <defs>\n        <path d=\"M 8.203125 72.90625 \nL 55.078125 72.90625 \nL 55.078125 68.703125 \nL 28.609375 0 \nL 18.3125 0 \nL 43.21875 64.59375 \nL 8.203125 64.59375 \nz\n\" id=\"DejaVuSans-55\"/>\n       </defs>\n       <use xlink:href=\"#DejaVuSans-51\"/>\n       <use x=\"63.623047\" xlink:href=\"#DejaVuSans-51\"/>\n       <use x=\"127.246094\" xlink:href=\"#DejaVuSans-55\"/>\n       <use x=\"190.869141\" xlink:href=\"#DejaVuSans-53\"/>\n      </g>\n     </g>\n    </g>\n    <g id=\"xtick_5\">\n     <g id=\"line2d_5\">\n      <g>\n       <use style=\"stroke:#000000;stroke-width:0.8;\" x=\"336.571833\" xlink:href=\"#mfaf5389c20\" y=\"224.896881\"/>\n      </g>\n     </g>\n     <g id=\"text_5\">\n      <!-- 3400 -->\n      <g transform=\"translate(323.846833 239.495319)scale(0.1 -0.1)\">\n       <defs>\n        <path d=\"M 37.796875 64.3125 \nL 12.890625 25.390625 \nL 37.796875 25.390625 \nz\nM 35.203125 72.90625 \nL 47.609375 72.90625 \nL 47.609375 25.390625 \nL 58.015625 25.390625 \nL 58.015625 17.1875 \nL 47.609375 17.1875 \nL 47.609375 0 \nL 37.796875 0 \nL 37.796875 17.1875 \nL 4.890625 17.1875 \nL 4.890625 26.703125 \nz\n\" id=\"DejaVuSans-52\"/>\n       </defs>\n       <use xlink:href=\"#DejaVuSans-51\"/>\n       <use x=\"63.623047\" xlink:href=\"#DejaVuSans-52\"/>\n       <use x=\"127.246094\" xlink:href=\"#DejaVuSans-48\"/>\n       <use x=\"190.869141\" xlink:href=\"#DejaVuSans-48\"/>\n      </g>\n     </g>\n    </g>\n    <g id=\"xtick_6\">\n     <g id=\"line2d_6\">\n      <g>\n       <use style=\"stroke:#000000;stroke-width:0.8;\" x=\"404.028312\" xlink:href=\"#mfaf5389c20\" y=\"224.896881\"/>\n      </g>\n     </g>\n     <g id=\"text_6\">\n      <!-- 3425 -->\n      <g transform=\"translate(391.303312 239.495319)scale(0.1 -0.1)\">\n       <use xlink:href=\"#DejaVuSans-51\"/>\n       <use x=\"63.623047\" xlink:href=\"#DejaVuSans-52\"/>\n       <use x=\"127.246094\" xlink:href=\"#DejaVuSans-50\"/>\n       <use x=\"190.869141\" xlink:href=\"#DejaVuSans-53\"/>\n      </g>\n     </g>\n    </g>\n    <g id=\"xtick_7\">\n     <g id=\"line2d_7\">\n      <g>\n       <use style=\"stroke:#000000;stroke-width:0.8;\" x=\"471.484792\" xlink:href=\"#mfaf5389c20\" y=\"224.896881\"/>\n      </g>\n     </g>\n     <g id=\"text_7\">\n      <!-- 3450 -->\n      <g transform=\"translate(458.759792 239.495319)scale(0.1 -0.1)\">\n       <use xlink:href=\"#DejaVuSans-51\"/>\n       <use x=\"63.623047\" xlink:href=\"#DejaVuSans-52\"/>\n       <use x=\"127.246094\" xlink:href=\"#DejaVuSans-53\"/>\n       <use x=\"190.869141\" xlink:href=\"#DejaVuSans-48\"/>\n      </g>\n     </g>\n    </g>\n    <g id=\"xtick_8\">\n     <g id=\"line2d_8\">\n      <g>\n       <use style=\"stroke:#000000;stroke-width:0.8;\" x=\"538.941272\" xlink:href=\"#mfaf5389c20\" y=\"224.896881\"/>\n      </g>\n     </g>\n     <g id=\"text_8\">\n      <!-- 3475 -->\n      <g transform=\"translate(526.216272 239.495319)scale(0.1 -0.1)\">\n       <use xlink:href=\"#DejaVuSans-51\"/>\n       <use x=\"63.623047\" xlink:href=\"#DejaVuSans-52\"/>\n       <use x=\"127.246094\" xlink:href=\"#DejaVuSans-55\"/>\n       <use x=\"190.869141\" xlink:href=\"#DejaVuSans-53\"/>\n      </g>\n     </g>\n    </g>\n   </g>\n   <g id=\"matplotlib.axis_2\">\n    <g id=\"ytick_1\">\n     <g id=\"line2d_9\">\n      <defs>\n       <path d=\"M 0 0 \nL -3.5 0 \n\" id=\"m9009f35b08\" style=\"stroke:#000000;stroke-width:0.8;\"/>\n      </defs>\n      <g>\n       <use style=\"stroke:#000000;stroke-width:0.8;\" x=\"33.2875\" xlink:href=\"#m9009f35b08\" y=\"211.911659\"/>\n      </g>\n     </g>\n     <g id=\"text_9\">\n      <!-- 520 -->\n      <g transform=\"translate(7.2 215.710878)scale(0.1 -0.1)\">\n       <use xlink:href=\"#DejaVuSans-53\"/>\n       <use x=\"63.623047\" xlink:href=\"#DejaVuSans-50\"/>\n       <use x=\"127.246094\" xlink:href=\"#DejaVuSans-48\"/>\n      </g>\n     </g>\n    </g>\n    <g id=\"ytick_2\">\n     <g id=\"line2d_10\">\n      <g>\n       <use style=\"stroke:#000000;stroke-width:0.8;\" x=\"33.2875\" xlink:href=\"#m9009f35b08\" y=\"186.797604\"/>\n      </g>\n     </g>\n     <g id=\"text_10\">\n      <!-- 540 -->\n      <g transform=\"translate(7.2 190.596823)scale(0.1 -0.1)\">\n       <use xlink:href=\"#DejaVuSans-53\"/>\n       <use x=\"63.623047\" xlink:href=\"#DejaVuSans-52\"/>\n       <use x=\"127.246094\" xlink:href=\"#DejaVuSans-48\"/>\n      </g>\n     </g>\n    </g>\n    <g id=\"ytick_3\">\n     <g id=\"line2d_11\">\n      <g>\n       <use style=\"stroke:#000000;stroke-width:0.8;\" x=\"33.2875\" xlink:href=\"#m9009f35b08\" y=\"161.683549\"/>\n      </g>\n     </g>\n     <g id=\"text_11\">\n      <!-- 560 -->\n      <g transform=\"translate(7.2 165.482768)scale(0.1 -0.1)\">\n       <defs>\n        <path d=\"M 33.015625 40.375 \nQ 26.375 40.375 22.484375 35.828125 \nQ 18.609375 31.296875 18.609375 23.390625 \nQ 18.609375 15.53125 22.484375 10.953125 \nQ 26.375 6.390625 33.015625 6.390625 \nQ 39.65625 6.390625 43.53125 10.953125 \nQ 47.40625 15.53125 47.40625 23.390625 \nQ 47.40625 31.296875 43.53125 35.828125 \nQ 39.65625 40.375 33.015625 40.375 \nz\nM 52.59375 71.296875 \nL 52.59375 62.3125 \nQ 48.875 64.0625 45.09375 64.984375 \nQ 41.3125 65.921875 37.59375 65.921875 \nQ 27.828125 65.921875 22.671875 59.328125 \nQ 17.53125 52.734375 16.796875 39.40625 \nQ 19.671875 43.65625 24.015625 45.921875 \nQ 28.375 48.1875 33.59375 48.1875 \nQ 44.578125 48.1875 50.953125 41.515625 \nQ 57.328125 34.859375 57.328125 23.390625 \nQ 57.328125 12.15625 50.6875 5.359375 \nQ 44.046875 -1.421875 33.015625 -1.421875 \nQ 20.359375 -1.421875 13.671875 8.265625 \nQ 6.984375 17.96875 6.984375 36.375 \nQ 6.984375 53.65625 15.1875 63.9375 \nQ 23.390625 74.21875 37.203125 74.21875 \nQ 40.921875 74.21875 44.703125 73.484375 \nQ 48.484375 72.75 52.59375 71.296875 \nz\n\" id=\"DejaVuSans-54\"/>\n       </defs>\n       <use xlink:href=\"#DejaVuSans-53\"/>\n       <use x=\"63.623047\" xlink:href=\"#DejaVuSans-54\"/>\n       <use x=\"127.246094\" xlink:href=\"#DejaVuSans-48\"/>\n      </g>\n     </g>\n    </g>\n    <g id=\"ytick_4\">\n     <g id=\"line2d_12\">\n      <g>\n       <use style=\"stroke:#000000;stroke-width:0.8;\" x=\"33.2875\" xlink:href=\"#m9009f35b08\" y=\"136.569494\"/>\n      </g>\n     </g>\n     <g id=\"text_12\">\n      <!-- 580 -->\n      <g transform=\"translate(7.2 140.368713)scale(0.1 -0.1)\">\n       <defs>\n        <path d=\"M 31.78125 34.625 \nQ 24.75 34.625 20.71875 30.859375 \nQ 16.703125 27.09375 16.703125 20.515625 \nQ 16.703125 13.921875 20.71875 10.15625 \nQ 24.75 6.390625 31.78125 6.390625 \nQ 38.8125 6.390625 42.859375 10.171875 \nQ 46.921875 13.96875 46.921875 20.515625 \nQ 46.921875 27.09375 42.890625 30.859375 \nQ 38.875 34.625 31.78125 34.625 \nz\nM 21.921875 38.8125 \nQ 15.578125 40.375 12.03125 44.71875 \nQ 8.5 49.078125 8.5 55.328125 \nQ 8.5 64.0625 14.71875 69.140625 \nQ 20.953125 74.21875 31.78125 74.21875 \nQ 42.671875 74.21875 48.875 69.140625 \nQ 55.078125 64.0625 55.078125 55.328125 \nQ 55.078125 49.078125 51.53125 44.71875 \nQ 48 40.375 41.703125 38.8125 \nQ 48.828125 37.15625 52.796875 32.3125 \nQ 56.78125 27.484375 56.78125 20.515625 \nQ 56.78125 9.90625 50.3125 4.234375 \nQ 43.84375 -1.421875 31.78125 -1.421875 \nQ 19.734375 -1.421875 13.25 4.234375 \nQ 6.78125 9.90625 6.78125 20.515625 \nQ 6.78125 27.484375 10.78125 32.3125 \nQ 14.796875 37.15625 21.921875 38.8125 \nz\nM 18.3125 54.390625 \nQ 18.3125 48.734375 21.84375 45.5625 \nQ 25.390625 42.390625 31.78125 42.390625 \nQ 38.140625 42.390625 41.71875 45.5625 \nQ 45.3125 48.734375 45.3125 54.390625 \nQ 45.3125 60.0625 41.71875 63.234375 \nQ 38.140625 66.40625 31.78125 66.40625 \nQ 25.390625 66.40625 21.84375 63.234375 \nQ 18.3125 60.0625 18.3125 54.390625 \nz\n\" id=\"DejaVuSans-56\"/>\n       </defs>\n       <use xlink:href=\"#DejaVuSans-53\"/>\n       <use x=\"63.623047\" xlink:href=\"#DejaVuSans-56\"/>\n       <use x=\"127.246094\" xlink:href=\"#DejaVuSans-48\"/>\n      </g>\n     </g>\n    </g>\n    <g id=\"ytick_5\">\n     <g id=\"line2d_13\">\n      <g>\n       <use style=\"stroke:#000000;stroke-width:0.8;\" x=\"33.2875\" xlink:href=\"#m9009f35b08\" y=\"111.455439\"/>\n      </g>\n     </g>\n     <g id=\"text_13\">\n      <!-- 600 -->\n      <g transform=\"translate(7.2 115.254658)scale(0.1 -0.1)\">\n       <use xlink:href=\"#DejaVuSans-54\"/>\n       <use x=\"63.623047\" xlink:href=\"#DejaVuSans-48\"/>\n       <use x=\"127.246094\" xlink:href=\"#DejaVuSans-48\"/>\n      </g>\n     </g>\n    </g>\n    <g id=\"ytick_6\">\n     <g id=\"line2d_14\">\n      <g>\n       <use style=\"stroke:#000000;stroke-width:0.8;\" x=\"33.2875\" xlink:href=\"#m9009f35b08\" y=\"86.341384\"/>\n      </g>\n     </g>\n     <g id=\"text_14\">\n      <!-- 620 -->\n      <g transform=\"translate(7.2 90.140603)scale(0.1 -0.1)\">\n       <use xlink:href=\"#DejaVuSans-54\"/>\n       <use x=\"63.623047\" xlink:href=\"#DejaVuSans-50\"/>\n       <use x=\"127.246094\" xlink:href=\"#DejaVuSans-48\"/>\n      </g>\n     </g>\n    </g>\n    <g id=\"ytick_7\">\n     <g id=\"line2d_15\">\n      <g>\n       <use style=\"stroke:#000000;stroke-width:0.8;\" x=\"33.2875\" xlink:href=\"#m9009f35b08\" y=\"61.227329\"/>\n      </g>\n     </g>\n     <g id=\"text_15\">\n      <!-- 640 -->\n      <g transform=\"translate(7.2 65.026548)scale(0.1 -0.1)\">\n       <use xlink:href=\"#DejaVuSans-54\"/>\n       <use x=\"63.623047\" xlink:href=\"#DejaVuSans-52\"/>\n       <use x=\"127.246094\" xlink:href=\"#DejaVuSans-48\"/>\n      </g>\n     </g>\n    </g>\n    <g id=\"ytick_8\">\n     <g id=\"line2d_16\">\n      <g>\n       <use style=\"stroke:#000000;stroke-width:0.8;\" x=\"33.2875\" xlink:href=\"#m9009f35b08\" y=\"36.113274\"/>\n      </g>\n     </g>\n     <g id=\"text_16\">\n      <!-- 660 -->\n      <g transform=\"translate(7.2 39.912493)scale(0.1 -0.1)\">\n       <use xlink:href=\"#DejaVuSans-54\"/>\n       <use x=\"63.623047\" xlink:href=\"#DejaVuSans-54\"/>\n       <use x=\"127.246094\" xlink:href=\"#DejaVuSans-48\"/>\n      </g>\n     </g>\n    </g>\n    <g id=\"ytick_9\">\n     <g id=\"line2d_17\">\n      <g>\n       <use style=\"stroke:#000000;stroke-width:0.8;\" x=\"33.2875\" xlink:href=\"#m9009f35b08\" y=\"10.999219\"/>\n      </g>\n     </g>\n     <g id=\"text_17\">\n      <!-- 680 -->\n      <g transform=\"translate(7.2 14.798438)scale(0.1 -0.1)\">\n       <use xlink:href=\"#DejaVuSans-54\"/>\n       <use x=\"63.623047\" xlink:href=\"#DejaVuSans-56\"/>\n       <use x=\"127.246094\" xlink:href=\"#DejaVuSans-48\"/>\n      </g>\n     </g>\n    </g>\n   </g>\n   <g id=\"line2d_18\">\n    <path clip-path=\"url(#pca6918d256)\" d=\"M 58.651136 165.90271 \nL 61.349396 165.375315 \nL 64.047655 168.250874 \nL 66.745914 175.709749 \nL 69.444173 172.005426 \nL 72.142432 178.472295 \nL 74.840691 204.05096 \nL 77.538951 215.013245 \nL 80.23721 206.587479 \nL 82.935469 210.856869 \nL 85.633728 207.001861 \nL 88.331987 197.106924 \nL 91.030247 197.395735 \nL 93.728506 183.218851 \nL 96.426765 182.854697 \nL 99.125024 184.662909 \nL 101.823283 178.849006 \nL 104.521543 179.841011 \nL 107.219802 186.684591 \nL 109.918061 183.871817 \nL 112.61632 183.959716 \nL 118.012838 175.107011 \nL 123.409357 175.169797 \nL 126.107616 172.721176 \nL 128.805875 172.583049 \nL 131.504134 175.822762 \nL 134.202394 169.381007 \nL 136.900653 169.594476 \nL 139.598912 166.254307 \nL 142.297171 164.709793 \nL 144.99543 165.174403 \nL 147.69369 164.471209 \nL 150.391949 168.652699 \nL 153.090208 165.500885 \nL 155.788467 165.940381 \nL 158.486726 165.701798 \nL 161.184985 160.32739 \nL 163.883245 164.785135 \nL 166.581504 165.237188 \nL 169.279763 160.515745 \nL 171.978022 157.351375 \nL 174.676281 159.749767 \nL 177.374541 158.870775 \nL 180.0728 163.441533 \nL 182.771059 152.830845 \nL 185.469318 164.772578 \nL 188.167577 161.394737 \nL 190.865837 158.556849 \nL 193.564096 158.167581 \nL 196.262355 148.913052 \nL 201.658873 144.982702 \nL 204.357132 140.374273 \nL 207.055392 137.059218 \nL 209.753651 135.74073 \nL 212.45191 139.445053 \nL 215.150169 139.244141 \nL 217.848428 146.652787 \nL 220.546688 149.704145 \nL 223.244947 143.789785 \nL 225.943206 151.097975 \nL 228.641465 160.189263 \nL 231.339724 160.151592 \nL 234.037984 170.360455 \nL 236.736243 171.678943 \nL 239.434502 167.836493 \nL 242.132761 164.935819 \nL 244.83102 167.623023 \nL 247.529279 168.489458 \nL 250.227539 169.15498 \nL 252.925798 166.379877 \nL 255.624057 165.513442 \nL 258.322316 158.644748 \nL 261.020575 159.021459 \nL 263.718835 163.127607 \nL 266.417094 160.565974 \nL 269.115353 160.879899 \nL 271.813612 160.390175 \nL 274.511871 155.995216 \nL 277.210131 154.099104 \nL 279.90839 150.771492 \nL 282.606649 152.064866 \nL 285.304908 149.741816 \nL 288.003167 150.658479 \nL 290.701426 151.951853 \nL 293.399686 155.241794 \nL 296.097945 148.147073 \nL 298.796204 151.637927 \nL 301.494463 151.863954 \nL 304.192722 162.976923 \nL 306.890982 180.946029 \nL 309.589241 197.496192 \nL 312.2875 187.2371 \nL 314.985759 197.621762 \nL 317.684018 189.371795 \nL 320.382278 179.627541 \nL 323.080537 177.291934 \nL 328.477055 171.339903 \nL 331.175314 204.352329 \nL 333.873574 192.385481 \nL 336.571833 182.264517 \nL 341.968351 166.442662 \nL 344.66661 158.757762 \nL 347.364869 158.506621 \nL 350.063129 164.38331 \nL 352.761388 160.088807 \nL 355.459647 153.935863 \nL 358.157906 145.284071 \nL 360.856165 143.362846 \nL 366.252684 130.956503 \nL 368.950943 123.949681 \nL 371.649202 111.819593 \nL 374.347461 106.809339 \nL 377.045721 98.973754 \nL 379.74398 99.237451 \nL 382.442239 105.716877 \nL 385.140498 97.705494 \nL 387.838757 95.194088 \nL 390.537016 92.444099 \nL 393.235276 89.505755 \nL 395.933535 84.608514 \nL 401.330053 84.223612 \nL 404.028312 83.7213 \nL 406.726572 82.999792 \nL 412.12309 81.258639 \nL 417.519608 80.241676 \nL 420.217868 79.970363 \nL 422.916127 79.549905 \nL 431.010904 79.166772 \nL 433.709163 79.272768 \nL 441.803941 79.135272 \nL 447.200459 78.734664 \nL 455.295237 78.610964 \nL 463.390015 77.871982 \nL 466.088274 77.73165 \nL 479.57957 76.102854 \nL 482.277829 76.094883 \nL 490.372606 76.621337 \nL 493.070866 76.966686 \nL 501.165643 78.740642 \nL 503.863902 79.491887 \nL 509.260421 80.273789 \nL 514.656939 80.288044 \nL 522.751717 80.804841 \nL 525.449976 80.787674 \nL 528.148235 81.028406 \nL 533.544753 80.775717 \nL 536.243013 80.467157 \nL 538.941272 80.432055 \nL 541.639531 80.23976 \nL 544.33779 79.818382 \nL 547.036049 79.115345 \nL 557.829086 75.536929 \nL 565.923864 71.973612 \nL 565.923864 71.973612 \n\" style=\"fill:none;stroke:#1f77b4;stroke-linecap:square;stroke-width:1.5;\"/>\n   </g>\n   <g id=\"line2d_19\">\n    <path clip-path=\"url(#pca6918d256)\" d=\"M 58.651136 165.90271 \nL 61.349396 165.375315 \nL 64.047655 168.250874 \nL 66.745914 175.709749 \nL 69.444173 172.005426 \nL 72.142432 178.472295 \nL 74.840691 204.05096 \nL 77.538951 215.013245 \nL 80.23721 206.587479 \nL 82.935469 210.856869 \nL 85.633728 207.001861 \nL 88.331987 197.106924 \nL 91.030247 197.395735 \nL 93.728506 183.218851 \nL 96.426765 182.854697 \nL 99.125024 184.662909 \nL 101.823283 178.849006 \nL 104.521543 179.841011 \nL 107.219802 186.684591 \nL 109.918061 183.871817 \nL 112.61632 183.959716 \nL 118.012838 175.107011 \nL 123.409357 175.169797 \nL 126.107616 172.721176 \nL 128.805875 172.583049 \nL 131.504134 175.822762 \nL 134.202394 169.381007 \nL 136.900653 169.594476 \nL 139.598912 166.254307 \nL 142.297171 164.709793 \nL 144.99543 165.174403 \nL 147.69369 164.471209 \nL 150.391949 168.652699 \nL 153.090208 165.500885 \nL 155.788467 165.940381 \nL 158.486726 165.701798 \nL 161.184985 160.32739 \nL 163.883245 164.785135 \nL 166.581504 165.237188 \nL 169.279763 160.515745 \nL 171.978022 157.351375 \nL 174.676281 159.749767 \nL 177.374541 158.870775 \nL 180.0728 163.441533 \nL 182.771059 152.830845 \nL 185.469318 164.772578 \nL 188.167577 161.394737 \nL 190.865837 158.556849 \nL 193.564096 158.167581 \nL 196.262355 148.913052 \nL 201.658873 144.982702 \nL 204.357132 140.374273 \nL 207.055392 137.059218 \nL 209.753651 135.74073 \nL 212.45191 139.445053 \nL 215.150169 139.244141 \nL 217.848428 146.652787 \nL 220.546688 149.704145 \nL 223.244947 143.789785 \nL 225.943206 151.097975 \nL 228.641465 160.189263 \nL 231.339724 160.151592 \nL 234.037984 170.360455 \nL 236.736243 171.678943 \nL 239.434502 167.836493 \nL 242.132761 164.935819 \nL 244.83102 167.623023 \nL 247.529279 168.489458 \nL 250.227539 169.15498 \nL 252.925798 166.379877 \nL 255.624057 165.513442 \nL 258.322316 158.644748 \nL 261.020575 159.021459 \nL 263.718835 163.127607 \nL 266.417094 160.565974 \nL 269.115353 160.879899 \nL 271.813612 160.390175 \nL 274.511871 155.995216 \nL 277.210131 154.099104 \nL 279.90839 150.771492 \nL 282.606649 152.064866 \nL 285.304908 149.741816 \nL 288.003167 150.658479 \nL 290.701426 151.951853 \nL 293.399686 155.241794 \nL 296.097945 148.147073 \nL 298.796204 151.637927 \nL 301.494463 151.863954 \nL 304.192722 162.976923 \nL 306.890982 180.946029 \nL 309.589241 197.496192 \nL 312.2875 187.2371 \nL 314.985759 197.621762 \nL 317.684018 189.371795 \nL 320.382278 179.627541 \nL 323.080537 177.291934 \nL 328.477055 171.339903 \nL 331.175314 204.352329 \nL 333.873574 192.385481 \nL 336.571833 182.264517 \nL 341.968351 166.442662 \nL 344.66661 158.757762 \nL 347.364869 158.506621 \nL 350.063129 164.38331 \nL 352.761388 160.088807 \nL 355.459647 153.935863 \nL 358.157906 145.284071 \nL 360.856165 143.362846 \nL 366.252684 130.956503 \nL 368.950943 123.949681 \nL 371.649202 111.819593 \nL 374.347461 106.809339 \nL 377.045721 98.973754 \nL 379.74398 99.237451 \nL 382.442239 105.716877 \nL 385.140498 97.705494 \nL 387.838757 95.194088 \nL 390.537016 92.444099 \nL 393.235276 89.505755 \nL 395.933535 84.608514 \nL 398.631794 82.863087 \nL 401.330053 87.973797 \nL 404.028312 89.957808 \nL 406.726572 84.734084 \nL 409.424831 83.440711 \nL 412.12309 81.193003 \nL 414.821349 80.087984 \nL 417.519608 80.226111 \nL 420.217868 73.972712 \nL 422.916127 69.904235 \nL 425.614386 65.057222 \nL 428.312645 67.756983 \nL 431.010904 73.382531 \nL 433.709163 72.842579 \nL 436.407423 76.283205 \nL 439.105682 65.923657 \nL 441.803941 63.46248 \nL 444.5022 64.542384 \nL 447.200459 65.006994 \nL 449.898719 62.847185 \nL 452.596978 61.151987 \nL 455.295237 58.540125 \nL 457.993496 62.470475 \nL 460.691755 65.760416 \nL 463.390015 61.767281 \nL 466.088274 56.304974 \nL 468.786533 53.140603 \nL 471.484792 46.924874 \nL 474.183051 47.866652 \nL 476.88131 49.524179 \nL 479.57957 62.721615 \nL 482.277829 60.134867 \nL 484.976088 56.74447 \nL 487.674347 55.564109 \nL 490.372606 55.714794 \nL 493.070866 54.459091 \nL 498.467384 46.322137 \nL 501.165643 41.45001 \nL 503.863902 41.299326 \nL 506.562162 43.597262 \nL 509.260421 41.977406 \nL 511.95868 38.900934 \nL 514.656939 30.826765 \nL 517.355198 28.365588 \nL 522.751717 20.165849 \nL 525.449976 17.340518 \nL 528.148235 20.743472 \nL 530.846494 22.978623 \nL 533.544753 21.823376 \nL 536.243013 22.664697 \nL 538.941272 31.605301 \nL 541.639531 41.575581 \nL 544.33779 33.375842 \nL 547.036049 37.26852 \nL 549.734309 25.603042 \nL 552.432568 25.866739 \nL 555.130827 21.182968 \nL 557.829086 22.200087 \nL 560.527345 25.037976 \nL 563.225604 26.042538 \nL 565.923864 31.931784 \nL 565.923864 31.931784 \n\" style=\"fill:none;stroke:#ff7f0e;stroke-linecap:square;stroke-width:1.5;\"/>\n   </g>\n   <g id=\"patch_3\">\n    <path d=\"M 33.2875 224.896881 \nL 33.2875 7.456881 \n\" style=\"fill:none;stroke:#000000;stroke-linecap:square;stroke-linejoin:miter;stroke-width:0.8;\"/>\n   </g>\n   <g id=\"patch_4\">\n    <path d=\"M 591.2875 224.896881 \nL 591.2875 7.456881 \n\" style=\"fill:none;stroke:#000000;stroke-linecap:square;stroke-linejoin:miter;stroke-width:0.8;\"/>\n   </g>\n   <g id=\"patch_5\">\n    <path d=\"M 33.2875 224.896881 \nL 591.2875 224.896881 \n\" style=\"fill:none;stroke:#000000;stroke-linecap:square;stroke-linejoin:miter;stroke-width:0.8;\"/>\n   </g>\n   <g id=\"patch_6\">\n    <path d=\"M 33.2875 7.456881 \nL 591.2875 7.456881 \n\" style=\"fill:none;stroke:#000000;stroke-linecap:square;stroke-linejoin:miter;stroke-width:0.8;\"/>\n   </g>\n   <g id=\"legend_1\">\n    <g id=\"patch_7\">\n     <path d=\"M 40.2875 44.813131 \nL 112.721875 44.813131 \nQ 114.721875 44.813131 114.721875 42.813131 \nL 114.721875 14.456881 \nQ 114.721875 12.456881 112.721875 12.456881 \nL 40.2875 12.456881 \nQ 38.2875 12.456881 38.2875 14.456881 \nL 38.2875 42.813131 \nQ 38.2875 44.813131 40.2875 44.813131 \nz\n\" style=\"fill:#ffffff;opacity:0.8;stroke:#cccccc;stroke-linejoin:miter;\"/>\n    </g>\n    <g id=\"line2d_20\">\n     <path d=\"M 42.2875 20.555319 \nL 62.2875 20.555319 \n\" style=\"fill:none;stroke:#1f77b4;stroke-linecap:square;stroke-width:1.5;\"/>\n    </g>\n    <g id=\"line2d_21\"/>\n    <g id=\"text_18\">\n     <!-- forecast -->\n     <g transform=\"translate(70.2875 24.055319)scale(0.1 -0.1)\">\n      <defs>\n       <path d=\"M 37.109375 75.984375 \nL 37.109375 68.5 \nL 28.515625 68.5 \nQ 23.6875 68.5 21.796875 66.546875 \nQ 19.921875 64.59375 19.921875 59.515625 \nL 19.921875 54.6875 \nL 34.71875 54.6875 \nL 34.71875 47.703125 \nL 19.921875 47.703125 \nL 19.921875 0 \nL 10.890625 0 \nL 10.890625 47.703125 \nL 2.296875 47.703125 \nL 2.296875 54.6875 \nL 10.890625 54.6875 \nL 10.890625 58.5 \nQ 10.890625 67.625 15.140625 71.796875 \nQ 19.390625 75.984375 28.609375 75.984375 \nz\n\" id=\"DejaVuSans-102\"/>\n       <path d=\"M 30.609375 48.390625 \nQ 23.390625 48.390625 19.1875 42.75 \nQ 14.984375 37.109375 14.984375 27.296875 \nQ 14.984375 17.484375 19.15625 11.84375 \nQ 23.34375 6.203125 30.609375 6.203125 \nQ 37.796875 6.203125 41.984375 11.859375 \nQ 46.1875 17.53125 46.1875 27.296875 \nQ 46.1875 37.015625 41.984375 42.703125 \nQ 37.796875 48.390625 30.609375 48.390625 \nz\nM 30.609375 56 \nQ 42.328125 56 49.015625 48.375 \nQ 55.71875 40.765625 55.71875 27.296875 \nQ 55.71875 13.875 49.015625 6.21875 \nQ 42.328125 -1.421875 30.609375 -1.421875 \nQ 18.84375 -1.421875 12.171875 6.21875 \nQ 5.515625 13.875 5.515625 27.296875 \nQ 5.515625 40.765625 12.171875 48.375 \nQ 18.84375 56 30.609375 56 \nz\n\" id=\"DejaVuSans-111\"/>\n       <path d=\"M 41.109375 46.296875 \nQ 39.59375 47.171875 37.8125 47.578125 \nQ 36.03125 48 33.890625 48 \nQ 26.265625 48 22.1875 43.046875 \nQ 18.109375 38.09375 18.109375 28.8125 \nL 18.109375 0 \nL 9.078125 0 \nL 9.078125 54.6875 \nL 18.109375 54.6875 \nL 18.109375 46.1875 \nQ 20.953125 51.171875 25.484375 53.578125 \nQ 30.03125 56 36.53125 56 \nQ 37.453125 56 38.578125 55.875 \nQ 39.703125 55.765625 41.0625 55.515625 \nz\n\" id=\"DejaVuSans-114\"/>\n       <path d=\"M 56.203125 29.59375 \nL 56.203125 25.203125 \nL 14.890625 25.203125 \nQ 15.484375 15.921875 20.484375 11.0625 \nQ 25.484375 6.203125 34.421875 6.203125 \nQ 39.59375 6.203125 44.453125 7.46875 \nQ 49.3125 8.734375 54.109375 11.28125 \nL 54.109375 2.78125 \nQ 49.265625 0.734375 44.1875 -0.34375 \nQ 39.109375 -1.421875 33.890625 -1.421875 \nQ 20.796875 -1.421875 13.15625 6.1875 \nQ 5.515625 13.8125 5.515625 26.8125 \nQ 5.515625 40.234375 12.765625 48.109375 \nQ 20.015625 56 32.328125 56 \nQ 43.359375 56 49.78125 48.890625 \nQ 56.203125 41.796875 56.203125 29.59375 \nz\nM 47.21875 32.234375 \nQ 47.125 39.59375 43.09375 43.984375 \nQ 39.0625 48.390625 32.421875 48.390625 \nQ 24.90625 48.390625 20.390625 44.140625 \nQ 15.875 39.890625 15.1875 32.171875 \nz\n\" id=\"DejaVuSans-101\"/>\n       <path d=\"M 48.78125 52.59375 \nL 48.78125 44.1875 \nQ 44.96875 46.296875 41.140625 47.34375 \nQ 37.3125 48.390625 33.40625 48.390625 \nQ 24.65625 48.390625 19.8125 42.84375 \nQ 14.984375 37.3125 14.984375 27.296875 \nQ 14.984375 17.28125 19.8125 11.734375 \nQ 24.65625 6.203125 33.40625 6.203125 \nQ 37.3125 6.203125 41.140625 7.25 \nQ 44.96875 8.296875 48.78125 10.40625 \nL 48.78125 2.09375 \nQ 45.015625 0.34375 40.984375 -0.53125 \nQ 36.96875 -1.421875 32.421875 -1.421875 \nQ 20.0625 -1.421875 12.78125 6.34375 \nQ 5.515625 14.109375 5.515625 27.296875 \nQ 5.515625 40.671875 12.859375 48.328125 \nQ 20.21875 56 33.015625 56 \nQ 37.15625 56 41.109375 55.140625 \nQ 45.0625 54.296875 48.78125 52.59375 \nz\n\" id=\"DejaVuSans-99\"/>\n       <path d=\"M 34.28125 27.484375 \nQ 23.390625 27.484375 19.1875 25 \nQ 14.984375 22.515625 14.984375 16.5 \nQ 14.984375 11.71875 18.140625 8.90625 \nQ 21.296875 6.109375 26.703125 6.109375 \nQ 34.1875 6.109375 38.703125 11.40625 \nQ 43.21875 16.703125 43.21875 25.484375 \nL 43.21875 27.484375 \nz\nM 52.203125 31.203125 \nL 52.203125 0 \nL 43.21875 0 \nL 43.21875 8.296875 \nQ 40.140625 3.328125 35.546875 0.953125 \nQ 30.953125 -1.421875 24.3125 -1.421875 \nQ 15.921875 -1.421875 10.953125 3.296875 \nQ 6 8.015625 6 15.921875 \nQ 6 25.140625 12.171875 29.828125 \nQ 18.359375 34.515625 30.609375 34.515625 \nL 43.21875 34.515625 \nL 43.21875 35.40625 \nQ 43.21875 41.609375 39.140625 45 \nQ 35.0625 48.390625 27.6875 48.390625 \nQ 23 48.390625 18.546875 47.265625 \nQ 14.109375 46.140625 10.015625 43.890625 \nL 10.015625 52.203125 \nQ 14.9375 54.109375 19.578125 55.046875 \nQ 24.21875 56 28.609375 56 \nQ 40.484375 56 46.34375 49.84375 \nQ 52.203125 43.703125 52.203125 31.203125 \nz\n\" id=\"DejaVuSans-97\"/>\n       <path d=\"M 44.28125 53.078125 \nL 44.28125 44.578125 \nQ 40.484375 46.53125 36.375 47.5 \nQ 32.28125 48.484375 27.875 48.484375 \nQ 21.1875 48.484375 17.84375 46.4375 \nQ 14.5 44.390625 14.5 40.28125 \nQ 14.5 37.15625 16.890625 35.375 \nQ 19.28125 33.59375 26.515625 31.984375 \nL 29.59375 31.296875 \nQ 39.15625 29.25 43.1875 25.515625 \nQ 47.21875 21.78125 47.21875 15.09375 \nQ 47.21875 7.46875 41.1875 3.015625 \nQ 35.15625 -1.421875 24.609375 -1.421875 \nQ 20.21875 -1.421875 15.453125 -0.5625 \nQ 10.6875 0.296875 5.421875 2 \nL 5.421875 11.28125 \nQ 10.40625 8.6875 15.234375 7.390625 \nQ 20.0625 6.109375 24.8125 6.109375 \nQ 31.15625 6.109375 34.5625 8.28125 \nQ 37.984375 10.453125 37.984375 14.40625 \nQ 37.984375 18.0625 35.515625 20.015625 \nQ 33.0625 21.96875 24.703125 23.78125 \nL 21.578125 24.515625 \nQ 13.234375 26.265625 9.515625 29.90625 \nQ 5.8125 33.546875 5.8125 39.890625 \nQ 5.8125 47.609375 11.28125 51.796875 \nQ 16.75 56 26.8125 56 \nQ 31.78125 56 36.171875 55.265625 \nQ 40.578125 54.546875 44.28125 53.078125 \nz\n\" id=\"DejaVuSans-115\"/>\n       <path d=\"M 18.3125 70.21875 \nL 18.3125 54.6875 \nL 36.8125 54.6875 \nL 36.8125 47.703125 \nL 18.3125 47.703125 \nL 18.3125 18.015625 \nQ 18.3125 11.328125 20.140625 9.421875 \nQ 21.96875 7.515625 27.59375 7.515625 \nL 36.8125 7.515625 \nL 36.8125 0 \nL 27.59375 0 \nQ 17.1875 0 13.234375 3.875 \nQ 9.28125 7.765625 9.28125 18.015625 \nL 9.28125 47.703125 \nL 2.6875 47.703125 \nL 2.6875 54.6875 \nL 9.28125 54.6875 \nL 9.28125 70.21875 \nz\n\" id=\"DejaVuSans-116\"/>\n      </defs>\n      <use xlink:href=\"#DejaVuSans-102\"/>\n      <use x=\"35.205078\" xlink:href=\"#DejaVuSans-111\"/>\n      <use x=\"96.386719\" xlink:href=\"#DejaVuSans-114\"/>\n      <use x=\"135.25\" xlink:href=\"#DejaVuSans-101\"/>\n      <use x=\"196.773438\" xlink:href=\"#DejaVuSans-99\"/>\n      <use x=\"251.753906\" xlink:href=\"#DejaVuSans-97\"/>\n      <use x=\"313.033203\" xlink:href=\"#DejaVuSans-115\"/>\n      <use x=\"365.132812\" xlink:href=\"#DejaVuSans-116\"/>\n     </g>\n    </g>\n    <g id=\"line2d_22\">\n     <path d=\"M 42.2875 35.233444 \nL 62.2875 35.233444 \n\" style=\"fill:none;stroke:#ff7f0e;stroke-linecap:square;stroke-width:1.5;\"/>\n    </g>\n    <g id=\"line2d_23\"/>\n    <g id=\"text_19\">\n     <!-- actual -->\n     <g transform=\"translate(70.2875 38.733444)scale(0.1 -0.1)\">\n      <defs>\n       <path d=\"M 8.5 21.578125 \nL 8.5 54.6875 \nL 17.484375 54.6875 \nL 17.484375 21.921875 \nQ 17.484375 14.15625 20.5 10.265625 \nQ 23.53125 6.390625 29.59375 6.390625 \nQ 36.859375 6.390625 41.078125 11.03125 \nQ 45.3125 15.671875 45.3125 23.6875 \nL 45.3125 54.6875 \nL 54.296875 54.6875 \nL 54.296875 0 \nL 45.3125 0 \nL 45.3125 8.40625 \nQ 42.046875 3.421875 37.71875 1 \nQ 33.40625 -1.421875 27.6875 -1.421875 \nQ 18.265625 -1.421875 13.375 4.4375 \nQ 8.5 10.296875 8.5 21.578125 \nz\nM 31.109375 56 \nz\n\" id=\"DejaVuSans-117\"/>\n       <path d=\"M 9.421875 75.984375 \nL 18.40625 75.984375 \nL 18.40625 0 \nL 9.421875 0 \nz\n\" id=\"DejaVuSans-108\"/>\n      </defs>\n      <use xlink:href=\"#DejaVuSans-97\"/>\n      <use x=\"61.279297\" xlink:href=\"#DejaVuSans-99\"/>\n      <use x=\"116.259766\" xlink:href=\"#DejaVuSans-116\"/>\n      <use x=\"155.46875\" xlink:href=\"#DejaVuSans-117\"/>\n      <use x=\"218.847656\" xlink:href=\"#DejaVuSans-97\"/>\n      <use x=\"280.126953\" xlink:href=\"#DejaVuSans-108\"/>\n     </g>\n    </g>\n   </g>\n  </g>\n </g>\n <defs>\n  <clipPath id=\"pca6918d256\">\n   <rect height=\"217.44\" width=\"558\" x=\"33.2875\" y=\"7.456881\"/>\n  </clipPath>\n </defs>\n</svg>\n",
      "image/png": "[encoded data removed]"
     },
     "metadata": {
      "needs_background": "light"
     }
    }
   ],
   "source": [
    "plot_df = merged_df[-n_seq - (n_seq*2) :]\n",
    "plt.figure(figsize=(10, 4))\n",
    "plt.plot(plot_df['forecast'], label=\"forecast\")\n",
    "plt.plot(plot_df['Close'], label=\"actual\")\n",
    "plt.legend()"
   ]
  },
  {
   "cell_type": "code",
   "execution_count": null,
   "metadata": {},
   "outputs": [],
   "source": []
  }
 ]
}
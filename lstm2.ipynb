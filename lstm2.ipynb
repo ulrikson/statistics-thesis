{
 "metadata": {
  "language_info": {
   "codemirror_mode": {
    "name": "ipython",
    "version": 3
   },
   "file_extension": ".py",
   "mimetype": "text/x-python",
   "name": "python",
   "nbconvert_exporter": "python",
   "pygments_lexer": "ipython3",
   "version": "3.8.8-final"
  },
  "orig_nbformat": 2,
  "kernelspec": {
   "name": "python388jvsc74a57bd03c80b69efc6c35edf58052dd52e794939bcc5e24ed141d0f365672b2a75355b3",
   "display_name": "Python 3.8.8 64-bit ('venv')"
  }
 },
 "nbformat": 4,
 "nbformat_minor": 2,
 "cells": [
  {
   "cell_type": "code",
   "execution_count": 1,
   "metadata": {},
   "outputs": [],
   "source": [
    "# https://machinelearningmastery.com/multi-step-time-series-forecasting-long-short-term-memory-networks-python/\n",
    "\n",
    "import pandas as pd\n",
    "from datetime import datetime, timedelta, date\n",
    "import numpy as np\n",
    "\n",
    "from sklearn.metrics import mean_squared_error\n",
    "from sklearn.preprocessing import MinMaxScaler\n",
    "from keras.models import Sequential\n",
    "from keras.layers import Dense\n",
    "from keras.layers import LSTM\n",
    "\n",
    "import math\n",
    "import matplotlib.pyplot as plt\n",
    "\n",
    "np.random.seed(1337)"
   ]
  },
  {
   "source": [
    "# Creating functions"
   ],
   "cell_type": "markdown",
   "metadata": {}
  },
  {
   "cell_type": "code",
   "execution_count": 2,
   "metadata": {},
   "outputs": [],
   "source": [
    "# transform series into train and test sets for supervised learning\n",
    "def series_to_supervised(data, n_in=1, n_out=1, dropnan=True):\n",
    "    n_vars = 1 if type(data) is list else data.shape[1]\n",
    "    df = pd.DataFrame(data)\n",
    "    cols, names = list(), list()\n",
    "\n",
    "    # input sequence (t-n, ... t-1)\n",
    "    for i in range(n_in, 0, -1):\n",
    "        cols.append(df.shift(i))\n",
    "        names += [(\"var%d(t-%d)\" % (j + 1, i)) for j in range(n_vars)]\n",
    "\n",
    "    # forecast sequence (t, t+1, ... t+n)\n",
    "    for i in range(0, n_out):\n",
    "        cols.append(df.shift(-i))\n",
    "        if i == 0:\n",
    "            names += [(\"var%d(t)\" % (j + 1)) for j in range(n_vars)]\n",
    "        else:\n",
    "            names += [(\"var%d(t+%d)\" % (j + 1, i)) for j in range(n_vars)]\n",
    "\n",
    "    # put it all together\n",
    "    agg = pd.concat(cols, axis=1)\n",
    "    agg.columns = names\n",
    "\n",
    "    # drop rows with NaN values\n",
    "    if dropnan:\n",
    "        agg.dropna(inplace=True)\n",
    "\n",
    "    return agg\n"
   ]
  },
  {
   "cell_type": "code",
   "execution_count": 3,
   "metadata": {},
   "outputs": [],
   "source": [
    "# transform series into train and test sets for supervised learning\n",
    "def prepare_data(series, n_test, n_lag, n_seq):\n",
    "    # extract raw values\n",
    "    raw_values = series.values\n",
    "\n",
    "    # transform data to be stationary\n",
    "    diff_values = raw_values\n",
    "    diff_values = diff_values.reshape(len(diff_values), 1)\n",
    "\n",
    "    # rescale values to -1, 1\n",
    "    scaler = MinMaxScaler(feature_range=(-1, 1))\n",
    "    scaled_values = scaler.fit_transform(diff_values)\n",
    "    scaled_values = scaled_values.reshape(len(scaled_values), 1)\n",
    "\n",
    "    # transform into supervised learning problem X, y\n",
    "    supervised = series_to_supervised(scaled_values, n_lag, n_seq)\n",
    "    supervised_values = supervised.values\n",
    "\n",
    "    # split into train and test sets\n",
    "    train, test = supervised_values[0:-n_test], supervised_values[-n_test:]\n",
    "    return scaler, train, test"
   ]
  },
  {
   "cell_type": "code",
   "execution_count": 4,
   "metadata": {},
   "outputs": [],
   "source": [
    "def fit_lstm(train, n_lag, n_seq, n_batch, nb_epoch, n_neurons):\n",
    "    # reshape training into [samples, timesteps, features]\n",
    "    X, y = train[:, 0:n_lag], train[:, n_lag:]\n",
    "\n",
    "    X = X.reshape(X.shape[0], 1, X.shape[1])\n",
    "\n",
    "    # design network\n",
    "    model = Sequential()\n",
    "    model.add(LSTM(n_neurons, batch_input_shape=(n_batch, X.shape[1], X.shape[2]), stateful=True))\n",
    "    model.add(Dense(y.shape[1]))\n",
    "    model.compile(loss=\"mean_squared_error\", optimizer=\"adam\")\n",
    "\n",
    "    model.fit(X, y, epochs=nb_epoch, batch_size=n_batch, verbose=2, shuffle=False)\n",
    "\n",
    "    return model"
   ]
  },
  {
   "cell_type": "code",
   "execution_count": 5,
   "metadata": {},
   "outputs": [],
   "source": [
    "# make one forecast with an LSTM,\n",
    "def forecast_lstm(model, X, n_batch):\n",
    "    # reshape input pattern to [samples, timesteps, features]\n",
    "    X = X.reshape(1, 1, len(X))\n",
    "\n",
    "    # make forecast\n",
    "    forecast = model.predict(X, batch_size=n_batch)\n",
    "\n",
    "    # convert to array\n",
    "    return [x for x in forecast[0, :]]"
   ]
  },
  {
   "cell_type": "code",
   "execution_count": 6,
   "metadata": {},
   "outputs": [],
   "source": [
    "# evaluate the persistence model\n",
    "def make_forecasts(model, n_batch, train, test, n_lag, n_seq, forecast_len):\n",
    "    forecasts = list()\n",
    "    print(f'Forecast x of {forecast_len}:', end=\" \")\n",
    "    for i in range(forecast_len):\n",
    "        X, y = test[i, 0:n_lag], test[i, n_lag:]\n",
    "        # make forecast\n",
    "        forecast = forecast_lstm(model, X, n_batch)\n",
    "        # store the forecast\n",
    "        forecasts.append(forecast)\n",
    "\n",
    "        # Printing current status in hundreds\n",
    "        step = i % 10\n",
    "        if step == 0:\n",
    "            print(i, end=\" \")\n",
    "\n",
    "    return forecasts"
   ]
  },
  {
   "cell_type": "code",
   "execution_count": 7,
   "metadata": {},
   "outputs": [],
   "source": [
    "# inverse data transform on forecasts\n",
    "def inverse_transform(series, forecasts, scaler):\n",
    "    inverted = list()\n",
    "    for i in range(len(forecasts)):\n",
    "\n",
    "        # create array from forecast\n",
    "        forecast = np.array(forecasts[i])\n",
    "        forecast = forecast.reshape(1, len(forecast))\n",
    "\n",
    "        # invert scaling\n",
    "        inv_scale = scaler.inverse_transform(forecast)\n",
    "        inv_scale = inv_scale[0, :]\n",
    "\n",
    "        inverted.append(inv_scale)\n",
    "\n",
    "    return inverted"
   ]
  },
  {
   "source": [
    "# Fitting and predicting"
   ],
   "cell_type": "markdown",
   "metadata": {}
  },
  {
   "cell_type": "code",
   "execution_count": 8,
   "metadata": {},
   "outputs": [
    {
     "output_type": "stream",
     "name": "stdout",
     "text": [
      "Preparing data...\n",
      "Fitting model...\n",
      "Epoch 1/5\n",
      "3356/3356 - 4s - loss: 0.0087\n",
      "Epoch 2/5\n",
      "3356/3356 - 3s - loss: 0.0078\n",
      "Epoch 3/5\n",
      "3356/3356 - 3s - loss: 0.0077\n",
      "Epoch 4/5\n",
      "3356/3356 - 3s - loss: 0.0077\n",
      "Epoch 5/5\n",
      "3356/3356 - 3s - loss: 0.0077\n",
      "Making forecasts...\n",
      "Forecast x of 100: 0 10 20 30 40 50 60 70 80 90 \n",
      "Inverting forecasts...\n",
      "Done!\n"
     ]
    }
   ],
   "source": [
    "# load dataset\n",
    "logreturns = \"data/final.csv\"\n",
    "series = pd.read_csv(logreturns, usecols=[\"Exchange.Date\", \"logreturns\"], header=0, index_col=0, squeeze=True)\n",
    "\n",
    "# configure\n",
    "n_lag = 5 # same as ARMA-GARCH\n",
    "n_seq = 63  #  number of periods forecast\n",
    "test_share = 0.25\n",
    "n_test = int(len(series) * test_share)\n",
    "n_epochs = 5\n",
    "n_batch = 1\n",
    "n_neurons = 50\n",
    "forecast_len = 100\n",
    "\n",
    "print(\"Preparing data...\")\n",
    "scaler, train, test = prepare_data(series, n_test, n_lag, n_seq)\n",
    "\n",
    "print(\"Fitting model...\")\n",
    "model = fit_lstm(train, n_lag, n_seq, n_batch, n_epochs, n_neurons)\n",
    "\n",
    "print(\"Making forecasts...\")\n",
    "forecasts = make_forecasts(model, n_batch, train, test, n_lag, n_seq, forecast_len)\n",
    "\n",
    "print(\"\\nInverting forecasts...\")\n",
    "forecasts = inverse_transform(series, forecasts, scaler)\n",
    "print(\"Done!\")"
   ]
  },
  {
   "source": [
    "# Evaluating from t=1\n"
   ],
   "cell_type": "markdown",
   "metadata": {}
  },
  {
   "source": [
    "## Creating dataframe for evaluation\n",
    "In essence, creating a new DF combining training data (historic) and forecasts"
   ],
   "cell_type": "markdown",
   "metadata": {}
  },
  {
   "cell_type": "code",
   "execution_count": 9,
   "metadata": {},
   "outputs": [],
   "source": [
    "# Getting dataframe with Close as well and the creating a training df same size as used in the model\n",
    "original_df = pd.read_csv(\"data/final.csv\", usecols=[\"Exchange.Date\", \"logreturns\", \"Close\"])\n",
    "\n",
    "# Setting as date\n",
    "original_df['Exchange.Date'] = original_df['Exchange.Date'].apply(lambda x: date(1900, 1, 1) + timedelta(int(x)))\n",
    "original_df.index = original_df['Exchange.Date']\n",
    "\n",
    "train_df = original_df[:-n_test].copy()\n",
    "\n",
    "# Assigning all rows in train df (before forecast) to closing value\n",
    "# This is because this column cannot be empty (and we have no forecasts since it's training data)\n",
    "train_df[\"forecast\"] = train_df[\"Close\"]"
   ]
  },
  {
   "cell_type": "code",
   "execution_count": 10,
   "metadata": {},
   "outputs": [],
   "source": [
    "# Transforming logreturns back to price\n",
    "last_train = train_df[\"Close\"].values[-1]\n",
    "price_forecasts = np.exp(np.cumsum(forecasts[0]) + math.log(last_train))"
   ]
  },
  {
   "cell_type": "code",
   "execution_count": 11,
   "metadata": {},
   "outputs": [],
   "source": [
    "# Creating a separate dataframe only for forecasts (i.e. \"outside train df\")\n",
    "forecast_df = pd.DataFrame(columns=[\"Exchange.Date\", \"Close\", \"logreturns\", \"forecast\"])\n",
    "forecast_df[\"Close\"] = original_df[\"Close\"].values[-n_test : -n_test + n_seq]\n",
    "forecast_df[\"logreturns\"] = original_df[\"logreturns\"].values[-n_test : -n_test + n_seq]\n",
    "forecast_df[\"forecast\"] = price_forecasts\n",
    "forecast_df.index\n",
    "\n",
    "forecast_df[\"Exchange.Date\"] = forecast_df.index.map(lambda x: date(2016, 8, 1) + timedelta(int(x)))\n",
    "forecast_df.index = forecast_df[\"Exchange.Date\"]"
   ]
  },
  {
   "cell_type": "code",
   "execution_count": 28,
   "metadata": {},
   "outputs": [
    {
     "output_type": "execute_result",
     "data": {
      "text/plain": [
       "              Exchange.Date   Close  logreturns    forecast      error  \\\n",
       "Exchange.Date                                                            \n",
       "2016-09-28       2016-09-28  671.89    0.005567  653.864868 -18.025132   \n",
       "2016-09-29       2016-09-29  671.08   -0.001206  655.179688 -15.900313   \n",
       "2016-09-30       2016-09-30  668.82   -0.003373  656.538208 -12.281792   \n",
       "2016-10-01       2016-10-01  668.02   -0.001197  657.722961 -10.297039   \n",
       "2016-10-02       2016-10-02  663.33   -0.007046  659.057251  -4.272749   \n",
       "\n",
       "               abs_error  actual_up  forecast_up confusion  \n",
       "Exchange.Date                                               \n",
       "2016-09-28     18.025132       True         True        TP  \n",
       "2016-09-29     15.900313      False         True        FP  \n",
       "2016-09-30     12.281792      False         True        FP  \n",
       "2016-10-01     10.297039      False         True        FP  \n",
       "2016-10-02      4.272749      False         True        FP  "
      ],
      "text/html": "<div>\n<style scoped>\n    .dataframe tbody tr th:only-of-type {\n        vertical-align: middle;\n    }\n\n    .dataframe tbody tr th {\n        vertical-align: top;\n    }\n\n    .dataframe thead th {\n        text-align: right;\n    }\n</style>\n<table border=\"1\" class=\"dataframe\">\n  <thead>\n    <tr style=\"text-align: right;\">\n      <th></th>\n      <th>Exchange.Date</th>\n      <th>Close</th>\n      <th>logreturns</th>\n      <th>forecast</th>\n      <th>error</th>\n      <th>abs_error</th>\n      <th>actual_up</th>\n      <th>forecast_up</th>\n      <th>confusion</th>\n    </tr>\n    <tr>\n      <th>Exchange.Date</th>\n      <th></th>\n      <th></th>\n      <th></th>\n      <th></th>\n      <th></th>\n      <th></th>\n      <th></th>\n      <th></th>\n      <th></th>\n    </tr>\n  </thead>\n  <tbody>\n    <tr>\n      <th>2016-09-28</th>\n      <td>2016-09-28</td>\n      <td>671.89</td>\n      <td>0.005567</td>\n      <td>653.864868</td>\n      <td>-18.025132</td>\n      <td>18.025132</td>\n      <td>True</td>\n      <td>True</td>\n      <td>TP</td>\n    </tr>\n    <tr>\n      <th>2016-09-29</th>\n      <td>2016-09-29</td>\n      <td>671.08</td>\n      <td>-0.001206</td>\n      <td>655.179688</td>\n      <td>-15.900313</td>\n      <td>15.900313</td>\n      <td>False</td>\n      <td>True</td>\n      <td>FP</td>\n    </tr>\n    <tr>\n      <th>2016-09-30</th>\n      <td>2016-09-30</td>\n      <td>668.82</td>\n      <td>-0.003373</td>\n      <td>656.538208</td>\n      <td>-12.281792</td>\n      <td>12.281792</td>\n      <td>False</td>\n      <td>True</td>\n      <td>FP</td>\n    </tr>\n    <tr>\n      <th>2016-10-01</th>\n      <td>2016-10-01</td>\n      <td>668.02</td>\n      <td>-0.001197</td>\n      <td>657.722961</td>\n      <td>-10.297039</td>\n      <td>10.297039</td>\n      <td>False</td>\n      <td>True</td>\n      <td>FP</td>\n    </tr>\n    <tr>\n      <th>2016-10-02</th>\n      <td>2016-10-02</td>\n      <td>663.33</td>\n      <td>-0.007046</td>\n      <td>659.057251</td>\n      <td>-4.272749</td>\n      <td>4.272749</td>\n      <td>False</td>\n      <td>True</td>\n      <td>FP</td>\n    </tr>\n  </tbody>\n</table>\n</div>"
     },
     "metadata": {},
     "execution_count": 28
    }
   ],
   "source": [
    "# Merging train and forecast dataframe\n",
    "merged_df = train_df.append(forecast_df, ignore_index=True)\n",
    "\n",
    "# Creating error, absolute error, actual price going up (True/False) and forecast going up (True/False)\n",
    "merged_df[\"error\"] = merged_df[\"forecast\"] - merged_df[\"Close\"]\n",
    "merged_df[\"abs_error\"] = np.abs(merged_df[\"forecast\"] - merged_df[\"Close\"])\n",
    "merged_df[\"actual_up\"] = merged_df[\"Close\"].diff(1) > 0\n",
    "merged_df[\"forecast_up\"] = merged_df[\"forecast\"].diff(1) > 0\n",
    "merged_df.index = merged_df[\"Exchange.Date\"]\n",
    "\n",
    "# Formula for creating confusion value, used below\n",
    "def confusion(actual, forecast):\n",
    "    if actual and forecast:\n",
    "        return \"TP\"\n",
    "\n",
    "    if actual and not forecast:\n",
    "        return \"FN\"\n",
    "\n",
    "    if not actual and forecast:\n",
    "        return \"FP\"\n",
    "\n",
    "    if not actual and not forecast:\n",
    "        return \"TN\"\n",
    "\n",
    "    # Just common programming sense to return something, could have written \"blabla\"\n",
    "    return False\n",
    "\n",
    "\n",
    "# The lambda stuff applies the above function on every row of data\n",
    "merged_df[\"confusion\"] = merged_df.apply(lambda x: confusion(x[\"actual_up\"], x[\"forecast_up\"]), axis=1)\n",
    "\n",
    "# Printing the tail of the data\n",
    "merged_df.tail()"
   ]
  },
  {
   "source": [
    "## Evaluating"
   ],
   "cell_type": "markdown",
   "metadata": {}
  },
  {
   "cell_type": "code",
   "execution_count": 44,
   "metadata": {},
   "outputs": [],
   "source": [
    "# New dataframe that only contains the number of periods to evaluate (1,3,5,21,63)\n",
    "def new_df(n_periods):\n",
    "    df = merged_df[len(train_df) : len(train_df) + n_periods]\n",
    "    return df"
   ]
  },
  {
   "cell_type": "code",
   "execution_count": 45,
   "metadata": {},
   "outputs": [
    {
     "output_type": "stream",
     "name": "stdout",
     "text": [
      "1, RMSE: 0.708, MAPE: 0.114%\n3, RMSE: 5.788, MAPE: 0.617%\n5, RMSE: 7.472, MAPE: 0.585%\n21, RMSE: 0.914, MAPE: 0.526%\n63, RMSE: 58.441, MAPE: 1.317%\n"
     ]
    }
   ],
   "source": [
    "# Creating RMSE AND MAE\n",
    "def evaluate(n_periods):\n",
    "    df = new_df(n_periods)\n",
    "    mape = ((df[\"abs_error\"] / df[\"Close\"]).sum() / n_periods) * 100\n",
    "    rmse = math.sqrt(pow(df[\"error\"].sum(), 2) / n_periods)\n",
    "    print(f\"{n_periods}, RMSE: {round(rmse, 3)}, MAPE: {round(mape, 3)}%\")\n",
    "\n",
    "\n",
    "evaluate(1)  # 1 day\n",
    "evaluate(3)  # half a week\n",
    "evaluate(5)  # week\n",
    "evaluate(21)  # month\n",
    "evaluate(63)  # quarter"
   ]
  },
  {
   "cell_type": "code",
   "execution_count": 31,
   "metadata": {},
   "outputs": [
    {
     "output_type": "stream",
     "name": "stdout",
     "text": [
      "    P  N\nP  32  4\nN  26  1\nprecision: 88%, recall: 55%, f-score: 0.681\n"
     ]
    }
   ],
   "source": [
    "# Creating confusion matrix\n",
    "def confusion_matrix(df):\n",
    "    conf = pd.DataFrame(columns=[\"P\", \"N\"], index=[\"P\", \"N\"])\n",
    "    conf.loc[\"P\", \"P\"] = len(df[df[\"confusion\"] == \"TP\"])\n",
    "    conf.loc[\"P\", \"N\"] = len(df[df[\"confusion\"] == \"FN\"])\n",
    "    conf.loc[\"N\", \"P\"] = len(df[df[\"confusion\"] == \"FP\"])\n",
    "    conf.loc[\"N\", \"N\"] = len(df[df[\"confusion\"] == \"TN\"])\n",
    "    return conf\n",
    "\n",
    "\n",
    "confusion = confusion_matrix(new_df(63))\n",
    "precision = confusion.iloc[0, 0] / (confusion.iloc[0, 0] + confusion.iloc[0, 1])\n",
    "recall = confusion.iloc[0, 0] / (confusion.iloc[0, 0] + confusion.iloc[1, 0])\n",
    "f_score = 2 * precision * recall / (precision + recall)\n",
    "\n",
    "print(confusion)\n",
    "print(f\"precision: {int(precision*100)}%, recall: {int(recall*100)}%, f-score: {round(f_score, 3)}\")"
   ]
  },
  {
   "source": [
    "# Plotting"
   ],
   "cell_type": "markdown",
   "metadata": {}
  },
  {
   "cell_type": "code",
   "execution_count": 32,
   "metadata": {},
   "outputs": [
    {
     "output_type": "execute_result",
     "data": {
      "text/plain": [
       "<matplotlib.legend.Legend at 0x13de29fd0>"
      ]
     },
     "metadata": {},
     "execution_count": 32
    },
    {
     "output_type": "display_data",
     "data": {
      "text/plain": "<Figure size 720x360 with 1 Axes>",
      "image/svg+xml": "<?xml version=\"1.0\" encoding=\"utf-8\" standalone=\"no\"?>\n<!DOCTYPE svg PUBLIC \"-//W3C//DTD SVG 1.1//EN\"\n  \"http://www.w3.org/Graphics/SVG/1.1/DTD/svg11.dtd\">\n<!-- Created with matplotlib (https://matplotlib.org/) -->\n<svg height=\"302.878125pt\" version=\"1.1\" viewBox=\"0 0 598.4875 302.878125\" width=\"598.4875pt\" xmlns=\"http://www.w3.org/2000/svg\" xmlns:xlink=\"http://www.w3.org/1999/xlink\">\n <metadata>\n  <rdf:RDF xmlns:cc=\"http://creativecommons.org/ns#\" xmlns:dc=\"http://purl.org/dc/elements/1.1/\" xmlns:rdf=\"http://www.w3.org/1999/02/22-rdf-syntax-ns#\">\n   <cc:Work>\n    <dc:type rdf:resource=\"http://purl.org/dc/dcmitype/StillImage\"/>\n    <dc:date>2021-04-08T11:27:42.257669</dc:date>\n    <dc:format>image/svg+xml</dc:format>\n    <dc:creator>\n     <cc:Agent>\n      <dc:title>Matplotlib v3.3.4, https://matplotlib.org/</dc:title>\n     </cc:Agent>\n    </dc:creator>\n   </cc:Work>\n  </rdf:RDF>\n </metadata>\n <defs>\n  <style type=\"text/css\">*{stroke-linecap:butt;stroke-linejoin:round;}</style>\n </defs>\n <g id=\"figure_1\">\n  <g id=\"patch_1\">\n   <path d=\"M 0 302.878125 \nL 598.4875 302.878125 \nL 598.4875 0 \nL 0 0 \nz\n\" style=\"fill:none;\"/>\n  </g>\n  <g id=\"axes_1\">\n   <g id=\"patch_2\">\n    <path d=\"M 33.2875 279 \nL 591.2875 279 \nL 591.2875 7.2 \nL 33.2875 7.2 \nz\n\" style=\"fill:#ffffff;\"/>\n   </g>\n   <g id=\"matplotlib.axis_1\">\n    <g id=\"xtick_1\">\n     <g id=\"line2d_1\">\n      <defs>\n       <path d=\"M 0 0 \nL 0 3.5 \n\" id=\"m2f0b48b958\" style=\"stroke:#000000;stroke-width:0.8;\"/>\n      </defs>\n      <g>\n       <use style=\"stroke:#000000;stroke-width:0.8;\" x=\"78.826756\" xlink:href=\"#m2f0b48b958\" y=\"279\"/>\n      </g>\n     </g>\n     <g id=\"text_1\">\n      <!-- 2016-07 -->\n      <g transform=\"translate(57.93535 293.598437)scale(0.1 -0.1)\">\n       <defs>\n        <path d=\"M 19.1875 8.296875 \nL 53.609375 8.296875 \nL 53.609375 0 \nL 7.328125 0 \nL 7.328125 8.296875 \nQ 12.9375 14.109375 22.625 23.890625 \nQ 32.328125 33.6875 34.8125 36.53125 \nQ 39.546875 41.84375 41.421875 45.53125 \nQ 43.3125 49.21875 43.3125 52.78125 \nQ 43.3125 58.59375 39.234375 62.25 \nQ 35.15625 65.921875 28.609375 65.921875 \nQ 23.96875 65.921875 18.8125 64.3125 \nQ 13.671875 62.703125 7.8125 59.421875 \nL 7.8125 69.390625 \nQ 13.765625 71.78125 18.9375 73 \nQ 24.125 74.21875 28.421875 74.21875 \nQ 39.75 74.21875 46.484375 68.546875 \nQ 53.21875 62.890625 53.21875 53.421875 \nQ 53.21875 48.921875 51.53125 44.890625 \nQ 49.859375 40.875 45.40625 35.40625 \nQ 44.1875 33.984375 37.640625 27.21875 \nQ 31.109375 20.453125 19.1875 8.296875 \nz\n\" id=\"DejaVuSans-50\"/>\n        <path d=\"M 31.78125 66.40625 \nQ 24.171875 66.40625 20.328125 58.90625 \nQ 16.5 51.421875 16.5 36.375 \nQ 16.5 21.390625 20.328125 13.890625 \nQ 24.171875 6.390625 31.78125 6.390625 \nQ 39.453125 6.390625 43.28125 13.890625 \nQ 47.125 21.390625 47.125 36.375 \nQ 47.125 51.421875 43.28125 58.90625 \nQ 39.453125 66.40625 31.78125 66.40625 \nz\nM 31.78125 74.21875 \nQ 44.046875 74.21875 50.515625 64.515625 \nQ 56.984375 54.828125 56.984375 36.375 \nQ 56.984375 17.96875 50.515625 8.265625 \nQ 44.046875 -1.421875 31.78125 -1.421875 \nQ 19.53125 -1.421875 13.0625 8.265625 \nQ 6.59375 17.96875 6.59375 36.375 \nQ 6.59375 54.828125 13.0625 64.515625 \nQ 19.53125 74.21875 31.78125 74.21875 \nz\n\" id=\"DejaVuSans-48\"/>\n        <path d=\"M 12.40625 8.296875 \nL 28.515625 8.296875 \nL 28.515625 63.921875 \nL 10.984375 60.40625 \nL 10.984375 69.390625 \nL 28.421875 72.90625 \nL 38.28125 72.90625 \nL 38.28125 8.296875 \nL 54.390625 8.296875 \nL 54.390625 0 \nL 12.40625 0 \nz\n\" id=\"DejaVuSans-49\"/>\n        <path d=\"M 33.015625 40.375 \nQ 26.375 40.375 22.484375 35.828125 \nQ 18.609375 31.296875 18.609375 23.390625 \nQ 18.609375 15.53125 22.484375 10.953125 \nQ 26.375 6.390625 33.015625 6.390625 \nQ 39.65625 6.390625 43.53125 10.953125 \nQ 47.40625 15.53125 47.40625 23.390625 \nQ 47.40625 31.296875 43.53125 35.828125 \nQ 39.65625 40.375 33.015625 40.375 \nz\nM 52.59375 71.296875 \nL 52.59375 62.3125 \nQ 48.875 64.0625 45.09375 64.984375 \nQ 41.3125 65.921875 37.59375 65.921875 \nQ 27.828125 65.921875 22.671875 59.328125 \nQ 17.53125 52.734375 16.796875 39.40625 \nQ 19.671875 43.65625 24.015625 45.921875 \nQ 28.375 48.1875 33.59375 48.1875 \nQ 44.578125 48.1875 50.953125 41.515625 \nQ 57.328125 34.859375 57.328125 23.390625 \nQ 57.328125 12.15625 50.6875 5.359375 \nQ 44.046875 -1.421875 33.015625 -1.421875 \nQ 20.359375 -1.421875 13.671875 8.265625 \nQ 6.984375 17.96875 6.984375 36.375 \nQ 6.984375 53.65625 15.1875 63.9375 \nQ 23.390625 74.21875 37.203125 74.21875 \nQ 40.921875 74.21875 44.703125 73.484375 \nQ 48.484375 72.75 52.59375 71.296875 \nz\n\" id=\"DejaVuSans-54\"/>\n        <path d=\"M 4.890625 31.390625 \nL 31.203125 31.390625 \nL 31.203125 23.390625 \nL 4.890625 23.390625 \nz\n\" id=\"DejaVuSans-45\"/>\n        <path d=\"M 8.203125 72.90625 \nL 55.078125 72.90625 \nL 55.078125 68.703125 \nL 28.609375 0 \nL 18.3125 0 \nL 43.21875 64.59375 \nL 8.203125 64.59375 \nz\n\" id=\"DejaVuSans-55\"/>\n       </defs>\n       <use xlink:href=\"#DejaVuSans-50\"/>\n       <use x=\"63.623047\" xlink:href=\"#DejaVuSans-48\"/>\n       <use x=\"127.246094\" xlink:href=\"#DejaVuSans-49\"/>\n       <use x=\"190.869141\" xlink:href=\"#DejaVuSans-54\"/>\n       <use x=\"254.492188\" xlink:href=\"#DejaVuSans-45\"/>\n       <use x=\"290.576172\" xlink:href=\"#DejaVuSans-48\"/>\n       <use x=\"354.199219\" xlink:href=\"#DejaVuSans-55\"/>\n      </g>\n     </g>\n    </g>\n    <g id=\"xtick_2\">\n     <g id=\"line2d_2\">\n      <g>\n       <use style=\"stroke:#000000;stroke-width:0.8;\" x=\"168.17593\" xlink:href=\"#m2f0b48b958\" y=\"279\"/>\n      </g>\n     </g>\n     <g id=\"text_2\">\n      <!-- 2016-08 -->\n      <g transform=\"translate(147.284524 293.598437)scale(0.1 -0.1)\">\n       <defs>\n        <path d=\"M 31.78125 34.625 \nQ 24.75 34.625 20.71875 30.859375 \nQ 16.703125 27.09375 16.703125 20.515625 \nQ 16.703125 13.921875 20.71875 10.15625 \nQ 24.75 6.390625 31.78125 6.390625 \nQ 38.8125 6.390625 42.859375 10.171875 \nQ 46.921875 13.96875 46.921875 20.515625 \nQ 46.921875 27.09375 42.890625 30.859375 \nQ 38.875 34.625 31.78125 34.625 \nz\nM 21.921875 38.8125 \nQ 15.578125 40.375 12.03125 44.71875 \nQ 8.5 49.078125 8.5 55.328125 \nQ 8.5 64.0625 14.71875 69.140625 \nQ 20.953125 74.21875 31.78125 74.21875 \nQ 42.671875 74.21875 48.875 69.140625 \nQ 55.078125 64.0625 55.078125 55.328125 \nQ 55.078125 49.078125 51.53125 44.71875 \nQ 48 40.375 41.703125 38.8125 \nQ 48.828125 37.15625 52.796875 32.3125 \nQ 56.78125 27.484375 56.78125 20.515625 \nQ 56.78125 9.90625 50.3125 4.234375 \nQ 43.84375 -1.421875 31.78125 -1.421875 \nQ 19.734375 -1.421875 13.25 4.234375 \nQ 6.78125 9.90625 6.78125 20.515625 \nQ 6.78125 27.484375 10.78125 32.3125 \nQ 14.796875 37.15625 21.921875 38.8125 \nz\nM 18.3125 54.390625 \nQ 18.3125 48.734375 21.84375 45.5625 \nQ 25.390625 42.390625 31.78125 42.390625 \nQ 38.140625 42.390625 41.71875 45.5625 \nQ 45.3125 48.734375 45.3125 54.390625 \nQ 45.3125 60.0625 41.71875 63.234375 \nQ 38.140625 66.40625 31.78125 66.40625 \nQ 25.390625 66.40625 21.84375 63.234375 \nQ 18.3125 60.0625 18.3125 54.390625 \nz\n\" id=\"DejaVuSans-56\"/>\n       </defs>\n       <use xlink:href=\"#DejaVuSans-50\"/>\n       <use x=\"63.623047\" xlink:href=\"#DejaVuSans-48\"/>\n       <use x=\"127.246094\" xlink:href=\"#DejaVuSans-49\"/>\n       <use x=\"190.869141\" xlink:href=\"#DejaVuSans-54\"/>\n       <use x=\"254.492188\" xlink:href=\"#DejaVuSans-45\"/>\n       <use x=\"290.576172\" xlink:href=\"#DejaVuSans-48\"/>\n       <use x=\"354.199219\" xlink:href=\"#DejaVuSans-56\"/>\n      </g>\n     </g>\n    </g>\n    <g id=\"xtick_3\">\n     <g id=\"line2d_3\">\n      <g>\n       <use style=\"stroke:#000000;stroke-width:0.8;\" x=\"257.525103\" xlink:href=\"#m2f0b48b958\" y=\"279\"/>\n      </g>\n     </g>\n     <g id=\"text_3\">\n      <!-- 2016-09 -->\n      <g transform=\"translate(236.633697 293.598437)scale(0.1 -0.1)\">\n       <defs>\n        <path d=\"M 10.984375 1.515625 \nL 10.984375 10.5 \nQ 14.703125 8.734375 18.5 7.8125 \nQ 22.3125 6.890625 25.984375 6.890625 \nQ 35.75 6.890625 40.890625 13.453125 \nQ 46.046875 20.015625 46.78125 33.40625 \nQ 43.953125 29.203125 39.59375 26.953125 \nQ 35.25 24.703125 29.984375 24.703125 \nQ 19.046875 24.703125 12.671875 31.3125 \nQ 6.296875 37.9375 6.296875 49.421875 \nQ 6.296875 60.640625 12.9375 67.421875 \nQ 19.578125 74.21875 30.609375 74.21875 \nQ 43.265625 74.21875 49.921875 64.515625 \nQ 56.59375 54.828125 56.59375 36.375 \nQ 56.59375 19.140625 48.40625 8.859375 \nQ 40.234375 -1.421875 26.421875 -1.421875 \nQ 22.703125 -1.421875 18.890625 -0.6875 \nQ 15.09375 0.046875 10.984375 1.515625 \nz\nM 30.609375 32.421875 \nQ 37.25 32.421875 41.125 36.953125 \nQ 45.015625 41.5 45.015625 49.421875 \nQ 45.015625 57.28125 41.125 61.84375 \nQ 37.25 66.40625 30.609375 66.40625 \nQ 23.96875 66.40625 20.09375 61.84375 \nQ 16.21875 57.28125 16.21875 49.421875 \nQ 16.21875 41.5 20.09375 36.953125 \nQ 23.96875 32.421875 30.609375 32.421875 \nz\n\" id=\"DejaVuSans-57\"/>\n       </defs>\n       <use xlink:href=\"#DejaVuSans-50\"/>\n       <use x=\"63.623047\" xlink:href=\"#DejaVuSans-48\"/>\n       <use x=\"127.246094\" xlink:href=\"#DejaVuSans-49\"/>\n       <use x=\"190.869141\" xlink:href=\"#DejaVuSans-54\"/>\n       <use x=\"254.492188\" xlink:href=\"#DejaVuSans-45\"/>\n       <use x=\"290.576172\" xlink:href=\"#DejaVuSans-48\"/>\n       <use x=\"354.199219\" xlink:href=\"#DejaVuSans-57\"/>\n      </g>\n     </g>\n    </g>\n    <g id=\"xtick_4\">\n     <g id=\"line2d_4\">\n      <g>\n       <use style=\"stroke:#000000;stroke-width:0.8;\" x=\"343.992045\" xlink:href=\"#m2f0b48b958\" y=\"279\"/>\n      </g>\n     </g>\n     <g id=\"text_4\">\n      <!-- 2016-10 -->\n      <g transform=\"translate(323.100639 293.598437)scale(0.1 -0.1)\">\n       <use xlink:href=\"#DejaVuSans-50\"/>\n       <use x=\"63.623047\" xlink:href=\"#DejaVuSans-48\"/>\n       <use x=\"127.246094\" xlink:href=\"#DejaVuSans-49\"/>\n       <use x=\"190.869141\" xlink:href=\"#DejaVuSans-54\"/>\n       <use x=\"254.492188\" xlink:href=\"#DejaVuSans-45\"/>\n       <use x=\"290.576172\" xlink:href=\"#DejaVuSans-49\"/>\n       <use x=\"354.199219\" xlink:href=\"#DejaVuSans-48\"/>\n      </g>\n     </g>\n    </g>\n    <g id=\"xtick_5\">\n     <g id=\"line2d_5\">\n      <g>\n       <use style=\"stroke:#000000;stroke-width:0.8;\" x=\"433.341219\" xlink:href=\"#m2f0b48b958\" y=\"279\"/>\n      </g>\n     </g>\n     <g id=\"text_5\">\n      <!-- 2016-11 -->\n      <g transform=\"translate(412.449813 293.598437)scale(0.1 -0.1)\">\n       <use xlink:href=\"#DejaVuSans-50\"/>\n       <use x=\"63.623047\" xlink:href=\"#DejaVuSans-48\"/>\n       <use x=\"127.246094\" xlink:href=\"#DejaVuSans-49\"/>\n       <use x=\"190.869141\" xlink:href=\"#DejaVuSans-54\"/>\n       <use x=\"254.492188\" xlink:href=\"#DejaVuSans-45\"/>\n       <use x=\"290.576172\" xlink:href=\"#DejaVuSans-49\"/>\n       <use x=\"354.199219\" xlink:href=\"#DejaVuSans-49\"/>\n      </g>\n     </g>\n    </g>\n    <g id=\"xtick_6\">\n     <g id=\"line2d_6\">\n      <g>\n       <use style=\"stroke:#000000;stroke-width:0.8;\" x=\"519.808161\" xlink:href=\"#m2f0b48b958\" y=\"279\"/>\n      </g>\n     </g>\n     <g id=\"text_6\">\n      <!-- 2016-12 -->\n      <g transform=\"translate(498.916755 293.598437)scale(0.1 -0.1)\">\n       <use xlink:href=\"#DejaVuSans-50\"/>\n       <use x=\"63.623047\" xlink:href=\"#DejaVuSans-48\"/>\n       <use x=\"127.246094\" xlink:href=\"#DejaVuSans-49\"/>\n       <use x=\"190.869141\" xlink:href=\"#DejaVuSans-54\"/>\n       <use x=\"254.492188\" xlink:href=\"#DejaVuSans-45\"/>\n       <use x=\"290.576172\" xlink:href=\"#DejaVuSans-49\"/>\n       <use x=\"354.199219\" xlink:href=\"#DejaVuSans-50\"/>\n      </g>\n     </g>\n    </g>\n   </g>\n   <g id=\"matplotlib.axis_2\">\n    <g id=\"ytick_1\">\n     <g id=\"line2d_7\">\n      <defs>\n       <path d=\"M 0 0 \nL -3.5 0 \n\" id=\"m7394f9ba09\" style=\"stroke:#000000;stroke-width:0.8;\"/>\n      </defs>\n      <g>\n       <use style=\"stroke:#000000;stroke-width:0.8;\" x=\"33.2875\" xlink:href=\"#m7394f9ba09\" y=\"268.052672\"/>\n      </g>\n     </g>\n     <g id=\"text_7\">\n      <!-- 525 -->\n      <g transform=\"translate(7.2 271.851891)scale(0.1 -0.1)\">\n       <defs>\n        <path d=\"M 10.796875 72.90625 \nL 49.515625 72.90625 \nL 49.515625 64.59375 \nL 19.828125 64.59375 \nL 19.828125 46.734375 \nQ 21.96875 47.46875 24.109375 47.828125 \nQ 26.265625 48.1875 28.421875 48.1875 \nQ 40.625 48.1875 47.75 41.5 \nQ 54.890625 34.8125 54.890625 23.390625 \nQ 54.890625 11.625 47.5625 5.09375 \nQ 40.234375 -1.421875 26.90625 -1.421875 \nQ 22.3125 -1.421875 17.546875 -0.640625 \nQ 12.796875 0.140625 7.71875 1.703125 \nL 7.71875 11.625 \nQ 12.109375 9.234375 16.796875 8.0625 \nQ 21.484375 6.890625 26.703125 6.890625 \nQ 35.15625 6.890625 40.078125 11.328125 \nQ 45.015625 15.765625 45.015625 23.390625 \nQ 45.015625 31 40.078125 35.4375 \nQ 35.15625 39.890625 26.703125 39.890625 \nQ 22.75 39.890625 18.8125 39.015625 \nQ 14.890625 38.140625 10.796875 36.28125 \nz\n\" id=\"DejaVuSans-53\"/>\n       </defs>\n       <use xlink:href=\"#DejaVuSans-53\"/>\n       <use x=\"63.623047\" xlink:href=\"#DejaVuSans-50\"/>\n       <use x=\"127.246094\" xlink:href=\"#DejaVuSans-53\"/>\n      </g>\n     </g>\n    </g>\n    <g id=\"ytick_2\">\n     <g id=\"line2d_8\">\n      <g>\n       <use style=\"stroke:#000000;stroke-width:0.8;\" x=\"33.2875\" xlink:href=\"#m7394f9ba09\" y=\"233.562037\"/>\n      </g>\n     </g>\n     <g id=\"text_8\">\n      <!-- 550 -->\n      <g transform=\"translate(7.2 237.361256)scale(0.1 -0.1)\">\n       <use xlink:href=\"#DejaVuSans-53\"/>\n       <use x=\"63.623047\" xlink:href=\"#DejaVuSans-53\"/>\n       <use x=\"127.246094\" xlink:href=\"#DejaVuSans-48\"/>\n      </g>\n     </g>\n    </g>\n    <g id=\"ytick_3\">\n     <g id=\"line2d_9\">\n      <g>\n       <use style=\"stroke:#000000;stroke-width:0.8;\" x=\"33.2875\" xlink:href=\"#m7394f9ba09\" y=\"199.071402\"/>\n      </g>\n     </g>\n     <g id=\"text_9\">\n      <!-- 575 -->\n      <g transform=\"translate(7.2 202.870621)scale(0.1 -0.1)\">\n       <use xlink:href=\"#DejaVuSans-53\"/>\n       <use x=\"63.623047\" xlink:href=\"#DejaVuSans-55\"/>\n       <use x=\"127.246094\" xlink:href=\"#DejaVuSans-53\"/>\n      </g>\n     </g>\n    </g>\n    <g id=\"ytick_4\">\n     <g id=\"line2d_10\">\n      <g>\n       <use style=\"stroke:#000000;stroke-width:0.8;\" x=\"33.2875\" xlink:href=\"#m7394f9ba09\" y=\"164.580767\"/>\n      </g>\n     </g>\n     <g id=\"text_10\">\n      <!-- 600 -->\n      <g transform=\"translate(7.2 168.379986)scale(0.1 -0.1)\">\n       <use xlink:href=\"#DejaVuSans-54\"/>\n       <use x=\"63.623047\" xlink:href=\"#DejaVuSans-48\"/>\n       <use x=\"127.246094\" xlink:href=\"#DejaVuSans-48\"/>\n      </g>\n     </g>\n    </g>\n    <g id=\"ytick_5\">\n     <g id=\"line2d_11\">\n      <g>\n       <use style=\"stroke:#000000;stroke-width:0.8;\" x=\"33.2875\" xlink:href=\"#m7394f9ba09\" y=\"130.090132\"/>\n      </g>\n     </g>\n     <g id=\"text_11\">\n      <!-- 625 -->\n      <g transform=\"translate(7.2 133.889351)scale(0.1 -0.1)\">\n       <use xlink:href=\"#DejaVuSans-54\"/>\n       <use x=\"63.623047\" xlink:href=\"#DejaVuSans-50\"/>\n       <use x=\"127.246094\" xlink:href=\"#DejaVuSans-53\"/>\n      </g>\n     </g>\n    </g>\n    <g id=\"ytick_6\">\n     <g id=\"line2d_12\">\n      <g>\n       <use style=\"stroke:#000000;stroke-width:0.8;\" x=\"33.2875\" xlink:href=\"#m7394f9ba09\" y=\"95.599497\"/>\n      </g>\n     </g>\n     <g id=\"text_12\">\n      <!-- 650 -->\n      <g transform=\"translate(7.2 99.398716)scale(0.1 -0.1)\">\n       <use xlink:href=\"#DejaVuSans-54\"/>\n       <use x=\"63.623047\" xlink:href=\"#DejaVuSans-53\"/>\n       <use x=\"127.246094\" xlink:href=\"#DejaVuSans-48\"/>\n      </g>\n     </g>\n    </g>\n    <g id=\"ytick_7\">\n     <g id=\"line2d_13\">\n      <g>\n       <use style=\"stroke:#000000;stroke-width:0.8;\" x=\"33.2875\" xlink:href=\"#m7394f9ba09\" y=\"61.108862\"/>\n      </g>\n     </g>\n     <g id=\"text_13\">\n      <!-- 675 -->\n      <g transform=\"translate(7.2 64.908081)scale(0.1 -0.1)\">\n       <use xlink:href=\"#DejaVuSans-54\"/>\n       <use x=\"63.623047\" xlink:href=\"#DejaVuSans-55\"/>\n       <use x=\"127.246094\" xlink:href=\"#DejaVuSans-53\"/>\n      </g>\n     </g>\n    </g>\n    <g id=\"ytick_8\">\n     <g id=\"line2d_14\">\n      <g>\n       <use style=\"stroke:#000000;stroke-width:0.8;\" x=\"33.2875\" xlink:href=\"#m7394f9ba09\" y=\"26.618228\"/>\n      </g>\n     </g>\n     <g id=\"text_14\">\n      <!-- 700 -->\n      <g transform=\"translate(7.2 30.417446)scale(0.1 -0.1)\">\n       <use xlink:href=\"#DejaVuSans-55\"/>\n       <use x=\"63.623047\" xlink:href=\"#DejaVuSans-48\"/>\n       <use x=\"127.246094\" xlink:href=\"#DejaVuSans-48\"/>\n      </g>\n     </g>\n    </g>\n   </g>\n   <g id=\"line2d_15\">\n    <path clip-path=\"url(#p05b14d6fba)\" d=\"M 58.651136 233.575834 \nL 61.533368 230.375103 \nL 73.062293 266.645455 \nL 75.944525 253.497624 \nL 78.826756 242.377844 \nL 84.591219 224.994564 \nL 93.237913 216.551256 \nL 96.120145 216.275331 \nL 99.002376 222.731978 \nL 101.884607 218.013659 \nL 104.766839 211.253495 \nL 113.413533 201.747876 \nL 116.295764 199.637049 \nL 122.060227 186.00635 \nL 124.942459 178.30804 \nL 133.589153 164.980859 \nL 136.471384 159.476153 \nL 139.353616 150.867291 \nL 142.235847 151.157012 \nL 145.118079 158.275879 \nL 153.764773 149.473869 \nL 156.647004 146.714619 \nL 159.529236 143.693239 \nL 162.411467 140.464915 \nL 165.293698 135.084376 \nL 173.940393 133.166697 \nL 176.822624 138.781772 \nL 179.704855 140.961581 \nL 182.587087 135.222339 \nL 185.469318 133.801325 \nL 194.116012 131.331795 \nL 196.998244 130.117725 \nL 199.880475 130.269484 \nL 202.762707 123.398949 \nL 205.644938 118.928963 \nL 214.291632 113.603609 \nL 217.173864 116.569804 \nL 220.056095 122.750525 \nL 222.938326 122.157286 \nL 225.820558 125.93746 \nL 234.467252 114.55555 \nL 237.349483 111.851485 \nL 240.231715 113.037963 \nL 243.113946 113.548424 \nL 245.996178 111.175468 \nL 254.642872 109.312974 \nL 257.525103 106.443353 \nL 260.407335 110.761581 \nL 263.289566 114.376199 \nL 266.171798 109.98899 \nL 274.818492 103.98762 \nL 277.700723 100.510964 \nL 280.582955 93.681818 \nL 283.465186 94.716537 \nL 286.347417 96.537643 \nL 294.994112 111.037506 \nL 297.876343 108.195477 \nL 300.758574 104.470489 \nL 303.640806 103.173641 \nL 306.523037 103.339196 \nL 315.169731 101.959571 \nL 320.934194 93.019598 \nL 323.816426 87.666651 \nL 326.698657 87.501096 \nL 335.345351 90.025811 \nL 338.227583 88.246094 \nL 341.109814 84.866012 \nL 343.992045 75.995021 \nL 346.874277 73.290955 \nL 355.520971 68.710598 \nL 358.403202 64.282001 \nL 361.285434 61.177844 \nL 364.167665 64.916629 \nL 367.049897 67.372362 \nL 375.696591 66.103106 \nL 378.578822 67.027455 \nL 381.461054 76.850388 \nL 384.343285 87.804614 \nL 387.225517 78.79566 \nL 395.872211 83.072499 \nL 398.754442 70.255779 \nL 401.636674 70.5455 \nL 404.518905 65.399497 \nL 407.401136 66.516994 \nL 418.930062 70.738648 \nL 421.812293 77.209091 \nL 424.694525 69.634947 \nL 427.576756 72.076884 \nL 436.22345 75.66391 \nL 439.105682 83.210461 \nL 441.987913 89.777478 \nL 444.870145 86.011101 \nL 447.752376 93.723207 \nL 456.39907 77.733349 \nL 459.281302 59.743033 \nL 462.163533 60.515624 \nL 465.045764 58.998036 \nL 467.927996 60.943307 \nL 476.57469 60.584605 \nL 479.456921 51.092782 \nL 482.339153 49.078529 \nL 485.221384 44.498173 \nL 488.103616 38.096711 \nL 496.75031 38.717542 \nL 499.632541 40.386889 \nL 502.514773 40.717999 \nL 505.397004 37.186158 \nL 508.279236 34.316537 \nL 516.92593 41.807903 \nL 519.808161 41.876884 \nL 522.690393 36.427364 \nL 525.572624 34.426907 \nL 528.454855 34.813202 \nL 537.10155 29.943125 \nL 539.983781 32.523024 \nL 542.866012 39.048652 \nL 545.748244 41.256053 \nL 548.630475 34.67524 \nL 557.277169 33.916446 \nL 560.159401 31.364139 \nL 563.041632 23.983143 \nL 565.923864 19.554545 \nL 168.17593 134.143961 \nL 171.058161 133.125157 \nL 179.704855 129.201005 \nL 182.587087 127.737848 \nL 185.469318 126.507603 \nL 188.35155 125.636411 \nL 191.233781 124.458122 \nL 194.116012 123.508619 \nL 196.998244 122.958672 \nL 199.880475 122.227598 \nL 205.644938 120.463658 \nL 208.527169 119.751194 \nL 211.409401 119.279221 \nL 217.173864 117.512587 \nL 222.938326 115.75092 \nL 225.820558 115.136219 \nL 228.702789 114.275385 \nL 231.585021 113.225004 \nL 234.467252 111.990043 \nL 240.231715 110.167917 \nL 243.113946 108.881002 \nL 245.996178 107.734879 \nL 251.76064 106.077207 \nL 254.642872 105.074233 \nL 257.525103 104.404714 \nL 260.407335 104.058629 \nL 266.171798 103.781592 \nL 269.054029 103.852325 \nL 271.93626 103.780413 \nL 274.818492 103.532849 \nL 280.582955 103.717259 \nL 286.347417 103.662525 \nL 289.229649 103.284021 \nL 294.994112 102.326266 \nL 297.876343 101.990033 \nL 306.523037 100.578157 \nL 309.405269 100.03924 \nL 315.169731 98.411966 \nL 318.051963 97.77394 \nL 323.816426 95.759236 \nL 326.698657 94.646458 \nL 335.345351 90.267427 \nL 346.874277 83.103884 \nL 346.874277 83.103884 \n\" style=\"fill:none;stroke:#1f77b4;stroke-linecap:square;stroke-width:1.5;\"/>\n   </g>\n   <g id=\"line2d_16\">\n    <path clip-path=\"url(#p05b14d6fba)\" d=\"M 58.651136 233.575834 \nL 61.533368 230.375103 \nL 73.062293 266.645455 \nL 75.944525 253.497624 \nL 78.826756 242.377844 \nL 84.591219 224.994564 \nL 93.237913 216.551256 \nL 96.120145 216.275331 \nL 99.002376 222.731978 \nL 101.884607 218.013659 \nL 104.766839 211.253495 \nL 113.413533 201.747876 \nL 116.295764 199.637049 \nL 122.060227 186.00635 \nL 124.942459 178.30804 \nL 133.589153 164.980859 \nL 136.471384 159.476153 \nL 139.353616 150.867291 \nL 142.235847 151.157012 \nL 145.118079 158.275879 \nL 153.764773 149.473869 \nL 156.647004 146.714619 \nL 159.529236 143.693239 \nL 162.411467 140.464915 \nL 165.293698 135.084376 \nL 173.940393 133.166697 \nL 176.822624 138.781772 \nL 179.704855 140.961581 \nL 182.587087 135.222339 \nL 185.469318 133.801325 \nL 194.116012 131.331795 \nL 196.998244 130.117725 \nL 199.880475 130.269484 \nL 202.762707 123.398949 \nL 205.644938 118.928963 \nL 214.291632 113.603609 \nL 217.173864 116.569804 \nL 220.056095 122.750525 \nL 222.938326 122.157286 \nL 225.820558 125.93746 \nL 234.467252 114.55555 \nL 237.349483 111.851485 \nL 240.231715 113.037963 \nL 243.113946 113.548424 \nL 245.996178 111.175468 \nL 254.642872 109.312974 \nL 257.525103 106.443353 \nL 260.407335 110.761581 \nL 263.289566 114.376199 \nL 266.171798 109.98899 \nL 274.818492 103.98762 \nL 277.700723 100.510964 \nL 280.582955 93.681818 \nL 283.465186 94.716537 \nL 286.347417 96.537643 \nL 294.994112 111.037506 \nL 297.876343 108.195477 \nL 300.758574 104.470489 \nL 303.640806 103.173641 \nL 306.523037 103.339196 \nL 315.169731 101.959571 \nL 320.934194 93.019598 \nL 323.816426 87.666651 \nL 326.698657 87.501096 \nL 335.345351 90.025811 \nL 338.227583 88.246094 \nL 341.109814 84.866012 \nL 343.992045 75.995021 \nL 346.874277 73.290955 \nL 355.520971 68.710598 \nL 358.403202 64.282001 \nL 361.285434 61.177844 \nL 364.167665 64.916629 \nL 367.049897 67.372362 \nL 375.696591 66.103106 \nL 378.578822 67.027455 \nL 381.461054 76.850388 \nL 384.343285 87.804614 \nL 387.225517 78.79566 \nL 395.872211 83.072499 \nL 398.754442 70.255779 \nL 401.636674 70.5455 \nL 404.518905 65.399497 \nL 407.401136 66.516994 \nL 418.930062 70.738648 \nL 421.812293 77.209091 \nL 424.694525 69.634947 \nL 427.576756 72.076884 \nL 436.22345 75.66391 \nL 439.105682 83.210461 \nL 441.987913 89.777478 \nL 444.870145 86.011101 \nL 447.752376 93.723207 \nL 456.39907 77.733349 \nL 459.281302 59.743033 \nL 462.163533 60.515624 \nL 465.045764 58.998036 \nL 467.927996 60.943307 \nL 476.57469 60.584605 \nL 479.456921 51.092782 \nL 482.339153 49.078529 \nL 485.221384 44.498173 \nL 488.103616 38.096711 \nL 496.75031 38.717542 \nL 499.632541 40.386889 \nL 502.514773 40.717999 \nL 505.397004 37.186158 \nL 508.279236 34.316537 \nL 516.92593 41.807903 \nL 519.808161 41.876884 \nL 522.690393 36.427364 \nL 525.572624 34.426907 \nL 528.454855 34.813202 \nL 537.10155 29.943125 \nL 539.983781 32.523024 \nL 542.866012 39.048652 \nL 545.748244 41.256053 \nL 548.630475 34.67524 \nL 557.277169 33.916446 \nL 560.159401 31.364139 \nL 563.041632 23.983143 \nL 565.923864 19.554545 \nL 168.17593 133.166697 \nL 171.058161 138.781772 \nL 173.940393 140.961581 \nL 176.822624 135.222339 \nL 179.704855 133.801325 \nL 182.587087 131.331795 \nL 185.469318 130.117725 \nL 188.35155 130.269484 \nL 191.233781 123.398949 \nL 194.116012 118.928963 \nL 196.998244 113.603609 \nL 199.880475 116.569804 \nL 202.762707 122.750525 \nL 205.644938 122.157286 \nL 208.527169 125.93746 \nL 211.409401 114.55555 \nL 214.291632 111.851485 \nL 217.173864 113.037963 \nL 220.056095 113.548424 \nL 222.938326 111.175468 \nL 225.820558 109.312974 \nL 228.702789 106.443353 \nL 231.585021 110.761581 \nL 234.467252 114.376199 \nL 237.349483 109.98899 \nL 240.231715 103.98762 \nL 243.113946 100.510964 \nL 245.996178 93.681818 \nL 248.878409 94.716537 \nL 251.76064 96.537643 \nL 254.642872 111.037506 \nL 257.525103 108.195477 \nL 260.407335 104.470489 \nL 263.289566 103.173641 \nL 266.171798 103.339196 \nL 269.054029 101.959571 \nL 274.818492 93.019598 \nL 277.700723 87.666651 \nL 280.582955 87.501096 \nL 283.465186 90.025811 \nL 286.347417 88.246094 \nL 289.229649 84.866012 \nL 292.11188 75.995021 \nL 294.994112 73.290955 \nL 300.758574 64.282001 \nL 303.640806 61.177844 \nL 306.523037 64.916629 \nL 309.405269 67.372362 \nL 312.2875 66.103106 \nL 315.169731 67.027455 \nL 318.051963 76.850388 \nL 320.934194 87.804614 \nL 323.816426 78.79566 \nL 326.698657 83.072499 \nL 329.580888 70.255779 \nL 332.46312 70.5455 \nL 335.345351 65.399497 \nL 338.227583 66.516994 \nL 341.109814 69.634947 \nL 343.992045 70.738648 \nL 346.874277 77.209091 \nL 346.874277 77.209091 \n\" style=\"fill:none;stroke:#ff7f0e;stroke-linecap:square;stroke-width:1.5;\"/>\n   </g>\n   <g id=\"patch_3\">\n    <path d=\"M 33.2875 279 \nL 33.2875 7.2 \n\" style=\"fill:none;stroke:#000000;stroke-linecap:square;stroke-linejoin:miter;stroke-width:0.8;\"/>\n   </g>\n   <g id=\"patch_4\">\n    <path d=\"M 591.2875 279 \nL 591.2875 7.2 \n\" style=\"fill:none;stroke:#000000;stroke-linecap:square;stroke-linejoin:miter;stroke-width:0.8;\"/>\n   </g>\n   <g id=\"patch_5\">\n    <path d=\"M 33.2875 279 \nL 591.2875 279 \n\" style=\"fill:none;stroke:#000000;stroke-linecap:square;stroke-linejoin:miter;stroke-width:0.8;\"/>\n   </g>\n   <g id=\"patch_6\">\n    <path d=\"M 33.2875 7.2 \nL 591.2875 7.2 \n\" style=\"fill:none;stroke:#000000;stroke-linecap:square;stroke-linejoin:miter;stroke-width:0.8;\"/>\n   </g>\n   <g id=\"legend_1\">\n    <g id=\"patch_7\">\n     <path d=\"M 40.2875 44.55625 \nL 112.721875 44.55625 \nQ 114.721875 44.55625 114.721875 42.55625 \nL 114.721875 14.2 \nQ 114.721875 12.2 112.721875 12.2 \nL 40.2875 12.2 \nQ 38.2875 12.2 38.2875 14.2 \nL 38.2875 42.55625 \nQ 38.2875 44.55625 40.2875 44.55625 \nz\n\" style=\"fill:#ffffff;opacity:0.8;stroke:#cccccc;stroke-linejoin:miter;\"/>\n    </g>\n    <g id=\"line2d_17\">\n     <path d=\"M 42.2875 20.298437 \nL 62.2875 20.298437 \n\" style=\"fill:none;stroke:#1f77b4;stroke-linecap:square;stroke-width:1.5;\"/>\n    </g>\n    <g id=\"line2d_18\"/>\n    <g id=\"text_15\">\n     <!-- forecast -->\n     <g transform=\"translate(70.2875 23.798437)scale(0.1 -0.1)\">\n      <defs>\n       <path d=\"M 37.109375 75.984375 \nL 37.109375 68.5 \nL 28.515625 68.5 \nQ 23.6875 68.5 21.796875 66.546875 \nQ 19.921875 64.59375 19.921875 59.515625 \nL 19.921875 54.6875 \nL 34.71875 54.6875 \nL 34.71875 47.703125 \nL 19.921875 47.703125 \nL 19.921875 0 \nL 10.890625 0 \nL 10.890625 47.703125 \nL 2.296875 47.703125 \nL 2.296875 54.6875 \nL 10.890625 54.6875 \nL 10.890625 58.5 \nQ 10.890625 67.625 15.140625 71.796875 \nQ 19.390625 75.984375 28.609375 75.984375 \nz\n\" id=\"DejaVuSans-102\"/>\n       <path d=\"M 30.609375 48.390625 \nQ 23.390625 48.390625 19.1875 42.75 \nQ 14.984375 37.109375 14.984375 27.296875 \nQ 14.984375 17.484375 19.15625 11.84375 \nQ 23.34375 6.203125 30.609375 6.203125 \nQ 37.796875 6.203125 41.984375 11.859375 \nQ 46.1875 17.53125 46.1875 27.296875 \nQ 46.1875 37.015625 41.984375 42.703125 \nQ 37.796875 48.390625 30.609375 48.390625 \nz\nM 30.609375 56 \nQ 42.328125 56 49.015625 48.375 \nQ 55.71875 40.765625 55.71875 27.296875 \nQ 55.71875 13.875 49.015625 6.21875 \nQ 42.328125 -1.421875 30.609375 -1.421875 \nQ 18.84375 -1.421875 12.171875 6.21875 \nQ 5.515625 13.875 5.515625 27.296875 \nQ 5.515625 40.765625 12.171875 48.375 \nQ 18.84375 56 30.609375 56 \nz\n\" id=\"DejaVuSans-111\"/>\n       <path d=\"M 41.109375 46.296875 \nQ 39.59375 47.171875 37.8125 47.578125 \nQ 36.03125 48 33.890625 48 \nQ 26.265625 48 22.1875 43.046875 \nQ 18.109375 38.09375 18.109375 28.8125 \nL 18.109375 0 \nL 9.078125 0 \nL 9.078125 54.6875 \nL 18.109375 54.6875 \nL 18.109375 46.1875 \nQ 20.953125 51.171875 25.484375 53.578125 \nQ 30.03125 56 36.53125 56 \nQ 37.453125 56 38.578125 55.875 \nQ 39.703125 55.765625 41.0625 55.515625 \nz\n\" id=\"DejaVuSans-114\"/>\n       <path d=\"M 56.203125 29.59375 \nL 56.203125 25.203125 \nL 14.890625 25.203125 \nQ 15.484375 15.921875 20.484375 11.0625 \nQ 25.484375 6.203125 34.421875 6.203125 \nQ 39.59375 6.203125 44.453125 7.46875 \nQ 49.3125 8.734375 54.109375 11.28125 \nL 54.109375 2.78125 \nQ 49.265625 0.734375 44.1875 -0.34375 \nQ 39.109375 -1.421875 33.890625 -1.421875 \nQ 20.796875 -1.421875 13.15625 6.1875 \nQ 5.515625 13.8125 5.515625 26.8125 \nQ 5.515625 40.234375 12.765625 48.109375 \nQ 20.015625 56 32.328125 56 \nQ 43.359375 56 49.78125 48.890625 \nQ 56.203125 41.796875 56.203125 29.59375 \nz\nM 47.21875 32.234375 \nQ 47.125 39.59375 43.09375 43.984375 \nQ 39.0625 48.390625 32.421875 48.390625 \nQ 24.90625 48.390625 20.390625 44.140625 \nQ 15.875 39.890625 15.1875 32.171875 \nz\n\" id=\"DejaVuSans-101\"/>\n       <path d=\"M 48.78125 52.59375 \nL 48.78125 44.1875 \nQ 44.96875 46.296875 41.140625 47.34375 \nQ 37.3125 48.390625 33.40625 48.390625 \nQ 24.65625 48.390625 19.8125 42.84375 \nQ 14.984375 37.3125 14.984375 27.296875 \nQ 14.984375 17.28125 19.8125 11.734375 \nQ 24.65625 6.203125 33.40625 6.203125 \nQ 37.3125 6.203125 41.140625 7.25 \nQ 44.96875 8.296875 48.78125 10.40625 \nL 48.78125 2.09375 \nQ 45.015625 0.34375 40.984375 -0.53125 \nQ 36.96875 -1.421875 32.421875 -1.421875 \nQ 20.0625 -1.421875 12.78125 6.34375 \nQ 5.515625 14.109375 5.515625 27.296875 \nQ 5.515625 40.671875 12.859375 48.328125 \nQ 20.21875 56 33.015625 56 \nQ 37.15625 56 41.109375 55.140625 \nQ 45.0625 54.296875 48.78125 52.59375 \nz\n\" id=\"DejaVuSans-99\"/>\n       <path d=\"M 34.28125 27.484375 \nQ 23.390625 27.484375 19.1875 25 \nQ 14.984375 22.515625 14.984375 16.5 \nQ 14.984375 11.71875 18.140625 8.90625 \nQ 21.296875 6.109375 26.703125 6.109375 \nQ 34.1875 6.109375 38.703125 11.40625 \nQ 43.21875 16.703125 43.21875 25.484375 \nL 43.21875 27.484375 \nz\nM 52.203125 31.203125 \nL 52.203125 0 \nL 43.21875 0 \nL 43.21875 8.296875 \nQ 40.140625 3.328125 35.546875 0.953125 \nQ 30.953125 -1.421875 24.3125 -1.421875 \nQ 15.921875 -1.421875 10.953125 3.296875 \nQ 6 8.015625 6 15.921875 \nQ 6 25.140625 12.171875 29.828125 \nQ 18.359375 34.515625 30.609375 34.515625 \nL 43.21875 34.515625 \nL 43.21875 35.40625 \nQ 43.21875 41.609375 39.140625 45 \nQ 35.0625 48.390625 27.6875 48.390625 \nQ 23 48.390625 18.546875 47.265625 \nQ 14.109375 46.140625 10.015625 43.890625 \nL 10.015625 52.203125 \nQ 14.9375 54.109375 19.578125 55.046875 \nQ 24.21875 56 28.609375 56 \nQ 40.484375 56 46.34375 49.84375 \nQ 52.203125 43.703125 52.203125 31.203125 \nz\n\" id=\"DejaVuSans-97\"/>\n       <path d=\"M 44.28125 53.078125 \nL 44.28125 44.578125 \nQ 40.484375 46.53125 36.375 47.5 \nQ 32.28125 48.484375 27.875 48.484375 \nQ 21.1875 48.484375 17.84375 46.4375 \nQ 14.5 44.390625 14.5 40.28125 \nQ 14.5 37.15625 16.890625 35.375 \nQ 19.28125 33.59375 26.515625 31.984375 \nL 29.59375 31.296875 \nQ 39.15625 29.25 43.1875 25.515625 \nQ 47.21875 21.78125 47.21875 15.09375 \nQ 47.21875 7.46875 41.1875 3.015625 \nQ 35.15625 -1.421875 24.609375 -1.421875 \nQ 20.21875 -1.421875 15.453125 -0.5625 \nQ 10.6875 0.296875 5.421875 2 \nL 5.421875 11.28125 \nQ 10.40625 8.6875 15.234375 7.390625 \nQ 20.0625 6.109375 24.8125 6.109375 \nQ 31.15625 6.109375 34.5625 8.28125 \nQ 37.984375 10.453125 37.984375 14.40625 \nQ 37.984375 18.0625 35.515625 20.015625 \nQ 33.0625 21.96875 24.703125 23.78125 \nL 21.578125 24.515625 \nQ 13.234375 26.265625 9.515625 29.90625 \nQ 5.8125 33.546875 5.8125 39.890625 \nQ 5.8125 47.609375 11.28125 51.796875 \nQ 16.75 56 26.8125 56 \nQ 31.78125 56 36.171875 55.265625 \nQ 40.578125 54.546875 44.28125 53.078125 \nz\n\" id=\"DejaVuSans-115\"/>\n       <path d=\"M 18.3125 70.21875 \nL 18.3125 54.6875 \nL 36.8125 54.6875 \nL 36.8125 47.703125 \nL 18.3125 47.703125 \nL 18.3125 18.015625 \nQ 18.3125 11.328125 20.140625 9.421875 \nQ 21.96875 7.515625 27.59375 7.515625 \nL 36.8125 7.515625 \nL 36.8125 0 \nL 27.59375 0 \nQ 17.1875 0 13.234375 3.875 \nQ 9.28125 7.765625 9.28125 18.015625 \nL 9.28125 47.703125 \nL 2.6875 47.703125 \nL 2.6875 54.6875 \nL 9.28125 54.6875 \nL 9.28125 70.21875 \nz\n\" id=\"DejaVuSans-116\"/>\n      </defs>\n      <use xlink:href=\"#DejaVuSans-102\"/>\n      <use x=\"35.205078\" xlink:href=\"#DejaVuSans-111\"/>\n      <use x=\"96.386719\" xlink:href=\"#DejaVuSans-114\"/>\n      <use x=\"135.25\" xlink:href=\"#DejaVuSans-101\"/>\n      <use x=\"196.773438\" xlink:href=\"#DejaVuSans-99\"/>\n      <use x=\"251.753906\" xlink:href=\"#DejaVuSans-97\"/>\n      <use x=\"313.033203\" xlink:href=\"#DejaVuSans-115\"/>\n      <use x=\"365.132812\" xlink:href=\"#DejaVuSans-116\"/>\n     </g>\n    </g>\n    <g id=\"line2d_19\">\n     <path d=\"M 42.2875 34.976562 \nL 62.2875 34.976562 \n\" style=\"fill:none;stroke:#ff7f0e;stroke-linecap:square;stroke-width:1.5;\"/>\n    </g>\n    <g id=\"line2d_20\"/>\n    <g id=\"text_16\">\n     <!-- actual -->\n     <g transform=\"translate(70.2875 38.476562)scale(0.1 -0.1)\">\n      <defs>\n       <path d=\"M 8.5 21.578125 \nL 8.5 54.6875 \nL 17.484375 54.6875 \nL 17.484375 21.921875 \nQ 17.484375 14.15625 20.5 10.265625 \nQ 23.53125 6.390625 29.59375 6.390625 \nQ 36.859375 6.390625 41.078125 11.03125 \nQ 45.3125 15.671875 45.3125 23.6875 \nL 45.3125 54.6875 \nL 54.296875 54.6875 \nL 54.296875 0 \nL 45.3125 0 \nL 45.3125 8.40625 \nQ 42.046875 3.421875 37.71875 1 \nQ 33.40625 -1.421875 27.6875 -1.421875 \nQ 18.265625 -1.421875 13.375 4.4375 \nQ 8.5 10.296875 8.5 21.578125 \nz\nM 31.109375 56 \nz\n\" id=\"DejaVuSans-117\"/>\n       <path d=\"M 9.421875 75.984375 \nL 18.40625 75.984375 \nL 18.40625 0 \nL 9.421875 0 \nz\n\" id=\"DejaVuSans-108\"/>\n      </defs>\n      <use xlink:href=\"#DejaVuSans-97\"/>\n      <use x=\"61.279297\" xlink:href=\"#DejaVuSans-99\"/>\n      <use x=\"116.259766\" xlink:href=\"#DejaVuSans-116\"/>\n      <use x=\"155.46875\" xlink:href=\"#DejaVuSans-117\"/>\n      <use x=\"218.847656\" xlink:href=\"#DejaVuSans-97\"/>\n      <use x=\"280.126953\" xlink:href=\"#DejaVuSans-108\"/>\n     </g>\n    </g>\n   </g>\n  </g>\n </g>\n <defs>\n  <clipPath id=\"p05b14d6fba\">\n   <rect height=\"271.8\" width=\"558\" x=\"33.2875\" y=\"7.2\"/>\n  </clipPath>\n </defs>\n</svg>\n",
      "image/png": "[encoded data removed]"
     },
     "metadata": {
      "needs_background": "light"
     }
    }
   ],
   "source": [
    "plot_df = merged_df[-n_seq - (n_seq * 2) :]\n",
    "plt.figure(figsize=(10, 5))\n",
    "plt.plot(plot_df[\"forecast\"], label=\"forecast\")\n",
    "plt.plot(plot_df[\"Close\"], label=\"actual\")\n",
    "plt.legend()"
   ]
  },
  {
   "source": [
    "# Cross-validation"
   ],
   "cell_type": "markdown",
   "metadata": {}
  },
  {
   "cell_type": "code",
   "execution_count": 47,
   "metadata": {},
   "outputs": [
    {
     "output_type": "execute_result",
     "data": {
      "text/plain": [
       "      mape_1    mape_3    mape_5   mape_21   mape_63    rmse_1     rmse_3  \\\n",
       "0   0.113743  0.617100  0.585229  0.526433  1.317476  0.708354   5.787896   \n",
       "1   0.751868  0.801357  0.641992  0.779055  2.344504  4.651807   8.585463   \n",
       "2   0.361342  0.271371  0.312063  0.852886  1.804882  2.229915   0.338067   \n",
       "3   0.518216  0.518508  0.459703  0.717220  1.130664  3.219575   5.591458   \n",
       "4   0.027648  0.047877  0.160718  0.741851  2.123560  0.172056   0.318796   \n",
       "..       ...       ...       ...       ...       ...       ...        ...   \n",
       "95  0.023971  0.353735  0.802981  2.018532  6.312280  0.166526   4.101890   \n",
       "96  0.155839  0.728659  1.014940  2.243272  6.681057  1.085513   8.876075   \n",
       "97  0.619747  1.010700  0.867775  2.211371  6.585880  4.350063  12.365315   \n",
       "98  0.388845  0.597005  0.498365  2.449343  7.797557  2.741826   7.314853   \n",
       "99  0.484076  0.333491  0.328015  2.225105  7.299533  3.432581   0.008118   \n",
       "\n",
       "       rmse_5    rmse_21     rmse_63  \n",
       "0    7.472154   0.913614   58.441113  \n",
       "1    8.895635  11.399022  116.297131  \n",
       "2    2.346025  23.798977   93.827234  \n",
       "3    6.407660  20.027629   53.660225  \n",
       "4    1.379670  20.677399  110.818768  \n",
       "..        ...        ...         ...  \n",
       "95  12.522052  66.625730  386.337626  \n",
       "96  16.019571  74.253992  409.394816  \n",
       "97  13.698288  73.504961  404.261781  \n",
       "98   7.742983  81.770166  479.621100  \n",
       "99   0.755075  71.700331  448.288145  \n",
       "\n",
       "[100 rows x 10 columns]"
      ],
      "text/html": "<div>\n<style scoped>\n    .dataframe tbody tr th:only-of-type {\n        vertical-align: middle;\n    }\n\n    .dataframe tbody tr th {\n        vertical-align: top;\n    }\n\n    .dataframe thead th {\n        text-align: right;\n    }\n</style>\n<table border=\"1\" class=\"dataframe\">\n  <thead>\n    <tr style=\"text-align: right;\">\n      <th></th>\n      <th>mape_1</th>\n      <th>mape_3</th>\n      <th>mape_5</th>\n      <th>mape_21</th>\n      <th>mape_63</th>\n      <th>rmse_1</th>\n      <th>rmse_3</th>\n      <th>rmse_5</th>\n      <th>rmse_21</th>\n      <th>rmse_63</th>\n    </tr>\n  </thead>\n  <tbody>\n    <tr>\n      <th>0</th>\n      <td>0.113743</td>\n      <td>0.617100</td>\n      <td>0.585229</td>\n      <td>0.526433</td>\n      <td>1.317476</td>\n      <td>0.708354</td>\n      <td>5.787896</td>\n      <td>7.472154</td>\n      <td>0.913614</td>\n      <td>58.441113</td>\n    </tr>\n    <tr>\n      <th>1</th>\n      <td>0.751868</td>\n      <td>0.801357</td>\n      <td>0.641992</td>\n      <td>0.779055</td>\n      <td>2.344504</td>\n      <td>4.651807</td>\n      <td>8.585463</td>\n      <td>8.895635</td>\n      <td>11.399022</td>\n      <td>116.297131</td>\n    </tr>\n    <tr>\n      <th>2</th>\n      <td>0.361342</td>\n      <td>0.271371</td>\n      <td>0.312063</td>\n      <td>0.852886</td>\n      <td>1.804882</td>\n      <td>2.229915</td>\n      <td>0.338067</td>\n      <td>2.346025</td>\n      <td>23.798977</td>\n      <td>93.827234</td>\n    </tr>\n    <tr>\n      <th>3</th>\n      <td>0.518216</td>\n      <td>0.518508</td>\n      <td>0.459703</td>\n      <td>0.717220</td>\n      <td>1.130664</td>\n      <td>3.219575</td>\n      <td>5.591458</td>\n      <td>6.407660</td>\n      <td>20.027629</td>\n      <td>53.660225</td>\n    </tr>\n    <tr>\n      <th>4</th>\n      <td>0.027648</td>\n      <td>0.047877</td>\n      <td>0.160718</td>\n      <td>0.741851</td>\n      <td>2.123560</td>\n      <td>0.172056</td>\n      <td>0.318796</td>\n      <td>1.379670</td>\n      <td>20.677399</td>\n      <td>110.818768</td>\n    </tr>\n    <tr>\n      <th>...</th>\n      <td>...</td>\n      <td>...</td>\n      <td>...</td>\n      <td>...</td>\n      <td>...</td>\n      <td>...</td>\n      <td>...</td>\n      <td>...</td>\n      <td>...</td>\n      <td>...</td>\n    </tr>\n    <tr>\n      <th>95</th>\n      <td>0.023971</td>\n      <td>0.353735</td>\n      <td>0.802981</td>\n      <td>2.018532</td>\n      <td>6.312280</td>\n      <td>0.166526</td>\n      <td>4.101890</td>\n      <td>12.522052</td>\n      <td>66.625730</td>\n      <td>386.337626</td>\n    </tr>\n    <tr>\n      <th>96</th>\n      <td>0.155839</td>\n      <td>0.728659</td>\n      <td>1.014940</td>\n      <td>2.243272</td>\n      <td>6.681057</td>\n      <td>1.085513</td>\n      <td>8.876075</td>\n      <td>16.019571</td>\n      <td>74.253992</td>\n      <td>409.394816</td>\n    </tr>\n    <tr>\n      <th>97</th>\n      <td>0.619747</td>\n      <td>1.010700</td>\n      <td>0.867775</td>\n      <td>2.211371</td>\n      <td>6.585880</td>\n      <td>4.350063</td>\n      <td>12.365315</td>\n      <td>13.698288</td>\n      <td>73.504961</td>\n      <td>404.261781</td>\n    </tr>\n    <tr>\n      <th>98</th>\n      <td>0.388845</td>\n      <td>0.597005</td>\n      <td>0.498365</td>\n      <td>2.449343</td>\n      <td>7.797557</td>\n      <td>2.741826</td>\n      <td>7.314853</td>\n      <td>7.742983</td>\n      <td>81.770166</td>\n      <td>479.621100</td>\n    </tr>\n    <tr>\n      <th>99</th>\n      <td>0.484076</td>\n      <td>0.333491</td>\n      <td>0.328015</td>\n      <td>2.225105</td>\n      <td>7.299533</td>\n      <td>3.432581</td>\n      <td>0.008118</td>\n      <td>0.755075</td>\n      <td>71.700331</td>\n      <td>448.288145</td>\n    </tr>\n  </tbody>\n</table>\n<p>100 rows × 10 columns</p>\n</div>"
     },
     "metadata": {},
     "execution_count": 47
    }
   ],
   "source": [
    "def cross_evaluate(df, n_periods):\n",
    "    df = df[-63:-63+n_periods] if n_periods < 63 else df.tail(63)\n",
    "    mape = ((df[\"abs_error\"] / df[\"Close\"]).sum() / n_periods) * 100\n",
    "    rmse = math.sqrt(pow(df[\"error\"].sum(), 2) / n_periods)\n",
    "    return mape, rmse\n",
    "\n",
    "cross_df = pd.DataFrame(columns=[\n",
    "    \"mape_1\", \n",
    "    \"mape_3\",\n",
    "    \"mape_5\",\n",
    "    \"mape_21\",\n",
    "    \"mape_63\",\n",
    "    \"rmse_1\",\n",
    "    \"rmse_3\",\n",
    "    \"rmse_5\",\n",
    "    \"rmse_21\",\n",
    "    \"rmse_63\"\n",
    "])\n",
    "\n",
    "for i in range(len(forecasts)):\n",
    "    train_df = original_df[:-n_test + i].copy()\n",
    "    train_df[\"forecast\"] = train_df[\"Close\"]\n",
    "\n",
    "    last_train = train_df[\"Close\"].values[-1]\n",
    "    price_forecasts = np.exp(np.cumsum(forecasts[i]) + math.log(last_train))\n",
    "\n",
    "    cross_merged_df = original_df[-n_test + i:-n_test + i + 63].copy()\n",
    "    cross_merged_df[\"forecast\"] = price_forecasts\n",
    "\n",
    "    cross_merged_df[\"error\"] = cross_merged_df[\"forecast\"] - cross_merged_df[\"Close\"]\n",
    "    cross_merged_df[\"abs_error\"] = np.abs(cross_merged_df[\"forecast\"] - cross_merged_df[\"Close\"])\n",
    "\n",
    "    one = cross_evaluate(cross_merged_df, 1)\n",
    "    three = cross_evaluate(cross_merged_df, 3)\n",
    "    five = cross_evaluate(cross_merged_df, 5)\n",
    "    twentyone = cross_evaluate(cross_merged_df, 21)\n",
    "    sixtythree = cross_evaluate(cross_merged_df, 63)\n",
    "\n",
    "    cross_df = cross_df.append({\n",
    "        'mape_1': one[0],\n",
    "        'mape_3': three[0],\n",
    "        'mape_5': five[0],\n",
    "        'mape_21': twentyone[0],\n",
    "        'mape_63': sixtythree[0],\n",
    "        'rmse_1': one[1],\n",
    "        'rmse_3': three[1],\n",
    "        'rmse_5': five[1],\n",
    "        'rmse_21': twentyone[1],\n",
    "        'rmse_63': sixtythree[1],\n",
    "    }, ignore_index=True)\n",
    "\n",
    "cross_df"
   ]
  },
  {
   "cell_type": "code",
   "execution_count": null,
   "metadata": {},
   "outputs": [],
   "source": [
    "cross_df.describe()"
   ]
  },
  {
   "cell_type": "code",
   "execution_count": null,
   "metadata": {},
   "outputs": [],
   "source": [
    "upper = cross_df.mean() + 1.984 * cross_df.std() / math.sqrt(100)\n",
    "lower = cross_df.mean() - 1.984 * cross_df.std() / math.sqrt(100)\n",
    "\n",
    "ci_df = pd.DataFrame(columns=['measure', 'mean', 'lower', 'upper'])\n",
    "\n",
    "for i in range(10):\n",
    "    ci_df = ci_df.append({\n",
    "        'measure': cross_df.columns[i],\n",
    "        'mean': cross_df.mean()[i],\n",
    "        'lower': lower[i],\n",
    "        'upper': upper[i]\n",
    "    }, ignore_index=True)\n",
    "\n",
    "ci_df"
   ]
  },
  {
   "cell_type": "code",
   "execution_count": null,
   "metadata": {},
   "outputs": [],
   "source": []
  }
 ]
}
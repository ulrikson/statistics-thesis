{
 "metadata": {
  "language_info": {
   "codemirror_mode": {
    "name": "ipython",
    "version": 3
   },
   "file_extension": ".py",
   "mimetype": "text/x-python",
   "name": "python",
   "nbconvert_exporter": "python",
   "pygments_lexer": "ipython3",
   "version": "3.8.5"
  },
  "orig_nbformat": 2,
  "kernelspec": {
   "name": "python385jvsc74a57bd04d3be0e033778b3d88b75ee5296be9eddd30a754ed95912e32f56f7c62dcf2e0",
   "display_name": "Python 3.8.5 64-bit ('venv': venv)"
  }
 },
 "nbformat": 4,
 "nbformat_minor": 2,
 "cells": [
  {
   "cell_type": "code",
   "execution_count": 39,
   "metadata": {},
   "outputs": [],
   "source": [
    "import pandas as pd\n",
    "\n",
    "periods = 1000 #  for testing purposes, all is 1000"
   ]
  },
  {
   "source": [
    "# Trading function"
   ],
   "cell_type": "markdown",
   "metadata": {}
  },
  {
   "cell_type": "code",
   "execution_count": 40,
   "metadata": {
    "tags": []
   },
   "outputs": [],
   "source": [
    "last_training = 621.38\n",
    "\n",
    "def trading(df, n_ahead):\n",
    "    adjusted_n_ahead = n_ahead-1 # bcuz lists start at 0\n",
    "    df_adj = df.iloc[adjusted_n_ahead::63]\n",
    "\n",
    "    latest_decision = 'hold'\n",
    "    bank_start = 621.38\n",
    "    bank = bank_start\n",
    "    stock_count = 0\n",
    "    nr_buys = 0\n",
    "    nr_sells = 0\n",
    "\n",
    "    for row, values in df_adj.iterrows():\n",
    "        latest_close = last_training if values['time'] == 1 else df['Close'].iloc[row-adjusted_n_ahead-63]\n",
    "        forecast = df['forecast'].iloc[row]\n",
    "        expected = forecast - latest_close\n",
    "        \n",
    "        decision = 'hold'\n",
    "\n",
    "        if expected > 0 and stock_count == 0:\n",
    "            decision = 'buy'\n",
    "            latest_decision = 'buy'\n",
    "            bank -= latest_close\n",
    "            stock_count += 1\n",
    "            nr_buys += 1\n",
    "        \n",
    "        if expected < 0 and stock_count > 0:\n",
    "            decision = 'sell'\n",
    "            latest_decision = 'sell'\n",
    "            bank += latest_close\n",
    "            stock_count -= 1\n",
    "            nr_sells += 1\n",
    "        \n",
    "        # print(decision, forecast, latest_close, bank)\n",
    "    \n",
    "    last_close = df['Close'].iloc[-63]\n",
    "    if latest_decision == 'buy': # reverts decision if latest decision is buy\n",
    "        bank += last_close\n",
    "        nr_sells += 1\n",
    "\n",
    "    buy_hold = last_close - last_training\n",
    "    trading = bank - bank_start\n",
    "    nr_holds = periods - nr_buys - nr_sells\n",
    "\n",
    "    print(f'trading: {round(trading, 2)}, buys: {nr_buys}, sells: {nr_sells}, holds: {nr_holds}, yield: {round(bank/bank_start*100 - 100, 2)}%')\n",
    "    print(f'buy&hold: {round(buy_hold, 2)} (buy: {last_training}, sell: {last_close}), yield: {round((last_close-last_training)/last_training*100, 2)}%')"
   ]
  },
  {
   "source": [
    "# ARMA-GARCH-trading"
   ],
   "cell_type": "markdown",
   "metadata": {}
  },
  {
   "cell_type": "code",
   "execution_count": 41,
   "metadata": {},
   "outputs": [],
   "source": [
    "# reading data\n",
    "ag_df = pd.read_csv('data/r_cross_val.csv', usecols=[0,1,2])\n",
    "ag_df = ag_df[ag_df['time'] <= periods]"
   ]
  },
  {
   "cell_type": "code",
   "execution_count": 42,
   "metadata": {
    "tags": []
   },
   "outputs": [
    {
     "output_type": "stream",
     "name": "stdout",
     "text": [
      "trading: 732.61, buys: 78, sells: 78, holds: 844, yield: 117.9%\nbuy&hold: 384.64 (buy: 621.38, sell: 1006.02), yield: 61.9%\n1353.9899999999998\n"
     ]
    }
   ],
   "source": [
    "trading(ag_df, 1)"
   ]
  },
  {
   "cell_type": "code",
   "execution_count": 43,
   "metadata": {
    "tags": []
   },
   "outputs": [
    {
     "output_type": "stream",
     "name": "stdout",
     "text": [
      "trading: 727.35, buys: 62, sells: 62, holds: 876, yield: 117.05%\nbuy&hold: 384.64 (buy: 621.38, sell: 1006.02), yield: 61.9%\n1348.729999999999\n"
     ]
    }
   ],
   "source": [
    "trading(ag_df,3)"
   ]
  },
  {
   "cell_type": "code",
   "execution_count": 44,
   "metadata": {
    "tags": []
   },
   "outputs": [
    {
     "output_type": "stream",
     "name": "stdout",
     "text": [
      "trading: 699.91, buys: 54, sells: 54, holds: 892, yield: 112.64%\nbuy&hold: 384.64 (buy: 621.38, sell: 1006.02), yield: 61.9%\n1321.2899999999995\n"
     ]
    }
   ],
   "source": [
    "trading(ag_df,5)"
   ]
  },
  {
   "cell_type": "code",
   "execution_count": 45,
   "metadata": {
    "tags": []
   },
   "outputs": [
    {
     "output_type": "stream",
     "name": "stdout",
     "text": [
      "trading: 573.33, buys: 5, sells: 5, holds: 990, yield: 92.27%\nbuy&hold: 384.64 (buy: 621.38, sell: 1006.02), yield: 61.9%\n1194.71\n"
     ]
    }
   ],
   "source": [
    "trading(ag_df, 21)"
   ]
  },
  {
   "cell_type": "code",
   "execution_count": 46,
   "metadata": {
    "tags": []
   },
   "outputs": [
    {
     "output_type": "stream",
     "name": "stdout",
     "text": [
      "trading: 368.5, buys: 2, sells: 2, holds: 996, yield: 59.3%\nbuy&hold: 384.64 (buy: 621.38, sell: 1006.02), yield: 61.9%\n989.88\n"
     ]
    }
   ],
   "source": [
    "trading(ag_df, 63)"
   ]
  },
  {
   "source": [
    "# LSTM-trading"
   ],
   "cell_type": "markdown",
   "metadata": {}
  },
  {
   "cell_type": "code",
   "execution_count": 47,
   "metadata": {},
   "outputs": [],
   "source": [
    "lstm_df = pd.read_csv('data/lstm_results.csv', usecols=[0,1,2])\n",
    "lstm_df = lstm_df[lstm_df['time'] <= periods]"
   ]
  },
  {
   "cell_type": "code",
   "execution_count": 48,
   "metadata": {
    "tags": []
   },
   "outputs": [
    {
     "output_type": "stream",
     "name": "stdout",
     "text": [
      "trading: 77.84, buys: 51, sells: 51, holds: 898, yield: 12.53%\nbuy&hold: 384.64 (buy: 621.38, sell: 1006.02), yield: 61.9%\n699.2199999999996\n"
     ]
    }
   ],
   "source": [
    "trading(lstm_df, 1)"
   ]
  },
  {
   "cell_type": "code",
   "execution_count": 49,
   "metadata": {
    "tags": []
   },
   "outputs": [
    {
     "output_type": "stream",
     "name": "stdout",
     "text": [
      "trading: -2.6, buys: 87, sells: 87, holds: 826, yield: -0.42%\nbuy&hold: 384.64 (buy: 621.38, sell: 1006.02), yield: 61.9%\n618.7799999999995\n"
     ]
    }
   ],
   "source": [
    "trading(lstm_df, 3)"
   ]
  },
  {
   "cell_type": "code",
   "execution_count": 50,
   "metadata": {
    "tags": []
   },
   "outputs": [
    {
     "output_type": "stream",
     "name": "stdout",
     "text": [
      "trading: 47.79, buys: 121, sells: 121, holds: 758, yield: 7.69%\nbuy&hold: 384.64 (buy: 621.38, sell: 1006.02), yield: 61.9%\n669.1699999999998\n"
     ]
    }
   ],
   "source": [
    "trading(lstm_df, 5)"
   ]
  },
  {
   "cell_type": "code",
   "execution_count": 51,
   "metadata": {
    "tags": []
   },
   "outputs": [
    {
     "output_type": "stream",
     "name": "stdout",
     "text": [
      "trading: 150.27, buys: 137, sells: 137, holds: 726, yield: 24.18%\nbuy&hold: 384.64 (buy: 621.38, sell: 1006.02), yield: 61.9%\n771.65\n"
     ]
    }
   ],
   "source": [
    "trading(lstm_df, 21)"
   ]
  },
  {
   "cell_type": "code",
   "execution_count": 52,
   "metadata": {
    "tags": []
   },
   "outputs": [
    {
     "output_type": "stream",
     "name": "stdout",
     "text": [
      "trading: 51.33, buys: 188, sells: 188, holds: 624, yield: 8.26%\nbuy&hold: 384.64 (buy: 621.38, sell: 1006.02), yield: 61.9%\n672.7100000000002\n"
     ]
    }
   ],
   "source": [
    "trading(lstm_df, 63)"
   ]
  }
 ]
}
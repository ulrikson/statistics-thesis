{
 "metadata": {
  "language_info": {
   "codemirror_mode": {
    "name": "ipython",
    "version": 3
   },
   "file_extension": ".py",
   "mimetype": "text/x-python",
   "name": "python",
   "nbconvert_exporter": "python",
   "pygments_lexer": "ipython3",
   "version": "3.8.5"
  },
  "orig_nbformat": 2,
  "kernelspec": {
   "name": "python385jvsc74a57bd04d3be0e033778b3d88b75ee5296be9eddd30a754ed95912e32f56f7c62dcf2e0",
   "display_name": "Python 3.8.5 64-bit ('venv': venv)"
  }
 },
 "nbformat": 4,
 "nbformat_minor": 2,
 "cells": [
  {
   "cell_type": "code",
   "execution_count": 38,
   "metadata": {},
   "outputs": [],
   "source": [
    "import pandas as pd\n",
    "\n",
    "periods = 1000 #  for testing purposes, all is 1000"
   ]
  },
  {
   "source": [
    "# Trading function"
   ],
   "cell_type": "markdown",
   "metadata": {}
  },
  {
   "cell_type": "code",
   "execution_count": 58,
   "metadata": {
    "tags": []
   },
   "outputs": [],
   "source": [
    "last_training = 621.38\n",
    "\n",
    "def trading(df, n_ahead):\n",
    "    adjusted_n_ahead = n_ahead-1 # bcuz lists start at 0\n",
    "    df_adj = df.iloc[adjusted_n_ahead::63]\n",
    "\n",
    "    latest_decision = 'hold'\n",
    "    bank = 1000\n",
    "    stock_count = 0\n",
    "\n",
    "    for row, values in df_adj.iterrows():\n",
    "        latest_close = last_training if values['time'] == 1 else df['Close'].iloc[row-adjusted_n_ahead-63]\n",
    "        forecast = df['forecast'].iloc[row]\n",
    "        expected = forecast - latest_close\n",
    "        \n",
    "        decision = 'hold'\n",
    "\n",
    "        if expected > 0 and latest_decision != 'buy':\n",
    "            decision = 'buy'\n",
    "            latest_decision = 'buy'\n",
    "            bank -= latest_close\n",
    "            stock_count += 1\n",
    "        \n",
    "        if expected < 0 and latest_decision != 'sell' and stock_count > 0:\n",
    "            decision = 'sell'\n",
    "            latest_decision = 'sell'\n",
    "            bank += latest_close\n",
    "            stock_count -= 1\n",
    "        \n",
    "        print(decision, forecast, latest_close, bank)\n",
    "    \n",
    "    last_close = df['Close'].iloc[-63]\n",
    "    if latest_decision == 'buy': # reverts decision if latest decision is buy\n",
    "        bank += last_close\n",
    "\n",
    "    buy_hold = last_close - last_training\n",
    "    trading = bank - 1000\n",
    "\n",
    "    print(f'trading: {round(trading, 2)}')\n",
    "    print(f'buy&hold: {round(buy_hold, 2)} (buy: {last_training}, sell: {last_close})')"
   ]
  },
  {
   "source": [
    "# ARMA-GARCH-trading"
   ],
   "cell_type": "markdown",
   "metadata": {}
  },
  {
   "cell_type": "code",
   "execution_count": 40,
   "metadata": {},
   "outputs": [],
   "source": [
    "# reading data\n",
    "ag_df = pd.read_csv('data/r_cross_val.csv', usecols=[0,1,2])\n",
    "ag_df = ag_df[ag_df['time'] <= periods]"
   ]
  },
  {
   "cell_type": "code",
   "execution_count": 41,
   "metadata": {
    "tags": []
   },
   "outputs": [
    {
     "output_type": "stream",
     "name": "stdout",
     "text": [
      "trading: 11.71\nbuy&hold: 11.71 (buy: 621.38, sell: 633.09)\n"
     ]
    }
   ],
   "source": [
    "trading(ag_df, 1)"
   ]
  },
  {
   "cell_type": "code",
   "execution_count": 42,
   "metadata": {
    "tags": []
   },
   "outputs": [
    {
     "output_type": "stream",
     "name": "stdout",
     "text": [
      "trading: 11.71\nbuy&hold: 11.71 (buy: 621.38, sell: 633.09)\n"
     ]
    }
   ],
   "source": [
    "trading(ag_df,3)"
   ]
  },
  {
   "cell_type": "code",
   "execution_count": 43,
   "metadata": {
    "tags": []
   },
   "outputs": [
    {
     "output_type": "stream",
     "name": "stdout",
     "text": [
      "trading: 11.71\nbuy&hold: 11.71 (buy: 621.38, sell: 633.09)\n"
     ]
    }
   ],
   "source": [
    "trading(ag_df,5)"
   ]
  },
  {
   "cell_type": "code",
   "execution_count": 44,
   "metadata": {
    "tags": []
   },
   "outputs": [
    {
     "output_type": "stream",
     "name": "stdout",
     "text": [
      "trading: 11.71\nbuy&hold: 11.71 (buy: 621.38, sell: 633.09)\n"
     ]
    }
   ],
   "source": [
    "trading(ag_df, 21)"
   ]
  },
  {
   "cell_type": "code",
   "execution_count": 45,
   "metadata": {
    "tags": []
   },
   "outputs": [
    {
     "output_type": "stream",
     "name": "stdout",
     "text": [
      "trading: 11.71\nbuy&hold: 11.71 (buy: 621.38, sell: 633.09)\n"
     ]
    }
   ],
   "source": [
    "trading(ag_df, 63)"
   ]
  },
  {
   "source": [
    "# LSTM-trading"
   ],
   "cell_type": "markdown",
   "metadata": {}
  },
  {
   "cell_type": "code",
   "execution_count": 46,
   "metadata": {},
   "outputs": [],
   "source": [
    "lstm_df = pd.read_csv('data/lstm_results.csv', usecols=[0,1,2])\n",
    "lstm_df = lstm_df[lstm_df['time'] <= periods]"
   ]
  },
  {
   "cell_type": "code",
   "execution_count": 47,
   "metadata": {
    "tags": []
   },
   "outputs": [
    {
     "output_type": "stream",
     "name": "stdout",
     "text": [
      "trading: 11.71\nbuy&hold: 11.71 (buy: 621.38, sell: 633.09)\n"
     ]
    }
   ],
   "source": [
    "trading(lstm_df, 1)"
   ]
  },
  {
   "cell_type": "code",
   "execution_count": 48,
   "metadata": {
    "tags": []
   },
   "outputs": [
    {
     "output_type": "stream",
     "name": "stdout",
     "text": [
      "trading: 11.71\nbuy&hold: 11.71 (buy: 621.38, sell: 633.09)\n"
     ]
    }
   ],
   "source": [
    "trading(lstm_df, 3)"
   ]
  },
  {
   "cell_type": "code",
   "execution_count": 59,
   "metadata": {
    "tags": []
   },
   "outputs": [
    {
     "output_type": "stream",
     "name": "stdout",
     "text": [
      "buy 623.4436645507812 621.38 378.62\nhold 624.1792602539062 622.77 378.62\nhold 621.2070922851562 618.7 378.62\nhold 618.8038330078125 617.12 378.62\nhold 622.0387573242188 621.28 378.62\nhold 622.6338500976562 622.31 378.62\nhold 624.8314208984375 624.1 378.62\nhold 625.654296875 624.98 378.62\nhold 625.5830078125 624.87 378.62\nhold 630.0834350585938 629.85 378.62\ntrading: 11.71\nbuy&hold: 11.71 (buy: 621.38, sell: 633.09)\n"
     ]
    }
   ],
   "source": [
    "trading(lstm_df, 5)"
   ]
  },
  {
   "cell_type": "code",
   "execution_count": 60,
   "metadata": {
    "tags": []
   },
   "outputs": [
    {
     "output_type": "stream",
     "name": "stdout",
     "text": [
      "buy 627.6048583984375 621.38 378.62\nhold 624.9934692382812 622.77 378.62\nhold 626.387451171875 618.7 378.62\nhold 620.3894653320312 617.12 378.62\nsell 620.4441528320312 621.28 999.9\nhold 620.3486328125 622.31 999.9\nbuy 624.7643432617188 624.1 375.79999999999995\nhold 625.2144165039062 624.98 375.79999999999995\nhold 625.1669921875 624.87 375.79999999999995\nsell 627.8679809570312 629.85 1005.65\ntrading: 5.65\nbuy&hold: 11.71 (buy: 621.38, sell: 633.09)\n"
     ]
    }
   ],
   "source": [
    "trading(lstm_df, 21)"
   ]
  },
  {
   "cell_type": "code",
   "execution_count": 51,
   "metadata": {
    "tags": []
   },
   "outputs": [
    {
     "output_type": "stream",
     "name": "stdout",
     "text": [
      "trading: 5.65\nbuy&hold: 11.71 (buy: 621.38, sell: 633.09)\n"
     ]
    }
   ],
   "source": [
    "trading(lstm_df, 63)"
   ]
  }
 ]
}
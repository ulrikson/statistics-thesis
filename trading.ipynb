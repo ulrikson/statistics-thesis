{
 "metadata": {
  "language_info": {
   "codemirror_mode": {
    "name": "ipython",
    "version": 3
   },
   "file_extension": ".py",
   "mimetype": "text/x-python",
   "name": "python",
   "nbconvert_exporter": "python",
   "pygments_lexer": "ipython3",
   "version": "3.8.8-final"
  },
  "orig_nbformat": 2,
  "kernelspec": {
   "name": "python388jvsc74a57bd03c80b69efc6c35edf58052dd52e794939bcc5e24ed141d0f365672b2a75355b3",
   "display_name": "Python 3.8.8 64-bit ('venv')"
  }
 },
 "nbformat": 4,
 "nbformat_minor": 2,
 "cells": [
  {
   "cell_type": "code",
   "execution_count": 1,
   "metadata": {},
   "outputs": [],
   "source": [
    "import pandas as pd"
   ]
  },
  {
   "source": [
    "# Trading function"
   ],
   "cell_type": "markdown",
   "metadata": {}
  },
  {
   "cell_type": "code",
   "execution_count": 2,
   "metadata": {
    "tags": []
   },
   "outputs": [],
   "source": [
    "last_training = 621.38\n",
    "\n",
    "def trading(df, n_ahead):\n",
    "    adjusted_n_ahead = n_ahead-1 # bcuz lists start at 0\n",
    "    df_adj = df.iloc[adjusted_n_ahead::63]\n",
    "\n",
    "    latest_decision = 'hold'\n",
    "    bank = 1000\n",
    "    stock_count = 0\n",
    "\n",
    "    for row, values in df_adj.iterrows():\n",
    "        latest_close = last_training if values['time'] == 1 else df['Close'].iloc[row-adjusted_n_ahead-63]\n",
    "        forecast = df['forecast'].iloc[row]\n",
    "        expected = forecast - latest_close\n",
    "        \n",
    "        decision = 'hold'\n",
    "\n",
    "        if expected > 0 and latest_decision != 'buy':\n",
    "            decision = 'buy'\n",
    "            latest_decision = 'buy'\n",
    "            bank -= latest_close\n",
    "            stock_count += 1\n",
    "        \n",
    "        if expected < 0 and latest_decision != 'sell' and stock_count > 0:\n",
    "            decision = 'sell'\n",
    "            latest_decision = 'sell'\n",
    "            bank += latest_close\n",
    "            stock_count -= 1\n",
    "        \n",
    "        # print(decision, forecast, latest_close, bank)\n",
    "    \n",
    "    last_close = df['Close'].iloc[-63]\n",
    "    if latest_decision == 'buy': # reverts decision if latest decision is buy\n",
    "        bank += last_close\n",
    "\n",
    "    buy_hold = last_close - last_training\n",
    "    trading = bank - 1000\n",
    "\n",
    "    print(f'trading: {round(trading, 2)}')\n",
    "    print(f'buy&hold: {round(buy_hold, 2)} (buy: {last_training}, sell: {last_close})')"
   ]
  },
  {
   "source": [
    "# ARMA-GARCH-trading"
   ],
   "cell_type": "markdown",
   "metadata": {}
  },
  {
   "cell_type": "code",
   "execution_count": 3,
   "metadata": {},
   "outputs": [],
   "source": [
    "# reading data\n",
    "ag_df = pd.read_csv('data/r_cross_val.csv', usecols=[0,1,2])"
   ]
  },
  {
   "cell_type": "code",
   "execution_count": 4,
   "metadata": {
    "tags": []
   },
   "outputs": [
    {
     "output_type": "stream",
     "name": "stdout",
     "text": [
      "trading: 732.61\nbuy&hold: 384.64 (buy: 621.38, sell: 1006.02)\n"
     ]
    }
   ],
   "source": [
    "trading(ag_df, 1)"
   ]
  },
  {
   "cell_type": "code",
   "execution_count": 5,
   "metadata": {
    "tags": []
   },
   "outputs": [
    {
     "output_type": "stream",
     "name": "stdout",
     "text": [
      "trading: 727.35\nbuy&hold: 384.64 (buy: 621.38, sell: 1006.02)\n"
     ]
    }
   ],
   "source": [
    "trading(ag_df,3)"
   ]
  },
  {
   "cell_type": "code",
   "execution_count": 6,
   "metadata": {
    "tags": []
   },
   "outputs": [
    {
     "output_type": "stream",
     "name": "stdout",
     "text": [
      "trading: 699.91\nbuy&hold: 384.64 (buy: 621.38, sell: 1006.02)\n"
     ]
    }
   ],
   "source": [
    "trading(ag_df,5)"
   ]
  },
  {
   "cell_type": "code",
   "execution_count": 7,
   "metadata": {
    "tags": []
   },
   "outputs": [
    {
     "output_type": "stream",
     "name": "stdout",
     "text": [
      "trading: 573.33\nbuy&hold: 384.64 (buy: 621.38, sell: 1006.02)\n"
     ]
    }
   ],
   "source": [
    "trading(ag_df, 21)"
   ]
  },
  {
   "cell_type": "code",
   "execution_count": 8,
   "metadata": {
    "tags": []
   },
   "outputs": [
    {
     "output_type": "stream",
     "name": "stdout",
     "text": [
      "trading: 368.5\nbuy&hold: 384.64 (buy: 621.38, sell: 1006.02)\n"
     ]
    }
   ],
   "source": [
    "trading(ag_df, 63)"
   ]
  },
  {
   "source": [
    "# LSTM-trading"
   ],
   "cell_type": "markdown",
   "metadata": {}
  },
  {
   "cell_type": "code",
   "execution_count": 9,
   "metadata": {},
   "outputs": [],
   "source": [
    "lstm_df = pd.read_csv('data/lstm_results.csv', usecols=[0,1,2])"
   ]
  },
  {
   "cell_type": "code",
   "execution_count": 10,
   "metadata": {
    "tags": []
   },
   "outputs": [
    {
     "output_type": "stream",
     "name": "stdout",
     "text": [
      "trading: 77.84\nbuy&hold: 384.64 (buy: 621.38, sell: 1006.02)\n"
     ]
    }
   ],
   "source": [
    "trading(lstm_df, 1)"
   ]
  },
  {
   "cell_type": "code",
   "execution_count": 11,
   "metadata": {
    "tags": []
   },
   "outputs": [
    {
     "output_type": "stream",
     "name": "stdout",
     "text": [
      "trading: -2.6\nbuy&hold: 384.64 (buy: 621.38, sell: 1006.02)\n"
     ]
    }
   ],
   "source": [
    "trading(lstm_df, 3)"
   ]
  },
  {
   "cell_type": "code",
   "execution_count": 12,
   "metadata": {
    "tags": []
   },
   "outputs": [
    {
     "output_type": "stream",
     "name": "stdout",
     "text": [
      "trading: 47.79\nbuy&hold: 384.64 (buy: 621.38, sell: 1006.02)\n"
     ]
    }
   ],
   "source": [
    "trading(lstm_df, 5)"
   ]
  },
  {
   "cell_type": "code",
   "execution_count": 13,
   "metadata": {
    "tags": []
   },
   "outputs": [
    {
     "output_type": "stream",
     "name": "stdout",
     "text": [
      "trading: 150.27\nbuy&hold: 384.64 (buy: 621.38, sell: 1006.02)\n"
     ]
    }
   ],
   "source": [
    "trading(lstm_df, 21)"
   ]
  },
  {
   "cell_type": "code",
   "execution_count": 14,
   "metadata": {
    "tags": []
   },
   "outputs": [
    {
     "output_type": "stream",
     "name": "stdout",
     "text": [
      "trading: 51.33\nbuy&hold: 384.64 (buy: 621.38, sell: 1006.02)\n"
     ]
    }
   ],
   "source": [
    "trading(lstm_df, 63)"
   ]
  }
 ]
}